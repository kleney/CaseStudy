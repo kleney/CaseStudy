{
 "cells": [
  {
   "cell_type": "markdown",
   "id": "8d345dcd",
   "metadata": {},
   "source": [
    "Grid search code to optimise clustering_analysis.py hyperparameters"
   ]
  },
  {
   "cell_type": "code",
   "execution_count": 1,
   "id": "15ba0d25",
   "metadata": {},
   "outputs": [],
   "source": [
    "import itertools\n",
    "import os\n",
    "import datetime\n",
    "import json\n",
    "import pandas as pd\n",
    "import matplotlib.pyplot as plt\n",
    "import seaborn as sns\n",
    "\n",
    "from sklearn.feature_extraction.text import CountVectorizer, ENGLISH_STOP_WORDS\n",
    "from umap import UMAP\n",
    "import hdbscan\n",
    "from bertopic import BERTopic\n",
    "from sentence_transformers import SentenceTransformer\n",
    "\n",
    "# Load data\n",
    "with open(\"../data/chunks.json\") as f:\n",
    "    data = json.load(f)\n",
    "\n",
    "texts = [entry[\"text\"] for entry in data]"
   ]
  },
  {
   "cell_type": "code",
   "execution_count": 2,
   "id": "f395e40b",
   "metadata": {},
   "outputs": [],
   "source": [
    "# --------------------------------------------------\n",
    "# Remove stopwords (\"and\", \"the\", \"is\", \"that\" etc)\n",
    "# and add custom stopwrods to the list\n",
    "# Remove standalone numbers\n",
    "# --------------------------------------------------\n",
    "\n",
    "# Expand list of stopwords to remove industry-specific noise\n",
    "# and months of the year\n",
    "iata_stopwords = [\n",
    "    \"sky\", \"flight\", \"air\", \"aviation\", \"iata\", \"sector\", \"industry\",\n",
    "    \"annual\", \"review\", \"general\", \"director\", \"transport\", \"association\",\n",
    "    \"chief\", \"executive\", \"officer\", \"bisignani\", \"giovanni\", \"ceo\"\n",
    "]\n",
    "months = [\n",
    "    \"january\", \"february\", \"march\", \"april\", \"may\", \"june\",\n",
    "    \"july\", \"august\", \"september\", \"october\", \"november\", \"december\"\n",
    "]\n",
    "month_abbr = [\n",
    "    \"jan\", \"feb\", \"mar\", \"apr\", \"may\", \"jun\",\n",
    "    \"jul\", \"aug\", \"sep\", \"oct\", \"nov\", \"dec\"\n",
    "]\n",
    "custom_stopwords = sorted(list(ENGLISH_STOP_WORDS.union(iata_stopwords, months, month_abbr)))\n",
    "\n",
    "# Only allow tokens with at least one alphabet character (i.e. excludes numbers)\n",
    "token_pattern = r\"(?u)\\b[a-zA-Z]*[a-zA-Z][a-zA-Z]*\\b\"\n",
    "\n",
    "custom_vectorizer = CountVectorizer(\n",
    "    stop_words=custom_stopwords, # Remove stopwords\n",
    "    ngram_range=(1, 2),          # Include unigrams and bigrams\n",
    "    token_pattern=token_pattern\n",
    ")"
   ]
  },
  {
   "cell_type": "code",
   "execution_count": 3,
   "id": "19b0fcba",
   "metadata": {},
   "outputs": [],
   "source": [
    "# Lightweight sentence transformer from Hugging Face\n",
    "# https://huggingface.co/sentence-transformers/all-MiniLM-L6-v2\n",
    "# Turns sentences into dense vectors \n",
    "# https://medium.com/@yasindusanjeewa8/dense-vectors-in-natural-language-processing-06818dff5cd7\n",
    "\n",
    "embedding_model = SentenceTransformer(\"all-MiniLM-L6-v2\")"
   ]
  },
  {
   "cell_type": "code",
   "execution_count": 4,
   "id": "fd7df01e",
   "metadata": {},
   "outputs": [],
   "source": [
    "# ------------------------------------------------------------\n",
    "# Define Grid Search Parameters\n",
    "# ------------------------------------------------------------\n",
    "n_neighbors_grid = [5, 10, 15]\n",
    "min_cluster_size_grid = [10, 15, 20, 25, 30]\n",
    "model_dir = \"../models/hp_optimisation/\"\n",
    "os.makedirs(model_dir, exist_ok=True)\n",
    "random_state = 42"
   ]
  },
  {
   "cell_type": "code",
   "execution_count": null,
   "id": "2ac831b5",
   "metadata": {},
   "outputs": [
    {
     "name": "stderr",
     "output_type": "stream",
     "text": [
      "2025-04-25 17:44:45,085 - BERTopic - Embedding - Transforming documents to embeddings.\n"
     ]
    },
    {
     "name": "stdout",
     "output_type": "stream",
     "text": [
      "Training model with n_neighbors=5, min_cluster_size=10\n"
     ]
    },
    {
     "data": {
      "application/vnd.jupyter.widget-view+json": {
       "model_id": "4b37f6936c5c4448bc68124ae12a132b",
       "version_major": 2,
       "version_minor": 0
      },
      "text/plain": [
       "Batches:   0%|          | 0/97 [00:00<?, ?it/s]"
      ]
     },
     "metadata": {},
     "output_type": "display_data"
    },
    {
     "name": "stderr",
     "output_type": "stream",
     "text": [
      "2025-04-25 17:44:55,351 - BERTopic - Embedding - Completed ✓\n",
      "2025-04-25 17:44:55,352 - BERTopic - Dimensionality - Fitting the dimensionality reduction algorithm\n",
      "2025-04-25 17:45:04,101 - BERTopic - Dimensionality - Completed ✓\n",
      "2025-04-25 17:45:04,102 - BERTopic - Cluster - Start clustering the reduced embeddings\n",
      "2025-04-25 17:45:04,598 - BERTopic - Cluster - Completed ✓\n",
      "2025-04-25 17:45:04,601 - BERTopic - Representation - Fine-tuning topics using representation models.\n",
      "2025-04-25 17:45:05,012 - BERTopic - Representation - Completed ✓\n",
      "2025-04-25 17:45:05,352 - BERTopic - WARNING: When you use `pickle` to save/load a BERTopic model,please make sure that the environments in which you saveand load the model are **exactly** the same. The version of BERTopic,its dependencies, and python need to remain the same.\n",
      "2025-04-25 17:45:05,896 - BERTopic - Embedding - Transforming documents to embeddings.\n"
     ]
    },
    {
     "name": "stdout",
     "output_type": "stream",
     "text": [
      "Saved bertopic_neighbors5_cluster10_20250425_174505 with 115 topics.\n",
      "Training model with n_neighbors=5, min_cluster_size=15\n"
     ]
    },
    {
     "data": {
      "application/vnd.jupyter.widget-view+json": {
       "model_id": "d769a2ed062b4856a366d959a2507105",
       "version_major": 2,
       "version_minor": 0
      },
      "text/plain": [
       "Batches:   0%|          | 0/97 [00:00<?, ?it/s]"
      ]
     },
     "metadata": {},
     "output_type": "display_data"
    },
    {
     "name": "stderr",
     "output_type": "stream",
     "text": [
      "2025-04-25 17:45:12,647 - BERTopic - Embedding - Completed ✓\n",
      "2025-04-25 17:45:12,647 - BERTopic - Dimensionality - Fitting the dimensionality reduction algorithm\n",
      "2025-04-25 17:45:19,109 - BERTopic - Dimensionality - Completed ✓\n",
      "2025-04-25 17:45:19,110 - BERTopic - Cluster - Start clustering the reduced embeddings\n",
      "2025-04-25 17:45:19,386 - BERTopic - Cluster - Completed ✓\n",
      "2025-04-25 17:45:19,388 - BERTopic - Representation - Fine-tuning topics using representation models.\n",
      "2025-04-25 17:45:19,798 - BERTopic - Representation - Completed ✓\n",
      "2025-04-25 17:45:20,090 - BERTopic - WARNING: When you use `pickle` to save/load a BERTopic model,please make sure that the environments in which you saveand load the model are **exactly** the same. The version of BERTopic,its dependencies, and python need to remain the same.\n",
      "2025-04-25 17:45:20,588 - BERTopic - Embedding - Transforming documents to embeddings.\n"
     ]
    },
    {
     "name": "stdout",
     "output_type": "stream",
     "text": [
      "Saved bertopic_neighbors5_cluster15_20250425_174520 with 72 topics.\n",
      "Training model with n_neighbors=5, min_cluster_size=20\n"
     ]
    },
    {
     "data": {
      "application/vnd.jupyter.widget-view+json": {
       "model_id": "1966e61178e64717918ef12efe7dcbef",
       "version_major": 2,
       "version_minor": 0
      },
      "text/plain": [
       "Batches:   0%|          | 0/97 [00:00<?, ?it/s]"
      ]
     },
     "metadata": {},
     "output_type": "display_data"
    },
    {
     "name": "stderr",
     "output_type": "stream",
     "text": [
      "2025-04-25 17:45:27,378 - BERTopic - Embedding - Completed ✓\n",
      "2025-04-25 17:45:27,379 - BERTopic - Dimensionality - Fitting the dimensionality reduction algorithm\n",
      "2025-04-25 17:45:33,843 - BERTopic - Dimensionality - Completed ✓\n",
      "2025-04-25 17:45:33,843 - BERTopic - Cluster - Start clustering the reduced embeddings\n",
      "2025-04-25 17:45:34,041 - BERTopic - Cluster - Completed ✓\n",
      "2025-04-25 17:45:34,043 - BERTopic - Representation - Fine-tuning topics using representation models.\n",
      "2025-04-25 17:45:34,440 - BERTopic - Representation - Completed ✓\n",
      "2025-04-25 17:45:34,707 - BERTopic - WARNING: When you use `pickle` to save/load a BERTopic model,please make sure that the environments in which you saveand load the model are **exactly** the same. The version of BERTopic,its dependencies, and python need to remain the same.\n",
      "2025-04-25 17:45:35,201 - BERTopic - Embedding - Transforming documents to embeddings.\n"
     ]
    },
    {
     "name": "stdout",
     "output_type": "stream",
     "text": [
      "Saved bertopic_neighbors5_cluster20_20250425_174534 with 48 topics.\n",
      "Training model with n_neighbors=5, min_cluster_size=25\n"
     ]
    },
    {
     "data": {
      "application/vnd.jupyter.widget-view+json": {
       "model_id": "13153afdfd1b4e748955954a9787e7d6",
       "version_major": 2,
       "version_minor": 0
      },
      "text/plain": [
       "Batches:   0%|          | 0/97 [00:00<?, ?it/s]"
      ]
     },
     "metadata": {},
     "output_type": "display_data"
    },
    {
     "name": "stderr",
     "output_type": "stream",
     "text": [
      "2025-04-25 17:45:41,920 - BERTopic - Embedding - Completed ✓\n",
      "2025-04-25 17:45:41,921 - BERTopic - Dimensionality - Fitting the dimensionality reduction algorithm\n",
      "2025-04-25 17:45:48,387 - BERTopic - Dimensionality - Completed ✓\n",
      "2025-04-25 17:45:48,387 - BERTopic - Cluster - Start clustering the reduced embeddings\n",
      "2025-04-25 17:45:48,549 - BERTopic - Cluster - Completed ✓\n",
      "2025-04-25 17:45:48,551 - BERTopic - Representation - Fine-tuning topics using representation models.\n",
      "2025-04-25 17:45:48,941 - BERTopic - Representation - Completed ✓\n",
      "2025-04-25 17:45:49,196 - BERTopic - WARNING: When you use `pickle` to save/load a BERTopic model,please make sure that the environments in which you saveand load the model are **exactly** the same. The version of BERTopic,its dependencies, and python need to remain the same.\n",
      "2025-04-25 17:45:49,670 - BERTopic - Embedding - Transforming documents to embeddings.\n"
     ]
    },
    {
     "name": "stdout",
     "output_type": "stream",
     "text": [
      "Saved bertopic_neighbors5_cluster25_20250425_174549 with 36 topics.\n",
      "Training model with n_neighbors=5, min_cluster_size=30\n"
     ]
    },
    {
     "data": {
      "application/vnd.jupyter.widget-view+json": {
       "model_id": "7ff1bf24b86b46e48b948b1c2fc635e8",
       "version_major": 2,
       "version_minor": 0
      },
      "text/plain": [
       "Batches:   0%|          | 0/97 [00:00<?, ?it/s]"
      ]
     },
     "metadata": {},
     "output_type": "display_data"
    },
    {
     "name": "stderr",
     "output_type": "stream",
     "text": [
      "2025-04-25 17:45:56,470 - BERTopic - Embedding - Completed ✓\n",
      "2025-04-25 17:45:56,471 - BERTopic - Dimensionality - Fitting the dimensionality reduction algorithm\n",
      "2025-04-25 17:46:02,923 - BERTopic - Dimensionality - Completed ✓\n",
      "2025-04-25 17:46:02,924 - BERTopic - Cluster - Start clustering the reduced embeddings\n",
      "2025-04-25 17:46:03,070 - BERTopic - Cluster - Completed ✓\n",
      "2025-04-25 17:46:03,072 - BERTopic - Representation - Fine-tuning topics using representation models.\n",
      "2025-04-25 17:46:03,462 - BERTopic - Representation - Completed ✓\n",
      "2025-04-25 17:46:03,698 - BERTopic - WARNING: When you use `pickle` to save/load a BERTopic model,please make sure that the environments in which you saveand load the model are **exactly** the same. The version of BERTopic,its dependencies, and python need to remain the same.\n",
      "2025-04-25 17:46:04,205 - BERTopic - Embedding - Transforming documents to embeddings.\n"
     ]
    },
    {
     "name": "stdout",
     "output_type": "stream",
     "text": [
      "Saved bertopic_neighbors5_cluster30_20250425_174603 with 29 topics.\n",
      "Training model with n_neighbors=10, min_cluster_size=10\n"
     ]
    },
    {
     "data": {
      "application/vnd.jupyter.widget-view+json": {
       "model_id": "78e9e1e74cb44d1f844d8f369170605f",
       "version_major": 2,
       "version_minor": 0
      },
      "text/plain": [
       "Batches:   0%|          | 0/97 [00:00<?, ?it/s]"
      ]
     },
     "metadata": {},
     "output_type": "display_data"
    },
    {
     "name": "stderr",
     "output_type": "stream",
     "text": [
      "2025-04-25 17:46:11,100 - BERTopic - Embedding - Completed ✓\n",
      "2025-04-25 17:46:11,100 - BERTopic - Dimensionality - Fitting the dimensionality reduction algorithm\n",
      "2025-04-25 17:46:18,403 - BERTopic - Dimensionality - Completed ✓\n",
      "2025-04-25 17:46:18,404 - BERTopic - Cluster - Start clustering the reduced embeddings\n",
      "2025-04-25 17:46:18,872 - BERTopic - Cluster - Completed ✓\n",
      "2025-04-25 17:46:18,874 - BERTopic - Representation - Fine-tuning topics using representation models.\n",
      "2025-04-25 17:46:19,312 - BERTopic - Representation - Completed ✓\n",
      "2025-04-25 17:46:19,651 - BERTopic - WARNING: When you use `pickle` to save/load a BERTopic model,please make sure that the environments in which you saveand load the model are **exactly** the same. The version of BERTopic,its dependencies, and python need to remain the same.\n",
      "2025-04-25 17:46:20,142 - BERTopic - Embedding - Transforming documents to embeddings.\n"
     ]
    },
    {
     "name": "stdout",
     "output_type": "stream",
     "text": [
      "Saved bertopic_neighbors10_cluster10_20250425_174619 with 105 topics.\n",
      "Training model with n_neighbors=10, min_cluster_size=15\n"
     ]
    },
    {
     "data": {
      "application/vnd.jupyter.widget-view+json": {
       "model_id": "3c906275676f4874a5a4dca53dac0544",
       "version_major": 2,
       "version_minor": 0
      },
      "text/plain": [
       "Batches:   0%|          | 0/97 [00:00<?, ?it/s]"
      ]
     },
     "metadata": {},
     "output_type": "display_data"
    },
    {
     "name": "stderr",
     "output_type": "stream",
     "text": [
      "2025-04-25 17:46:27,106 - BERTopic - Embedding - Completed ✓\n",
      "2025-04-25 17:46:27,106 - BERTopic - Dimensionality - Fitting the dimensionality reduction algorithm\n",
      "2025-04-25 17:46:34,414 - BERTopic - Dimensionality - Completed ✓\n",
      "2025-04-25 17:46:34,415 - BERTopic - Cluster - Start clustering the reduced embeddings\n",
      "2025-04-25 17:46:34,678 - BERTopic - Cluster - Completed ✓\n",
      "2025-04-25 17:46:34,680 - BERTopic - Representation - Fine-tuning topics using representation models.\n",
      "2025-04-25 17:46:35,089 - BERTopic - Representation - Completed ✓\n",
      "2025-04-25 17:46:35,382 - BERTopic - WARNING: When you use `pickle` to save/load a BERTopic model,please make sure that the environments in which you saveand load the model are **exactly** the same. The version of BERTopic,its dependencies, and python need to remain the same.\n",
      "2025-04-25 17:46:35,887 - BERTopic - Embedding - Transforming documents to embeddings.\n"
     ]
    },
    {
     "name": "stdout",
     "output_type": "stream",
     "text": [
      "Saved bertopic_neighbors10_cluster15_20250425_174635 with 62 topics.\n",
      "Training model with n_neighbors=10, min_cluster_size=20\n"
     ]
    },
    {
     "data": {
      "application/vnd.jupyter.widget-view+json": {
       "model_id": "afc2bda00eaa402690d27426ea372a79",
       "version_major": 2,
       "version_minor": 0
      },
      "text/plain": [
       "Batches:   0%|          | 0/97 [00:00<?, ?it/s]"
      ]
     },
     "metadata": {},
     "output_type": "display_data"
    },
    {
     "name": "stderr",
     "output_type": "stream",
     "text": [
      "2025-04-25 17:46:42,687 - BERTopic - Embedding - Completed ✓\n",
      "2025-04-25 17:46:42,687 - BERTopic - Dimensionality - Fitting the dimensionality reduction algorithm\n",
      "2025-04-25 17:46:49,983 - BERTopic - Dimensionality - Completed ✓\n",
      "2025-04-25 17:46:49,984 - BERTopic - Cluster - Start clustering the reduced embeddings\n",
      "2025-04-25 17:46:50,171 - BERTopic - Cluster - Completed ✓\n",
      "2025-04-25 17:46:50,173 - BERTopic - Representation - Fine-tuning topics using representation models.\n",
      "2025-04-25 17:46:50,574 - BERTopic - Representation - Completed ✓\n",
      "2025-04-25 17:46:50,826 - BERTopic - WARNING: When you use `pickle` to save/load a BERTopic model,please make sure that the environments in which you saveand load the model are **exactly** the same. The version of BERTopic,its dependencies, and python need to remain the same.\n",
      "2025-04-25 17:46:51,309 - BERTopic - Embedding - Transforming documents to embeddings.\n"
     ]
    },
    {
     "name": "stdout",
     "output_type": "stream",
     "text": [
      "Saved bertopic_neighbors10_cluster20_20250425_174650 with 41 topics.\n",
      "Training model with n_neighbors=10, min_cluster_size=25\n"
     ]
    },
    {
     "data": {
      "application/vnd.jupyter.widget-view+json": {
       "model_id": "3254198f6e58429c9eeddda0371861d6",
       "version_major": 2,
       "version_minor": 0
      },
      "text/plain": [
       "Batches:   0%|          | 0/97 [00:00<?, ?it/s]"
      ]
     },
     "metadata": {},
     "output_type": "display_data"
    },
    {
     "name": "stderr",
     "output_type": "stream",
     "text": [
      "2025-04-25 17:46:58,121 - BERTopic - Embedding - Completed ✓\n",
      "2025-04-25 17:46:58,122 - BERTopic - Dimensionality - Fitting the dimensionality reduction algorithm\n",
      "2025-04-25 17:47:05,412 - BERTopic - Dimensionality - Completed ✓\n",
      "2025-04-25 17:47:05,413 - BERTopic - Cluster - Start clustering the reduced embeddings\n",
      "2025-04-25 17:47:05,559 - BERTopic - Cluster - Completed ✓\n",
      "2025-04-25 17:47:05,560 - BERTopic - Representation - Fine-tuning topics using representation models.\n",
      "2025-04-25 17:47:05,951 - BERTopic - Representation - Completed ✓\n",
      "2025-04-25 17:47:06,186 - BERTopic - WARNING: When you use `pickle` to save/load a BERTopic model,please make sure that the environments in which you saveand load the model are **exactly** the same. The version of BERTopic,its dependencies, and python need to remain the same.\n",
      "2025-04-25 17:47:06,665 - BERTopic - Embedding - Transforming documents to embeddings.\n"
     ]
    },
    {
     "name": "stdout",
     "output_type": "stream",
     "text": [
      "Saved bertopic_neighbors10_cluster25_20250425_174706 with 29 topics.\n",
      "Training model with n_neighbors=10, min_cluster_size=30\n"
     ]
    },
    {
     "data": {
      "application/vnd.jupyter.widget-view+json": {
       "model_id": "a6b953aafe9e427294024e99805dcad6",
       "version_major": 2,
       "version_minor": 0
      },
      "text/plain": [
       "Batches:   0%|          | 0/97 [00:00<?, ?it/s]"
      ]
     },
     "metadata": {},
     "output_type": "display_data"
    },
    {
     "name": "stderr",
     "output_type": "stream",
     "text": [
      "2025-04-25 17:47:13,457 - BERTopic - Embedding - Completed ✓\n",
      "2025-04-25 17:47:13,458 - BERTopic - Dimensionality - Fitting the dimensionality reduction algorithm\n",
      "2025-04-25 17:47:20,763 - BERTopic - Dimensionality - Completed ✓\n",
      "2025-04-25 17:47:20,764 - BERTopic - Cluster - Start clustering the reduced embeddings\n",
      "2025-04-25 17:47:20,900 - BERTopic - Cluster - Completed ✓\n",
      "2025-04-25 17:47:20,902 - BERTopic - Representation - Fine-tuning topics using representation models.\n",
      "2025-04-25 17:47:21,296 - BERTopic - Representation - Completed ✓\n",
      "2025-04-25 17:47:21,528 - BERTopic - WARNING: When you use `pickle` to save/load a BERTopic model,please make sure that the environments in which you saveand load the model are **exactly** the same. The version of BERTopic,its dependencies, and python need to remain the same.\n",
      "2025-04-25 17:47:22,079 - BERTopic - Embedding - Transforming documents to embeddings.\n"
     ]
    },
    {
     "name": "stdout",
     "output_type": "stream",
     "text": [
      "Saved bertopic_neighbors10_cluster30_20250425_174721 with 26 topics.\n",
      "Training model with n_neighbors=15, min_cluster_size=10\n"
     ]
    },
    {
     "data": {
      "application/vnd.jupyter.widget-view+json": {
       "model_id": "915d6373bff14839adda5ac78a4aca4f",
       "version_major": 2,
       "version_minor": 0
      },
      "text/plain": [
       "Batches:   0%|          | 0/97 [00:00<?, ?it/s]"
      ]
     },
     "metadata": {},
     "output_type": "display_data"
    },
    {
     "name": "stderr",
     "output_type": "stream",
     "text": [
      "2025-04-25 17:47:28,878 - BERTopic - Embedding - Completed ✓\n",
      "2025-04-25 17:47:28,878 - BERTopic - Dimensionality - Fitting the dimensionality reduction algorithm\n",
      "2025-04-25 17:47:36,619 - BERTopic - Dimensionality - Completed ✓\n",
      "2025-04-25 17:47:36,620 - BERTopic - Cluster - Start clustering the reduced embeddings\n",
      "2025-04-25 17:47:37,064 - BERTopic - Cluster - Completed ✓\n",
      "2025-04-25 17:47:37,066 - BERTopic - Representation - Fine-tuning topics using representation models.\n",
      "2025-04-25 17:47:37,491 - BERTopic - Representation - Completed ✓\n",
      "2025-04-25 17:47:37,831 - BERTopic - WARNING: When you use `pickle` to save/load a BERTopic model,please make sure that the environments in which you saveand load the model are **exactly** the same. The version of BERTopic,its dependencies, and python need to remain the same.\n",
      "2025-04-25 17:47:38,340 - BERTopic - Embedding - Transforming documents to embeddings.\n"
     ]
    },
    {
     "name": "stdout",
     "output_type": "stream",
     "text": [
      "Saved bertopic_neighbors15_cluster10_20250425_174737 with 102 topics.\n",
      "Training model with n_neighbors=15, min_cluster_size=15\n"
     ]
    },
    {
     "data": {
      "application/vnd.jupyter.widget-view+json": {
       "model_id": "d95baaaec2114060899007c6029b43b0",
       "version_major": 2,
       "version_minor": 0
      },
      "text/plain": [
       "Batches:   0%|          | 0/97 [00:00<?, ?it/s]"
      ]
     },
     "metadata": {},
     "output_type": "display_data"
    },
    {
     "name": "stderr",
     "output_type": "stream",
     "text": [
      "2025-04-25 17:47:45,186 - BERTopic - Embedding - Completed ✓\n",
      "2025-04-25 17:47:45,187 - BERTopic - Dimensionality - Fitting the dimensionality reduction algorithm\n",
      "2025-04-25 17:47:53,025 - BERTopic - Dimensionality - Completed ✓\n",
      "2025-04-25 17:47:53,025 - BERTopic - Cluster - Start clustering the reduced embeddings\n",
      "2025-04-25 17:47:53,274 - BERTopic - Cluster - Completed ✓\n",
      "2025-04-25 17:47:53,276 - BERTopic - Representation - Fine-tuning topics using representation models.\n",
      "2025-04-25 17:47:53,682 - BERTopic - Representation - Completed ✓\n",
      "2025-04-25 17:47:53,973 - BERTopic - WARNING: When you use `pickle` to save/load a BERTopic model,please make sure that the environments in which you saveand load the model are **exactly** the same. The version of BERTopic,its dependencies, and python need to remain the same.\n",
      "2025-04-25 17:47:54,441 - BERTopic - Embedding - Transforming documents to embeddings.\n"
     ]
    },
    {
     "name": "stdout",
     "output_type": "stream",
     "text": [
      "Saved bertopic_neighbors15_cluster15_20250425_174753 with 63 topics.\n",
      "Training model with n_neighbors=15, min_cluster_size=20\n"
     ]
    },
    {
     "data": {
      "application/vnd.jupyter.widget-view+json": {
       "model_id": "7eea9cc942944928817445eaffc4150e",
       "version_major": 2,
       "version_minor": 0
      },
      "text/plain": [
       "Batches:   0%|          | 0/97 [00:00<?, ?it/s]"
      ]
     },
     "metadata": {},
     "output_type": "display_data"
    },
    {
     "name": "stderr",
     "output_type": "stream",
     "text": [
      "2025-04-25 17:48:01,268 - BERTopic - Embedding - Completed ✓\n",
      "2025-04-25 17:48:01,269 - BERTopic - Dimensionality - Fitting the dimensionality reduction algorithm\n",
      "2025-04-25 17:48:09,144 - BERTopic - Dimensionality - Completed ✓\n",
      "2025-04-25 17:48:09,145 - BERTopic - Cluster - Start clustering the reduced embeddings\n",
      "2025-04-25 17:48:09,345 - BERTopic - Cluster - Completed ✓\n",
      "2025-04-25 17:48:09,347 - BERTopic - Representation - Fine-tuning topics using representation models.\n",
      "2025-04-25 17:48:09,765 - BERTopic - Representation - Completed ✓\n",
      "2025-04-25 17:48:10,036 - BERTopic - WARNING: When you use `pickle` to save/load a BERTopic model,please make sure that the environments in which you saveand load the model are **exactly** the same. The version of BERTopic,its dependencies, and python need to remain the same.\n",
      "2025-04-25 17:48:10,533 - BERTopic - Embedding - Transforming documents to embeddings.\n"
     ]
    },
    {
     "name": "stdout",
     "output_type": "stream",
     "text": [
      "Saved bertopic_neighbors15_cluster20_20250425_174810 with 50 topics.\n",
      "Training model with n_neighbors=15, min_cluster_size=25\n"
     ]
    },
    {
     "data": {
      "application/vnd.jupyter.widget-view+json": {
       "model_id": "f0d060f1d47442aa8a1090ee4b72b7c6",
       "version_major": 2,
       "version_minor": 0
      },
      "text/plain": [
       "Batches:   0%|          | 0/97 [00:00<?, ?it/s]"
      ]
     },
     "metadata": {},
     "output_type": "display_data"
    },
    {
     "name": "stderr",
     "output_type": "stream",
     "text": [
      "2025-04-25 17:48:17,387 - BERTopic - Embedding - Completed ✓\n",
      "2025-04-25 17:48:17,387 - BERTopic - Dimensionality - Fitting the dimensionality reduction algorithm\n",
      "2025-04-25 17:48:25,186 - BERTopic - Dimensionality - Completed ✓\n",
      "2025-04-25 17:48:25,187 - BERTopic - Cluster - Start clustering the reduced embeddings\n",
      "2025-04-25 17:48:25,329 - BERTopic - Cluster - Completed ✓\n",
      "2025-04-25 17:48:25,331 - BERTopic - Representation - Fine-tuning topics using representation models.\n",
      "2025-04-25 17:48:25,726 - BERTopic - Representation - Completed ✓\n",
      "2025-04-25 17:48:25,962 - BERTopic - WARNING: When you use `pickle` to save/load a BERTopic model,please make sure that the environments in which you saveand load the model are **exactly** the same. The version of BERTopic,its dependencies, and python need to remain the same.\n",
      "2025-04-25 17:48:26,435 - BERTopic - Embedding - Transforming documents to embeddings.\n"
     ]
    },
    {
     "name": "stdout",
     "output_type": "stream",
     "text": [
      "Saved bertopic_neighbors15_cluster25_20250425_174825 with 29 topics.\n",
      "Training model with n_neighbors=15, min_cluster_size=30\n"
     ]
    },
    {
     "data": {
      "application/vnd.jupyter.widget-view+json": {
       "model_id": "abfeffe2393d4086b556317a674fa5b4",
       "version_major": 2,
       "version_minor": 0
      },
      "text/plain": [
       "Batches:   0%|          | 0/97 [00:00<?, ?it/s]"
      ]
     },
     "metadata": {},
     "output_type": "display_data"
    },
    {
     "name": "stderr",
     "output_type": "stream",
     "text": [
      "2025-04-25 17:48:33,263 - BERTopic - Embedding - Completed ✓\n",
      "2025-04-25 17:48:33,264 - BERTopic - Dimensionality - Fitting the dimensionality reduction algorithm\n",
      "2025-04-25 17:48:41,082 - BERTopic - Dimensionality - Completed ✓\n",
      "2025-04-25 17:48:41,082 - BERTopic - Cluster - Start clustering the reduced embeddings\n",
      "2025-04-25 17:48:41,214 - BERTopic - Cluster - Completed ✓\n",
      "2025-04-25 17:48:41,216 - BERTopic - Representation - Fine-tuning topics using representation models.\n",
      "2025-04-25 17:48:41,608 - BERTopic - Representation - Completed ✓\n",
      "2025-04-25 17:48:41,848 - BERTopic - WARNING: When you use `pickle` to save/load a BERTopic model,please make sure that the environments in which you saveand load the model are **exactly** the same. The version of BERTopic,its dependencies, and python need to remain the same.\n"
     ]
    },
    {
     "name": "stdout",
     "output_type": "stream",
     "text": [
      "Saved bertopic_neighbors15_cluster30_20250425_174841 with 26 topics.\n"
     ]
    }
   ],
   "source": [
    "# ------------------------------------------------------------\n",
    "# Grid Search Loop\n",
    "# ------------------------------------------------------------\n",
    "results = []\n",
    "\n",
    "for n_neighbors, min_cluster_size in itertools.product(n_neighbors_grid, min_cluster_size_grid):\n",
    "    print(f\"Training model with n_neighbors={n_neighbors}, min_cluster_size={min_cluster_size}\")\n",
    "\n",
    "    umap_model = UMAP(\n",
    "        n_neighbors=n_neighbors,\n",
    "        n_components=5,\n",
    "        min_dist=0.0,\n",
    "        metric=\"cosine\",\n",
    "        random_state=random_state\n",
    "    )\n",
    "\n",
    "    hdbscan_model = hdbscan.HDBSCAN(\n",
    "        min_cluster_size=min_cluster_size,\n",
    "        min_samples=5,\n",
    "        metric=\"euclidean\",\n",
    "        cluster_selection_method=\"eom\",\n",
    "        prediction_data=True\n",
    "    )\n",
    "\n",
    "    topic_model = BERTopic(\n",
    "        embedding_model=embedding_model,\n",
    "        vectorizer_model=custom_vectorizer,\n",
    "        umap_model=umap_model,\n",
    "        hdbscan_model=hdbscan_model,\n",
    "        calculate_probabilities=True,\n",
    "        verbose=True\n",
    "    )\n",
    "\n",
    "    topics, probs = topic_model.fit_transform(texts)\n",
    "    n_topics = len(set(t for t in topics if t != -1))\n",
    "\n",
    "    timestamp = datetime.datetime.now().strftime(\"%Y%m%d_%H%M%S\")\n",
    "    model_name = f\"bertopic_neighbors{n_neighbors}_cluster{min_cluster_size}_{timestamp}\"\n",
    "    topic_model.save(os.path.join(model_dir, model_name))\n",
    "\n",
    "    results.append({\n",
    "        \"model_name\": model_name,\n",
    "        \"n_neighbors\": n_neighbors,\n",
    "        \"min_cluster_size\": min_cluster_size,\n",
    "        \"n_topics\": n_topics\n",
    "    })\n",
    "\n",
    "    print(f\"Saved {model_name} with {n_topics} topics.\")"
   ]
  },
  {
   "cell_type": "code",
   "execution_count": 10,
   "id": "00ffb5ed",
   "metadata": {},
   "outputs": [
    {
     "data": {
      "text/html": [
       "<div>\n",
       "<style scoped>\n",
       "    .dataframe tbody tr th:only-of-type {\n",
       "        vertical-align: middle;\n",
       "    }\n",
       "\n",
       "    .dataframe tbody tr th {\n",
       "        vertical-align: top;\n",
       "    }\n",
       "\n",
       "    .dataframe thead th {\n",
       "        text-align: right;\n",
       "    }\n",
       "</style>\n",
       "<table border=\"1\" class=\"dataframe\">\n",
       "  <thead>\n",
       "    <tr style=\"text-align: right;\">\n",
       "      <th></th>\n",
       "      <th>model_name</th>\n",
       "      <th>n_neighbors</th>\n",
       "      <th>min_cluster_size</th>\n",
       "      <th>n_topics</th>\n",
       "    </tr>\n",
       "  </thead>\n",
       "  <tbody>\n",
       "    <tr>\n",
       "      <th>0</th>\n",
       "      <td>bertopic_neighbors5_cluster10_20250425_174505</td>\n",
       "      <td>5</td>\n",
       "      <td>10</td>\n",
       "      <td>115</td>\n",
       "    </tr>\n",
       "    <tr>\n",
       "      <th>1</th>\n",
       "      <td>bertopic_neighbors10_cluster10_20250425_174619</td>\n",
       "      <td>10</td>\n",
       "      <td>10</td>\n",
       "      <td>105</td>\n",
       "    </tr>\n",
       "    <tr>\n",
       "      <th>2</th>\n",
       "      <td>bertopic_neighbors15_cluster10_20250425_174737</td>\n",
       "      <td>15</td>\n",
       "      <td>10</td>\n",
       "      <td>102</td>\n",
       "    </tr>\n",
       "    <tr>\n",
       "      <th>3</th>\n",
       "      <td>bertopic_neighbors5_cluster15_20250425_174520</td>\n",
       "      <td>5</td>\n",
       "      <td>15</td>\n",
       "      <td>72</td>\n",
       "    </tr>\n",
       "    <tr>\n",
       "      <th>4</th>\n",
       "      <td>bertopic_neighbors15_cluster15_20250425_174753</td>\n",
       "      <td>15</td>\n",
       "      <td>15</td>\n",
       "      <td>63</td>\n",
       "    </tr>\n",
       "    <tr>\n",
       "      <th>5</th>\n",
       "      <td>bertopic_neighbors10_cluster15_20250425_174635</td>\n",
       "      <td>10</td>\n",
       "      <td>15</td>\n",
       "      <td>62</td>\n",
       "    </tr>\n",
       "    <tr>\n",
       "      <th>6</th>\n",
       "      <td>bertopic_neighbors15_cluster20_20250425_174810</td>\n",
       "      <td>15</td>\n",
       "      <td>20</td>\n",
       "      <td>50</td>\n",
       "    </tr>\n",
       "    <tr>\n",
       "      <th>7</th>\n",
       "      <td>bertopic_neighbors5_cluster20_20250425_174534</td>\n",
       "      <td>5</td>\n",
       "      <td>20</td>\n",
       "      <td>48</td>\n",
       "    </tr>\n",
       "    <tr>\n",
       "      <th>8</th>\n",
       "      <td>bertopic_neighbors10_cluster20_20250425_174650</td>\n",
       "      <td>10</td>\n",
       "      <td>20</td>\n",
       "      <td>41</td>\n",
       "    </tr>\n",
       "    <tr>\n",
       "      <th>9</th>\n",
       "      <td>bertopic_neighbors5_cluster25_20250425_174549</td>\n",
       "      <td>5</td>\n",
       "      <td>25</td>\n",
       "      <td>36</td>\n",
       "    </tr>\n",
       "    <tr>\n",
       "      <th>10</th>\n",
       "      <td>bertopic_neighbors5_cluster30_20250425_174603</td>\n",
       "      <td>5</td>\n",
       "      <td>30</td>\n",
       "      <td>29</td>\n",
       "    </tr>\n",
       "    <tr>\n",
       "      <th>11</th>\n",
       "      <td>bertopic_neighbors10_cluster25_20250425_174706</td>\n",
       "      <td>10</td>\n",
       "      <td>25</td>\n",
       "      <td>29</td>\n",
       "    </tr>\n",
       "    <tr>\n",
       "      <th>12</th>\n",
       "      <td>bertopic_neighbors15_cluster25_20250425_174825</td>\n",
       "      <td>15</td>\n",
       "      <td>25</td>\n",
       "      <td>29</td>\n",
       "    </tr>\n",
       "    <tr>\n",
       "      <th>13</th>\n",
       "      <td>bertopic_neighbors10_cluster30_20250425_174721</td>\n",
       "      <td>10</td>\n",
       "      <td>30</td>\n",
       "      <td>26</td>\n",
       "    </tr>\n",
       "    <tr>\n",
       "      <th>14</th>\n",
       "      <td>bertopic_neighbors15_cluster30_20250425_174841</td>\n",
       "      <td>15</td>\n",
       "      <td>30</td>\n",
       "      <td>26</td>\n",
       "    </tr>\n",
       "  </tbody>\n",
       "</table>\n",
       "</div>"
      ],
      "text/plain": [
       "                                        model_name  n_neighbors  \\\n",
       "0    bertopic_neighbors5_cluster10_20250425_174505            5   \n",
       "1   bertopic_neighbors10_cluster10_20250425_174619           10   \n",
       "2   bertopic_neighbors15_cluster10_20250425_174737           15   \n",
       "3    bertopic_neighbors5_cluster15_20250425_174520            5   \n",
       "4   bertopic_neighbors15_cluster15_20250425_174753           15   \n",
       "5   bertopic_neighbors10_cluster15_20250425_174635           10   \n",
       "6   bertopic_neighbors15_cluster20_20250425_174810           15   \n",
       "7    bertopic_neighbors5_cluster20_20250425_174534            5   \n",
       "8   bertopic_neighbors10_cluster20_20250425_174650           10   \n",
       "9    bertopic_neighbors5_cluster25_20250425_174549            5   \n",
       "10   bertopic_neighbors5_cluster30_20250425_174603            5   \n",
       "11  bertopic_neighbors10_cluster25_20250425_174706           10   \n",
       "12  bertopic_neighbors15_cluster25_20250425_174825           15   \n",
       "13  bertopic_neighbors10_cluster30_20250425_174721           10   \n",
       "14  bertopic_neighbors15_cluster30_20250425_174841           15   \n",
       "\n",
       "    min_cluster_size  n_topics  \n",
       "0                 10       115  \n",
       "1                 10       105  \n",
       "2                 10       102  \n",
       "3                 15        72  \n",
       "4                 15        63  \n",
       "5                 15        62  \n",
       "6                 20        50  \n",
       "7                 20        48  \n",
       "8                 20        41  \n",
       "9                 25        36  \n",
       "10                30        29  \n",
       "11                25        29  \n",
       "12                25        29  \n",
       "13                30        26  \n",
       "14                30        26  "
      ]
     },
     "execution_count": 10,
     "metadata": {},
     "output_type": "execute_result"
    }
   ],
   "source": [
    "# ------------------------------------------------------------\n",
    "# Display Grid Search Results\n",
    "# ------------------------------------------------------------\n",
    "results_df = pd.DataFrame(results)\n",
    "results_df = results_df.sort_values(\"n_topics\", ascending=False)\n",
    "results_df.reset_index(drop=True, inplace=True)\n",
    "\n",
    "results_df"
   ]
  },
  {
   "cell_type": "code",
   "execution_count": 11,
   "id": "7bbbe635",
   "metadata": {},
   "outputs": [
    {
     "data": {
      "image/png": "[encoded data removed]",
      "text/plain": [
       "<Figure size 800x600 with 2 Axes>"
      ]
     },
     "metadata": {},
     "output_type": "display_data"
    }
   ],
   "source": [
    "# ------------------------------------------------------------\n",
    "# Plot Results as Heatmap\n",
    "# ------------------------------------------------------------\n",
    "pivot_table = results_df.pivot(index=\"n_neighbors\", columns=\"min_cluster_size\", values=\"n_topics\")\n",
    "plt.figure(figsize=(8, 6))\n",
    "sns.heatmap(pivot_table, annot=True, fmt=\"d\", cmap=\"Blues\")\n",
    "plt.title(\"Number of Topics Found for Each Hyperparameter Combination\")\n",
    "plt.xlabel(\"min_cluster_size\")\n",
    "plt.ylabel(\"n_neighbors\")\n",
    "plt.tight_layout()\n",
    "plt.show()\n",
    "\n"
   ]
  },
  {
   "cell_type": "code",
   "execution_count": null,
   "id": "547f4e40",
   "metadata": {},
   "outputs": [
    {
     "name": "stderr",
     "output_type": "stream",
     "text": [
      "2025-04-25 17:58:43,199 - BERTopic - Embedding - Transforming documents to embeddings.\n"
     ]
    },
    {
     "name": "stdout",
     "output_type": "stream",
     "text": [
      "Training model with min_cluster_size=25, umap_min_dist=0.0\n"
     ]
    },
    {
     "data": {
      "application/vnd.jupyter.widget-view+json": {
       "model_id": "b1f9d1288c384cb898bf4a8e85d4a3a4",
       "version_major": 2,
       "version_minor": 0
      },
      "text/plain": [
       "Batches:   0%|          | 0/97 [00:00<?, ?it/s]"
      ]
     },
     "metadata": {},
     "output_type": "display_data"
    },
    {
     "name": "stderr",
     "output_type": "stream",
     "text": [
      "2025-04-25 17:58:50,573 - BERTopic - Embedding - Completed ✓\n",
      "2025-04-25 17:58:50,573 - BERTopic - Dimensionality - Fitting the dimensionality reduction algorithm\n",
      "2025-04-25 17:58:57,567 - BERTopic - Dimensionality - Completed ✓\n",
      "2025-04-25 17:58:57,568 - BERTopic - Cluster - Start clustering the reduced embeddings\n",
      "2025-04-25 17:58:57,710 - BERTopic - Cluster - Completed ✓\n",
      "2025-04-25 17:58:57,713 - BERTopic - Representation - Fine-tuning topics using representation models.\n",
      "2025-04-25 17:58:58,141 - BERTopic - Representation - Completed ✓\n",
      "2025-04-25 17:58:58,380 - BERTopic - Embedding - Transforming documents to embeddings.\n"
     ]
    },
    {
     "name": "stdout",
     "output_type": "stream",
     "text": [
      "Model found 29 topics\n",
      "Training model with min_cluster_size=25, umap_min_dist=0.1\n"
     ]
    },
    {
     "data": {
      "application/vnd.jupyter.widget-view+json": {
       "model_id": "93d0b445457d41a4aede54f21bd1dfb5",
       "version_major": 2,
       "version_minor": 0
      },
      "text/plain": [
       "Batches:   0%|          | 0/97 [00:00<?, ?it/s]"
      ]
     },
     "metadata": {},
     "output_type": "display_data"
    },
    {
     "name": "stderr",
     "output_type": "stream",
     "text": [
      "2025-04-25 17:59:05,630 - BERTopic - Embedding - Completed ✓\n",
      "2025-04-25 17:59:05,630 - BERTopic - Dimensionality - Fitting the dimensionality reduction algorithm\n",
      "2025-04-25 17:59:12,763 - BERTopic - Dimensionality - Completed ✓\n",
      "2025-04-25 17:59:12,764 - BERTopic - Cluster - Start clustering the reduced embeddings\n",
      "2025-04-25 17:59:12,912 - BERTopic - Cluster - Completed ✓\n",
      "2025-04-25 17:59:12,914 - BERTopic - Representation - Fine-tuning topics using representation models.\n",
      "2025-04-25 17:59:13,312 - BERTopic - Representation - Completed ✓\n",
      "2025-04-25 17:59:13,549 - BERTopic - Embedding - Transforming documents to embeddings.\n"
     ]
    },
    {
     "name": "stdout",
     "output_type": "stream",
     "text": [
      "Model found 30 topics\n",
      "Training model with min_cluster_size=25, umap_min_dist=0.2\n"
     ]
    },
    {
     "data": {
      "application/vnd.jupyter.widget-view+json": {
       "model_id": "5f6f6317e3564517b9e4bcca28c5c7d5",
       "version_major": 2,
       "version_minor": 0
      },
      "text/plain": [
       "Batches:   0%|          | 0/97 [00:00<?, ?it/s]"
      ]
     },
     "metadata": {},
     "output_type": "display_data"
    },
    {
     "name": "stderr",
     "output_type": "stream",
     "text": [
      "2025-04-25 17:59:20,427 - BERTopic - Embedding - Completed ✓\n",
      "2025-04-25 17:59:20,427 - BERTopic - Dimensionality - Fitting the dimensionality reduction algorithm\n",
      "2025-04-25 17:59:27,578 - BERTopic - Dimensionality - Completed ✓\n",
      "2025-04-25 17:59:27,580 - BERTopic - Cluster - Start clustering the reduced embeddings\n",
      "2025-04-25 17:59:27,728 - BERTopic - Cluster - Completed ✓\n",
      "2025-04-25 17:59:27,730 - BERTopic - Representation - Fine-tuning topics using representation models.\n",
      "2025-04-25 17:59:28,185 - BERTopic - Representation - Completed ✓\n",
      "2025-04-25 17:59:28,423 - BERTopic - Embedding - Transforming documents to embeddings.\n"
     ]
    },
    {
     "name": "stdout",
     "output_type": "stream",
     "text": [
      "Model found 28 topics\n",
      "Training model with min_cluster_size=28, umap_min_dist=0.0\n"
     ]
    },
    {
     "data": {
      "application/vnd.jupyter.widget-view+json": {
       "model_id": "c4da079da9b84e3bb003b1672eb83991",
       "version_major": 2,
       "version_minor": 0
      },
      "text/plain": [
       "Batches:   0%|          | 0/97 [00:00<?, ?it/s]"
      ]
     },
     "metadata": {},
     "output_type": "display_data"
    },
    {
     "name": "stderr",
     "output_type": "stream",
     "text": [
      "2025-04-25 17:59:35,335 - BERTopic - Embedding - Completed ✓\n",
      "2025-04-25 17:59:35,336 - BERTopic - Dimensionality - Fitting the dimensionality reduction algorithm\n",
      "2025-04-25 17:59:42,546 - BERTopic - Dimensionality - Completed ✓\n",
      "2025-04-25 17:59:42,547 - BERTopic - Cluster - Start clustering the reduced embeddings\n",
      "2025-04-25 17:59:42,687 - BERTopic - Cluster - Completed ✓\n",
      "2025-04-25 17:59:42,689 - BERTopic - Representation - Fine-tuning topics using representation models.\n",
      "2025-04-25 17:59:43,131 - BERTopic - Representation - Completed ✓\n",
      "2025-04-25 17:59:43,365 - BERTopic - Embedding - Transforming documents to embeddings.\n"
     ]
    },
    {
     "name": "stdout",
     "output_type": "stream",
     "text": [
      "Model found 28 topics\n",
      "Training model with min_cluster_size=28, umap_min_dist=0.1\n"
     ]
    },
    {
     "data": {
      "application/vnd.jupyter.widget-view+json": {
       "model_id": "f26304a2b5684815954d5176a4dfb621",
       "version_major": 2,
       "version_minor": 0
      },
      "text/plain": [
       "Batches:   0%|          | 0/97 [00:00<?, ?it/s]"
      ]
     },
     "metadata": {},
     "output_type": "display_data"
    },
    {
     "name": "stderr",
     "output_type": "stream",
     "text": [
      "2025-04-25 17:59:50,319 - BERTopic - Embedding - Completed ✓\n",
      "2025-04-25 17:59:50,320 - BERTopic - Dimensionality - Fitting the dimensionality reduction algorithm\n",
      "2025-04-25 17:59:57,529 - BERTopic - Dimensionality - Completed ✓\n",
      "2025-04-25 17:59:57,529 - BERTopic - Cluster - Start clustering the reduced embeddings\n",
      "2025-04-25 17:59:57,666 - BERTopic - Cluster - Completed ✓\n",
      "2025-04-25 17:59:57,668 - BERTopic - Representation - Fine-tuning topics using representation models.\n",
      "2025-04-25 17:59:58,065 - BERTopic - Representation - Completed ✓\n",
      "2025-04-25 17:59:58,294 - BERTopic - Embedding - Transforming documents to embeddings.\n"
     ]
    },
    {
     "name": "stdout",
     "output_type": "stream",
     "text": [
      "Model found 26 topics\n",
      "Training model with min_cluster_size=28, umap_min_dist=0.2\n"
     ]
    },
    {
     "data": {
      "application/vnd.jupyter.widget-view+json": {
       "model_id": "4c386399a7494771bedfd5b048320e7e",
       "version_major": 2,
       "version_minor": 0
      },
      "text/plain": [
       "Batches:   0%|          | 0/97 [00:00<?, ?it/s]"
      ]
     },
     "metadata": {},
     "output_type": "display_data"
    },
    {
     "name": "stderr",
     "output_type": "stream",
     "text": [
      "2025-04-25 18:00:05,126 - BERTopic - Embedding - Completed ✓\n",
      "2025-04-25 18:00:05,127 - BERTopic - Dimensionality - Fitting the dimensionality reduction algorithm\n",
      "2025-04-25 18:00:12,351 - BERTopic - Dimensionality - Completed ✓\n",
      "2025-04-25 18:00:12,352 - BERTopic - Cluster - Start clustering the reduced embeddings\n",
      "2025-04-25 18:00:12,500 - BERTopic - Cluster - Completed ✓\n",
      "2025-04-25 18:00:12,502 - BERTopic - Representation - Fine-tuning topics using representation models.\n",
      "2025-04-25 18:00:12,903 - BERTopic - Representation - Completed ✓\n",
      "2025-04-25 18:00:13,141 - BERTopic - Embedding - Transforming documents to embeddings.\n"
     ]
    },
    {
     "name": "stdout",
     "output_type": "stream",
     "text": [
      "Model found 28 topics\n",
      "Training model with min_cluster_size=30, umap_min_dist=0.0\n"
     ]
    },
    {
     "data": {
      "application/vnd.jupyter.widget-view+json": {
       "model_id": "31b9a60fb7694a1cafea4c7c60afb64b",
       "version_major": 2,
       "version_minor": 0
      },
      "text/plain": [
       "Batches:   0%|          | 0/97 [00:00<?, ?it/s]"
      ]
     },
     "metadata": {},
     "output_type": "display_data"
    },
    {
     "name": "stderr",
     "output_type": "stream",
     "text": [
      "2025-04-25 18:00:19,875 - BERTopic - Embedding - Completed ✓\n",
      "2025-04-25 18:00:19,875 - BERTopic - Dimensionality - Fitting the dimensionality reduction algorithm\n",
      "2025-04-25 18:00:27,153 - BERTopic - Dimensionality - Completed ✓\n",
      "2025-04-25 18:00:27,154 - BERTopic - Cluster - Start clustering the reduced embeddings\n",
      "2025-04-25 18:00:27,290 - BERTopic - Cluster - Completed ✓\n",
      "2025-04-25 18:00:27,292 - BERTopic - Representation - Fine-tuning topics using representation models.\n",
      "2025-04-25 18:00:27,694 - BERTopic - Representation - Completed ✓\n",
      "2025-04-25 18:00:27,933 - BERTopic - Embedding - Transforming documents to embeddings.\n"
     ]
    },
    {
     "name": "stdout",
     "output_type": "stream",
     "text": [
      "Model found 26 topics\n",
      "Training model with min_cluster_size=30, umap_min_dist=0.1\n"
     ]
    },
    {
     "data": {
      "application/vnd.jupyter.widget-view+json": {
       "model_id": "bd27c0444e3346988790b35dc32c28e4",
       "version_major": 2,
       "version_minor": 0
      },
      "text/plain": [
       "Batches:   0%|          | 0/97 [00:00<?, ?it/s]"
      ]
     },
     "metadata": {},
     "output_type": "display_data"
    },
    {
     "name": "stderr",
     "output_type": "stream",
     "text": [
      "2025-04-25 18:00:34,797 - BERTopic - Embedding - Completed ✓\n",
      "2025-04-25 18:00:34,797 - BERTopic - Dimensionality - Fitting the dimensionality reduction algorithm\n",
      "2025-04-25 18:00:42,108 - BERTopic - Dimensionality - Completed ✓\n",
      "2025-04-25 18:00:42,109 - BERTopic - Cluster - Start clustering the reduced embeddings\n",
      "2025-04-25 18:00:42,243 - BERTopic - Cluster - Completed ✓\n",
      "2025-04-25 18:00:42,245 - BERTopic - Representation - Fine-tuning topics using representation models.\n",
      "2025-04-25 18:00:42,692 - BERTopic - Representation - Completed ✓\n",
      "2025-04-25 18:00:42,923 - BERTopic - Embedding - Transforming documents to embeddings.\n"
     ]
    },
    {
     "name": "stdout",
     "output_type": "stream",
     "text": [
      "Model found 24 topics\n",
      "Training model with min_cluster_size=30, umap_min_dist=0.2\n"
     ]
    },
    {
     "data": {
      "application/vnd.jupyter.widget-view+json": {
       "model_id": "0a8e384fea5245b7976378a835f5b31d",
       "version_major": 2,
       "version_minor": 0
      },
      "text/plain": [
       "Batches:   0%|          | 0/97 [00:00<?, ?it/s]"
      ]
     },
     "metadata": {},
     "output_type": "display_data"
    },
    {
     "name": "stderr",
     "output_type": "stream",
     "text": [
      "2025-04-25 18:00:49,815 - BERTopic - Embedding - Completed ✓\n",
      "2025-04-25 18:00:49,815 - BERTopic - Dimensionality - Fitting the dimensionality reduction algorithm\n",
      "2025-04-25 18:00:57,142 - BERTopic - Dimensionality - Completed ✓\n",
      "2025-04-25 18:00:57,143 - BERTopic - Cluster - Start clustering the reduced embeddings\n",
      "2025-04-25 18:00:57,285 - BERTopic - Cluster - Completed ✓\n",
      "2025-04-25 18:00:57,287 - BERTopic - Representation - Fine-tuning topics using representation models.\n",
      "2025-04-25 18:00:57,688 - BERTopic - Representation - Completed ✓\n"
     ]
    },
    {
     "name": "stdout",
     "output_type": "stream",
     "text": [
      "Model found 27 topics\n"
     ]
    }
   ],
   "source": [
    "# ------------------------------------------------\n",
    "# More fine-tuned scan around promising min_cluster_size\n",
    "# values and exploring min_dists settings\n",
    "# ------------------------------------------------\n",
    "from itertools import product\n",
    "\n",
    "# Parameters to scan\n",
    "min_cluster_sizes = [25, 28, 30]\n",
    "umap_min_dists = [0.0, 0.1, 0.2]\n",
    "n_neighbors = 10\n",
    "\n",
    "# Create an empty list to collect results\n",
    "results = []\n",
    "\n",
    "# Loop through combinations\n",
    "for min_cluster_size, umap_min_dist in product(min_cluster_sizes, umap_min_dists):\n",
    "    print(f\"Training model with min_cluster_size={min_cluster_size}, umap_min_dist={umap_min_dist}\")\n",
    "    \n",
    "    # Define UMAP and HDBSCAN models\n",
    "    umap_model = UMAP(\n",
    "        n_neighbors=n_neighbors,\n",
    "        n_components=5,\n",
    "        min_dist=umap_min_dist,\n",
    "        metric=\"cosine\",\n",
    "        random_state=42\n",
    "    )\n",
    "\n",
    "    hdbscan_model = hdbscan.HDBSCAN(\n",
    "        min_cluster_size=min_cluster_size,\n",
    "        min_samples=5,\n",
    "        metric=\"euclidean\",\n",
    "        cluster_selection_method='eom',\n",
    "        prediction_data=True\n",
    "    )\n",
    "\n",
    "    # Train BERTopic\n",
    "    topic_model = BERTopic(\n",
    "        embedding_model=embedding_model,\n",
    "        vectorizer_model=custom_vectorizer,\n",
    "        umap_model=umap_model,\n",
    "        hdbscan_model=hdbscan_model,\n",
    "        calculate_probabilities=True,\n",
    "        verbose=True\n",
    "    )\n",
    "    \n",
    "    topics, probs = topic_model.fit_transform(texts)\n",
    "    n_topics = len(set(t for t in topics if t != -1))\n",
    "\n",
    "    timestamp = datetime.datetime.now().strftime(\"%Y%m%d_%H%M%S\")\n",
    "    model_name = f\"../models/hp_optimisation/bertopic_neighbors{n_neighbors}_cluster{min_cluster_size}_{timestamp}\"\n",
    "    topic_model.save(os.path.join(model_dir, model_name))\n",
    "    \n",
    "    # Record results\n",
    "    results.append({\n",
    "        \"min_cluster_size\": min_cluster_size,\n",
    "        \"umap_min_dist\": umap_min_dist,\n",
    "        \"n_neighbors\": n_neighbors,\n",
    "        \"n_topics\": n_topics\n",
    "    })\n",
    "\n",
    "    print(f\"Saved {model_name} with {n_topics} topics.\")\n"
   ]
  },
  {
   "cell_type": "code",
   "execution_count": 13,
   "id": "7173c864",
   "metadata": {},
   "outputs": [
    {
     "data": {
      "text/html": [
       "<div>\n",
       "<style scoped>\n",
       "    .dataframe tbody tr th:only-of-type {\n",
       "        vertical-align: middle;\n",
       "    }\n",
       "\n",
       "    .dataframe tbody tr th {\n",
       "        vertical-align: top;\n",
       "    }\n",
       "\n",
       "    .dataframe thead th {\n",
       "        text-align: right;\n",
       "    }\n",
       "</style>\n",
       "<table border=\"1\" class=\"dataframe\">\n",
       "  <thead>\n",
       "    <tr style=\"text-align: right;\">\n",
       "      <th></th>\n",
       "      <th>min_cluster_size</th>\n",
       "      <th>umap_min_dist</th>\n",
       "      <th>n_neighbors</th>\n",
       "      <th>n_topics</th>\n",
       "    </tr>\n",
       "  </thead>\n",
       "  <tbody>\n",
       "    <tr>\n",
       "      <th>0</th>\n",
       "      <td>25</td>\n",
       "      <td>0.0</td>\n",
       "      <td>10</td>\n",
       "      <td>29</td>\n",
       "    </tr>\n",
       "    <tr>\n",
       "      <th>1</th>\n",
       "      <td>25</td>\n",
       "      <td>0.1</td>\n",
       "      <td>10</td>\n",
       "      <td>30</td>\n",
       "    </tr>\n",
       "    <tr>\n",
       "      <th>2</th>\n",
       "      <td>25</td>\n",
       "      <td>0.2</td>\n",
       "      <td>10</td>\n",
       "      <td>28</td>\n",
       "    </tr>\n",
       "    <tr>\n",
       "      <th>3</th>\n",
       "      <td>28</td>\n",
       "      <td>0.0</td>\n",
       "      <td>10</td>\n",
       "      <td>28</td>\n",
       "    </tr>\n",
       "    <tr>\n",
       "      <th>4</th>\n",
       "      <td>28</td>\n",
       "      <td>0.1</td>\n",
       "      <td>10</td>\n",
       "      <td>26</td>\n",
       "    </tr>\n",
       "    <tr>\n",
       "      <th>5</th>\n",
       "      <td>28</td>\n",
       "      <td>0.2</td>\n",
       "      <td>10</td>\n",
       "      <td>28</td>\n",
       "    </tr>\n",
       "    <tr>\n",
       "      <th>6</th>\n",
       "      <td>30</td>\n",
       "      <td>0.0</td>\n",
       "      <td>10</td>\n",
       "      <td>26</td>\n",
       "    </tr>\n",
       "    <tr>\n",
       "      <th>7</th>\n",
       "      <td>30</td>\n",
       "      <td>0.1</td>\n",
       "      <td>10</td>\n",
       "      <td>24</td>\n",
       "    </tr>\n",
       "    <tr>\n",
       "      <th>8</th>\n",
       "      <td>30</td>\n",
       "      <td>0.2</td>\n",
       "      <td>10</td>\n",
       "      <td>27</td>\n",
       "    </tr>\n",
       "  </tbody>\n",
       "</table>\n",
       "</div>"
      ],
      "text/plain": [
       "   min_cluster_size  umap_min_dist  n_neighbors  n_topics\n",
       "0                25            0.0           10        29\n",
       "1                25            0.1           10        30\n",
       "2                25            0.2           10        28\n",
       "3                28            0.0           10        28\n",
       "4                28            0.1           10        26\n",
       "5                28            0.2           10        28\n",
       "6                30            0.0           10        26\n",
       "7                30            0.1           10        24\n",
       "8                30            0.2           10        27"
      ]
     },
     "execution_count": 13,
     "metadata": {},
     "output_type": "execute_result"
    }
   ],
   "source": [
    "# After all models are trained, create a DataFrame\n",
    "results_df = pd.DataFrame(results)\n",
    "\n",
    "# Sort results for easier reading\n",
    "results_df = results_df.sort_values(by=[\"min_cluster_size\", \"umap_min_dist\"]).reset_index(drop=True)\n",
    "\n",
    "# Show the table\n",
    "results_df"
   ]
  },
  {
   "cell_type": "code",
   "execution_count": 14,
   "id": "67d4af5a",
   "metadata": {},
   "outputs": [
    {
     "data": {
      "image/png": "[encoded data removed]",
      "text/plain": [
       "<Figure size 800x600 with 2 Axes>"
      ]
     },
     "metadata": {},
     "output_type": "display_data"
    }
   ],
   "source": [
    "# ------------------------------------------------------------\n",
    "# Plot Results as Heatmap\n",
    "# ------------------------------------------------------------\n",
    "pivot_table = results_df.pivot(index=\"umap_min_dist\", columns=\"min_cluster_size\", values=\"n_topics\")\n",
    "plt.figure(figsize=(8, 6))\n",
    "sns.heatmap(pivot_table, annot=True, fmt=\"d\", cmap=\"Blues\")\n",
    "plt.title(\"Number of Topics Found for Each Hyperparameter Combination\")\n",
    "plt.xlabel(\"min_cluster_size\")\n",
    "plt.ylabel(\"min_dist\")\n",
    "plt.tight_layout()\n",
    "plt.show()"
   ]
  }
 ],
 "metadata": {
  "kernelspec": {
   "display_name": "iata",
   "language": "python",
   "name": "python3"
  },
  "language_info": {
   "codemirror_mode": {
    "name": "ipython",
    "version": 3
   },
   "file_extension": ".py",
   "mimetype": "text/x-python",
   "name": "python",
   "nbconvert_exporter": "python",
   "pygments_lexer": "ipython3",
   "version": "3.9.22"
  }
 },
 "nbformat": 4,
 "nbformat_minor": 5
}
