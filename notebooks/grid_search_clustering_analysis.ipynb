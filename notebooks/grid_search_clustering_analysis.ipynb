{
 "cells": [
  {
   "cell_type": "markdown",
   "id": "8d345dcd",
   "metadata": {},
   "source": [
    "## Optimise clustering analysis hyperparameters using grid search\n",
    "\n",
    "Author: Katharine Leney, April 2025"
   ]
  },
  {
   "cell_type": "code",
   "execution_count": 1,
   "id": "15ba0d25",
   "metadata": {},
   "outputs": [
    {
     "name": "stderr",
     "output_type": "stream",
     "text": [
      "/Users/katharine/anaconda3/envs/iata/lib/python3.10/site-packages/tqdm/auto.py:21: TqdmWarning: IProgress not found. Please update jupyter and ipywidgets. See https://ipywidgets.readthedocs.io/en/stable/user_install.html\n",
      "  from .autonotebook import tqdm as notebook_tqdm\n"
     ]
    }
   ],
   "source": [
    "import itertools\n",
    "import os\n",
    "import datetime\n",
    "import json\n",
    "import pandas as pd\n",
    "import matplotlib.pyplot as plt\n",
    "import seaborn as sns\n",
    "from umap import UMAP\n",
    "import hdbscan\n",
    "from bertopic import BERTopic\n",
    "from sentence_transformers import SentenceTransformer\n",
    "from sklearn.feature_extraction.text import CountVectorizer\n",
    "import sys\n",
    "sys.path.append(\"../src\")\n",
    "from utils.stopwords import CUSTOM_STOPWORDS"
   ]
  },
  {
   "cell_type": "code",
   "execution_count": 2,
   "id": "a0087607",
   "metadata": {},
   "outputs": [],
   "source": [
    "# Load data\n",
    "with open(\"../data/chunks.json\") as f:\n",
    "    data = json.load(f)\n",
    "\n",
    "texts = [entry[\"text\"] for entry in data]\n",
    "\n",
    "# Make sure the models folder exists\n",
    "os.makedirs(\"../models\", exist_ok=True)\n",
    "os.makedirs(\"../models/hp_optimisation\", exist_ok=True)"
   ]
  },
  {
   "cell_type": "code",
   "execution_count": null,
   "id": "f395e40b",
   "metadata": {},
   "outputs": [],
   "source": [
    "# Allow any word‐ or hyphen‐chars, length ≥2, but require at least one letter\n",
    "token_pattern = r\"(?u)\\b(?=\\w*[A-Za-z])[\\w-]{2,}\\b\"\n",
    "\n",
    "custom_vectorizer = CountVectorizer(\n",
    "    stop_words=CUSTOM_STOPWORDS, # Remove stopwords (set in src/stopwords.py)\n",
    "    ngram_range=(1, 2),          # Include unigrams and bigrams\n",
    "    token_pattern=token_pattern\n",
    ")"
   ]
  },
  {
   "cell_type": "code",
   "execution_count": 4,
   "id": "19b0fcba",
   "metadata": {},
   "outputs": [],
   "source": [
    "# Lightweight sentence transformer from Hugging Face\n",
    "# https://huggingface.co/sentence-transformers/all-MiniLM-L6-v2\n",
    "# Turns sentences into dense vectors \n",
    "# https://medium.com/@yasindusanjeewa8/dense-vectors-in-natural-language-processing-06818dff5cd7\n",
    "\n",
    "embedding_model = SentenceTransformer(\"all-MiniLM-L6-v2\")"
   ]
  },
  {
   "cell_type": "code",
   "execution_count": 5,
   "id": "fd7df01e",
   "metadata": {},
   "outputs": [],
   "source": [
    "# ------------------------------------------------------------\n",
    "# Define Grid Search Parameters\n",
    "# ------------------------------------------------------------\n",
    "n_neighbors_grid = [5, 10, 15]\n",
    "min_cluster_size_grid = [10, 15, 20, 25, 30]\n",
    "model_dir = \"../models/hp_optimisation/\"\n",
    "os.makedirs(model_dir, exist_ok=True)\n",
    "random_state = 42"
   ]
  },
  {
   "cell_type": "code",
   "execution_count": 6,
   "id": "2ac831b5",
   "metadata": {},
   "outputs": [
    {
     "name": "stderr",
     "output_type": "stream",
     "text": [
      "2025-04-28 18:28:27,010 - BERTopic - Embedding - Transforming documents to embeddings.\n"
     ]
    },
    {
     "name": "stdout",
     "output_type": "stream",
     "text": [
      "Training model with n_neighbors=5, min_cluster_size=10\n"
     ]
    },
    {
     "name": "stderr",
     "output_type": "stream",
     "text": [
      "Batches: 100%|██████████| 97/97 [00:10<00:00,  9.58it/s]\n",
      "2025-04-28 18:28:37,230 - BERTopic - Embedding - Completed ✓\n",
      "2025-04-28 18:28:37,230 - BERTopic - Dimensionality - Fitting the dimensionality reduction algorithm\n",
      "2025-04-28 18:28:47,448 - BERTopic - Dimensionality - Completed ✓\n",
      "2025-04-28 18:28:47,448 - BERTopic - Cluster - Start clustering the reduced embeddings\n",
      "2025-04-28 18:28:47,996 - BERTopic - Cluster - Completed ✓\n",
      "2025-04-28 18:28:47,999 - BERTopic - Representation - Fine-tuning topics using representation models.\n",
      "2025-04-28 18:28:48,450 - BERTopic - Representation - Completed ✓\n",
      "2025-04-28 18:28:48,813 - BERTopic - WARNING: When you use `pickle` to save/load a BERTopic model,please make sure that the environments in which you saveand load the model are **exactly** the same. The version of BERTopic,its dependencies, and python need to remain the same.\n",
      "2025-04-28 18:28:49,376 - BERTopic - Embedding - Transforming documents to embeddings.\n"
     ]
    },
    {
     "name": "stdout",
     "output_type": "stream",
     "text": [
      "Saved bertopic_neighbors5_cluster10_20250428 with 120 topics.\n",
      "Training model with n_neighbors=5, min_cluster_size=15\n"
     ]
    },
    {
     "name": "stderr",
     "output_type": "stream",
     "text": [
      "Batches: 100%|██████████| 97/97 [00:06<00:00, 14.22it/s]\n",
      "2025-04-28 18:28:56,288 - BERTopic - Embedding - Completed ✓\n",
      "2025-04-28 18:28:56,289 - BERTopic - Dimensionality - Fitting the dimensionality reduction algorithm\n",
      "2025-04-28 18:29:02,999 - BERTopic - Dimensionality - Completed ✓\n",
      "2025-04-28 18:29:02,999 - BERTopic - Cluster - Start clustering the reduced embeddings\n",
      "2025-04-28 18:29:03,289 - BERTopic - Cluster - Completed ✓\n",
      "2025-04-28 18:29:03,291 - BERTopic - Representation - Fine-tuning topics using representation models.\n",
      "2025-04-28 18:29:03,708 - BERTopic - Representation - Completed ✓\n",
      "2025-04-28 18:29:04,014 - BERTopic - WARNING: When you use `pickle` to save/load a BERTopic model,please make sure that the environments in which you saveand load the model are **exactly** the same. The version of BERTopic,its dependencies, and python need to remain the same.\n",
      "2025-04-28 18:29:04,547 - BERTopic - Embedding - Transforming documents to embeddings.\n"
     ]
    },
    {
     "name": "stdout",
     "output_type": "stream",
     "text": [
      "Saved bertopic_neighbors5_cluster15_20250428 with 69 topics.\n",
      "Training model with n_neighbors=5, min_cluster_size=20\n"
     ]
    },
    {
     "name": "stderr",
     "output_type": "stream",
     "text": [
      "Batches: 100%|██████████| 97/97 [00:06<00:00, 14.42it/s]\n",
      "2025-04-28 18:29:11,363 - BERTopic - Embedding - Completed ✓\n",
      "2025-04-28 18:29:11,363 - BERTopic - Dimensionality - Fitting the dimensionality reduction algorithm\n",
      "2025-04-28 18:29:18,103 - BERTopic - Dimensionality - Completed ✓\n",
      "2025-04-28 18:29:18,103 - BERTopic - Cluster - Start clustering the reduced embeddings\n",
      "2025-04-28 18:29:18,327 - BERTopic - Cluster - Completed ✓\n",
      "2025-04-28 18:29:18,329 - BERTopic - Representation - Fine-tuning topics using representation models.\n",
      "2025-04-28 18:29:18,743 - BERTopic - Representation - Completed ✓\n",
      "2025-04-28 18:29:19,023 - BERTopic - WARNING: When you use `pickle` to save/load a BERTopic model,please make sure that the environments in which you saveand load the model are **exactly** the same. The version of BERTopic,its dependencies, and python need to remain the same.\n",
      "2025-04-28 18:29:19,517 - BERTopic - Embedding - Transforming documents to embeddings.\n"
     ]
    },
    {
     "name": "stdout",
     "output_type": "stream",
     "text": [
      "Saved bertopic_neighbors5_cluster20_20250428 with 51 topics.\n",
      "Training model with n_neighbors=5, min_cluster_size=25\n"
     ]
    },
    {
     "name": "stderr",
     "output_type": "stream",
     "text": [
      "Batches: 100%|██████████| 97/97 [00:06<00:00, 14.27it/s]\n",
      "2025-04-28 18:29:26,404 - BERTopic - Embedding - Completed ✓\n",
      "2025-04-28 18:29:26,405 - BERTopic - Dimensionality - Fitting the dimensionality reduction algorithm\n",
      "2025-04-28 18:29:33,099 - BERTopic - Dimensionality - Completed ✓\n",
      "2025-04-28 18:29:33,099 - BERTopic - Cluster - Start clustering the reduced embeddings\n",
      "2025-04-28 18:29:33,276 - BERTopic - Cluster - Completed ✓\n",
      "2025-04-28 18:29:33,278 - BERTopic - Representation - Fine-tuning topics using representation models.\n",
      "2025-04-28 18:29:33,676 - BERTopic - Representation - Completed ✓\n",
      "2025-04-28 18:29:33,933 - BERTopic - WARNING: When you use `pickle` to save/load a BERTopic model,please make sure that the environments in which you saveand load the model are **exactly** the same. The version of BERTopic,its dependencies, and python need to remain the same.\n",
      "2025-04-28 18:29:34,418 - BERTopic - Embedding - Transforming documents to embeddings.\n"
     ]
    },
    {
     "name": "stdout",
     "output_type": "stream",
     "text": [
      "Saved bertopic_neighbors5_cluster25_20250428 with 36 topics.\n",
      "Training model with n_neighbors=5, min_cluster_size=30\n"
     ]
    },
    {
     "name": "stderr",
     "output_type": "stream",
     "text": [
      "Batches: 100%|██████████| 97/97 [00:06<00:00, 14.11it/s]\n",
      "2025-04-28 18:29:41,381 - BERTopic - Embedding - Completed ✓\n",
      "2025-04-28 18:29:41,381 - BERTopic - Dimensionality - Fitting the dimensionality reduction algorithm\n",
      "2025-04-28 18:29:48,042 - BERTopic - Dimensionality - Completed ✓\n",
      "2025-04-28 18:29:48,043 - BERTopic - Cluster - Start clustering the reduced embeddings\n",
      "2025-04-28 18:29:48,191 - BERTopic - Cluster - Completed ✓\n",
      "2025-04-28 18:29:48,193 - BERTopic - Representation - Fine-tuning topics using representation models.\n",
      "2025-04-28 18:29:48,583 - BERTopic - Representation - Completed ✓\n",
      "2025-04-28 18:29:48,829 - BERTopic - WARNING: When you use `pickle` to save/load a BERTopic model,please make sure that the environments in which you saveand load the model are **exactly** the same. The version of BERTopic,its dependencies, and python need to remain the same.\n",
      "2025-04-28 18:29:49,299 - BERTopic - Embedding - Transforming documents to embeddings.\n"
     ]
    },
    {
     "name": "stdout",
     "output_type": "stream",
     "text": [
      "Saved bertopic_neighbors5_cluster30_20250428 with 25 topics.\n",
      "Training model with n_neighbors=10, min_cluster_size=10\n"
     ]
    },
    {
     "name": "stderr",
     "output_type": "stream",
     "text": [
      "Batches: 100%|██████████| 97/97 [00:06<00:00, 14.28it/s]\n",
      "2025-04-28 18:29:56,185 - BERTopic - Embedding - Completed ✓\n",
      "2025-04-28 18:29:56,185 - BERTopic - Dimensionality - Fitting the dimensionality reduction algorithm\n",
      "2025-04-28 18:30:03,708 - BERTopic - Dimensionality - Completed ✓\n",
      "2025-04-28 18:30:03,709 - BERTopic - Cluster - Start clustering the reduced embeddings\n",
      "2025-04-28 18:30:04,224 - BERTopic - Cluster - Completed ✓\n",
      "2025-04-28 18:30:04,227 - BERTopic - Representation - Fine-tuning topics using representation models.\n",
      "2025-04-28 18:30:04,659 - BERTopic - Representation - Completed ✓\n",
      "2025-04-28 18:30:05,007 - BERTopic - WARNING: When you use `pickle` to save/load a BERTopic model,please make sure that the environments in which you saveand load the model are **exactly** the same. The version of BERTopic,its dependencies, and python need to remain the same.\n",
      "2025-04-28 18:30:05,544 - BERTopic - Embedding - Transforming documents to embeddings.\n"
     ]
    },
    {
     "name": "stdout",
     "output_type": "stream",
     "text": [
      "Saved bertopic_neighbors10_cluster10_20250428 with 108 topics.\n",
      "Training model with n_neighbors=10, min_cluster_size=15\n"
     ]
    },
    {
     "name": "stderr",
     "output_type": "stream",
     "text": [
      "Batches: 100%|██████████| 97/97 [00:06<00:00, 14.44it/s]\n",
      "2025-04-28 18:30:12,356 - BERTopic - Embedding - Completed ✓\n",
      "2025-04-28 18:30:12,356 - BERTopic - Dimensionality - Fitting the dimensionality reduction algorithm\n",
      "2025-04-28 18:30:19,919 - BERTopic - Dimensionality - Completed ✓\n",
      "2025-04-28 18:30:19,919 - BERTopic - Cluster - Start clustering the reduced embeddings\n",
      "2025-04-28 18:30:20,200 - BERTopic - Cluster - Completed ✓\n",
      "2025-04-28 18:30:20,202 - BERTopic - Representation - Fine-tuning topics using representation models.\n",
      "2025-04-28 18:30:20,613 - BERTopic - Representation - Completed ✓\n",
      "2025-04-28 18:30:20,909 - BERTopic - WARNING: When you use `pickle` to save/load a BERTopic model,please make sure that the environments in which you saveand load the model are **exactly** the same. The version of BERTopic,its dependencies, and python need to remain the same.\n",
      "2025-04-28 18:30:21,405 - BERTopic - Embedding - Transforming documents to embeddings.\n"
     ]
    },
    {
     "name": "stdout",
     "output_type": "stream",
     "text": [
      "Saved bertopic_neighbors10_cluster15_20250428 with 65 topics.\n",
      "Training model with n_neighbors=10, min_cluster_size=20\n"
     ]
    },
    {
     "name": "stderr",
     "output_type": "stream",
     "text": [
      "Batches: 100%|██████████| 97/97 [00:06<00:00, 14.23it/s]\n",
      "2025-04-28 18:30:28,314 - BERTopic - Embedding - Completed ✓\n",
      "2025-04-28 18:30:28,314 - BERTopic - Dimensionality - Fitting the dimensionality reduction algorithm\n",
      "2025-04-28 18:30:35,893 - BERTopic - Dimensionality - Completed ✓\n",
      "2025-04-28 18:30:35,894 - BERTopic - Cluster - Start clustering the reduced embeddings\n",
      "2025-04-28 18:30:36,097 - BERTopic - Cluster - Completed ✓\n",
      "2025-04-28 18:30:36,099 - BERTopic - Representation - Fine-tuning topics using representation models.\n",
      "2025-04-28 18:30:36,504 - BERTopic - Representation - Completed ✓\n",
      "2025-04-28 18:30:36,787 - BERTopic - WARNING: When you use `pickle` to save/load a BERTopic model,please make sure that the environments in which you saveand load the model are **exactly** the same. The version of BERTopic,its dependencies, and python need to remain the same.\n",
      "2025-04-28 18:30:37,282 - BERTopic - Embedding - Transforming documents to embeddings.\n"
     ]
    },
    {
     "name": "stdout",
     "output_type": "stream",
     "text": [
      "Saved bertopic_neighbors10_cluster20_20250428 with 41 topics.\n",
      "Training model with n_neighbors=10, min_cluster_size=25\n"
     ]
    },
    {
     "name": "stderr",
     "output_type": "stream",
     "text": [
      "Batches: 100%|██████████| 97/97 [00:06<00:00, 14.39it/s]\n",
      "2025-04-28 18:30:44,116 - BERTopic - Embedding - Completed ✓\n",
      "2025-04-28 18:30:44,116 - BERTopic - Dimensionality - Fitting the dimensionality reduction algorithm\n",
      "2025-04-28 18:30:51,693 - BERTopic - Dimensionality - Completed ✓\n",
      "2025-04-28 18:30:51,694 - BERTopic - Cluster - Start clustering the reduced embeddings\n",
      "2025-04-28 18:30:51,867 - BERTopic - Cluster - Completed ✓\n",
      "2025-04-28 18:30:51,869 - BERTopic - Representation - Fine-tuning topics using representation models.\n",
      "2025-04-28 18:30:52,271 - BERTopic - Representation - Completed ✓\n",
      "2025-04-28 18:30:52,545 - BERTopic - WARNING: When you use `pickle` to save/load a BERTopic model,please make sure that the environments in which you saveand load the model are **exactly** the same. The version of BERTopic,its dependencies, and python need to remain the same.\n",
      "2025-04-28 18:30:53,088 - BERTopic - Embedding - Transforming documents to embeddings.\n"
     ]
    },
    {
     "name": "stdout",
     "output_type": "stream",
     "text": [
      "Saved bertopic_neighbors10_cluster25_20250428 with 31 topics.\n",
      "Training model with n_neighbors=10, min_cluster_size=30\n"
     ]
    },
    {
     "name": "stderr",
     "output_type": "stream",
     "text": [
      "Batches: 100%|██████████| 97/97 [00:06<00:00, 14.44it/s]\n",
      "2025-04-28 18:30:59,899 - BERTopic - Embedding - Completed ✓\n",
      "2025-04-28 18:30:59,899 - BERTopic - Dimensionality - Fitting the dimensionality reduction algorithm\n",
      "2025-04-28 18:31:07,377 - BERTopic - Dimensionality - Completed ✓\n",
      "2025-04-28 18:31:07,378 - BERTopic - Cluster - Start clustering the reduced embeddings\n",
      "2025-04-28 18:31:07,530 - BERTopic - Cluster - Completed ✓\n",
      "2025-04-28 18:31:07,532 - BERTopic - Representation - Fine-tuning topics using representation models.\n",
      "2025-04-28 18:31:07,923 - BERTopic - Representation - Completed ✓\n",
      "2025-04-28 18:31:08,156 - BERTopic - WARNING: When you use `pickle` to save/load a BERTopic model,please make sure that the environments in which you saveand load the model are **exactly** the same. The version of BERTopic,its dependencies, and python need to remain the same.\n",
      "2025-04-28 18:31:08,729 - BERTopic - Embedding - Transforming documents to embeddings.\n"
     ]
    },
    {
     "name": "stdout",
     "output_type": "stream",
     "text": [
      "Saved bertopic_neighbors10_cluster30_20250428 with 26 topics.\n",
      "Training model with n_neighbors=15, min_cluster_size=10\n"
     ]
    },
    {
     "name": "stderr",
     "output_type": "stream",
     "text": [
      "Batches: 100%|██████████| 97/97 [00:06<00:00, 14.33it/s]\n",
      "2025-04-28 18:31:15,589 - BERTopic - Embedding - Completed ✓\n",
      "2025-04-28 18:31:15,589 - BERTopic - Dimensionality - Fitting the dimensionality reduction algorithm\n",
      "2025-04-28 18:31:23,673 - BERTopic - Dimensionality - Completed ✓\n",
      "2025-04-28 18:31:23,674 - BERTopic - Cluster - Start clustering the reduced embeddings\n",
      "2025-04-28 18:31:24,120 - BERTopic - Cluster - Completed ✓\n",
      "2025-04-28 18:31:24,122 - BERTopic - Representation - Fine-tuning topics using representation models.\n",
      "2025-04-28 18:31:24,549 - BERTopic - Representation - Completed ✓\n",
      "2025-04-28 18:31:24,886 - BERTopic - WARNING: When you use `pickle` to save/load a BERTopic model,please make sure that the environments in which you saveand load the model are **exactly** the same. The version of BERTopic,its dependencies, and python need to remain the same.\n",
      "2025-04-28 18:31:25,369 - BERTopic - Embedding - Transforming documents to embeddings.\n"
     ]
    },
    {
     "name": "stdout",
     "output_type": "stream",
     "text": [
      "Saved bertopic_neighbors15_cluster10_20250428 with 101 topics.\n",
      "Training model with n_neighbors=15, min_cluster_size=15\n"
     ]
    },
    {
     "name": "stderr",
     "output_type": "stream",
     "text": [
      "Batches: 100%|██████████| 97/97 [00:06<00:00, 14.48it/s]\n",
      "2025-04-28 18:31:32,158 - BERTopic - Embedding - Completed ✓\n",
      "2025-04-28 18:31:32,158 - BERTopic - Dimensionality - Fitting the dimensionality reduction algorithm\n",
      "2025-04-28 18:31:40,220 - BERTopic - Dimensionality - Completed ✓\n",
      "2025-04-28 18:31:40,220 - BERTopic - Cluster - Start clustering the reduced embeddings\n",
      "2025-04-28 18:31:40,487 - BERTopic - Cluster - Completed ✓\n",
      "2025-04-28 18:31:40,489 - BERTopic - Representation - Fine-tuning topics using representation models.\n",
      "2025-04-28 18:31:40,898 - BERTopic - Representation - Completed ✓\n",
      "2025-04-28 18:31:41,189 - BERTopic - WARNING: When you use `pickle` to save/load a BERTopic model,please make sure that the environments in which you saveand load the model are **exactly** the same. The version of BERTopic,its dependencies, and python need to remain the same.\n",
      "2025-04-28 18:31:41,674 - BERTopic - Embedding - Transforming documents to embeddings.\n"
     ]
    },
    {
     "name": "stdout",
     "output_type": "stream",
     "text": [
      "Saved bertopic_neighbors15_cluster15_20250428 with 63 topics.\n",
      "Training model with n_neighbors=15, min_cluster_size=20\n"
     ]
    },
    {
     "name": "stderr",
     "output_type": "stream",
     "text": [
      "Batches: 100%|██████████| 97/97 [00:06<00:00, 14.44it/s]\n",
      "2025-04-28 18:31:48,481 - BERTopic - Embedding - Completed ✓\n",
      "2025-04-28 18:31:48,481 - BERTopic - Dimensionality - Fitting the dimensionality reduction algorithm\n",
      "2025-04-28 18:31:56,566 - BERTopic - Dimensionality - Completed ✓\n",
      "2025-04-28 18:31:56,567 - BERTopic - Cluster - Start clustering the reduced embeddings\n",
      "2025-04-28 18:31:56,764 - BERTopic - Cluster - Completed ✓\n",
      "2025-04-28 18:31:56,766 - BERTopic - Representation - Fine-tuning topics using representation models.\n",
      "2025-04-28 18:31:57,168 - BERTopic - Representation - Completed ✓\n",
      "2025-04-28 18:31:57,427 - BERTopic - WARNING: When you use `pickle` to save/load a BERTopic model,please make sure that the environments in which you saveand load the model are **exactly** the same. The version of BERTopic,its dependencies, and python need to remain the same.\n",
      "2025-04-28 18:31:57,957 - BERTopic - Embedding - Transforming documents to embeddings.\n"
     ]
    },
    {
     "name": "stdout",
     "output_type": "stream",
     "text": [
      "Saved bertopic_neighbors15_cluster20_20250428 with 41 topics.\n",
      "Training model with n_neighbors=15, min_cluster_size=25\n"
     ]
    },
    {
     "name": "stderr",
     "output_type": "stream",
     "text": [
      "Batches: 100%|██████████| 97/97 [00:06<00:00, 14.39it/s]\n",
      "2025-04-28 18:32:04,789 - BERTopic - Embedding - Completed ✓\n",
      "2025-04-28 18:32:04,790 - BERTopic - Dimensionality - Fitting the dimensionality reduction algorithm\n",
      "2025-04-28 18:32:12,838 - BERTopic - Dimensionality - Completed ✓\n",
      "2025-04-28 18:32:12,839 - BERTopic - Cluster - Start clustering the reduced embeddings\n",
      "2025-04-28 18:32:13,002 - BERTopic - Cluster - Completed ✓\n",
      "2025-04-28 18:32:13,004 - BERTopic - Representation - Fine-tuning topics using representation models.\n",
      "2025-04-28 18:32:13,401 - BERTopic - Representation - Completed ✓\n",
      "2025-04-28 18:32:13,643 - BERTopic - WARNING: When you use `pickle` to save/load a BERTopic model,please make sure that the environments in which you saveand load the model are **exactly** the same. The version of BERTopic,its dependencies, and python need to remain the same.\n",
      "2025-04-28 18:32:14,139 - BERTopic - Embedding - Transforming documents to embeddings.\n"
     ]
    },
    {
     "name": "stdout",
     "output_type": "stream",
     "text": [
      "Saved bertopic_neighbors15_cluster25_20250428 with 31 topics.\n",
      "Training model with n_neighbors=15, min_cluster_size=30\n"
     ]
    },
    {
     "name": "stderr",
     "output_type": "stream",
     "text": [
      "Batches: 100%|██████████| 97/97 [00:06<00:00, 14.57it/s]\n",
      "2025-04-28 18:32:20,888 - BERTopic - Embedding - Completed ✓\n",
      "2025-04-28 18:32:20,888 - BERTopic - Dimensionality - Fitting the dimensionality reduction algorithm\n",
      "2025-04-28 18:32:28,919 - BERTopic - Dimensionality - Completed ✓\n",
      "2025-04-28 18:32:28,919 - BERTopic - Cluster - Start clustering the reduced embeddings\n",
      "2025-04-28 18:32:29,067 - BERTopic - Cluster - Completed ✓\n",
      "2025-04-28 18:32:29,069 - BERTopic - Representation - Fine-tuning topics using representation models.\n",
      "2025-04-28 18:32:29,472 - BERTopic - Representation - Completed ✓\n",
      "2025-04-28 18:32:29,710 - BERTopic - WARNING: When you use `pickle` to save/load a BERTopic model,please make sure that the environments in which you saveand load the model are **exactly** the same. The version of BERTopic,its dependencies, and python need to remain the same.\n"
     ]
    },
    {
     "name": "stdout",
     "output_type": "stream",
     "text": [
      "Saved bertopic_neighbors15_cluster30_20250428 with 26 topics.\n"
     ]
    }
   ],
   "source": [
    "# ------------------------------------------------------------\n",
    "# Grid Search Loop\n",
    "# ------------------------------------------------------------\n",
    "results = []\n",
    "\n",
    "for n_neighbors, min_cluster_size in itertools.product(n_neighbors_grid, min_cluster_size_grid):\n",
    "    print(f\"Training model with n_neighbors={n_neighbors}, min_cluster_size={min_cluster_size}\")\n",
    "\n",
    "    umap_model = UMAP(\n",
    "        n_neighbors=n_neighbors,\n",
    "        n_components=5,\n",
    "        min_dist=0.0,\n",
    "        metric=\"cosine\",\n",
    "        random_state=random_state\n",
    "    )\n",
    "\n",
    "    hdbscan_model = hdbscan.HDBSCAN(\n",
    "        min_cluster_size=min_cluster_size,\n",
    "        min_samples=5,\n",
    "        metric=\"euclidean\",\n",
    "        cluster_selection_method=\"eom\",\n",
    "        prediction_data=True\n",
    "    )\n",
    "\n",
    "    topic_model = BERTopic(\n",
    "        embedding_model=embedding_model,\n",
    "        vectorizer_model=custom_vectorizer,\n",
    "        umap_model=umap_model,\n",
    "        hdbscan_model=hdbscan_model,\n",
    "        calculate_probabilities=True,\n",
    "        verbose=True\n",
    "    )\n",
    "\n",
    "    topics, probs = topic_model.fit_transform(texts)\n",
    "    n_topics = len(set(t for t in topics if t != -1))\n",
    "\n",
    "    timestamp = datetime.datetime.now().strftime(\"%Y%m%d\")\n",
    "    model_name = f\"bertopic_neighbors{n_neighbors}_cluster{min_cluster_size}_{timestamp}\"\n",
    "    topic_model.save(os.path.join(model_dir, model_name))\n",
    "\n",
    "    results.append({\n",
    "        \"model_name\": model_name,\n",
    "        \"n_neighbors\": n_neighbors,\n",
    "        \"min_cluster_size\": min_cluster_size,\n",
    "        \"n_topics\": n_topics\n",
    "    })\n",
    "\n",
    "    print(f\"Saved {model_name} with {n_topics} topics.\")"
   ]
  },
  {
   "cell_type": "code",
   "execution_count": 7,
   "id": "00ffb5ed",
   "metadata": {},
   "outputs": [
    {
     "data": {
      "text/html": [
       "<div>\n",
       "<style scoped>\n",
       "    .dataframe tbody tr th:only-of-type {\n",
       "        vertical-align: middle;\n",
       "    }\n",
       "\n",
       "    .dataframe tbody tr th {\n",
       "        vertical-align: top;\n",
       "    }\n",
       "\n",
       "    .dataframe thead th {\n",
       "        text-align: right;\n",
       "    }\n",
       "</style>\n",
       "<table border=\"1\" class=\"dataframe\">\n",
       "  <thead>\n",
       "    <tr style=\"text-align: right;\">\n",
       "      <th></th>\n",
       "      <th>model_name</th>\n",
       "      <th>n_neighbors</th>\n",
       "      <th>min_cluster_size</th>\n",
       "      <th>n_topics</th>\n",
       "    </tr>\n",
       "  </thead>\n",
       "  <tbody>\n",
       "    <tr>\n",
       "      <th>0</th>\n",
       "      <td>bertopic_neighbors5_cluster10_20250428</td>\n",
       "      <td>5</td>\n",
       "      <td>10</td>\n",
       "      <td>120</td>\n",
       "    </tr>\n",
       "    <tr>\n",
       "      <th>1</th>\n",
       "      <td>bertopic_neighbors10_cluster10_20250428</td>\n",
       "      <td>10</td>\n",
       "      <td>10</td>\n",
       "      <td>108</td>\n",
       "    </tr>\n",
       "    <tr>\n",
       "      <th>2</th>\n",
       "      <td>bertopic_neighbors15_cluster10_20250428</td>\n",
       "      <td>15</td>\n",
       "      <td>10</td>\n",
       "      <td>101</td>\n",
       "    </tr>\n",
       "    <tr>\n",
       "      <th>3</th>\n",
       "      <td>bertopic_neighbors5_cluster15_20250428</td>\n",
       "      <td>5</td>\n",
       "      <td>15</td>\n",
       "      <td>69</td>\n",
       "    </tr>\n",
       "    <tr>\n",
       "      <th>4</th>\n",
       "      <td>bertopic_neighbors10_cluster15_20250428</td>\n",
       "      <td>10</td>\n",
       "      <td>15</td>\n",
       "      <td>65</td>\n",
       "    </tr>\n",
       "    <tr>\n",
       "      <th>5</th>\n",
       "      <td>bertopic_neighbors15_cluster15_20250428</td>\n",
       "      <td>15</td>\n",
       "      <td>15</td>\n",
       "      <td>63</td>\n",
       "    </tr>\n",
       "    <tr>\n",
       "      <th>6</th>\n",
       "      <td>bertopic_neighbors5_cluster20_20250428</td>\n",
       "      <td>5</td>\n",
       "      <td>20</td>\n",
       "      <td>51</td>\n",
       "    </tr>\n",
       "    <tr>\n",
       "      <th>7</th>\n",
       "      <td>bertopic_neighbors10_cluster20_20250428</td>\n",
       "      <td>10</td>\n",
       "      <td>20</td>\n",
       "      <td>41</td>\n",
       "    </tr>\n",
       "    <tr>\n",
       "      <th>8</th>\n",
       "      <td>bertopic_neighbors15_cluster20_20250428</td>\n",
       "      <td>15</td>\n",
       "      <td>20</td>\n",
       "      <td>41</td>\n",
       "    </tr>\n",
       "    <tr>\n",
       "      <th>9</th>\n",
       "      <td>bertopic_neighbors5_cluster25_20250428</td>\n",
       "      <td>5</td>\n",
       "      <td>25</td>\n",
       "      <td>36</td>\n",
       "    </tr>\n",
       "    <tr>\n",
       "      <th>10</th>\n",
       "      <td>bertopic_neighbors10_cluster25_20250428</td>\n",
       "      <td>10</td>\n",
       "      <td>25</td>\n",
       "      <td>31</td>\n",
       "    </tr>\n",
       "    <tr>\n",
       "      <th>11</th>\n",
       "      <td>bertopic_neighbors15_cluster25_20250428</td>\n",
       "      <td>15</td>\n",
       "      <td>25</td>\n",
       "      <td>31</td>\n",
       "    </tr>\n",
       "    <tr>\n",
       "      <th>12</th>\n",
       "      <td>bertopic_neighbors10_cluster30_20250428</td>\n",
       "      <td>10</td>\n",
       "      <td>30</td>\n",
       "      <td>26</td>\n",
       "    </tr>\n",
       "    <tr>\n",
       "      <th>13</th>\n",
       "      <td>bertopic_neighbors15_cluster30_20250428</td>\n",
       "      <td>15</td>\n",
       "      <td>30</td>\n",
       "      <td>26</td>\n",
       "    </tr>\n",
       "    <tr>\n",
       "      <th>14</th>\n",
       "      <td>bertopic_neighbors5_cluster30_20250428</td>\n",
       "      <td>5</td>\n",
       "      <td>30</td>\n",
       "      <td>25</td>\n",
       "    </tr>\n",
       "  </tbody>\n",
       "</table>\n",
       "</div>"
      ],
      "text/plain": [
       "                                 model_name  n_neighbors  min_cluster_size  \\\n",
       "0    bertopic_neighbors5_cluster10_20250428            5                10   \n",
       "1   bertopic_neighbors10_cluster10_20250428           10                10   \n",
       "2   bertopic_neighbors15_cluster10_20250428           15                10   \n",
       "3    bertopic_neighbors5_cluster15_20250428            5                15   \n",
       "4   bertopic_neighbors10_cluster15_20250428           10                15   \n",
       "5   bertopic_neighbors15_cluster15_20250428           15                15   \n",
       "6    bertopic_neighbors5_cluster20_20250428            5                20   \n",
       "7   bertopic_neighbors10_cluster20_20250428           10                20   \n",
       "8   bertopic_neighbors15_cluster20_20250428           15                20   \n",
       "9    bertopic_neighbors5_cluster25_20250428            5                25   \n",
       "10  bertopic_neighbors10_cluster25_20250428           10                25   \n",
       "11  bertopic_neighbors15_cluster25_20250428           15                25   \n",
       "12  bertopic_neighbors10_cluster30_20250428           10                30   \n",
       "13  bertopic_neighbors15_cluster30_20250428           15                30   \n",
       "14   bertopic_neighbors5_cluster30_20250428            5                30   \n",
       "\n",
       "    n_topics  \n",
       "0        120  \n",
       "1        108  \n",
       "2        101  \n",
       "3         69  \n",
       "4         65  \n",
       "5         63  \n",
       "6         51  \n",
       "7         41  \n",
       "8         41  \n",
       "9         36  \n",
       "10        31  \n",
       "11        31  \n",
       "12        26  \n",
       "13        26  \n",
       "14        25  "
      ]
     },
     "execution_count": 7,
     "metadata": {},
     "output_type": "execute_result"
    }
   ],
   "source": [
    "# ------------------------------------------------------------\n",
    "# Display Grid Search Results\n",
    "# ------------------------------------------------------------\n",
    "results_df = pd.DataFrame(results)\n",
    "results_df = results_df.sort_values(\"n_topics\", ascending=False)\n",
    "results_df.reset_index(drop=True, inplace=True)\n",
    "\n",
    "results_df"
   ]
  },
  {
   "cell_type": "code",
   "execution_count": 8,
   "id": "7bbbe635",
   "metadata": {},
   "outputs": [
    {
     "data": {
      "image/png": "[encoded data removed]",
      "text/plain": [
       "<Figure size 800x600 with 2 Axes>"
      ]
     },
     "metadata": {},
     "output_type": "display_data"
    }
   ],
   "source": [
    "# ------------------------------------------------------------\n",
    "# Plot Results as Heatmap\n",
    "# ------------------------------------------------------------\n",
    "pivot_table = results_df.pivot(index=\"n_neighbors\", columns=\"min_cluster_size\", values=\"n_topics\")\n",
    "plt.figure(figsize=(8, 6))\n",
    "sns.heatmap(pivot_table, annot=True, fmt=\"d\", cmap=\"Blues\")\n",
    "plt.title(\"Number of Topics Found for Each Hyperparameter Combination\")\n",
    "plt.xlabel(\"min_cluster_size\")\n",
    "plt.ylabel(\"n_neighbors\")\n",
    "plt.tight_layout()\n",
    "plt.show()\n",
    "\n"
   ]
  },
  {
   "cell_type": "code",
   "execution_count": 9,
   "id": "547f4e40",
   "metadata": {},
   "outputs": [
    {
     "name": "stderr",
     "output_type": "stream",
     "text": [
      "2025-04-28 18:32:30,819 - BERTopic - Embedding - Transforming documents to embeddings.\n"
     ]
    },
    {
     "name": "stdout",
     "output_type": "stream",
     "text": [
      "Training model with min_cluster_size=25, umap_min_dist=0.0\n"
     ]
    },
    {
     "name": "stderr",
     "output_type": "stream",
     "text": [
      "Batches: 100%|██████████| 97/97 [00:06<00:00, 14.90it/s]\n",
      "2025-04-28 18:32:37,422 - BERTopic - Embedding - Completed ✓\n",
      "2025-04-28 18:32:37,422 - BERTopic - Dimensionality - Fitting the dimensionality reduction algorithm\n",
      "2025-04-28 18:32:44,940 - BERTopic - Dimensionality - Completed ✓\n",
      "2025-04-28 18:32:44,941 - BERTopic - Cluster - Start clustering the reduced embeddings\n",
      "2025-04-28 18:32:45,115 - BERTopic - Cluster - Completed ✓\n",
      "2025-04-28 18:32:45,117 - BERTopic - Representation - Fine-tuning topics using representation models.\n",
      "2025-04-28 18:32:45,521 - BERTopic - Representation - Completed ✓\n",
      "2025-04-28 18:32:45,758 - BERTopic - WARNING: When you use `pickle` to save/load a BERTopic model,please make sure that the environments in which you saveand load the model are **exactly** the same. The version of BERTopic,its dependencies, and python need to remain the same.\n",
      "2025-04-28 18:32:46,246 - BERTopic - Embedding - Transforming documents to embeddings.\n"
     ]
    },
    {
     "name": "stdout",
     "output_type": "stream",
     "text": [
      "Saved bertopic_neighbors10_cluster25_dist0.0_20250428 with 31 topics.\n",
      "Training model with min_cluster_size=25, umap_min_dist=0.1\n"
     ]
    },
    {
     "name": "stderr",
     "output_type": "stream",
     "text": [
      "Batches: 100%|██████████| 97/97 [00:07<00:00, 13.51it/s]\n",
      "2025-04-28 18:32:53,514 - BERTopic - Embedding - Completed ✓\n",
      "2025-04-28 18:32:53,515 - BERTopic - Dimensionality - Fitting the dimensionality reduction algorithm\n",
      "2025-04-28 18:33:01,060 - BERTopic - Dimensionality - Completed ✓\n",
      "2025-04-28 18:33:01,061 - BERTopic - Cluster - Start clustering the reduced embeddings\n",
      "2025-04-28 18:33:01,212 - BERTopic - Cluster - Completed ✓\n",
      "2025-04-28 18:33:01,214 - BERTopic - Representation - Fine-tuning topics using representation models.\n",
      "2025-04-28 18:33:01,613 - BERTopic - Representation - Completed ✓\n",
      "2025-04-28 18:33:01,849 - BERTopic - WARNING: When you use `pickle` to save/load a BERTopic model,please make sure that the environments in which you saveand load the model are **exactly** the same. The version of BERTopic,its dependencies, and python need to remain the same.\n",
      "2025-04-28 18:33:02,342 - BERTopic - Embedding - Transforming documents to embeddings.\n"
     ]
    },
    {
     "name": "stdout",
     "output_type": "stream",
     "text": [
      "Saved bertopic_neighbors10_cluster25_dist0.1_20250428 with 28 topics.\n",
      "Training model with min_cluster_size=25, umap_min_dist=0.2\n"
     ]
    },
    {
     "name": "stderr",
     "output_type": "stream",
     "text": [
      "Batches: 100%|██████████| 97/97 [00:06<00:00, 14.34it/s]\n",
      "2025-04-28 18:33:09,199 - BERTopic - Embedding - Completed ✓\n",
      "2025-04-28 18:33:09,199 - BERTopic - Dimensionality - Fitting the dimensionality reduction algorithm\n",
      "2025-04-28 18:33:16,808 - BERTopic - Dimensionality - Completed ✓\n",
      "2025-04-28 18:33:16,808 - BERTopic - Cluster - Start clustering the reduced embeddings\n",
      "2025-04-28 18:33:16,971 - BERTopic - Cluster - Completed ✓\n",
      "2025-04-28 18:33:16,973 - BERTopic - Representation - Fine-tuning topics using representation models.\n",
      "2025-04-28 18:33:17,394 - BERTopic - Representation - Completed ✓\n",
      "2025-04-28 18:33:17,637 - BERTopic - WARNING: When you use `pickle` to save/load a BERTopic model,please make sure that the environments in which you saveand load the model are **exactly** the same. The version of BERTopic,its dependencies, and python need to remain the same.\n",
      "2025-04-28 18:33:18,292 - BERTopic - Embedding - Transforming documents to embeddings.\n"
     ]
    },
    {
     "name": "stdout",
     "output_type": "stream",
     "text": [
      "Saved bertopic_neighbors10_cluster25_dist0.2_20250428 with 28 topics.\n",
      "Training model with min_cluster_size=28, umap_min_dist=0.0\n"
     ]
    },
    {
     "name": "stderr",
     "output_type": "stream",
     "text": [
      "Batches: 100%|██████████| 97/97 [00:06<00:00, 14.30it/s]\n",
      "2025-04-28 18:33:25,168 - BERTopic - Embedding - Completed ✓\n",
      "2025-04-28 18:33:25,168 - BERTopic - Dimensionality - Fitting the dimensionality reduction algorithm\n",
      "2025-04-28 18:33:32,758 - BERTopic - Dimensionality - Completed ✓\n",
      "2025-04-28 18:33:32,759 - BERTopic - Cluster - Start clustering the reduced embeddings\n",
      "2025-04-28 18:33:32,922 - BERTopic - Cluster - Completed ✓\n",
      "2025-04-28 18:33:32,924 - BERTopic - Representation - Fine-tuning topics using representation models.\n",
      "2025-04-28 18:33:33,361 - BERTopic - Representation - Completed ✓\n",
      "2025-04-28 18:33:33,595 - BERTopic - WARNING: When you use `pickle` to save/load a BERTopic model,please make sure that the environments in which you saveand load the model are **exactly** the same. The version of BERTopic,its dependencies, and python need to remain the same.\n",
      "2025-04-28 18:33:34,077 - BERTopic - Embedding - Transforming documents to embeddings.\n"
     ]
    },
    {
     "name": "stdout",
     "output_type": "stream",
     "text": [
      "Saved bertopic_neighbors10_cluster28_dist0.0_20250428 with 29 topics.\n",
      "Training model with min_cluster_size=28, umap_min_dist=0.1\n"
     ]
    },
    {
     "name": "stderr",
     "output_type": "stream",
     "text": [
      "Batches: 100%|██████████| 97/97 [00:06<00:00, 14.88it/s]\n",
      "2025-04-28 18:33:40,687 - BERTopic - Embedding - Completed ✓\n",
      "2025-04-28 18:33:40,687 - BERTopic - Dimensionality - Fitting the dimensionality reduction algorithm\n",
      "2025-04-28 18:33:48,312 - BERTopic - Dimensionality - Completed ✓\n",
      "2025-04-28 18:33:48,312 - BERTopic - Cluster - Start clustering the reduced embeddings\n",
      "2025-04-28 18:33:48,465 - BERTopic - Cluster - Completed ✓\n",
      "2025-04-28 18:33:48,467 - BERTopic - Representation - Fine-tuning topics using representation models.\n",
      "2025-04-28 18:33:48,855 - BERTopic - Representation - Completed ✓\n",
      "2025-04-28 18:33:49,097 - BERTopic - WARNING: When you use `pickle` to save/load a BERTopic model,please make sure that the environments in which you saveand load the model are **exactly** the same. The version of BERTopic,its dependencies, and python need to remain the same.\n",
      "2025-04-28 18:33:49,581 - BERTopic - Embedding - Transforming documents to embeddings.\n"
     ]
    },
    {
     "name": "stdout",
     "output_type": "stream",
     "text": [
      "Saved bertopic_neighbors10_cluster28_dist0.1_20250428 with 28 topics.\n",
      "Training model with min_cluster_size=28, umap_min_dist=0.2\n"
     ]
    },
    {
     "name": "stderr",
     "output_type": "stream",
     "text": [
      "Batches: 100%|██████████| 97/97 [00:06<00:00, 14.66it/s]\n",
      "2025-04-28 18:33:56,289 - BERTopic - Embedding - Completed ✓\n",
      "2025-04-28 18:33:56,290 - BERTopic - Dimensionality - Fitting the dimensionality reduction algorithm\n",
      "2025-04-28 18:34:03,807 - BERTopic - Dimensionality - Completed ✓\n",
      "2025-04-28 18:34:03,808 - BERTopic - Cluster - Start clustering the reduced embeddings\n",
      "2025-04-28 18:34:03,965 - BERTopic - Cluster - Completed ✓\n",
      "2025-04-28 18:34:03,967 - BERTopic - Representation - Fine-tuning topics using representation models.\n",
      "2025-04-28 18:34:04,359 - BERTopic - Representation - Completed ✓\n",
      "2025-04-28 18:34:04,589 - BERTopic - WARNING: When you use `pickle` to save/load a BERTopic model,please make sure that the environments in which you saveand load the model are **exactly** the same. The version of BERTopic,its dependencies, and python need to remain the same.\n",
      "2025-04-28 18:34:05,061 - BERTopic - Embedding - Transforming documents to embeddings.\n"
     ]
    },
    {
     "name": "stdout",
     "output_type": "stream",
     "text": [
      "Saved bertopic_neighbors10_cluster28_dist0.2_20250428 with 28 topics.\n",
      "Training model with min_cluster_size=30, umap_min_dist=0.0\n"
     ]
    },
    {
     "name": "stderr",
     "output_type": "stream",
     "text": [
      "Batches: 100%|██████████| 97/97 [00:06<00:00, 14.81it/s]\n",
      "2025-04-28 18:34:11,702 - BERTopic - Embedding - Completed ✓\n",
      "2025-04-28 18:34:11,702 - BERTopic - Dimensionality - Fitting the dimensionality reduction algorithm\n",
      "2025-04-28 18:34:19,238 - BERTopic - Dimensionality - Completed ✓\n",
      "2025-04-28 18:34:19,239 - BERTopic - Cluster - Start clustering the reduced embeddings\n",
      "2025-04-28 18:34:19,394 - BERTopic - Cluster - Completed ✓\n",
      "2025-04-28 18:34:19,396 - BERTopic - Representation - Fine-tuning topics using representation models.\n",
      "2025-04-28 18:34:19,787 - BERTopic - Representation - Completed ✓\n",
      "2025-04-28 18:34:20,016 - BERTopic - WARNING: When you use `pickle` to save/load a BERTopic model,please make sure that the environments in which you saveand load the model are **exactly** the same. The version of BERTopic,its dependencies, and python need to remain the same.\n",
      "2025-04-28 18:34:20,496 - BERTopic - Embedding - Transforming documents to embeddings.\n"
     ]
    },
    {
     "name": "stdout",
     "output_type": "stream",
     "text": [
      "Saved bertopic_neighbors10_cluster30_dist0.0_20250428 with 26 topics.\n",
      "Training model with min_cluster_size=30, umap_min_dist=0.1\n"
     ]
    },
    {
     "name": "stderr",
     "output_type": "stream",
     "text": [
      "Batches: 100%|██████████| 97/97 [00:06<00:00, 15.01it/s]\n",
      "2025-04-28 18:34:27,050 - BERTopic - Embedding - Completed ✓\n",
      "2025-04-28 18:34:27,050 - BERTopic - Dimensionality - Fitting the dimensionality reduction algorithm\n",
      "2025-04-28 18:34:34,677 - BERTopic - Dimensionality - Completed ✓\n",
      "2025-04-28 18:34:34,678 - BERTopic - Cluster - Start clustering the reduced embeddings\n",
      "2025-04-28 18:34:34,825 - BERTopic - Cluster - Completed ✓\n",
      "2025-04-28 18:34:34,827 - BERTopic - Representation - Fine-tuning topics using representation models.\n",
      "2025-04-28 18:34:35,212 - BERTopic - Representation - Completed ✓\n",
      "2025-04-28 18:34:35,439 - BERTopic - WARNING: When you use `pickle` to save/load a BERTopic model,please make sure that the environments in which you saveand load the model are **exactly** the same. The version of BERTopic,its dependencies, and python need to remain the same.\n",
      "2025-04-28 18:34:35,916 - BERTopic - Embedding - Transforming documents to embeddings.\n"
     ]
    },
    {
     "name": "stdout",
     "output_type": "stream",
     "text": [
      "Saved bertopic_neighbors10_cluster30_dist0.1_20250428 with 27 topics.\n",
      "Training model with min_cluster_size=30, umap_min_dist=0.2\n"
     ]
    },
    {
     "name": "stderr",
     "output_type": "stream",
     "text": [
      "Batches: 100%|██████████| 97/97 [00:06<00:00, 14.96it/s]\n",
      "2025-04-28 18:34:42,491 - BERTopic - Embedding - Completed ✓\n",
      "2025-04-28 18:34:42,492 - BERTopic - Dimensionality - Fitting the dimensionality reduction algorithm\n",
      "2025-04-28 18:34:50,008 - BERTopic - Dimensionality - Completed ✓\n",
      "2025-04-28 18:34:50,008 - BERTopic - Cluster - Start clustering the reduced embeddings\n",
      "2025-04-28 18:34:50,159 - BERTopic - Cluster - Completed ✓\n",
      "2025-04-28 18:34:50,160 - BERTopic - Representation - Fine-tuning topics using representation models.\n",
      "2025-04-28 18:34:50,547 - BERTopic - Representation - Completed ✓\n",
      "2025-04-28 18:34:50,775 - BERTopic - WARNING: When you use `pickle` to save/load a BERTopic model,please make sure that the environments in which you saveand load the model are **exactly** the same. The version of BERTopic,its dependencies, and python need to remain the same.\n"
     ]
    },
    {
     "name": "stdout",
     "output_type": "stream",
     "text": [
      "Saved bertopic_neighbors10_cluster30_dist0.2_20250428 with 27 topics.\n"
     ]
    }
   ],
   "source": [
    "# ------------------------------------------------\n",
    "# More fine-tuned scan around promising min_cluster_size\n",
    "# values and exploring min_dists settings\n",
    "# ------------------------------------------------\n",
    "from itertools import product\n",
    "\n",
    "# Parameters to scan\n",
    "min_cluster_sizes = [25, 28, 30]\n",
    "umap_min_dists = [0.0, 0.1, 0.2]\n",
    "n_neighbors = 10\n",
    "\n",
    "# Create an empty list to collect results\n",
    "results = []\n",
    "\n",
    "# Loop through combinations\n",
    "for min_cluster_size, umap_min_dist in product(min_cluster_sizes, umap_min_dists):\n",
    "    print(f\"Training model with min_cluster_size={min_cluster_size}, umap_min_dist={umap_min_dist}\")\n",
    "    \n",
    "    # Define UMAP and HDBSCAN models\n",
    "    umap_model = UMAP(\n",
    "        n_neighbors=n_neighbors,\n",
    "        n_components=5,\n",
    "        min_dist=umap_min_dist,\n",
    "        metric=\"cosine\",\n",
    "        random_state=42\n",
    "    )\n",
    "\n",
    "    hdbscan_model = hdbscan.HDBSCAN(\n",
    "        min_cluster_size=min_cluster_size,\n",
    "        min_samples=5,\n",
    "        metric=\"euclidean\",\n",
    "        cluster_selection_method='eom',\n",
    "        prediction_data=True\n",
    "    )\n",
    "\n",
    "    # Train BERTopic\n",
    "    topic_model = BERTopic(\n",
    "        embedding_model=embedding_model,\n",
    "        vectorizer_model=custom_vectorizer,\n",
    "        umap_model=umap_model,\n",
    "        hdbscan_model=hdbscan_model,\n",
    "        calculate_probabilities=True,\n",
    "        verbose=True\n",
    "    )\n",
    "    \n",
    "    topics, probs = topic_model.fit_transform(texts)\n",
    "    n_topics = len(set(t for t in topics if t != -1))\n",
    "\n",
    "    timestamp = datetime.datetime.now().strftime(\"%Y%m%d\")\n",
    "    model_name = f\"bertopic_neighbors{n_neighbors}_cluster{min_cluster_size}_dist{umap_min_dist}_{timestamp}\"\n",
    "    topic_model.save(os.path.join(model_dir, model_name))\n",
    "    \n",
    "    # Record results\n",
    "    results.append({\n",
    "        \"min_cluster_size\": min_cluster_size,\n",
    "        \"umap_min_dist\": umap_min_dist,\n",
    "        \"n_neighbors\": n_neighbors,\n",
    "        \"n_topics\": n_topics\n",
    "    })\n",
    "\n",
    "    print(f\"Saved {model_name} with {n_topics} topics.\")\n"
   ]
  },
  {
   "cell_type": "code",
   "execution_count": 10,
   "id": "7173c864",
   "metadata": {},
   "outputs": [
    {
     "data": {
      "text/html": [
       "<div>\n",
       "<style scoped>\n",
       "    .dataframe tbody tr th:only-of-type {\n",
       "        vertical-align: middle;\n",
       "    }\n",
       "\n",
       "    .dataframe tbody tr th {\n",
       "        vertical-align: top;\n",
       "    }\n",
       "\n",
       "    .dataframe thead th {\n",
       "        text-align: right;\n",
       "    }\n",
       "</style>\n",
       "<table border=\"1\" class=\"dataframe\">\n",
       "  <thead>\n",
       "    <tr style=\"text-align: right;\">\n",
       "      <th></th>\n",
       "      <th>min_cluster_size</th>\n",
       "      <th>umap_min_dist</th>\n",
       "      <th>n_neighbors</th>\n",
       "      <th>n_topics</th>\n",
       "    </tr>\n",
       "  </thead>\n",
       "  <tbody>\n",
       "    <tr>\n",
       "      <th>0</th>\n",
       "      <td>25</td>\n",
       "      <td>0.0</td>\n",
       "      <td>10</td>\n",
       "      <td>31</td>\n",
       "    </tr>\n",
       "    <tr>\n",
       "      <th>1</th>\n",
       "      <td>25</td>\n",
       "      <td>0.1</td>\n",
       "      <td>10</td>\n",
       "      <td>28</td>\n",
       "    </tr>\n",
       "    <tr>\n",
       "      <th>2</th>\n",
       "      <td>25</td>\n",
       "      <td>0.2</td>\n",
       "      <td>10</td>\n",
       "      <td>28</td>\n",
       "    </tr>\n",
       "    <tr>\n",
       "      <th>3</th>\n",
       "      <td>28</td>\n",
       "      <td>0.0</td>\n",
       "      <td>10</td>\n",
       "      <td>29</td>\n",
       "    </tr>\n",
       "    <tr>\n",
       "      <th>4</th>\n",
       "      <td>28</td>\n",
       "      <td>0.1</td>\n",
       "      <td>10</td>\n",
       "      <td>28</td>\n",
       "    </tr>\n",
       "    <tr>\n",
       "      <th>5</th>\n",
       "      <td>28</td>\n",
       "      <td>0.2</td>\n",
       "      <td>10</td>\n",
       "      <td>28</td>\n",
       "    </tr>\n",
       "    <tr>\n",
       "      <th>6</th>\n",
       "      <td>30</td>\n",
       "      <td>0.0</td>\n",
       "      <td>10</td>\n",
       "      <td>26</td>\n",
       "    </tr>\n",
       "    <tr>\n",
       "      <th>7</th>\n",
       "      <td>30</td>\n",
       "      <td>0.1</td>\n",
       "      <td>10</td>\n",
       "      <td>27</td>\n",
       "    </tr>\n",
       "    <tr>\n",
       "      <th>8</th>\n",
       "      <td>30</td>\n",
       "      <td>0.2</td>\n",
       "      <td>10</td>\n",
       "      <td>27</td>\n",
       "    </tr>\n",
       "  </tbody>\n",
       "</table>\n",
       "</div>"
      ],
      "text/plain": [
       "   min_cluster_size  umap_min_dist  n_neighbors  n_topics\n",
       "0                25            0.0           10        31\n",
       "1                25            0.1           10        28\n",
       "2                25            0.2           10        28\n",
       "3                28            0.0           10        29\n",
       "4                28            0.1           10        28\n",
       "5                28            0.2           10        28\n",
       "6                30            0.0           10        26\n",
       "7                30            0.1           10        27\n",
       "8                30            0.2           10        27"
      ]
     },
     "execution_count": 10,
     "metadata": {},
     "output_type": "execute_result"
    }
   ],
   "source": [
    "# After all models are trained, create a DataFrame\n",
    "results_df = pd.DataFrame(results)\n",
    "\n",
    "# Sort results for easier reading\n",
    "results_df = results_df.sort_values(by=[\"min_cluster_size\", \"umap_min_dist\"]).reset_index(drop=True)\n",
    "\n",
    "# Show the table\n",
    "results_df"
   ]
  },
  {
   "cell_type": "code",
   "execution_count": 11,
   "id": "67d4af5a",
   "metadata": {},
   "outputs": [
    {
     "data": {
      "image/png": "[encoded data removed]",
      "text/plain": [
       "<Figure size 800x600 with 2 Axes>"
      ]
     },
     "metadata": {},
     "output_type": "display_data"
    }
   ],
   "source": [
    "# ------------------------------------------------------------\n",
    "# Plot Results as Heatmap\n",
    "# ------------------------------------------------------------\n",
    "pivot_table = results_df.pivot(index=\"umap_min_dist\", columns=\"min_cluster_size\", values=\"n_topics\")\n",
    "plt.figure(figsize=(8, 6))\n",
    "sns.heatmap(pivot_table, annot=True, fmt=\"d\", cmap=\"Blues\")\n",
    "plt.title(\"Number of Topics Found for Each Hyperparameter Combination\")\n",
    "plt.xlabel(\"min_cluster_size\")\n",
    "plt.ylabel(\"min_dist\")\n",
    "plt.tight_layout()\n",
    "plt.show()"
   ]
  }
 ],
 "metadata": {
  "kernelspec": {
   "display_name": "Python 3",
   "language": "python",
   "name": "python3"
  },
  "language_info": {
   "codemirror_mode": {
    "name": "ipython",
    "version": 3
   },
   "file_extension": ".py",
   "mimetype": "text/x-python",
   "name": "python",
   "nbconvert_exporter": "python",
   "pygments_lexer": "ipython3",
   "version": "3.10.16"
  }
 },
 "nbformat": 4,
 "nbformat_minor": 5
}
