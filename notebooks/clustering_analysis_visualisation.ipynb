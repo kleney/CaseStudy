{
 "cells": [
  {
   "cell_type": "markdown",
   "id": "764c52e8",
   "metadata": {},
   "source": [
    "# Visualise results from model trained in clustering_analysis_training.ipynb\n",
    "\n",
    "Author: Katharine Leney, April 2025"
   ]
  },
  {
   "cell_type": "code",
   "execution_count": 1,
   "id": "42738697",
   "metadata": {},
   "outputs": [],
   "source": [
    "import joblib\n",
    "import pandas as pd\n",
    "import pickle\n",
    "import os\n",
    "import sys\n",
    "import plotly.express as px  \n",
    "sys.path.append(\"../src\")\n",
    "from utils.filter_dataframe import filter_dataframe_by_year, get_top_topics\n",
    "from utils.parse_model_folder import parse_model_folder\n",
    "from utils.generate_clean_labels import generate_clean_labels\n",
    "from utils.generate_opportunity_table import generate_opportunity_table"
   ]
  },
  {
   "cell_type": "code",
   "execution_count": 2,
   "id": "3f00276e",
   "metadata": {},
   "outputs": [
    {
     "name": "stderr",
     "output_type": "stream",
     "text": [
      "/Users/katharine/anaconda3/envs/iata/lib/python3.10/site-packages/tqdm/auto.py:21: TqdmWarning: IProgress not found. Please update jupyter and ipywidgets. See https://ipywidgets.readthedocs.io/en/stable/user_install.html\n",
      "  from .autonotebook import tqdm as notebook_tqdm\n"
     ]
    },
    {
     "name": "stdout",
     "output_type": "stream",
     "text": [
      "\n"
     ]
    }
   ],
   "source": [
    "# ====================================\n",
    "# Load model and associated data\n",
    "# ====================================\n",
    "\n",
    "# Model name\n",
    "model_name = f\"bertopic_cluster_model\"\n",
    "\n",
    "# Build correct path\n",
    "model_path = os.path.join(\"../models/\", model_name, \"model\")\n",
    "\n",
    "# Load the model\n",
    "topic_model = joblib.load(model_path)\n",
    "\n",
    "# Load texts and timestamps\n",
    "with open(os.path.join(\"../models/\", model_name, \"texts.pkl\"), \"rb\") as f:\n",
    "    texts = pickle.load(f)\n",
    "\n",
    "with open(os.path.join(\"../models/\", model_name, \"timestamps.pkl\"), \"rb\") as f:\n",
    "    timestamps = pickle.load(f)\n",
    "\n",
    "model_label = parse_model_folder(model_name)\n",
    "print(model_label)\n",
    "\n",
    "# Make sure the outputs folder exists\n",
    "os.makedirs(\"../outputs\", exist_ok=True)"
   ]
  },
  {
   "cell_type": "code",
   "execution_count": 3,
   "id": "2ac0a6ee",
   "metadata": {},
   "outputs": [
    {
     "data": {
      "text/html": [
       "<div>\n",
       "<style scoped>\n",
       "    .dataframe tbody tr th:only-of-type {\n",
       "        vertical-align: middle;\n",
       "    }\n",
       "\n",
       "    .dataframe tbody tr th {\n",
       "        vertical-align: top;\n",
       "    }\n",
       "\n",
       "    .dataframe thead th {\n",
       "        text-align: right;\n",
       "    }\n",
       "</style>\n",
       "<table border=\"1\" class=\"dataframe\">\n",
       "  <thead>\n",
       "    <tr style=\"text-align: right;\">\n",
       "      <th></th>\n",
       "      <th>Topic</th>\n",
       "      <th>Count</th>\n",
       "      <th>Name</th>\n",
       "      <th>Representation</th>\n",
       "      <th>Representative_Docs</th>\n",
       "    </tr>\n",
       "  </thead>\n",
       "  <tbody>\n",
       "    <tr>\n",
       "      <th>0</th>\n",
       "      <td>-1</td>\n",
       "      <td>595</td>\n",
       "      <td>-1_fuel_emissions_passenger_global</td>\n",
       "      <td>[fuel, emissions, passenger, global, cargo, ai...</td>\n",
       "      <td>[Region 2023 2022 5-year average (2019-2023) A...</td>\n",
       "    </tr>\n",
       "    <tr>\n",
       "      <th>1</th>\n",
       "      <td>0</td>\n",
       "      <td>233</td>\n",
       "      <td>0_safety_iosa_accidents_accident</td>\n",
       "      <td>[safety, iosa, accidents, accident, audit, rat...</td>\n",
       "      <td>[19 SAFETY Safety audits Airlines on the IOSA ...</td>\n",
       "    </tr>\n",
       "    <tr>\n",
       "      <th>2</th>\n",
       "      <td>1</td>\n",
       "      <td>194</td>\n",
       "      <td>1_security_information_smart security_passenger</td>\n",
       "      <td>[security, information, smart security, passen...</td>\n",
       "      <td>[Smart Security Smart Security is joint initia...</td>\n",
       "    </tr>\n",
       "    <tr>\n",
       "      <th>3</th>\n",
       "      <td>2</td>\n",
       "      <td>170</td>\n",
       "      <td>2_settlement_billion_processed_bsp</td>\n",
       "      <td>[settlement, billion, processed, bsp, cass, is...</td>\n",
       "      <td>[IATA Cargo Account Settlement System (CASS) s...</td>\n",
       "    </tr>\n",
       "    <tr>\n",
       "      <th>4</th>\n",
       "      <td>3</td>\n",
       "      <td>146</td>\n",
       "      <td>3_charges_airport_airports_infrastructure</td>\n",
       "      <td>[charges, airport, airports, infrastructure, c...</td>\n",
       "      <td>[Airports Savings in airport charges of $1.5 b...</td>\n",
       "    </tr>\n",
       "    <tr>\n",
       "      <th>5</th>\n",
       "      <td>4</td>\n",
       "      <td>143</td>\n",
       "      <td>4_global_governments_important_great</td>\n",
       "      <td>[global, governments, important, great, future...</td>\n",
       "      <td>[Annual Review 2021\\n\\nWillie Walsh Director G...</td>\n",
       "    </tr>\n",
       "    <tr>\n",
       "      <th>6</th>\n",
       "      <td>5</td>\n",
       "      <td>92</td>\n",
       "      <td>5_ndc_order_travel_retailing</td>\n",
       "      <td>[ndc, order, travel, retailing, distribution, ...</td>\n",
       "      <td>[With passenger volume expected to double by 2...</td>\n",
       "    </tr>\n",
       "    <tr>\n",
       "      <th>7</th>\n",
       "      <td>6</td>\n",
       "      <td>90</td>\n",
       "      <td>6_baggage_fast travel_fast_boarding</td>\n",
       "      <td>[baggage, fast travel, fast, boarding, passeng...</td>\n",
       "      <td>[The program provides self-service options at ...</td>\n",
       "    </tr>\n",
       "    <tr>\n",
       "      <th>8</th>\n",
       "      <td>7</td>\n",
       "      <td>89</td>\n",
       "      <td>7_cargo_e-freight_freight_e-awb</td>\n",
       "      <td>[cargo, e-freight, freight, e-awb, chain, supp...</td>\n",
       "      <td>[In partnership with shippers, freight forward...</td>\n",
       "    </tr>\n",
       "    <tr>\n",
       "      <th>9</th>\n",
       "      <td>8</td>\n",
       "      <td>84</td>\n",
       "      <td>8_saf_corsia_emissions_production</td>\n",
       "      <td>[saf, corsia, emissions, production, carbon, i...</td>\n",
       "      <td>[Sustainable aviation fuels One of the most pr...</td>\n",
       "    </tr>\n",
       "    <tr>\n",
       "      <th>10</th>\n",
       "      <td>9</td>\n",
       "      <td>76</td>\n",
       "      <td>9_regulation_rights_passenger rights_regulations</td>\n",
       "      <td>[regulation, rights, passenger rights, regulat...</td>\n",
       "      <td>[SMARTER REGULATION PRINCIPLES Smarter regulat...</td>\n",
       "    </tr>\n",
       "    <tr>\n",
       "      <th>11</th>\n",
       "      <td>10</td>\n",
       "      <td>71</td>\n",
       "      <td>10_markets_growth_load_premium</td>\n",
       "      <td>[markets, growth, load, premium, capacity, fre...</td>\n",
       "      <td>[Available seat kilometers (ASK) flown increas...</td>\n",
       "    </tr>\n",
       "    <tr>\n",
       "      <th>12</th>\n",
       "      <td>11</td>\n",
       "      <td>69</td>\n",
       "      <td>11_covid-19_health_testing_travel</td>\n",
       "      <td>[covid-19, health, testing, travel, pandemic, ...</td>\n",
       "      <td>[IATA next advocated for standard­ ized, conta...</td>\n",
       "    </tr>\n",
       "    <tr>\n",
       "      <th>13</th>\n",
       "      <td>12</td>\n",
       "      <td>69</td>\n",
       "      <td>12_china_cargo_latam_express</td>\n",
       "      <td>[china, cargo, latam, express, royal, lufthans...</td>\n",
       "      <td>[Members' list 02 Aegean Airlines Aer Lingus A...</td>\n",
       "    </tr>\n",
       "    <tr>\n",
       "      <th>14</th>\n",
       "      <td>13</td>\n",
       "      <td>66</td>\n",
       "      <td>13_tax_taxes_taxation_government</td>\n",
       "      <td>[tax, taxes, taxation, government, tourism, in...</td>\n",
       "      <td>[They asked IATA to convene second meeting in ...</td>\n",
       "    </tr>\n",
       "    <tr>\n",
       "      <th>15</th>\n",
       "      <td>14</td>\n",
       "      <td>66</td>\n",
       "      <td>14_data_intelligence_consulting_cargois</td>\n",
       "      <td>[data, intelligence, consulting, cargois, solu...</td>\n",
       "      <td>[65 SOLUTIONS FOR CARGO 10 AVIATION SOLUTIONS ...</td>\n",
       "    </tr>\n",
       "    <tr>\n",
       "      <th>16</th>\n",
       "      <td>15</td>\n",
       "      <td>60</td>\n",
       "      <td>15_cargo_trade_growth_global</td>\n",
       "      <td>[cargo, trade, growth, global, demand, freight...</td>\n",
       "      <td>[07 Percentage growth in air cargo demand 08 I...</td>\n",
       "    </tr>\n",
       "    <tr>\n",
       "      <th>17</th>\n",
       "      <td>16</td>\n",
       "      <td>58</td>\n",
       "      <td>16_world_commercial_jobs_people</td>\n",
       "      <td>[world, commercial, jobs, people, economic, to...</td>\n",
       "      <td>[17 Benefits of aviation 1 Passenger 1 This bu...</td>\n",
       "    </tr>\n",
       "    <tr>\n",
       "      <th>18</th>\n",
       "      <td>17</td>\n",
       "      <td>53</td>\n",
       "      <td>17_unruly_mc99_mp14_passengers</td>\n",
       "      <td>[unruly, mc99, mp14, passengers, incidents, ra...</td>\n",
       "      <td>[Significant progress toward ratification is e...</td>\n",
       "    </tr>\n",
       "    <tr>\n",
       "      <th>19</th>\n",
       "      <td>18</td>\n",
       "      <td>52</td>\n",
       "      <td>18_ceiv_lithium_batteries_dangerous</td>\n",
       "      <td>[ceiv, lithium, batteries, dangerous, dangerou...</td>\n",
       "      <td>[Special cargo Standardized air cargo processe...</td>\n",
       "    </tr>\n",
       "    <tr>\n",
       "      <th>20</th>\n",
       "      <td>19</td>\n",
       "      <td>51</td>\n",
       "      <td>19_training_itdi_strategic_courses</td>\n",
       "      <td>[training, itdi, strategic, courses, partners,...</td>\n",
       "      <td>[IATA Strategic Partnerships IATA Strategic Pa...</td>\n",
       "    </tr>\n",
       "    <tr>\n",
       "      <th>21</th>\n",
       "      <td>20</td>\n",
       "      <td>51</td>\n",
       "      <td>20_emissions_carbon_environmental_technology</td>\n",
       "      <td>[emissions, carbon, environmental, technology,...</td>\n",
       "      <td>[41 Reducing carbon emissions The aviation ind...</td>\n",
       "    </tr>\n",
       "    <tr>\n",
       "      <th>22</th>\n",
       "      <td>21</td>\n",
       "      <td>47</td>\n",
       "      <td>21_profit_billion_net_profits</td>\n",
       "      <td>[profit, billion, net, profits, profitability,...</td>\n",
       "      <td>[It was year of near-record operating profits ...</td>\n",
       "    </tr>\n",
       "    <tr>\n",
       "      <th>23</th>\n",
       "      <td>22</td>\n",
       "      <td>46</td>\n",
       "      <td>22_slot_wsg_slots_airport</td>\n",
       "      <td>[slot, wsg, slots, airport, airport slot, airp...</td>\n",
       "      <td>[IATA Worldwide Slots Guidelines is the global...</td>\n",
       "    </tr>\n",
       "    <tr>\n",
       "      <th>24</th>\n",
       "      <td>23</td>\n",
       "      <td>41</td>\n",
       "      <td>23____</td>\n",
       "      <td>[, , , , , , , , , ]</td>\n",
       "      <td>[, , ]</td>\n",
       "    </tr>\n",
       "    <tr>\n",
       "      <th>25</th>\n",
       "      <td>24</td>\n",
       "      <td>39</td>\n",
       "      <td>24_offices_box_somerset_north</td>\n",
       "      <td>[offices, box, somerset, north, office, geneva...</td>\n",
       "      <td>[Africa Sandown Mews East Block 88 Stella Stre...</td>\n",
       "    </tr>\n",
       "    <tr>\n",
       "      <th>26</th>\n",
       "      <td>25</td>\n",
       "      <td>37</td>\n",
       "      <td>25_group_klm_france_david</td>\n",
       "      <td>[group, klm, france, david, egyptair, enrique,...</td>\n",
       "      <td>[IATA Board Of Governors 2018–2019 CHAIR OF TH...</td>\n",
       "    </tr>\n",
       "    <tr>\n",
       "      <th>27</th>\n",
       "      <td>26</td>\n",
       "      <td>35</td>\n",
       "      <td>26_atm_airspace_european_nextgen</td>\n",
       "      <td>[atm, airspace, european, nextgen, traffic, si...</td>\n",
       "      <td>[1 2 3 4 INFRASTRUCTURE Modernized air traffi ...</td>\n",
       "    </tr>\n",
       "    <tr>\n",
       "      <th>28</th>\n",
       "      <td>27</td>\n",
       "      <td>29</td>\n",
       "      <td>27_identity_id_digital_biometric</td>\n",
       "      <td>[identity, id, digital, biometric, travel, pas...</td>\n",
       "      <td>[More choice, more control, more convenience P...</td>\n",
       "    </tr>\n",
       "    <tr>\n",
       "      <th>29</th>\n",
       "      <td>28</td>\n",
       "      <td>29</td>\n",
       "      <td>28_diversity_inclusion_diversity inclusion_female</td>\n",
       "      <td>[diversity, inclusion, diversity inclusion, fe...</td>\n",
       "      <td>[Diversity &amp; Inclusion 43 IATA Annual Review 2...</td>\n",
       "    </tr>\n",
       "    <tr>\n",
       "      <th>30</th>\n",
       "      <td>29</td>\n",
       "      <td>28</td>\n",
       "      <td>29_ienva_waste_environmental_assessment</td>\n",
       "      <td>[ienva, waste, environmental, assessment, stag...</td>\n",
       "      <td>[This, the highest-level IEnvA assessment, ens...</td>\n",
       "    </tr>\n",
       "    <tr>\n",
       "      <th>31</th>\n",
       "      <td>30</td>\n",
       "      <td>28</td>\n",
       "      <td>30_fuel_jet fuel_jet_supply</td>\n",
       "      <td>[fuel, jet fuel, jet, supply, fuel supply, fee...</td>\n",
       "      <td>[Securing reliable jet fuel supply at transpar...</td>\n",
       "    </tr>\n",
       "    <tr>\n",
       "      <th>32</th>\n",
       "      <td>31</td>\n",
       "      <td>28</td>\n",
       "      <td>31_oil_barrel_prices_fuel</td>\n",
       "      <td>[oil, barrel, prices, fuel, price, jet, fuel p...</td>\n",
       "      <td>[The spot price of jet fuel in 2012 increased ...</td>\n",
       "    </tr>\n",
       "    <tr>\n",
       "      <th>33</th>\n",
       "      <td>32</td>\n",
       "      <td>27</td>\n",
       "      <td>32_isago_ground_audits_audit</td>\n",
       "      <td>[isago, ground, audits, audit, ground operatio...</td>\n",
       "      <td>[The support of governments and regulators for...</td>\n",
       "    </tr>\n",
       "    <tr>\n",
       "      <th>34</th>\n",
       "      <td>33</td>\n",
       "      <td>24</td>\n",
       "      <td>33_domestic_travel_rpks_international</td>\n",
       "      <td>[domestic, travel, rpks, international, traffi...</td>\n",
       "      <td>[Domestic travel is recovering faster than int...</td>\n",
       "    </tr>\n",
       "  </tbody>\n",
       "</table>\n",
       "</div>"
      ],
      "text/plain": [
       "    Topic  Count                                               Name  \\\n",
       "0      -1    595                 -1_fuel_emissions_passenger_global   \n",
       "1       0    233                   0_safety_iosa_accidents_accident   \n",
       "2       1    194    1_security_information_smart security_passenger   \n",
       "3       2    170                 2_settlement_billion_processed_bsp   \n",
       "4       3    146          3_charges_airport_airports_infrastructure   \n",
       "5       4    143               4_global_governments_important_great   \n",
       "6       5     92                       5_ndc_order_travel_retailing   \n",
       "7       6     90                6_baggage_fast travel_fast_boarding   \n",
       "8       7     89                    7_cargo_e-freight_freight_e-awb   \n",
       "9       8     84                  8_saf_corsia_emissions_production   \n",
       "10      9     76   9_regulation_rights_passenger rights_regulations   \n",
       "11     10     71                     10_markets_growth_load_premium   \n",
       "12     11     69                  11_covid-19_health_testing_travel   \n",
       "13     12     69                       12_china_cargo_latam_express   \n",
       "14     13     66                   13_tax_taxes_taxation_government   \n",
       "15     14     66            14_data_intelligence_consulting_cargois   \n",
       "16     15     60                       15_cargo_trade_growth_global   \n",
       "17     16     58                    16_world_commercial_jobs_people   \n",
       "18     17     53                     17_unruly_mc99_mp14_passengers   \n",
       "19     18     52                18_ceiv_lithium_batteries_dangerous   \n",
       "20     19     51                 19_training_itdi_strategic_courses   \n",
       "21     20     51       20_emissions_carbon_environmental_technology   \n",
       "22     21     47                      21_profit_billion_net_profits   \n",
       "23     22     46                          22_slot_wsg_slots_airport   \n",
       "24     23     41                                             23____   \n",
       "25     24     39                      24_offices_box_somerset_north   \n",
       "26     25     37                          25_group_klm_france_david   \n",
       "27     26     35                   26_atm_airspace_european_nextgen   \n",
       "28     27     29                   27_identity_id_digital_biometric   \n",
       "29     28     29  28_diversity_inclusion_diversity inclusion_female   \n",
       "30     29     28            29_ienva_waste_environmental_assessment   \n",
       "31     30     28                        30_fuel_jet fuel_jet_supply   \n",
       "32     31     28                          31_oil_barrel_prices_fuel   \n",
       "33     32     27                       32_isago_ground_audits_audit   \n",
       "34     33     24              33_domestic_travel_rpks_international   \n",
       "\n",
       "                                       Representation  \\\n",
       "0   [fuel, emissions, passenger, global, cargo, ai...   \n",
       "1   [safety, iosa, accidents, accident, audit, rat...   \n",
       "2   [security, information, smart security, passen...   \n",
       "3   [settlement, billion, processed, bsp, cass, is...   \n",
       "4   [charges, airport, airports, infrastructure, c...   \n",
       "5   [global, governments, important, great, future...   \n",
       "6   [ndc, order, travel, retailing, distribution, ...   \n",
       "7   [baggage, fast travel, fast, boarding, passeng...   \n",
       "8   [cargo, e-freight, freight, e-awb, chain, supp...   \n",
       "9   [saf, corsia, emissions, production, carbon, i...   \n",
       "10  [regulation, rights, passenger rights, regulat...   \n",
       "11  [markets, growth, load, premium, capacity, fre...   \n",
       "12  [covid-19, health, testing, travel, pandemic, ...   \n",
       "13  [china, cargo, latam, express, royal, lufthans...   \n",
       "14  [tax, taxes, taxation, government, tourism, in...   \n",
       "15  [data, intelligence, consulting, cargois, solu...   \n",
       "16  [cargo, trade, growth, global, demand, freight...   \n",
       "17  [world, commercial, jobs, people, economic, to...   \n",
       "18  [unruly, mc99, mp14, passengers, incidents, ra...   \n",
       "19  [ceiv, lithium, batteries, dangerous, dangerou...   \n",
       "20  [training, itdi, strategic, courses, partners,...   \n",
       "21  [emissions, carbon, environmental, technology,...   \n",
       "22  [profit, billion, net, profits, profitability,...   \n",
       "23  [slot, wsg, slots, airport, airport slot, airp...   \n",
       "24                               [, , , , , , , , , ]   \n",
       "25  [offices, box, somerset, north, office, geneva...   \n",
       "26  [group, klm, france, david, egyptair, enrique,...   \n",
       "27  [atm, airspace, european, nextgen, traffic, si...   \n",
       "28  [identity, id, digital, biometric, travel, pas...   \n",
       "29  [diversity, inclusion, diversity inclusion, fe...   \n",
       "30  [ienva, waste, environmental, assessment, stag...   \n",
       "31  [fuel, jet fuel, jet, supply, fuel supply, fee...   \n",
       "32  [oil, barrel, prices, fuel, price, jet, fuel p...   \n",
       "33  [isago, ground, audits, audit, ground operatio...   \n",
       "34  [domestic, travel, rpks, international, traffi...   \n",
       "\n",
       "                                  Representative_Docs  \n",
       "0   [Region 2023 2022 5-year average (2019-2023) A...  \n",
       "1   [19 SAFETY Safety audits Airlines on the IOSA ...  \n",
       "2   [Smart Security Smart Security is joint initia...  \n",
       "3   [IATA Cargo Account Settlement System (CASS) s...  \n",
       "4   [Airports Savings in airport charges of $1.5 b...  \n",
       "5   [Annual Review 2021\\n\\nWillie Walsh Director G...  \n",
       "6   [With passenger volume expected to double by 2...  \n",
       "7   [The program provides self-service options at ...  \n",
       "8   [In partnership with shippers, freight forward...  \n",
       "9   [Sustainable aviation fuels One of the most pr...  \n",
       "10  [SMARTER REGULATION PRINCIPLES Smarter regulat...  \n",
       "11  [Available seat kilometers (ASK) flown increas...  \n",
       "12  [IATA next advocated for standard­ ized, conta...  \n",
       "13  [Members' list 02 Aegean Airlines Aer Lingus A...  \n",
       "14  [They asked IATA to convene second meeting in ...  \n",
       "15  [65 SOLUTIONS FOR CARGO 10 AVIATION SOLUTIONS ...  \n",
       "16  [07 Percentage growth in air cargo demand 08 I...  \n",
       "17  [17 Benefits of aviation 1 Passenger 1 This bu...  \n",
       "18  [Significant progress toward ratification is e...  \n",
       "19  [Special cargo Standardized air cargo processe...  \n",
       "20  [IATA Strategic Partnerships IATA Strategic Pa...  \n",
       "21  [41 Reducing carbon emissions The aviation ind...  \n",
       "22  [It was year of near-record operating profits ...  \n",
       "23  [IATA Worldwide Slots Guidelines is the global...  \n",
       "24                                             [, , ]  \n",
       "25  [Africa Sandown Mews East Block 88 Stella Stre...  \n",
       "26  [IATA Board Of Governors 2018–2019 CHAIR OF TH...  \n",
       "27  [1 2 3 4 INFRASTRUCTURE Modernized air traffi ...  \n",
       "28  [More choice, more control, more convenience P...  \n",
       "29  [Diversity & Inclusion 43 IATA Annual Review 2...  \n",
       "30  [This, the highest-level IEnvA assessment, ens...  \n",
       "31  [Securing reliable jet fuel supply at transpar...  \n",
       "32  [The spot price of jet fuel in 2012 increased ...  \n",
       "33  [The support of governments and regulators for...  \n",
       "34  [Domestic travel is recovering faster than int...  "
      ]
     },
     "execution_count": 3,
     "metadata": {},
     "output_type": "execute_result"
    }
   ],
   "source": [
    "# Explore top topics\n",
    "#topic_model.get_topic_info().head(10)\n",
    "topic_model.get_topic_info()"
   ]
  },
  {
   "cell_type": "code",
   "execution_count": 4,
   "id": "185fc284",
   "metadata": {},
   "outputs": [
    {
     "data": {
      "application/vnd.plotly.v1+json": {
       "config": {
        "plotlyServerURL": "https://plot.ly"
       },
       "data": [
        {
         "customdata": [
          [
           0,
           "safety | iosa | accidents | accident | audit",
           233
          ],
          [
           1,
           "security | information | smart security | passenger | screening",
           194
          ],
          [
           2,
           "settlement | billion | processed | bsp | cass",
           170
          ],
          [
           3,
           "charges | airport | airports | infrastructure | cost",
           146
          ],
          [
           4,
           "global | governments | important | great | future",
           143
          ],
          [
           5,
           "ndc | order | travel | retailing | distribution",
           92
          ],
          [
           6,
           "baggage | fast travel | fast | boarding | passengers",
           90
          ],
          [
           7,
           "cargo | e-freight | freight | e-awb | chain",
           89
          ],
          [
           8,
           "saf | corsia | emissions | production | carbon",
           84
          ],
          [
           9,
           "regulation | rights | passenger rights | regulations | smarter",
           76
          ],
          [
           10,
           "markets | growth | load | premium | capacity",
           71
          ],
          [
           11,
           "covid-19 | health | testing | travel | pandemic",
           69
          ],
          [
           12,
           "china | cargo | latam | express | royal",
           69
          ],
          [
           13,
           "tax | taxes | taxation | government | tourism",
           66
          ],
          [
           14,
           "data | intelligence | consulting | cargois | solutions",
           66
          ],
          [
           15,
           "cargo | trade | growth | global | demand",
           60
          ],
          [
           16,
           "world | commercial | jobs | people | economic",
           58
          ],
          [
           17,
           "unruly | mc99 | mp14 | passengers | incidents",
           53
          ],
          [
           18,
           "ceiv | lithium | batteries | dangerous | dangerous goods",
           52
          ],
          [
           19,
           "training | itdi | strategic | courses | partners",
           51
          ],
          [
           20,
           "emissions | carbon | environmental | technology | fuel efficiency",
           51
          ],
          [
           21,
           "profit | billion | net | profits | profitability",
           47
          ],
          [
           22,
           "slot | wsg | slots | airport | airport slot",
           46
          ],
          [
           23,
           " |  |  |  | ",
           41
          ],
          [
           24,
           "offices | box | somerset | north | office",
           39
          ],
          [
           25,
           "group | klm | france | david | egyptair",
           37
          ],
          [
           26,
           "atm | airspace | european | nextgen | traffic",
           35
          ],
          [
           27,
           "identity | id | digital | biometric | travel",
           29
          ],
          [
           28,
           "diversity | inclusion | diversity inclusion | female | gender",
           29
          ],
          [
           29,
           "ienva | waste | environmental | assessment | stage",
           28
          ],
          [
           30,
           "fuel | jet fuel | jet | supply | fuel supply",
           28
          ],
          [
           31,
           "oil | barrel | prices | fuel | price",
           28
          ],
          [
           32,
           "isago | ground | audits | audit | ground operations",
           27
          ],
          [
           33,
           "domestic | travel | rpks | international | traffic",
           24
          ]
         ],
         "hovertemplate": "<b>Topic %{customdata[0]}</b><br>%{customdata[1]}<br>Size: %{customdata[2]}",
         "legendgroup": "",
         "marker": {
          "color": "#B0BEC5",
          "line": {
           "color": "DarkSlateGrey",
           "width": 2
          },
          "size": {
           "bdata": "6QDCAKoAkgCPAFwAWgBZAFQATABHAEUARQBCAEIAPAA6ADUANAAzADMALwAuACkAJwAlACMAHQAdABwAHAAcABsAGAA=",
           "dtype": "i2"
          },
          "sizemode": "area",
          "sizeref": 0.145625,
          "symbol": "circle"
         },
         "mode": "markers",
         "name": "",
         "orientation": "v",
         "showlegend": false,
         "type": "scatter",
         "x": {
          "bdata": "HYimP0sw3z/OB/XAXYQBQBZQ78D1LyzB5Lj7wPjFAcECje5A9U6fvx26UUGlRd0//yLkwBm44j96MizBbNBQQfMt5sBYW7y/Z10DwT7N6sBXjvFAhDVUQb2nkb8vKSFAuxESQDCU6MDNNwdAUVDtP8NO+MCGafZACDHeP5b/V0G0MI0/AQrYPw==",
          "dtype": "f4"
         },
         "xaxis": "x",
         "y": {
          "bdata": "xykuQUhTMkEvi5c/CYYJvnxDF0HuhVVBDlx5P68LOT/mR0zBGIiowHg1n0BMZjxB1IMgQY68xb5xiFVB+NugQKQ4E0E0za/AbSQfP+EiFkH8yE3B1HqaQDscpcC+yCdBQgcrQSiLHkFNmTm9RN4wQX5NFUGrNlDBHPDXvlHNkkC7WDBB/Sk/QQ==",
          "dtype": "f4"
         },
         "yaxis": "y"
        }
       ],
       "layout": {
        "annotations": [
         {
          "showarrow": false,
          "text": "D1",
          "x": -12.376671886444091,
          "y": 0.19116692543029856,
          "yshift": 10
         },
         {
          "showarrow": false,
          "text": "D2",
          "x": 1.5741059303283693,
          "xshift": 10,
          "y": 15.347682523727418
         }
        ],
        "font": {
         "family": "Arial"
        },
        "height": 800,
        "hoverlabel": {
         "bgcolor": "white",
         "font": {
          "family": "Rockwell",
          "size": 16
         }
        },
        "legend": {
         "itemsizing": "constant",
         "orientation": "h",
         "tracegroupgap": 0,
         "x": 0.5,
         "xanchor": "center",
         "y": 1.02,
         "yanchor": "bottom"
        },
        "margin": {
         "t": 60
        },
        "paper_bgcolor": "white",
        "plot_bgcolor": "white",
        "shapes": [
         {
          "line": {
           "color": "#CFD8DC",
           "width": 2
          },
          "type": "line",
          "x0": 1.5741059303283693,
          "x1": 1.5741059303283693,
          "y0": -14.96534867286682,
          "y1": 15.347682523727418
         },
         {
          "line": {
           "color": "#9E9E9E",
           "width": 2
          },
          "type": "line",
          "x0": -12.376671886444091,
          "x1": 15.52488374710083,
          "y0": 0.19116692543029856,
          "y1": 0.19116692543029856
         }
        ],
        "sliders": [
         {
          "active": 0,
          "pad": {
           "t": 50
          },
          "steps": [
           {
            "args": [
             {
              "marker.color": [
               [
                "red",
                "#B0BEC5",
                "#B0BEC5",
                "#B0BEC5",
                "#B0BEC5",
                "#B0BEC5",
                "#B0BEC5",
                "#B0BEC5",
                "#B0BEC5",
                "#B0BEC5",
                "#B0BEC5",
                "#B0BEC5",
                "#B0BEC5",
                "#B0BEC5",
                "#B0BEC5",
                "#B0BEC5",
                "#B0BEC5",
                "#B0BEC5",
                "#B0BEC5",
                "#B0BEC5",
                "#B0BEC5",
                "#B0BEC5",
                "#B0BEC5",
                "#B0BEC5",
                "#B0BEC5",
                "#B0BEC5",
                "#B0BEC5",
                "#B0BEC5",
                "#B0BEC5",
                "#B0BEC5",
                "#B0BEC5",
                "#B0BEC5",
                "#B0BEC5",
                "#B0BEC5"
               ]
              ]
             }
            ],
            "label": "Topic 0",
            "method": "update"
           },
           {
            "args": [
             {
              "marker.color": [
               [
                "#B0BEC5",
                "red",
                "#B0BEC5",
                "#B0BEC5",
                "#B0BEC5",
                "#B0BEC5",
                "#B0BEC5",
                "#B0BEC5",
                "#B0BEC5",
                "#B0BEC5",
                "#B0BEC5",
                "#B0BEC5",
                "#B0BEC5",
                "#B0BEC5",
                "#B0BEC5",
                "#B0BEC5",
                "#B0BEC5",
                "#B0BEC5",
                "#B0BEC5",
                "#B0BEC5",
                "#B0BEC5",
                "#B0BEC5",
                "#B0BEC5",
                "#B0BEC5",
                "#B0BEC5",
                "#B0BEC5",
                "#B0BEC5",
                "#B0BEC5",
                "#B0BEC5",
                "#B0BEC5",
                "#B0BEC5",
                "#B0BEC5",
                "#B0BEC5",
                "#B0BEC5"
               ]
              ]
             }
            ],
            "label": "Topic 1",
            "method": "update"
           },
           {
            "args": [
             {
              "marker.color": [
               [
                "#B0BEC5",
                "#B0BEC5",
                "red",
                "#B0BEC5",
                "#B0BEC5",
                "#B0BEC5",
                "#B0BEC5",
                "#B0BEC5",
                "#B0BEC5",
                "#B0BEC5",
                "#B0BEC5",
                "#B0BEC5",
                "#B0BEC5",
                "#B0BEC5",
                "#B0BEC5",
                "#B0BEC5",
                "#B0BEC5",
                "#B0BEC5",
                "#B0BEC5",
                "#B0BEC5",
                "#B0BEC5",
                "#B0BEC5",
                "#B0BEC5",
                "#B0BEC5",
                "#B0BEC5",
                "#B0BEC5",
                "#B0BEC5",
                "#B0BEC5",
                "#B0BEC5",
                "#B0BEC5",
                "#B0BEC5",
                "#B0BEC5",
                "#B0BEC5",
                "#B0BEC5"
               ]
              ]
             }
            ],
            "label": "Topic 2",
            "method": "update"
           },
           {
            "args": [
             {
              "marker.color": [
               [
                "#B0BEC5",
                "#B0BEC5",
                "#B0BEC5",
                "red",
                "#B0BEC5",
                "#B0BEC5",
                "#B0BEC5",
                "#B0BEC5",
                "#B0BEC5",
                "#B0BEC5",
                "#B0BEC5",
                "#B0BEC5",
                "#B0BEC5",
                "#B0BEC5",
                "#B0BEC5",
                "#B0BEC5",
                "#B0BEC5",
                "#B0BEC5",
                "#B0BEC5",
                "#B0BEC5",
                "#B0BEC5",
                "#B0BEC5",
                "#B0BEC5",
                "#B0BEC5",
                "#B0BEC5",
                "#B0BEC5",
                "#B0BEC5",
                "#B0BEC5",
                "#B0BEC5",
                "#B0BEC5",
                "#B0BEC5",
                "#B0BEC5",
                "#B0BEC5",
                "#B0BEC5"
               ]
              ]
             }
            ],
            "label": "Topic 3",
            "method": "update"
           },
           {
            "args": [
             {
              "marker.color": [
               [
                "#B0BEC5",
                "#B0BEC5",
                "#B0BEC5",
                "#B0BEC5",
                "red",
                "#B0BEC5",
                "#B0BEC5",
                "#B0BEC5",
                "#B0BEC5",
                "#B0BEC5",
                "#B0BEC5",
                "#B0BEC5",
                "#B0BEC5",
                "#B0BEC5",
                "#B0BEC5",
                "#B0BEC5",
                "#B0BEC5",
                "#B0BEC5",
                "#B0BEC5",
                "#B0BEC5",
                "#B0BEC5",
                "#B0BEC5",
                "#B0BEC5",
                "#B0BEC5",
                "#B0BEC5",
                "#B0BEC5",
                "#B0BEC5",
                "#B0BEC5",
                "#B0BEC5",
                "#B0BEC5",
                "#B0BEC5",
                "#B0BEC5",
                "#B0BEC5",
                "#B0BEC5"
               ]
              ]
             }
            ],
            "label": "Topic 4",
            "method": "update"
           },
           {
            "args": [
             {
              "marker.color": [
               [
                "#B0BEC5",
                "#B0BEC5",
                "#B0BEC5",
                "#B0BEC5",
                "#B0BEC5",
                "red",
                "#B0BEC5",
                "#B0BEC5",
                "#B0BEC5",
                "#B0BEC5",
                "#B0BEC5",
                "#B0BEC5",
                "#B0BEC5",
                "#B0BEC5",
                "#B0BEC5",
                "#B0BEC5",
                "#B0BEC5",
                "#B0BEC5",
                "#B0BEC5",
                "#B0BEC5",
                "#B0BEC5",
                "#B0BEC5",
                "#B0BEC5",
                "#B0BEC5",
                "#B0BEC5",
                "#B0BEC5",
                "#B0BEC5",
                "#B0BEC5",
                "#B0BEC5",
                "#B0BEC5",
                "#B0BEC5",
                "#B0BEC5",
                "#B0BEC5",
                "#B0BEC5"
               ]
              ]
             }
            ],
            "label": "Topic 5",
            "method": "update"
           },
           {
            "args": [
             {
              "marker.color": [
               [
                "#B0BEC5",
                "#B0BEC5",
                "#B0BEC5",
                "#B0BEC5",
                "#B0BEC5",
                "#B0BEC5",
                "red",
                "#B0BEC5",
                "#B0BEC5",
                "#B0BEC5",
                "#B0BEC5",
                "#B0BEC5",
                "#B0BEC5",
                "#B0BEC5",
                "#B0BEC5",
                "#B0BEC5",
                "#B0BEC5",
                "#B0BEC5",
                "#B0BEC5",
                "#B0BEC5",
                "#B0BEC5",
                "#B0BEC5",
                "#B0BEC5",
                "#B0BEC5",
                "#B0BEC5",
                "#B0BEC5",
                "#B0BEC5",
                "#B0BEC5",
                "#B0BEC5",
                "#B0BEC5",
                "#B0BEC5",
                "#B0BEC5",
                "#B0BEC5",
                "#B0BEC5"
               ]
              ]
             }
            ],
            "label": "Topic 6",
            "method": "update"
           },
           {
            "args": [
             {
              "marker.color": [
               [
                "#B0BEC5",
                "#B0BEC5",
                "#B0BEC5",
                "#B0BEC5",
                "#B0BEC5",
                "#B0BEC5",
                "#B0BEC5",
                "red",
                "#B0BEC5",
                "#B0BEC5",
                "#B0BEC5",
                "#B0BEC5",
                "#B0BEC5",
                "#B0BEC5",
                "#B0BEC5",
                "#B0BEC5",
                "#B0BEC5",
                "#B0BEC5",
                "#B0BEC5",
                "#B0BEC5",
                "#B0BEC5",
                "#B0BEC5",
                "#B0BEC5",
                "#B0BEC5",
                "#B0BEC5",
                "#B0BEC5",
                "#B0BEC5",
                "#B0BEC5",
                "#B0BEC5",
                "#B0BEC5",
                "#B0BEC5",
                "#B0BEC5",
                "#B0BEC5",
                "#B0BEC5"
               ]
              ]
             }
            ],
            "label": "Topic 7",
            "method": "update"
           },
           {
            "args": [
             {
              "marker.color": [
               [
                "#B0BEC5",
                "#B0BEC5",
                "#B0BEC5",
                "#B0BEC5",
                "#B0BEC5",
                "#B0BEC5",
                "#B0BEC5",
                "#B0BEC5",
                "red",
                "#B0BEC5",
                "#B0BEC5",
                "#B0BEC5",
                "#B0BEC5",
                "#B0BEC5",
                "#B0BEC5",
                "#B0BEC5",
                "#B0BEC5",
                "#B0BEC5",
                "#B0BEC5",
                "#B0BEC5",
                "#B0BEC5",
                "#B0BEC5",
                "#B0BEC5",
                "#B0BEC5",
                "#B0BEC5",
                "#B0BEC5",
                "#B0BEC5",
                "#B0BEC5",
                "#B0BEC5",
                "#B0BEC5",
                "#B0BEC5",
                "#B0BEC5",
                "#B0BEC5",
                "#B0BEC5"
               ]
              ]
             }
            ],
            "label": "Topic 8",
            "method": "update"
           },
           {
            "args": [
             {
              "marker.color": [
               [
                "#B0BEC5",
                "#B0BEC5",
                "#B0BEC5",
                "#B0BEC5",
                "#B0BEC5",
                "#B0BEC5",
                "#B0BEC5",
                "#B0BEC5",
                "#B0BEC5",
                "red",
                "#B0BEC5",
                "#B0BEC5",
                "#B0BEC5",
                "#B0BEC5",
                "#B0BEC5",
                "#B0BEC5",
                "#B0BEC5",
                "#B0BEC5",
                "#B0BEC5",
                "#B0BEC5",
                "#B0BEC5",
                "#B0BEC5",
                "#B0BEC5",
                "#B0BEC5",
                "#B0BEC5",
                "#B0BEC5",
                "#B0BEC5",
                "#B0BEC5",
                "#B0BEC5",
                "#B0BEC5",
                "#B0BEC5",
                "#B0BEC5",
                "#B0BEC5",
                "#B0BEC5"
               ]
              ]
             }
            ],
            "label": "Topic 9",
            "method": "update"
           },
           {
            "args": [
             {
              "marker.color": [
               [
                "#B0BEC5",
                "#B0BEC5",
                "#B0BEC5",
                "#B0BEC5",
                "#B0BEC5",
                "#B0BEC5",
                "#B0BEC5",
                "#B0BEC5",
                "#B0BEC5",
                "#B0BEC5",
                "red",
                "#B0BEC5",
                "#B0BEC5",
                "#B0BEC5",
                "#B0BEC5",
                "#B0BEC5",
                "#B0BEC5",
                "#B0BEC5",
                "#B0BEC5",
                "#B0BEC5",
                "#B0BEC5",
                "#B0BEC5",
                "#B0BEC5",
                "#B0BEC5",
                "#B0BEC5",
                "#B0BEC5",
                "#B0BEC5",
                "#B0BEC5",
                "#B0BEC5",
                "#B0BEC5",
                "#B0BEC5",
                "#B0BEC5",
                "#B0BEC5",
                "#B0BEC5"
               ]
              ]
             }
            ],
            "label": "Topic 10",
            "method": "update"
           },
           {
            "args": [
             {
              "marker.color": [
               [
                "#B0BEC5",
                "#B0BEC5",
                "#B0BEC5",
                "#B0BEC5",
                "#B0BEC5",
                "#B0BEC5",
                "#B0BEC5",
                "#B0BEC5",
                "#B0BEC5",
                "#B0BEC5",
                "#B0BEC5",
                "red",
                "#B0BEC5",
                "#B0BEC5",
                "#B0BEC5",
                "#B0BEC5",
                "#B0BEC5",
                "#B0BEC5",
                "#B0BEC5",
                "#B0BEC5",
                "#B0BEC5",
                "#B0BEC5",
                "#B0BEC5",
                "#B0BEC5",
                "#B0BEC5",
                "#B0BEC5",
                "#B0BEC5",
                "#B0BEC5",
                "#B0BEC5",
                "#B0BEC5",
                "#B0BEC5",
                "#B0BEC5",
                "#B0BEC5",
                "#B0BEC5"
               ]
              ]
             }
            ],
            "label": "Topic 11",
            "method": "update"
           },
           {
            "args": [
             {
              "marker.color": [
               [
                "#B0BEC5",
                "#B0BEC5",
                "#B0BEC5",
                "#B0BEC5",
                "#B0BEC5",
                "#B0BEC5",
                "#B0BEC5",
                "#B0BEC5",
                "#B0BEC5",
                "#B0BEC5",
                "#B0BEC5",
                "#B0BEC5",
                "red",
                "#B0BEC5",
                "#B0BEC5",
                "#B0BEC5",
                "#B0BEC5",
                "#B0BEC5",
                "#B0BEC5",
                "#B0BEC5",
                "#B0BEC5",
                "#B0BEC5",
                "#B0BEC5",
                "#B0BEC5",
                "#B0BEC5",
                "#B0BEC5",
                "#B0BEC5",
                "#B0BEC5",
                "#B0BEC5",
                "#B0BEC5",
                "#B0BEC5",
                "#B0BEC5",
                "#B0BEC5",
                "#B0BEC5"
               ]
              ]
             }
            ],
            "label": "Topic 12",
            "method": "update"
           },
           {
            "args": [
             {
              "marker.color": [
               [
                "#B0BEC5",
                "#B0BEC5",
                "#B0BEC5",
                "#B0BEC5",
                "#B0BEC5",
                "#B0BEC5",
                "#B0BEC5",
                "#B0BEC5",
                "#B0BEC5",
                "#B0BEC5",
                "#B0BEC5",
                "#B0BEC5",
                "#B0BEC5",
                "red",
                "#B0BEC5",
                "#B0BEC5",
                "#B0BEC5",
                "#B0BEC5",
                "#B0BEC5",
                "#B0BEC5",
                "#B0BEC5",
                "#B0BEC5",
                "#B0BEC5",
                "#B0BEC5",
                "#B0BEC5",
                "#B0BEC5",
                "#B0BEC5",
                "#B0BEC5",
                "#B0BEC5",
                "#B0BEC5",
                "#B0BEC5",
                "#B0BEC5",
                "#B0BEC5",
                "#B0BEC5"
               ]
              ]
             }
            ],
            "label": "Topic 13",
            "method": "update"
           },
           {
            "args": [
             {
              "marker.color": [
               [
                "#B0BEC5",
                "#B0BEC5",
                "#B0BEC5",
                "#B0BEC5",
                "#B0BEC5",
                "#B0BEC5",
                "#B0BEC5",
                "#B0BEC5",
                "#B0BEC5",
                "#B0BEC5",
                "#B0BEC5",
                "#B0BEC5",
                "#B0BEC5",
                "#B0BEC5",
                "red",
                "#B0BEC5",
                "#B0BEC5",
                "#B0BEC5",
                "#B0BEC5",
                "#B0BEC5",
                "#B0BEC5",
                "#B0BEC5",
                "#B0BEC5",
                "#B0BEC5",
                "#B0BEC5",
                "#B0BEC5",
                "#B0BEC5",
                "#B0BEC5",
                "#B0BEC5",
                "#B0BEC5",
                "#B0BEC5",
                "#B0BEC5",
                "#B0BEC5",
                "#B0BEC5"
               ]
              ]
             }
            ],
            "label": "Topic 14",
            "method": "update"
           },
           {
            "args": [
             {
              "marker.color": [
               [
                "#B0BEC5",
                "#B0BEC5",
                "#B0BEC5",
                "#B0BEC5",
                "#B0BEC5",
                "#B0BEC5",
                "#B0BEC5",
                "#B0BEC5",
                "#B0BEC5",
                "#B0BEC5",
                "#B0BEC5",
                "#B0BEC5",
                "#B0BEC5",
                "#B0BEC5",
                "#B0BEC5",
                "red",
                "#B0BEC5",
                "#B0BEC5",
                "#B0BEC5",
                "#B0BEC5",
                "#B0BEC5",
                "#B0BEC5",
                "#B0BEC5",
                "#B0BEC5",
                "#B0BEC5",
                "#B0BEC5",
                "#B0BEC5",
                "#B0BEC5",
                "#B0BEC5",
                "#B0BEC5",
                "#B0BEC5",
                "#B0BEC5",
                "#B0BEC5",
                "#B0BEC5"
               ]
              ]
             }
            ],
            "label": "Topic 15",
            "method": "update"
           },
           {
            "args": [
             {
              "marker.color": [
               [
                "#B0BEC5",
                "#B0BEC5",
                "#B0BEC5",
                "#B0BEC5",
                "#B0BEC5",
                "#B0BEC5",
                "#B0BEC5",
                "#B0BEC5",
                "#B0BEC5",
                "#B0BEC5",
                "#B0BEC5",
                "#B0BEC5",
                "#B0BEC5",
                "#B0BEC5",
                "#B0BEC5",
                "#B0BEC5",
                "red",
                "#B0BEC5",
                "#B0BEC5",
                "#B0BEC5",
                "#B0BEC5",
                "#B0BEC5",
                "#B0BEC5",
                "#B0BEC5",
                "#B0BEC5",
                "#B0BEC5",
                "#B0BEC5",
                "#B0BEC5",
                "#B0BEC5",
                "#B0BEC5",
                "#B0BEC5",
                "#B0BEC5",
                "#B0BEC5",
                "#B0BEC5"
               ]
              ]
             }
            ],
            "label": "Topic 16",
            "method": "update"
           },
           {
            "args": [
             {
              "marker.color": [
               [
                "#B0BEC5",
                "#B0BEC5",
                "#B0BEC5",
                "#B0BEC5",
                "#B0BEC5",
                "#B0BEC5",
                "#B0BEC5",
                "#B0BEC5",
                "#B0BEC5",
                "#B0BEC5",
                "#B0BEC5",
                "#B0BEC5",
                "#B0BEC5",
                "#B0BEC5",
                "#B0BEC5",
                "#B0BEC5",
                "#B0BEC5",
                "red",
                "#B0BEC5",
                "#B0BEC5",
                "#B0BEC5",
                "#B0BEC5",
                "#B0BEC5",
                "#B0BEC5",
                "#B0BEC5",
                "#B0BEC5",
                "#B0BEC5",
                "#B0BEC5",
                "#B0BEC5",
                "#B0BEC5",
                "#B0BEC5",
                "#B0BEC5",
                "#B0BEC5",
                "#B0BEC5"
               ]
              ]
             }
            ],
            "label": "Topic 17",
            "method": "update"
           },
           {
            "args": [
             {
              "marker.color": [
               [
                "#B0BEC5",
                "#B0BEC5",
                "#B0BEC5",
                "#B0BEC5",
                "#B0BEC5",
                "#B0BEC5",
                "#B0BEC5",
                "#B0BEC5",
                "#B0BEC5",
                "#B0BEC5",
                "#B0BEC5",
                "#B0BEC5",
                "#B0BEC5",
                "#B0BEC5",
                "#B0BEC5",
                "#B0BEC5",
                "#B0BEC5",
                "#B0BEC5",
                "red",
                "#B0BEC5",
                "#B0BEC5",
                "#B0BEC5",
                "#B0BEC5",
                "#B0BEC5",
                "#B0BEC5",
                "#B0BEC5",
                "#B0BEC5",
                "#B0BEC5",
                "#B0BEC5",
                "#B0BEC5",
                "#B0BEC5",
                "#B0BEC5",
                "#B0BEC5",
                "#B0BEC5"
               ]
              ]
             }
            ],
            "label": "Topic 18",
            "method": "update"
           },
           {
            "args": [
             {
              "marker.color": [
               [
                "#B0BEC5",
                "#B0BEC5",
                "#B0BEC5",
                "#B0BEC5",
                "#B0BEC5",
                "#B0BEC5",
                "#B0BEC5",
                "#B0BEC5",
                "#B0BEC5",
                "#B0BEC5",
                "#B0BEC5",
                "#B0BEC5",
                "#B0BEC5",
                "#B0BEC5",
                "#B0BEC5",
                "#B0BEC5",
                "#B0BEC5",
                "#B0BEC5",
                "#B0BEC5",
                "red",
                "#B0BEC5",
                "#B0BEC5",
                "#B0BEC5",
                "#B0BEC5",
                "#B0BEC5",
                "#B0BEC5",
                "#B0BEC5",
                "#B0BEC5",
                "#B0BEC5",
                "#B0BEC5",
                "#B0BEC5",
                "#B0BEC5",
                "#B0BEC5",
                "#B0BEC5"
               ]
              ]
             }
            ],
            "label": "Topic 19",
            "method": "update"
           },
           {
            "args": [
             {
              "marker.color": [
               [
                "#B0BEC5",
                "#B0BEC5",
                "#B0BEC5",
                "#B0BEC5",
                "#B0BEC5",
                "#B0BEC5",
                "#B0BEC5",
                "#B0BEC5",
                "#B0BEC5",
                "#B0BEC5",
                "#B0BEC5",
                "#B0BEC5",
                "#B0BEC5",
                "#B0BEC5",
                "#B0BEC5",
                "#B0BEC5",
                "#B0BEC5",
                "#B0BEC5",
                "#B0BEC5",
                "#B0BEC5",
                "red",
                "#B0BEC5",
                "#B0BEC5",
                "#B0BEC5",
                "#B0BEC5",
                "#B0BEC5",
                "#B0BEC5",
                "#B0BEC5",
                "#B0BEC5",
                "#B0BEC5",
                "#B0BEC5",
                "#B0BEC5",
                "#B0BEC5",
                "#B0BEC5"
               ]
              ]
             }
            ],
            "label": "Topic 20",
            "method": "update"
           },
           {
            "args": [
             {
              "marker.color": [
               [
                "#B0BEC5",
                "#B0BEC5",
                "#B0BEC5",
                "#B0BEC5",
                "#B0BEC5",
                "#B0BEC5",
                "#B0BEC5",
                "#B0BEC5",
                "#B0BEC5",
                "#B0BEC5",
                "#B0BEC5",
                "#B0BEC5",
                "#B0BEC5",
                "#B0BEC5",
                "#B0BEC5",
                "#B0BEC5",
                "#B0BEC5",
                "#B0BEC5",
                "#B0BEC5",
                "#B0BEC5",
                "#B0BEC5",
                "red",
                "#B0BEC5",
                "#B0BEC5",
                "#B0BEC5",
                "#B0BEC5",
                "#B0BEC5",
                "#B0BEC5",
                "#B0BEC5",
                "#B0BEC5",
                "#B0BEC5",
                "#B0BEC5",
                "#B0BEC5",
                "#B0BEC5"
               ]
              ]
             }
            ],
            "label": "Topic 21",
            "method": "update"
           },
           {
            "args": [
             {
              "marker.color": [
               [
                "#B0BEC5",
                "#B0BEC5",
                "#B0BEC5",
                "#B0BEC5",
                "#B0BEC5",
                "#B0BEC5",
                "#B0BEC5",
                "#B0BEC5",
                "#B0BEC5",
                "#B0BEC5",
                "#B0BEC5",
                "#B0BEC5",
                "#B0BEC5",
                "#B0BEC5",
                "#B0BEC5",
                "#B0BEC5",
                "#B0BEC5",
                "#B0BEC5",
                "#B0BEC5",
                "#B0BEC5",
                "#B0BEC5",
                "#B0BEC5",
                "red",
                "#B0BEC5",
                "#B0BEC5",
                "#B0BEC5",
                "#B0BEC5",
                "#B0BEC5",
                "#B0BEC5",
                "#B0BEC5",
                "#B0BEC5",
                "#B0BEC5",
                "#B0BEC5",
                "#B0BEC5"
               ]
              ]
             }
            ],
            "label": "Topic 22",
            "method": "update"
           },
           {
            "args": [
             {
              "marker.color": [
               [
                "#B0BEC5",
                "#B0BEC5",
                "#B0BEC5",
                "#B0BEC5",
                "#B0BEC5",
                "#B0BEC5",
                "#B0BEC5",
                "#B0BEC5",
                "#B0BEC5",
                "#B0BEC5",
                "#B0BEC5",
                "#B0BEC5",
                "#B0BEC5",
                "#B0BEC5",
                "#B0BEC5",
                "#B0BEC5",
                "#B0BEC5",
                "#B0BEC5",
                "#B0BEC5",
                "#B0BEC5",
                "#B0BEC5",
                "#B0BEC5",
                "#B0BEC5",
                "red",
                "#B0BEC5",
                "#B0BEC5",
                "#B0BEC5",
                "#B0BEC5",
                "#B0BEC5",
                "#B0BEC5",
                "#B0BEC5",
                "#B0BEC5",
                "#B0BEC5",
                "#B0BEC5"
               ]
              ]
             }
            ],
            "label": "Topic 23",
            "method": "update"
           },
           {
            "args": [
             {
              "marker.color": [
               [
                "#B0BEC5",
                "#B0BEC5",
                "#B0BEC5",
                "#B0BEC5",
                "#B0BEC5",
                "#B0BEC5",
                "#B0BEC5",
                "#B0BEC5",
                "#B0BEC5",
                "#B0BEC5",
                "#B0BEC5",
                "#B0BEC5",
                "#B0BEC5",
                "#B0BEC5",
                "#B0BEC5",
                "#B0BEC5",
                "#B0BEC5",
                "#B0BEC5",
                "#B0BEC5",
                "#B0BEC5",
                "#B0BEC5",
                "#B0BEC5",
                "#B0BEC5",
                "#B0BEC5",
                "red",
                "#B0BEC5",
                "#B0BEC5",
                "#B0BEC5",
                "#B0BEC5",
                "#B0BEC5",
                "#B0BEC5",
                "#B0BEC5",
                "#B0BEC5",
                "#B0BEC5"
               ]
              ]
             }
            ],
            "label": "Topic 24",
            "method": "update"
           },
           {
            "args": [
             {
              "marker.color": [
               [
                "#B0BEC5",
                "#B0BEC5",
                "#B0BEC5",
                "#B0BEC5",
                "#B0BEC5",
                "#B0BEC5",
                "#B0BEC5",
                "#B0BEC5",
                "#B0BEC5",
                "#B0BEC5",
                "#B0BEC5",
                "#B0BEC5",
                "#B0BEC5",
                "#B0BEC5",
                "#B0BEC5",
                "#B0BEC5",
                "#B0BEC5",
                "#B0BEC5",
                "#B0BEC5",
                "#B0BEC5",
                "#B0BEC5",
                "#B0BEC5",
                "#B0BEC5",
                "#B0BEC5",
                "#B0BEC5",
                "red",
                "#B0BEC5",
                "#B0BEC5",
                "#B0BEC5",
                "#B0BEC5",
                "#B0BEC5",
                "#B0BEC5",
                "#B0BEC5",
                "#B0BEC5"
               ]
              ]
             }
            ],
            "label": "Topic 25",
            "method": "update"
           },
           {
            "args": [
             {
              "marker.color": [
               [
                "#B0BEC5",
                "#B0BEC5",
                "#B0BEC5",
                "#B0BEC5",
                "#B0BEC5",
                "#B0BEC5",
                "#B0BEC5",
                "#B0BEC5",
                "#B0BEC5",
                "#B0BEC5",
                "#B0BEC5",
                "#B0BEC5",
                "#B0BEC5",
                "#B0BEC5",
                "#B0BEC5",
                "#B0BEC5",
                "#B0BEC5",
                "#B0BEC5",
                "#B0BEC5",
                "#B0BEC5",
                "#B0BEC5",
                "#B0BEC5",
                "#B0BEC5",
                "#B0BEC5",
                "#B0BEC5",
                "#B0BEC5",
                "red",
                "#B0BEC5",
                "#B0BEC5",
                "#B0BEC5",
                "#B0BEC5",
                "#B0BEC5",
                "#B0BEC5",
                "#B0BEC5"
               ]
              ]
             }
            ],
            "label": "Topic 26",
            "method": "update"
           },
           {
            "args": [
             {
              "marker.color": [
               [
                "#B0BEC5",
                "#B0BEC5",
                "#B0BEC5",
                "#B0BEC5",
                "#B0BEC5",
                "#B0BEC5",
                "#B0BEC5",
                "#B0BEC5",
                "#B0BEC5",
                "#B0BEC5",
                "#B0BEC5",
                "#B0BEC5",
                "#B0BEC5",
                "#B0BEC5",
                "#B0BEC5",
                "#B0BEC5",
                "#B0BEC5",
                "#B0BEC5",
                "#B0BEC5",
                "#B0BEC5",
                "#B0BEC5",
                "#B0BEC5",
                "#B0BEC5",
                "#B0BEC5",
                "#B0BEC5",
                "#B0BEC5",
                "#B0BEC5",
                "red",
                "#B0BEC5",
                "#B0BEC5",
                "#B0BEC5",
                "#B0BEC5",
                "#B0BEC5",
                "#B0BEC5"
               ]
              ]
             }
            ],
            "label": "Topic 27",
            "method": "update"
           },
           {
            "args": [
             {
              "marker.color": [
               [
                "#B0BEC5",
                "#B0BEC5",
                "#B0BEC5",
                "#B0BEC5",
                "#B0BEC5",
                "#B0BEC5",
                "#B0BEC5",
                "#B0BEC5",
                "#B0BEC5",
                "#B0BEC5",
                "#B0BEC5",
                "#B0BEC5",
                "#B0BEC5",
                "#B0BEC5",
                "#B0BEC5",
                "#B0BEC5",
                "#B0BEC5",
                "#B0BEC5",
                "#B0BEC5",
                "#B0BEC5",
                "#B0BEC5",
                "#B0BEC5",
                "#B0BEC5",
                "#B0BEC5",
                "#B0BEC5",
                "#B0BEC5",
                "#B0BEC5",
                "#B0BEC5",
                "red",
                "#B0BEC5",
                "#B0BEC5",
                "#B0BEC5",
                "#B0BEC5",
                "#B0BEC5"
               ]
              ]
             }
            ],
            "label": "Topic 28",
            "method": "update"
           },
           {
            "args": [
             {
              "marker.color": [
               [
                "#B0BEC5",
                "#B0BEC5",
                "#B0BEC5",
                "#B0BEC5",
                "#B0BEC5",
                "#B0BEC5",
                "#B0BEC5",
                "#B0BEC5",
                "#B0BEC5",
                "#B0BEC5",
                "#B0BEC5",
                "#B0BEC5",
                "#B0BEC5",
                "#B0BEC5",
                "#B0BEC5",
                "#B0BEC5",
                "#B0BEC5",
                "#B0BEC5",
                "#B0BEC5",
                "#B0BEC5",
                "#B0BEC5",
                "#B0BEC5",
                "#B0BEC5",
                "#B0BEC5",
                "#B0BEC5",
                "#B0BEC5",
                "#B0BEC5",
                "#B0BEC5",
                "#B0BEC5",
                "red",
                "#B0BEC5",
                "#B0BEC5",
                "#B0BEC5",
                "#B0BEC5"
               ]
              ]
             }
            ],
            "label": "Topic 29",
            "method": "update"
           },
           {
            "args": [
             {
              "marker.color": [
               [
                "#B0BEC5",
                "#B0BEC5",
                "#B0BEC5",
                "#B0BEC5",
                "#B0BEC5",
                "#B0BEC5",
                "#B0BEC5",
                "#B0BEC5",
                "#B0BEC5",
                "#B0BEC5",
                "#B0BEC5",
                "#B0BEC5",
                "#B0BEC5",
                "#B0BEC5",
                "#B0BEC5",
                "#B0BEC5",
                "#B0BEC5",
                "#B0BEC5",
                "#B0BEC5",
                "#B0BEC5",
                "#B0BEC5",
                "#B0BEC5",
                "#B0BEC5",
                "#B0BEC5",
                "#B0BEC5",
                "#B0BEC5",
                "#B0BEC5",
                "#B0BEC5",
                "#B0BEC5",
                "#B0BEC5",
                "red",
                "#B0BEC5",
                "#B0BEC5",
                "#B0BEC5"
               ]
              ]
             }
            ],
            "label": "Topic 30",
            "method": "update"
           },
           {
            "args": [
             {
              "marker.color": [
               [
                "#B0BEC5",
                "#B0BEC5",
                "#B0BEC5",
                "#B0BEC5",
                "#B0BEC5",
                "#B0BEC5",
                "#B0BEC5",
                "#B0BEC5",
                "#B0BEC5",
                "#B0BEC5",
                "#B0BEC5",
                "#B0BEC5",
                "#B0BEC5",
                "#B0BEC5",
                "#B0BEC5",
                "#B0BEC5",
                "#B0BEC5",
                "#B0BEC5",
                "#B0BEC5",
                "#B0BEC5",
                "#B0BEC5",
                "#B0BEC5",
                "#B0BEC5",
                "#B0BEC5",
                "#B0BEC5",
                "#B0BEC5",
                "#B0BEC5",
                "#B0BEC5",
                "#B0BEC5",
                "#B0BEC5",
                "#B0BEC5",
                "red",
                "#B0BEC5",
                "#B0BEC5"
               ]
              ]
             }
            ],
            "label": "Topic 31",
            "method": "update"
           },
           {
            "args": [
             {
              "marker.color": [
               [
                "#B0BEC5",
                "#B0BEC5",
                "#B0BEC5",
                "#B0BEC5",
                "#B0BEC5",
                "#B0BEC5",
                "#B0BEC5",
                "#B0BEC5",
                "#B0BEC5",
                "#B0BEC5",
                "#B0BEC5",
                "#B0BEC5",
                "#B0BEC5",
                "#B0BEC5",
                "#B0BEC5",
                "#B0BEC5",
                "#B0BEC5",
                "#B0BEC5",
                "#B0BEC5",
                "#B0BEC5",
                "#B0BEC5",
                "#B0BEC5",
                "#B0BEC5",
                "#B0BEC5",
                "#B0BEC5",
                "#B0BEC5",
                "#B0BEC5",
                "#B0BEC5",
                "#B0BEC5",
                "#B0BEC5",
                "#B0BEC5",
                "#B0BEC5",
                "red",
                "#B0BEC5"
               ]
              ]
             }
            ],
            "label": "Topic 32",
            "method": "update"
           },
           {
            "args": [
             {
              "marker.color": [
               [
                "#B0BEC5",
                "#B0BEC5",
                "#B0BEC5",
                "#B0BEC5",
                "#B0BEC5",
                "#B0BEC5",
                "#B0BEC5",
                "#B0BEC5",
                "#B0BEC5",
                "#B0BEC5",
                "#B0BEC5",
                "#B0BEC5",
                "#B0BEC5",
                "#B0BEC5",
                "#B0BEC5",
                "#B0BEC5",
                "#B0BEC5",
                "#B0BEC5",
                "#B0BEC5",
                "#B0BEC5",
                "#B0BEC5",
                "#B0BEC5",
                "#B0BEC5",
                "#B0BEC5",
                "#B0BEC5",
                "#B0BEC5",
                "#B0BEC5",
                "#B0BEC5",
                "#B0BEC5",
                "#B0BEC5",
                "#B0BEC5",
                "#B0BEC5",
                "#B0BEC5",
                "red"
               ]
              ]
             }
            ],
            "label": "Topic 33",
            "method": "update"
           }
          ]
         }
        ],
        "template": {
         "data": {
          "bar": [
           {
            "error_x": {
             "color": "rgb(36,36,36)"
            },
            "error_y": {
             "color": "rgb(36,36,36)"
            },
            "marker": {
             "line": {
              "color": "white",
              "width": 0.5
             },
             "pattern": {
              "fillmode": "overlay",
              "size": 10,
              "solidity": 0.2
             }
            },
            "type": "bar"
           }
          ],
          "barpolar": [
           {
            "marker": {
             "line": {
              "color": "white",
              "width": 0.5
             },
             "pattern": {
              "fillmode": "overlay",
              "size": 10,
              "solidity": 0.2
             }
            },
            "type": "barpolar"
           }
          ],
          "carpet": [
           {
            "aaxis": {
             "endlinecolor": "rgb(36,36,36)",
             "gridcolor": "white",
             "linecolor": "white",
             "minorgridcolor": "white",
             "startlinecolor": "rgb(36,36,36)"
            },
            "baxis": {
             "endlinecolor": "rgb(36,36,36)",
             "gridcolor": "white",
             "linecolor": "white",
             "minorgridcolor": "white",
             "startlinecolor": "rgb(36,36,36)"
            },
            "type": "carpet"
           }
          ],
          "choropleth": [
           {
            "colorbar": {
             "outlinewidth": 1,
             "tickcolor": "rgb(36,36,36)",
             "ticks": "outside"
            },
            "type": "choropleth"
           }
          ],
          "contour": [
           {
            "colorbar": {
             "outlinewidth": 1,
             "tickcolor": "rgb(36,36,36)",
             "ticks": "outside"
            },
            "colorscale": [
             [
              0,
              "#440154"
             ],
             [
              0.1111111111111111,
              "#482878"
             ],
             [
              0.2222222222222222,
              "#3e4989"
             ],
             [
              0.3333333333333333,
              "#31688e"
             ],
             [
              0.4444444444444444,
              "#26828e"
             ],
             [
              0.5555555555555556,
              "#1f9e89"
             ],
             [
              0.6666666666666666,
              "#35b779"
             ],
             [
              0.7777777777777778,
              "#6ece58"
             ],
             [
              0.8888888888888888,
              "#b5de2b"
             ],
             [
              1,
              "#fde725"
             ]
            ],
            "type": "contour"
           }
          ],
          "contourcarpet": [
           {
            "colorbar": {
             "outlinewidth": 1,
             "tickcolor": "rgb(36,36,36)",
             "ticks": "outside"
            },
            "type": "contourcarpet"
           }
          ],
          "heatmap": [
           {
            "colorbar": {
             "outlinewidth": 1,
             "tickcolor": "rgb(36,36,36)",
             "ticks": "outside"
            },
            "colorscale": [
             [
              0,
              "#440154"
             ],
             [
              0.1111111111111111,
              "#482878"
             ],
             [
              0.2222222222222222,
              "#3e4989"
             ],
             [
              0.3333333333333333,
              "#31688e"
             ],
             [
              0.4444444444444444,
              "#26828e"
             ],
             [
              0.5555555555555556,
              "#1f9e89"
             ],
             [
              0.6666666666666666,
              "#35b779"
             ],
             [
              0.7777777777777778,
              "#6ece58"
             ],
             [
              0.8888888888888888,
              "#b5de2b"
             ],
             [
              1,
              "#fde725"
             ]
            ],
            "type": "heatmap"
           }
          ],
          "histogram": [
           {
            "marker": {
             "line": {
              "color": "white",
              "width": 0.6
             }
            },
            "type": "histogram"
           }
          ],
          "histogram2d": [
           {
            "colorbar": {
             "outlinewidth": 1,
             "tickcolor": "rgb(36,36,36)",
             "ticks": "outside"
            },
            "colorscale": [
             [
              0,
              "#440154"
             ],
             [
              0.1111111111111111,
              "#482878"
             ],
             [
              0.2222222222222222,
              "#3e4989"
             ],
             [
              0.3333333333333333,
              "#31688e"
             ],
             [
              0.4444444444444444,
              "#26828e"
             ],
             [
              0.5555555555555556,
              "#1f9e89"
             ],
             [
              0.6666666666666666,
              "#35b779"
             ],
             [
              0.7777777777777778,
              "#6ece58"
             ],
             [
              0.8888888888888888,
              "#b5de2b"
             ],
             [
              1,
              "#fde725"
             ]
            ],
            "type": "histogram2d"
           }
          ],
          "histogram2dcontour": [
           {
            "colorbar": {
             "outlinewidth": 1,
             "tickcolor": "rgb(36,36,36)",
             "ticks": "outside"
            },
            "colorscale": [
             [
              0,
              "#440154"
             ],
             [
              0.1111111111111111,
              "#482878"
             ],
             [
              0.2222222222222222,
              "#3e4989"
             ],
             [
              0.3333333333333333,
              "#31688e"
             ],
             [
              0.4444444444444444,
              "#26828e"
             ],
             [
              0.5555555555555556,
              "#1f9e89"
             ],
             [
              0.6666666666666666,
              "#35b779"
             ],
             [
              0.7777777777777778,
              "#6ece58"
             ],
             [
              0.8888888888888888,
              "#b5de2b"
             ],
             [
              1,
              "#fde725"
             ]
            ],
            "type": "histogram2dcontour"
           }
          ],
          "mesh3d": [
           {
            "colorbar": {
             "outlinewidth": 1,
             "tickcolor": "rgb(36,36,36)",
             "ticks": "outside"
            },
            "type": "mesh3d"
           }
          ],
          "parcoords": [
           {
            "line": {
             "colorbar": {
              "outlinewidth": 1,
              "tickcolor": "rgb(36,36,36)",
              "ticks": "outside"
             }
            },
            "type": "parcoords"
           }
          ],
          "pie": [
           {
            "automargin": true,
            "type": "pie"
           }
          ],
          "scatter": [
           {
            "fillpattern": {
             "fillmode": "overlay",
             "size": 10,
             "solidity": 0.2
            },
            "type": "scatter"
           }
          ],
          "scatter3d": [
           {
            "line": {
             "colorbar": {
              "outlinewidth": 1,
              "tickcolor": "rgb(36,36,36)",
              "ticks": "outside"
             }
            },
            "marker": {
             "colorbar": {
              "outlinewidth": 1,
              "tickcolor": "rgb(36,36,36)",
              "ticks": "outside"
             }
            },
            "type": "scatter3d"
           }
          ],
          "scattercarpet": [
           {
            "marker": {
             "colorbar": {
              "outlinewidth": 1,
              "tickcolor": "rgb(36,36,36)",
              "ticks": "outside"
             }
            },
            "type": "scattercarpet"
           }
          ],
          "scattergeo": [
           {
            "marker": {
             "colorbar": {
              "outlinewidth": 1,
              "tickcolor": "rgb(36,36,36)",
              "ticks": "outside"
             }
            },
            "type": "scattergeo"
           }
          ],
          "scattergl": [
           {
            "marker": {
             "colorbar": {
              "outlinewidth": 1,
              "tickcolor": "rgb(36,36,36)",
              "ticks": "outside"
             }
            },
            "type": "scattergl"
           }
          ],
          "scattermap": [
           {
            "marker": {
             "colorbar": {
              "outlinewidth": 1,
              "tickcolor": "rgb(36,36,36)",
              "ticks": "outside"
             }
            },
            "type": "scattermap"
           }
          ],
          "scattermapbox": [
           {
            "marker": {
             "colorbar": {
              "outlinewidth": 1,
              "tickcolor": "rgb(36,36,36)",
              "ticks": "outside"
             }
            },
            "type": "scattermapbox"
           }
          ],
          "scatterpolar": [
           {
            "marker": {
             "colorbar": {
              "outlinewidth": 1,
              "tickcolor": "rgb(36,36,36)",
              "ticks": "outside"
             }
            },
            "type": "scatterpolar"
           }
          ],
          "scatterpolargl": [
           {
            "marker": {
             "colorbar": {
              "outlinewidth": 1,
              "tickcolor": "rgb(36,36,36)",
              "ticks": "outside"
             }
            },
            "type": "scatterpolargl"
           }
          ],
          "scatterternary": [
           {
            "marker": {
             "colorbar": {
              "outlinewidth": 1,
              "tickcolor": "rgb(36,36,36)",
              "ticks": "outside"
             }
            },
            "type": "scatterternary"
           }
          ],
          "surface": [
           {
            "colorbar": {
             "outlinewidth": 1,
             "tickcolor": "rgb(36,36,36)",
             "ticks": "outside"
            },
            "colorscale": [
             [
              0,
              "#440154"
             ],
             [
              0.1111111111111111,
              "#482878"
             ],
             [
              0.2222222222222222,
              "#3e4989"
             ],
             [
              0.3333333333333333,
              "#31688e"
             ],
             [
              0.4444444444444444,
              "#26828e"
             ],
             [
              0.5555555555555556,
              "#1f9e89"
             ],
             [
              0.6666666666666666,
              "#35b779"
             ],
             [
              0.7777777777777778,
              "#6ece58"
             ],
             [
              0.8888888888888888,
              "#b5de2b"
             ],
             [
              1,
              "#fde725"
             ]
            ],
            "type": "surface"
           }
          ],
          "table": [
           {
            "cells": {
             "fill": {
              "color": "rgb(237,237,237)"
             },
             "line": {
              "color": "white"
             }
            },
            "header": {
             "fill": {
              "color": "rgb(217,217,217)"
             },
             "line": {
              "color": "white"
             }
            },
            "type": "table"
           }
          ]
         },
         "layout": {
          "annotationdefaults": {
           "arrowhead": 0,
           "arrowwidth": 1
          },
          "autotypenumbers": "strict",
          "coloraxis": {
           "colorbar": {
            "outlinewidth": 1,
            "tickcolor": "rgb(36,36,36)",
            "ticks": "outside"
           }
          },
          "colorscale": {
           "diverging": [
            [
             0,
             "rgb(103,0,31)"
            ],
            [
             0.1,
             "rgb(178,24,43)"
            ],
            [
             0.2,
             "rgb(214,96,77)"
            ],
            [
             0.3,
             "rgb(244,165,130)"
            ],
            [
             0.4,
             "rgb(253,219,199)"
            ],
            [
             0.5,
             "rgb(247,247,247)"
            ],
            [
             0.6,
             "rgb(209,229,240)"
            ],
            [
             0.7,
             "rgb(146,197,222)"
            ],
            [
             0.8,
             "rgb(67,147,195)"
            ],
            [
             0.9,
             "rgb(33,102,172)"
            ],
            [
             1,
             "rgb(5,48,97)"
            ]
           ],
           "sequential": [
            [
             0,
             "#440154"
            ],
            [
             0.1111111111111111,
             "#482878"
            ],
            [
             0.2222222222222222,
             "#3e4989"
            ],
            [
             0.3333333333333333,
             "#31688e"
            ],
            [
             0.4444444444444444,
             "#26828e"
            ],
            [
             0.5555555555555556,
             "#1f9e89"
            ],
            [
             0.6666666666666666,
             "#35b779"
            ],
            [
             0.7777777777777778,
             "#6ece58"
            ],
            [
             0.8888888888888888,
             "#b5de2b"
            ],
            [
             1,
             "#fde725"
            ]
           ],
           "sequentialminus": [
            [
             0,
             "#440154"
            ],
            [
             0.1111111111111111,
             "#482878"
            ],
            [
             0.2222222222222222,
             "#3e4989"
            ],
            [
             0.3333333333333333,
             "#31688e"
            ],
            [
             0.4444444444444444,
             "#26828e"
            ],
            [
             0.5555555555555556,
             "#1f9e89"
            ],
            [
             0.6666666666666666,
             "#35b779"
            ],
            [
             0.7777777777777778,
             "#6ece58"
            ],
            [
             0.8888888888888888,
             "#b5de2b"
            ],
            [
             1,
             "#fde725"
            ]
           ]
          },
          "colorway": [
           "#1F77B4",
           "#FF7F0E",
           "#2CA02C",
           "#D62728",
           "#9467BD",
           "#8C564B",
           "#E377C2",
           "#7F7F7F",
           "#BCBD22",
           "#17BECF"
          ],
          "font": {
           "color": "rgb(36,36,36)"
          },
          "geo": {
           "bgcolor": "white",
           "lakecolor": "white",
           "landcolor": "white",
           "showlakes": true,
           "showland": true,
           "subunitcolor": "white"
          },
          "hoverlabel": {
           "align": "left"
          },
          "hovermode": "closest",
          "mapbox": {
           "style": "light"
          },
          "paper_bgcolor": "white",
          "plot_bgcolor": "white",
          "polar": {
           "angularaxis": {
            "gridcolor": "rgb(232,232,232)",
            "linecolor": "rgb(36,36,36)",
            "showgrid": false,
            "showline": true,
            "ticks": "outside"
           },
           "bgcolor": "white",
           "radialaxis": {
            "gridcolor": "rgb(232,232,232)",
            "linecolor": "rgb(36,36,36)",
            "showgrid": false,
            "showline": true,
            "ticks": "outside"
           }
          },
          "scene": {
           "xaxis": {
            "backgroundcolor": "white",
            "gridcolor": "rgb(232,232,232)",
            "gridwidth": 2,
            "linecolor": "rgb(36,36,36)",
            "showbackground": true,
            "showgrid": false,
            "showline": true,
            "ticks": "outside",
            "zeroline": false,
            "zerolinecolor": "rgb(36,36,36)"
           },
           "yaxis": {
            "backgroundcolor": "white",
            "gridcolor": "rgb(232,232,232)",
            "gridwidth": 2,
            "linecolor": "rgb(36,36,36)",
            "showbackground": true,
            "showgrid": false,
            "showline": true,
            "ticks": "outside",
            "zeroline": false,
            "zerolinecolor": "rgb(36,36,36)"
           },
           "zaxis": {
            "backgroundcolor": "white",
            "gridcolor": "rgb(232,232,232)",
            "gridwidth": 2,
            "linecolor": "rgb(36,36,36)",
            "showbackground": true,
            "showgrid": false,
            "showline": true,
            "ticks": "outside",
            "zeroline": false,
            "zerolinecolor": "rgb(36,36,36)"
           }
          },
          "shapedefaults": {
           "fillcolor": "black",
           "line": {
            "width": 0
           },
           "opacity": 0.3
          },
          "ternary": {
           "aaxis": {
            "gridcolor": "rgb(232,232,232)",
            "linecolor": "rgb(36,36,36)",
            "showgrid": false,
            "showline": true,
            "ticks": "outside"
           },
           "baxis": {
            "gridcolor": "rgb(232,232,232)",
            "linecolor": "rgb(36,36,36)",
            "showgrid": false,
            "showline": true,
            "ticks": "outside"
           },
           "bgcolor": "white",
           "caxis": {
            "gridcolor": "rgb(232,232,232)",
            "linecolor": "rgb(36,36,36)",
            "showgrid": false,
            "showline": true,
            "ticks": "outside"
           }
          },
          "title": {
           "x": 0.05
          },
          "xaxis": {
           "automargin": true,
           "gridcolor": "rgb(232,232,232)",
           "linecolor": "rgb(36,36,36)",
           "showgrid": false,
           "showline": true,
           "ticks": "outside",
           "title": {
            "standoff": 15
           },
           "zeroline": false,
           "zerolinecolor": "rgb(36,36,36)"
          },
          "yaxis": {
           "automargin": true,
           "gridcolor": "rgb(232,232,232)",
           "linecolor": "rgb(36,36,36)",
           "showgrid": false,
           "showline": true,
           "ticks": "outside",
           "title": {
            "standoff": 15
           },
           "zeroline": false,
           "zerolinecolor": "rgb(36,36,36)"
          }
         }
        },
        "title": {
         "font": {
          "color": "Black",
          "size": 20
         },
         "text": "Intertopic Distance Map<br><sup></sup>",
         "x": 0.15,
         "xanchor": "center",
         "y": 0.95,
         "yanchor": "top"
        },
        "width": 1000,
        "xaxis": {
         "anchor": "y",
         "domain": [
          0,
          1
         ],
         "range": [
          -12.376671886444091,
          15.52488374710083
         ],
         "showgrid": false,
         "showline": true,
         "ticks": "outside",
         "title": {},
         "visible": false,
         "zeroline": true
        },
        "yaxis": {
         "anchor": "x",
         "domain": [
          0,
          1
         ],
         "range": [
          -14.96534867286682,
          15.347682523727418
         ],
         "showgrid": false,
         "showline": true,
         "ticks": "outside",
         "title": {},
         "visible": false,
         "zeroline": true
        }
       }
      }
     },
     "metadata": {},
     "output_type": "display_data"
    }
   ],
   "source": [
    "# ------------------------------------------------------------\n",
    "# Visualize intertopic distances\n",
    "# (move this to a function)\n",
    "# ------------------------------------------------------------\n",
    "\n",
    "# N.B. UMAP (Uniform Manifold Approximation and Projection)\n",
    "# used for dimensionality reduction. \n",
    "fig_2d = topic_model.visualize_topics(custom_labels=True)\n",
    "\n",
    "# Update background and grid\n",
    "fig_2d.update_layout(\n",
    "    plot_bgcolor=\"white\",\n",
    "    paper_bgcolor=\"white\",\n",
    "    font_family=\"Arial\",\n",
    "    title={\n",
    "        \"text\": f\"Intertopic Distance Map<br><sup>{model_label}</sup>\",\n",
    "        \"x\": 0.15,\n",
    "        \"font\": {\"size\": 20}\n",
    "    },\n",
    "    width=1000,\n",
    "    height=800,\n",
    "    xaxis=dict(\n",
    "        showgrid=False,\n",
    "        zeroline=True,\n",
    "        showline=True,\n",
    "        ticks=\"outside\",\n",
    "        title=None\n",
    "    ),\n",
    "    yaxis=dict(\n",
    "        showgrid=False,\n",
    "        zeroline=True,\n",
    "        showline=True,\n",
    "        ticks=\"outside\",\n",
    "        title=None\n",
    "    ),\n",
    "    legend=dict(\n",
    "        orientation=\"h\",\n",
    "        yanchor=\"bottom\",\n",
    "        y=1.02,\n",
    "        xanchor=\"center\",\n",
    "        x=0.5\n",
    "    )\n",
    ")\n",
    "fig_2d.write_html(\"../outputs/intertopic_distance_map_2D.html\")   \n",
    "\n",
    "fig_2d.show()"
   ]
  },
  {
   "cell_type": "code",
   "execution_count": 5,
   "id": "2b90ce99",
   "metadata": {},
   "outputs": [
    {
     "name": "stdout",
     "output_type": "stream",
     "text": [
      "Topic 23 identified as junk:\n",
      "[('', 1e-05), ('', 1e-05), ('', 1e-05), ('', 1e-05), ('', 1e-05), ('', 1e-05), ('', 1e-05), ('', 1e-05), ('', 1e-05), ('', 1e-05)]\n",
      "\n",
      "Generated topic labels:\n",
      "Topic -1: NULL (OLD: -1_fuel_emissions_passenger_global)\n",
      "Topic 0: Safety (OLD: 0_safety_iosa_accidents_accident)\n",
      "Topic 1: Security (OLD: 1_security_information_smart security_passenger)\n",
      "Topic 2: Settlement/BSP (OLD: 2_settlement_billion_processed_bsp)\n",
      "Topic 3: Airport Charges/Infrastructure (OLD: 3_charges_airport_airports_infrastructure)\n",
      "Topic 4: Global Governments (OLD: 4_global_governments_important_great)\n",
      "Topic 5: NDC (OLD: 5_ndc_order_travel_retailing)\n",
      "Topic 6: Baggage (OLD: 6_baggage_fast travel_fast_boarding)\n",
      "Topic 7: Cargo & E-Freight (OLD: 7_cargo_e-freight_freight_e-awb)\n",
      "Topic 8: SAF (OLD: 8_saf_corsia_emissions_production)\n",
      "Topic 9: Regulation (OLD: 9_regulation_rights_passenger rights_regulations)\n",
      "Topic 10: Markets Growth (OLD: 10_markets_growth_load_premium)\n",
      "Topic 11: COVID‑19 (OLD: 11_covid-19_health_testing_travel)\n",
      "Topic 12: China (OLD: 12_china_cargo_latam_express)\n",
      "Topic 13: Tax (OLD: 13_tax_taxes_taxation_government)\n",
      "Topic 14: Data & AI (OLD: 14_data_intelligence_consulting_cargois)\n",
      "Topic 15: Cargo (OLD: 15_cargo_trade_growth_global)\n",
      "Topic 16: World (OLD: 16_world_commercial_jobs_people)\n",
      "Topic 17: Unruly Passengers (OLD: 17_unruly_mc99_mp14_passengers)\n",
      "Topic 18: Center of Excellence for Independent Validators (OLD: 18_ceiv_lithium_batteries_dangerous)\n",
      "Topic 19: Training (OLD: 19_training_itdi_strategic_courses)\n",
      "Topic 20: Emissions (OLD: 20_emissions_carbon_environmental_technology)\n",
      "Topic 21: Profit (OLD: 21_profit_billion_net_profits)\n",
      "Topic 22: Airport Slots (OLD: 22_slot_wsg_slots_airport)\n",
      "Topic 23:  (OLD: 23____)\n",
      "Topic 24: Offices (OLD: 24_offices_box_somerset_north)\n",
      "Topic 25: Group (OLD: 25_group_klm_france_david)\n",
      "Topic 26: Air Transport Market (OLD: 26_atm_airspace_european_nextgen)\n",
      "Topic 27: Digital ID (OLD: 27_identity_id_digital_biometric)\n",
      "Topic 28: Diversity (OLD: 28_diversity_inclusion_diversity inclusion_female)\n",
      "Topic 29: IENVA (OLD: 29_ienva_waste_environmental_assessment)\n",
      "Topic 30: Fuel (OLD: 30_fuel_jet fuel_jet_supply)\n",
      "Topic 31: Oil Prices (OLD: 31_oil_barrel_prices_fuel)\n",
      "Topic 32: ISAGO (OLD: 32_isago_ground_audits_audit)\n",
      "Topic 33: Domestic Travel (OLD: 33_domestic_travel_rpks_international)\n"
     ]
    }
   ],
   "source": [
    "# ------------------------------------------------------\n",
    "# Clean up labels and remove junk topics\n",
    "# ------------------------------------------------------\n",
    "\n",
    "# Retrieve the current model labels before overwriting\n",
    "old_labels = topic_model.topic_labels_\n",
    "\n",
    "# Generate new labels\n",
    "clean_labels, junk_topics = generate_clean_labels(topic_model, top_n_words=1)\n",
    "\n",
    "# Print label changes for review\n",
    "print(\"\\nGenerated topic labels:\")\n",
    "for topic_id, label in sorted(clean_labels.items()):\n",
    "    old_label = old_labels.get(topic_id)\n",
    "    print(f\"Topic {topic_id}: {label} (OLD: {old_label})\")\n",
    "\n",
    "# Apply to the model\n",
    "topic_model.set_topic_labels(clean_labels)"
   ]
  },
  {
   "cell_type": "code",
   "execution_count": 6,
   "id": "f2f9003e",
   "metadata": {},
   "outputs": [
    {
     "name": "stderr",
     "output_type": "stream",
     "text": [
      "19it [00:05,  3.45it/s]\n"
     ]
    },
    {
     "data": {
      "application/vnd.plotly.v1+json": {
       "config": {
        "plotlyServerURL": "https://plot.ly"
       },
       "data": [
        {
         "hoverinfo": "text",
         "hovertemplate": "Safety<extra></extra>",
         "hovertext": [
          "<b>Topic 0</b><br>Words: safety, iosa, accident, analysis, programme",
          "<b>Topic 0</b><br>Words: safety, iosa, accident, audit, rate",
          "<b>Topic 0</b><br>Words: safety, iosa, audit, accidents, accident",
          "<b>Topic 0</b><br>Words: safety, iosa, accident, accidents, maintenance",
          "<b>Topic 0</b><br>Words: safety, iosa, accident, accidents, maintenance",
          "<b>Topic 0</b><br>Words: safety, iosa, accident, accidents, rate",
          "<b>Topic 0</b><br>Words: safety, iosa, accidents, accident, icao",
          "<b>Topic 0</b><br>Words: safety, iosa, accidents, audit, rate",
          "<b>Topic 0</b><br>Words: safety, iosa, accidents, accident, data",
          "<b>Topic 0</b><br>Words: safety, iosa, accidents, audit, accident",
          "<b>Topic 0</b><br>Words: safety, accidents, iosa, accident, fatalities",
          "<b>Topic 0</b><br>Words: safety, accidents, accident, iosa, cfit",
          "<b>Topic 0</b><br>Words: safety, accidents, iosa, accident, flights",
          "<b>Topic 0</b><br>Words: safety, accidents, accident, iosa, turbulence",
          "<b>Topic 0</b><br>Words: vouchers, safety, refundable vouchers, refundable, iosa",
          "<b>Topic 0</b><br>Words: safety, safety risk, accidents, safety leadership, pillar",
          "<b>Topic 0</b><br>Words: safety, million flights, flights, accident, million",
          "<b>Topic 0</b><br>Words: safety, iosa, accidents, accident, rate",
          "<b>Topic 0</b><br>Words: safety, iosa, accidents, accident, fatal"
         ],
         "line": {
          "color": "#4C78A8"
         },
         "marker": {
          "color": "#E69F00"
         },
         "mode": "lines",
         "name": "Safety",
         "type": "scatter",
         "x": [
          "2005-01-01T00:00:00.000000000",
          "2006-01-01T00:00:00.000000000",
          "2008-01-01T00:00:00.000000000",
          "2009-01-01T00:00:00.000000000",
          "2010-01-01T00:00:00.000000000",
          "2011-01-01T00:00:00.000000000",
          "2012-01-01T00:00:00.000000000",
          "2013-01-01T00:00:00.000000000",
          "2014-01-01T00:00:00.000000000",
          "2015-01-01T00:00:00.000000000",
          "2016-01-01T00:00:00.000000000",
          "2017-01-01T00:00:00.000000000",
          "2018-01-01T00:00:00.000000000",
          "2019-01-01T00:00:00.000000000",
          "2020-01-01T00:00:00.000000000",
          "2021-01-01T00:00:00.000000000",
          "2022-01-01T00:00:00.000000000",
          "2023-01-01T00:00:00.000000000",
          "2024-01-01T00:00:00.000000000"
         ],
         "y": {
          "bdata": "CAwJDQoQDxQUDhYLDgsDBQcIDw==",
          "dtype": "i1"
         }
        },
        {
         "hoverinfo": "text",
         "hovertemplate": "Group<extra></extra>",
         "hovertext": [
          "<b>Topic 1</b><br>Words: security, api, security manual, manual, governments",
          "<b>Topic 1</b><br>Words: security, measures, screening, sems, governments",
          "<b>Topic 1</b><br>Words: security, data, passenger, sems, pnr",
          "<b>Topic 1</b><br>Words: security, passenger, program, sems, data",
          "<b>Topic 1</b><br>Words: security, sems, security facilitation, approach, facilitation",
          "<b>Topic 1</b><br>Words: security, checkpoint, checkpoint future, dhs, icao",
          "<b>Topic 1</b><br>Words: security, data, passenger, checkpoint, programs",
          "<b>Topic 1</b><br>Words: security, cof, one-stop, passenger, screening",
          "<b>Topic 1</b><br>Words: security, smart security, smart, passenger, information",
          "<b>Topic 1</b><br>Words: security, information, smart security, smart, cyber",
          "<b>Topic 1</b><br>Words: security, information, pnr, smart security, smart",
          "<b>Topic 1</b><br>Words: security, smart security, smart, information, governments",
          "<b>Topic 1</b><br>Words: security, smart security, smart, data, screening",
          "<b>Topic 1</b><br>Words: security, gasep, information, threats, governments",
          "<b>Topic 1</b><br>Words: security, cybersecurity, threats, cyber, conflict zones",
          "<b>Topic 1</b><br>Words: security, countries, belarus, terrorist, screening",
          "<b>Topic 1</b><br>Words: security, civil, attacks, information, airspace",
          "<b>Topic 1</b><br>Words: security, screening, measures, risk, information",
          "<b>Topic 1</b><br>Words: security, cybersecurity, information, sems, cyber"
         ],
         "line": {
          "color": "#F58518"
         },
         "marker": {
          "color": "#56B4E9"
         },
         "mode": "lines",
         "name": "Group",
         "type": "scatter",
         "x": [
          "2005-01-01T00:00:00.000000000",
          "2006-01-01T00:00:00.000000000",
          "2008-01-01T00:00:00.000000000",
          "2009-01-01T00:00:00.000000000",
          "2010-01-01T00:00:00.000000000",
          "2011-01-01T00:00:00.000000000",
          "2012-01-01T00:00:00.000000000",
          "2013-01-01T00:00:00.000000000",
          "2014-01-01T00:00:00.000000000",
          "2015-01-01T00:00:00.000000000",
          "2016-01-01T00:00:00.000000000",
          "2017-01-01T00:00:00.000000000",
          "2018-01-01T00:00:00.000000000",
          "2019-01-01T00:00:00.000000000",
          "2020-01-01T00:00:00.000000000",
          "2021-01-01T00:00:00.000000000",
          "2022-01-01T00:00:00.000000000",
          "2023-01-01T00:00:00.000000000",
          "2024-01-01T00:00:00.000000000"
         ],
         "y": {
          "bdata": "CgkICgYLCg0LDA8RDQkCCQMMDg==",
          "dtype": "i1"
         }
        },
        {
         "hoverinfo": "text",
         "hovertemplate": "Security<extra></extra>",
         "hovertext": [
          "<b>Topic 2</b><br>Words: settlement, service, card, sales, billion",
          "<b>Topic 2</b><br>Words: settlement, cass, service, sales, billion",
          "<b>Topic 2</b><br>Words: settlement, interline, sales, funds, billing",
          "<b>Topic 2</b><br>Words: settlement, billing, interline, billion, service",
          "<b>Topic 2</b><br>Words: settlement, bsp, cass, billion, bsps",
          "<b>Topic 2</b><br>Words: settlement, cass, billion, service, interline",
          "<b>Topic 2</b><br>Words: settlement, processed, billion, bsp, billing",
          "<b>Topic 2</b><br>Words: settlement, billion, bsp, cass, iss",
          "<b>Topic 2</b><br>Words: iss, settlement, funds, billion, settlement systems",
          "<b>Topic 2</b><br>Words: settlement, iss, billion, bsp, funds",
          "<b>Topic 2</b><br>Words: settlement, iss, billion, bsp, agents",
          "<b>Topic 2</b><br>Words: settlement, iss, billion, processed, bsp",
          "<b>Topic 2</b><br>Words: settlement, iss, billion, processed, bsp",
          "<b>Topic 2</b><br>Words: settlement, agents, bsp, processed, services",
          "<b>Topic 2</b><br>Words: settlement, agents, bsp, processed, travel agents",
          "<b>Topic 2</b><br>Words: settlement, billion, processed, processed billion, bsp",
          "<b>Topic 2</b><br>Words: processed, billion, processed billion, settlement, cass",
          "<b>Topic 2</b><br>Words: billion, settlement, processed, processed billion, financial",
          "<b>Topic 2</b><br>Words: settlement, billion, processed, cass, bsp"
         ],
         "line": {
          "color": "#E45756"
         },
         "marker": {
          "color": "#009E73"
         },
         "mode": "lines",
         "name": "Security",
         "type": "scatter",
         "x": [
          "2005-01-01T00:00:00.000000000",
          "2006-01-01T00:00:00.000000000",
          "2008-01-01T00:00:00.000000000",
          "2009-01-01T00:00:00.000000000",
          "2010-01-01T00:00:00.000000000",
          "2011-01-01T00:00:00.000000000",
          "2012-01-01T00:00:00.000000000",
          "2013-01-01T00:00:00.000000000",
          "2014-01-01T00:00:00.000000000",
          "2015-01-01T00:00:00.000000000",
          "2016-01-01T00:00:00.000000000",
          "2017-01-01T00:00:00.000000000",
          "2018-01-01T00:00:00.000000000",
          "2019-01-01T00:00:00.000000000",
          "2020-01-01T00:00:00.000000000",
          "2021-01-01T00:00:00.000000000",
          "2022-01-01T00:00:00.000000000",
          "2023-01-01T00:00:00.000000000",
          "2024-01-01T00:00:00.000000000"
         ],
         "y": {
          "bdata": "CAkJCw4OCQoICwcKCQkIBQYGBw==",
          "dtype": "i1"
         }
        },
        {
         "hoverinfo": "text",
         "hovertemplate": "China<extra></extra>",
         "hovertext": [
          "<b>Topic 4</b><br>Words: www org, org, www, simplifying, whatwedo",
          "<b>Topic 4</b><br>Words: efficiency, stop, agenda change, agenda, freedom",
          "<b>Topic 4</b><br>Words: liberalisation, bilateral, open, open skies, skies",
          "<b>Topic 4</b><br>Words: engine, engine engine, crisis, jatropha, boeing",
          "<b>Topic 4</b><br>Words: forest, asas, fly, cautious optimism, cautious",
          "<b>Topic 4</b><br>Words: tony, forest, report, great, leadership",
          "<b>Topic 4</b><br>Words: feature, governments, does, policy, environment",
          "<b>Topic 4</b><br>Words: feature, driving, environment, secure profitable, focused",
          "<b>Topic 4</b><br>Words: centennial, future, gen, contributions, look",
          "<b>Topic 4</b><br>Words: like, leadership, count provide, provide leadership, advocacy",
          "<b>Topic 4</b><br>Words: global, great, important, models, strengthened",
          "<b>Topic 4</b><br>Words: think, customers, really, voice, compete",
          "<b>Topic 4</b><br>Words: important, digital, future, good, lccs",
          "<b>Topic 4</b><br>Words: story, contents, important, contents contents, future",
          "<b>Topic 4</b><br>Words: story, title, figures, meeting amsterdam, international 76th",
          "<b>Topic 4</b><br>Words: services, sustainability, story, financial services, boston usa",
          "<b>Topic 4</b><br>Words: contents, talent, walsh robin, story, regulations environment",
          "<b>Topic 4</b><br>Words: challenges, contributor, leaders, economic, encourage",
          "<b>Topic 4</b><br>Words: ai, saf, production, economics, makolo chair"
         ],
         "line": {
          "color": "#72B7B2"
         },
         "marker": {
          "color": "#F0E442"
         },
         "mode": "lines",
         "name": "China",
         "type": "scatter",
         "x": [
          "2005-01-01T00:00:00.000000000",
          "2006-01-01T00:00:00.000000000",
          "2008-01-01T00:00:00.000000000",
          "2009-01-01T00:00:00.000000000",
          "2010-01-01T00:00:00.000000000",
          "2011-01-01T00:00:00.000000000",
          "2012-01-01T00:00:00.000000000",
          "2013-01-01T00:00:00.000000000",
          "2014-01-01T00:00:00.000000000",
          "2015-01-01T00:00:00.000000000",
          "2016-01-01T00:00:00.000000000",
          "2017-01-01T00:00:00.000000000",
          "2018-01-01T00:00:00.000000000",
          "2019-01-01T00:00:00.000000000",
          "2020-01-01T00:00:00.000000000",
          "2021-01-01T00:00:00.000000000",
          "2022-01-01T00:00:00.000000000",
          "2023-01-01T00:00:00.000000000",
          "2024-01-01T00:00:00.000000000"
         ],
         "y": {
          "bdata": "DwgICQYFAwYEBgUHBgoLCwkGCA==",
          "dtype": "i1"
         }
        },
        {
         "hoverinfo": "text",
         "hovertemplate": "Profit<extra></extra>",
         "hovertext": [
          "<b>Topic 7</b><br>Words: cargo, programme, freight forwarder, forwarder, freight",
          "<b>Topic 7</b><br>Words: e-freight, cargo, customs, wco, e-freight goal",
          "<b>Topic 7</b><br>Words: cargo, e-freight, freight, programme, supply",
          "<b>Topic 7</b><br>Words: cargo, e-freight, customs, documents, electronic",
          "<b>Topic 7</b><br>Words: cargo, freight, e-freight, c2k, secure freight",
          "<b>Topic 7</b><br>Words: cargo, e-freight, supply chain, chain, supply",
          "<b>Topic 7</b><br>Words: e-freight, cargo, penetration, supply chain, chain",
          "<b>Topic 7</b><br>Words: cargo, e-freight, freight, e-awb, forwarders",
          "<b>Topic 7</b><br>Words: cargo, e-freight, chain, e-awb, freight",
          "<b>Topic 7</b><br>Words: cargo, e-awb, e-freight, freight, chain",
          "<b>Topic 7</b><br>Words: cargo, e-awb, chain, freight, e-freight",
          "<b>Topic 7</b><br>Words: cargo, e-awb, forwarders, freight forwarders, freight",
          "<b>Topic 7</b><br>Words: cargo, e-awb, chain, e-freight, trade",
          "<b>Topic 7</b><br>Words: cargo, data, e-awb, modernization, cargo-xml",
          "<b>Topic 7</b><br>Words: cargo, facility, cargo facility, digital, supply chain",
          "<b>Topic 7</b><br>Words: cargo, shipment, tracking, regarding, supply",
          "<b>Topic 7</b><br>Words: digital, record, cargo, standards, enhancing",
          "<b>Topic 7</b><br>Words: digitalization, cargo, digital, tracking, customs"
         ],
         "line": {
          "color": "#54A24B"
         },
         "marker": {
          "color": "#D55E00"
         },
         "mode": "lines",
         "name": "Profit",
         "type": "scatter",
         "x": [
          "2005-01-01T00:00:00.000000000",
          "2006-01-01T00:00:00.000000000",
          "2008-01-01T00:00:00.000000000",
          "2009-01-01T00:00:00.000000000",
          "2010-01-01T00:00:00.000000000",
          "2011-01-01T00:00:00.000000000",
          "2012-01-01T00:00:00.000000000",
          "2013-01-01T00:00:00.000000000",
          "2014-01-01T00:00:00.000000000",
          "2015-01-01T00:00:00.000000000",
          "2016-01-01T00:00:00.000000000",
          "2017-01-01T00:00:00.000000000",
          "2018-01-01T00:00:00.000000000",
          "2019-01-01T00:00:00.000000000",
          "2020-01-01T00:00:00.000000000",
          "2022-01-01T00:00:00.000000000",
          "2023-01-01T00:00:00.000000000",
          "2024-01-01T00:00:00.000000000"
         ],
         "y": {
          "bdata": "AQMFBAYFAw0JCgQJBwICAQID",
          "dtype": "i1"
         }
        },
        {
         "hoverinfo": "text",
         "hovertemplate": "Settlement/BSP<extra></extra>",
         "hovertext": [
          "<b>Topic 12</b><br>Words: china, express, royal, lan, cargo",
          "<b>Topic 12</b><br>Words: lan, china, royal, cargo, express",
          "<b>Topic 12</b><br>Words: lan, china, cargo, royal, lufthansa",
          "<b>Topic 12</b><br>Words: china, lan, royal, lufthansa, cargo",
          "<b>Topic 12</b><br>Words: lan, china, cargo, express, royal",
          "<b>Topic 12</b><br>Words: lan, china, linhas, aéreas, linhas aéreas",
          "<b>Topic 12</b><br>Words: lan, china, cargo, express, royal",
          "<b>Topic 12</b><br>Words: lan, china, cargo, express, royal",
          "<b>Topic 12</b><br>Words: lan, china, cargo, express, royal",
          "<b>Topic 12</b><br>Words: china, lan, cargo, express, royal",
          "<b>Topic 12</b><br>Words: china, international, lan, cargo, express",
          "<b>Topic 12</b><br>Words: latam, china, cargo, international, iran",
          "<b>Topic 12</b><br>Words: latam, china, express, cargo, avianca",
          "<b>Topic 12</b><br>Words: latam, china, cargo, avianca, thai",
          "<b>Topic 12</b><br>Words: latam, china, cargo, avianca, express",
          "<b>Topic 12</b><br>Words: latam, express, china, cargo, administration",
          "<b>Topic 12</b><br>Words: latam, china, cargo, express, royal",
          "<b>Topic 12</b><br>Words: latam, china, cargo, express, royal",
          "<b>Topic 12</b><br>Words: latam, china, express, cargo, fly"
         ],
         "line": {
          "color": "#EECA3B"
         },
         "marker": {
          "color": "#0072B2"
         },
         "mode": "lines",
         "name": "Settlement/BSP",
         "type": "scatter",
         "x": [
          "2005-01-01T00:00:00.000000000",
          "2006-01-01T00:00:00.000000000",
          "2008-01-01T00:00:00.000000000",
          "2009-01-01T00:00:00.000000000",
          "2010-01-01T00:00:00.000000000",
          "2011-01-01T00:00:00.000000000",
          "2012-01-01T00:00:00.000000000",
          "2013-01-01T00:00:00.000000000",
          "2014-01-01T00:00:00.000000000",
          "2015-01-01T00:00:00.000000000",
          "2016-01-01T00:00:00.000000000",
          "2017-01-01T00:00:00.000000000",
          "2018-01-01T00:00:00.000000000",
          "2019-01-01T00:00:00.000000000",
          "2020-01-01T00:00:00.000000000",
          "2021-01-01T00:00:00.000000000",
          "2022-01-01T00:00:00.000000000",
          "2023-01-01T00:00:00.000000000",
          "2024-01-01T00:00:00.000000000"
         ],
         "y": {
          "bdata": "BQQFBAMEAwMEBAYGBAMCAwICAg==",
          "dtype": "i1"
         }
        },
        {
         "hoverinfo": "text",
         "hovertemplate": "Global Governments<extra></extra>",
         "hovertext": [
          "<b>Topic 13</b><br>Words: tax, swedish, government, euro, taxes",
          "<b>Topic 13</b><br>Words: tax, taxes, environmental, million, proposals",
          "<b>Topic 13</b><br>Words: dutch, tax, taxes, government, billion dutch",
          "<b>Topic 13</b><br>Words: tax, taxation, taxes, tourism, ticket",
          "<b>Topic 13</b><br>Words: tax, taxes, government, irish government, taxation",
          "<b>Topic 13</b><br>Words: tax, taxes, taxation, vat, government",
          "<b>Topic 13</b><br>Words: tax, taxes, vat, taxation, government",
          "<b>Topic 13</b><br>Words: tax, taxes, taxation, government, passenger",
          "<b>Topic 13</b><br>Words: tax, taxes, taxation, government, apd",
          "<b>Topic 13</b><br>Words: tax, taxes, taxation, fee, passenger",
          "<b>Topic 13</b><br>Words: tax, government, taxes, vat, taxation",
          "<b>Topic 13</b><br>Words: tax, government, taxes, taxation, vat",
          "<b>Topic 13</b><br>Words: tax, government, levy, taxation, vat",
          "<b>Topic 13</b><br>Words: tax, taxation, million, saving million, saving",
          "<b>Topic 13</b><br>Words: tax, europe energy, energy carbon, energy, initiatives",
          "<b>Topic 13</b><br>Words: tax, eu, taxes, taxation, non-eu",
          "<b>Topic 13</b><br>Words: tax, taxation, taxes, article, government",
          "<b>Topic 13</b><br>Words: tax, taxes, taxation, revenue, government"
         ],
         "line": {
          "color": "#B279A2"
         },
         "marker": {
          "color": "#CC79A7"
         },
         "mode": "lines",
         "name": "Global Governments",
         "type": "scatter",
         "x": [
          "2006-01-01T00:00:00.000000000",
          "2008-01-01T00:00:00.000000000",
          "2009-01-01T00:00:00.000000000",
          "2010-01-01T00:00:00.000000000",
          "2011-01-01T00:00:00.000000000",
          "2012-01-01T00:00:00.000000000",
          "2013-01-01T00:00:00.000000000",
          "2014-01-01T00:00:00.000000000",
          "2015-01-01T00:00:00.000000000",
          "2016-01-01T00:00:00.000000000",
          "2017-01-01T00:00:00.000000000",
          "2018-01-01T00:00:00.000000000",
          "2019-01-01T00:00:00.000000000",
          "2020-01-01T00:00:00.000000000",
          "2021-01-01T00:00:00.000000000",
          "2022-01-01T00:00:00.000000000",
          "2023-01-01T00:00:00.000000000",
          "2024-01-01T00:00:00.000000000"
         ],
         "y": {
          "bdata": "BAIBAgIDAwcHBgUGBAEBAgQG",
          "dtype": "i1"
         }
        },
        {
         "hoverinfo": "text",
         "hovertemplate": "Tax<extra></extra>",
         "hovertext": [
          "<b>Topic 21</b><br>Words: billion, aggregate, growth, profit, loss",
          "<b>Topic 21</b><br>Words: billion, profitability, losses, profits, fuel prices",
          "<b>Topic 21</b><br>Words: billion, costs, profit, price fuel, price",
          "<b>Topic 21</b><br>Words: losses, recession, profit, net, billion",
          "<b>Topic 21</b><br>Words: cash flows, cash, flows, losses, billion",
          "<b>Topic 21</b><br>Words: profits, net posttax, posttax, posttax profits, ebit",
          "<b>Topic 21</b><br>Words: profit, profits, billion, ebit, revenues",
          "<b>Topic 21</b><br>Words: profits, net, profit, billion, growth",
          "<b>Topic 21</b><br>Words: profitability, profit, revenues, billion, improved profitability",
          "<b>Topic 21</b><br>Words: profit, revenues, profitability, ancillary, billion",
          "<b>Topic 21</b><br>Words: profi, financial performance, profit, generated, financial",
          "<b>Topic 21</b><br>Words: profit, profits, billion, american, earned",
          "<b>Topic 21</b><br>Words: operating profit, margin, operating, profit, important contributor",
          "<b>Topic 21</b><br>Words: financial performance, passenger basis, regionally, north american, financial",
          "<b>Topic 21</b><br>Words: operating, remained, operating margin, margin, financial performance",
          "<b>Topic 21</b><br>Words: cash, carriers, cash flow, flow, positive",
          "<b>Topic 21</b><br>Words: region, margin, international travel, operating, outbreaks risk-averse",
          "<b>Topic 21</b><br>Words: roic, source financial, net, financial forecast, north american",
          "<b>Topic 21</b><br>Words: profit, economics analyst, net, analyst, net profit"
         ],
         "line": {
          "color": "#FF9DA6"
         },
         "marker": {
          "color": "#E69F00"
         },
         "mode": "lines",
         "name": "Tax",
         "type": "scatter",
         "x": [
          "2005-01-01T00:00:00.000000000",
          "2006-01-01T00:00:00.000000000",
          "2008-01-01T00:00:00.000000000",
          "2009-01-01T00:00:00.000000000",
          "2010-01-01T00:00:00.000000000",
          "2011-01-01T00:00:00.000000000",
          "2012-01-01T00:00:00.000000000",
          "2013-01-01T00:00:00.000000000",
          "2014-01-01T00:00:00.000000000",
          "2015-01-01T00:00:00.000000000",
          "2016-01-01T00:00:00.000000000",
          "2017-01-01T00:00:00.000000000",
          "2018-01-01T00:00:00.000000000",
          "2019-01-01T00:00:00.000000000",
          "2020-01-01T00:00:00.000000000",
          "2021-01-01T00:00:00.000000000",
          "2022-01-01T00:00:00.000000000",
          "2023-01-01T00:00:00.000000000",
          "2024-01-01T00:00:00.000000000"
         ],
         "y": {
          "bdata": "AgIBBQUFBAQCAgMDAQECAQEBAg==",
          "dtype": "i1"
         }
        },
        {
         "hoverinfo": "text",
         "hovertemplate": "Cargo & E-Freight<extra></extra>",
         "hovertext": [
          "<b>Topic 22</b><br>Words: slots, fix isn, isn broken, isn, fix",
          "<b>Topic 22</b><br>Words: slots, real problem, scheduling, problem, slot",
          "<b>Topic 22</b><br>Words: slot, schedules conference, conference, schedules, activities",
          "<b>Topic 22</b><br>Words: wsg, slot, scheduling, slots, opens",
          "<b>Topic 22</b><br>Words: slot, rule, airports, utilization, wsg",
          "<b>Topic 22</b><br>Words: slot, cbp, wsg, airports, slot management",
          "<b>Topic 22</b><br>Words: wsg, slot, capacity, constraints, deviations",
          "<b>Topic 22</b><br>Words: wsg, slot, capacity, deviations, slots",
          "<b>Topic 22</b><br>Words: wsg, slot, slots, signifi, capacity",
          "<b>Topic 22</b><br>Words: slot, wsg, airports, slots, level airports",
          "<b>Topic 22</b><br>Words: slot, wsg, slots, airport, airport slot",
          "<b>Topic 22</b><br>Words: slot, wsg, slots, airports, slot regulation",
          "<b>Topic 22</b><br>Words: slot, slots, wsg, worldwide airport, waiver",
          "<b>Topic 22</b><br>Words: slot, slots, ec, summer, waivers",
          "<b>Topic 22</b><br>Words: slot, slots, flexibility, airport, worldwide airport",
          "<b>Topic 22</b><br>Words: slot, slots, slot regulation, capacity, regulation",
          "<b>Topic 22</b><br>Words: slot, wasg, capacity, slots, airport"
         ],
         "line": {
          "color": "#9D755D"
         },
         "marker": {
          "color": "#56B4E9"
         },
         "mode": "lines",
         "name": "Cargo & E-Freight",
         "type": "scatter",
         "x": [
          "2005-01-01T00:00:00.000000000",
          "2006-01-01T00:00:00.000000000",
          "2008-01-01T00:00:00.000000000",
          "2011-01-01T00:00:00.000000000",
          "2012-01-01T00:00:00.000000000",
          "2013-01-01T00:00:00.000000000",
          "2014-01-01T00:00:00.000000000",
          "2015-01-01T00:00:00.000000000",
          "2016-01-01T00:00:00.000000000",
          "2017-01-01T00:00:00.000000000",
          "2018-01-01T00:00:00.000000000",
          "2019-01-01T00:00:00.000000000",
          "2020-01-01T00:00:00.000000000",
          "2021-01-01T00:00:00.000000000",
          "2022-01-01T00:00:00.000000000",
          "2023-01-01T00:00:00.000000000",
          "2024-01-01T00:00:00.000000000"
         ],
         "y": {
          "bdata": "AQEBAgMCAQECBAQFAwMEBQQ=",
          "dtype": "i1"
         }
        },
        {
         "hoverinfo": "text",
         "hovertemplate": "Airport Slots<extra></extra>",
         "hovertext": [
          "<b>Topic 25</b><br>Words: jean-cyril spinetta, spinetta, jean-cyril, klm, enrique",
          "<b>Topic 25</b><br>Words: milton, robert milton, robert, fernando, royal",
          "<b>Topic 25</b><br>Words: fernando, enrique, david, klm, liu shaoyong",
          "<b>Topic 25</b><br>Words: aeromexico fernando, ask questions, question make, american tawfik, swiss naresh",
          "<b>Topic 25</b><br>Words: tyler, tony tyler, tony, klm, enrique",
          "<b>Topic 25</b><br>Words: david bronczek, bronczek, david, enrique, cho korean",
          "<b>Topic 25</b><br>Words: david, peter hartman, hartman, peter, klm",
          "<b>Topic 25</b><br>Words: david, joyce, alan joyce, alan, klm",
          "<b>Topic 25</b><br>Words: david, directors, anderson, richard anderson, france-klm",
          "<b>Topic 25</b><br>Words: group, david, managing kenya, group managing, calin",
          "<b>Topic 25</b><br>Words: egyptair, alexandre, klm, conesa, china",
          "<b>Topic 25</b><br>Words: group, france, klm, al, juniac",
          "<b>Topic 25</b><br>Words: group, managing, klm, managing kenya, group managing",
          "<b>Topic 25</b><br>Words: al, akbar al, akbar, baker, al baker",
          "<b>Topic 25</b><br>Words: egyptair, group, managing, saudi arabian, arabian",
          "<b>Topic 25</b><br>Words: klm, egyptair, china southern, china, france",
          "<b>Topic 25</b><br>Words: klm, france, group, managing, china",
          "<b>Topic 25</b><br>Words: group, chair, directors, cathay pacific, cathay",
          "<b>Topic 25</b><br>Words: group, chair, directors, smith, group qatar"
         ],
         "line": {
          "color": "#BAB0AC"
         },
         "marker": {
          "color": "#009E73"
         },
         "mode": "lines",
         "name": "Airport Slots",
         "type": "scatter",
         "x": [
          "2005-01-01T00:00:00.000000000",
          "2006-01-01T00:00:00.000000000",
          "2008-01-01T00:00:00.000000000",
          "2009-01-01T00:00:00.000000000",
          "2010-01-01T00:00:00.000000000",
          "2011-01-01T00:00:00.000000000",
          "2012-01-01T00:00:00.000000000",
          "2013-01-01T00:00:00.000000000",
          "2014-01-01T00:00:00.000000000",
          "2015-01-01T00:00:00.000000000",
          "2016-01-01T00:00:00.000000000",
          "2017-01-01T00:00:00.000000000",
          "2018-01-01T00:00:00.000000000",
          "2019-01-01T00:00:00.000000000",
          "2020-01-01T00:00:00.000000000",
          "2021-01-01T00:00:00.000000000",
          "2022-01-01T00:00:00.000000000",
          "2023-01-01T00:00:00.000000000",
          "2024-01-01T00:00:00.000000000"
         ],
         "y": {
          "bdata": "AQEBAQIBAQICAQMDAgIDAgMDAw==",
          "dtype": "i1"
         }
        }
       ],
       "layout": {
        "font": {
         "family": "Arial",
         "size": 12
        },
        "height": 600,
        "hoverlabel": {
         "bgcolor": "white",
         "font": {
          "family": "Rockwell",
          "size": 16
         }
        },
        "legend": {
         "orientation": "h",
         "title": {
          "text": "Topics"
         },
         "x": 0.5,
         "xanchor": "center",
         "y": -0.4,
         "yanchor": "bottom"
        },
        "template": {
         "data": {
          "bar": [
           {
            "error_x": {
             "color": "rgb(36,36,36)"
            },
            "error_y": {
             "color": "rgb(36,36,36)"
            },
            "marker": {
             "line": {
              "color": "white",
              "width": 0.5
             },
             "pattern": {
              "fillmode": "overlay",
              "size": 10,
              "solidity": 0.2
             }
            },
            "type": "bar"
           }
          ],
          "barpolar": [
           {
            "marker": {
             "line": {
              "color": "white",
              "width": 0.5
             },
             "pattern": {
              "fillmode": "overlay",
              "size": 10,
              "solidity": 0.2
             }
            },
            "type": "barpolar"
           }
          ],
          "carpet": [
           {
            "aaxis": {
             "endlinecolor": "rgb(36,36,36)",
             "gridcolor": "white",
             "linecolor": "white",
             "minorgridcolor": "white",
             "startlinecolor": "rgb(36,36,36)"
            },
            "baxis": {
             "endlinecolor": "rgb(36,36,36)",
             "gridcolor": "white",
             "linecolor": "white",
             "minorgridcolor": "white",
             "startlinecolor": "rgb(36,36,36)"
            },
            "type": "carpet"
           }
          ],
          "choropleth": [
           {
            "colorbar": {
             "outlinewidth": 1,
             "tickcolor": "rgb(36,36,36)",
             "ticks": "outside"
            },
            "type": "choropleth"
           }
          ],
          "contour": [
           {
            "colorbar": {
             "outlinewidth": 1,
             "tickcolor": "rgb(36,36,36)",
             "ticks": "outside"
            },
            "colorscale": [
             [
              0,
              "#440154"
             ],
             [
              0.1111111111111111,
              "#482878"
             ],
             [
              0.2222222222222222,
              "#3e4989"
             ],
             [
              0.3333333333333333,
              "#31688e"
             ],
             [
              0.4444444444444444,
              "#26828e"
             ],
             [
              0.5555555555555556,
              "#1f9e89"
             ],
             [
              0.6666666666666666,
              "#35b779"
             ],
             [
              0.7777777777777778,
              "#6ece58"
             ],
             [
              0.8888888888888888,
              "#b5de2b"
             ],
             [
              1,
              "#fde725"
             ]
            ],
            "type": "contour"
           }
          ],
          "contourcarpet": [
           {
            "colorbar": {
             "outlinewidth": 1,
             "tickcolor": "rgb(36,36,36)",
             "ticks": "outside"
            },
            "type": "contourcarpet"
           }
          ],
          "heatmap": [
           {
            "colorbar": {
             "outlinewidth": 1,
             "tickcolor": "rgb(36,36,36)",
             "ticks": "outside"
            },
            "colorscale": [
             [
              0,
              "#440154"
             ],
             [
              0.1111111111111111,
              "#482878"
             ],
             [
              0.2222222222222222,
              "#3e4989"
             ],
             [
              0.3333333333333333,
              "#31688e"
             ],
             [
              0.4444444444444444,
              "#26828e"
             ],
             [
              0.5555555555555556,
              "#1f9e89"
             ],
             [
              0.6666666666666666,
              "#35b779"
             ],
             [
              0.7777777777777778,
              "#6ece58"
             ],
             [
              0.8888888888888888,
              "#b5de2b"
             ],
             [
              1,
              "#fde725"
             ]
            ],
            "type": "heatmap"
           }
          ],
          "histogram": [
           {
            "marker": {
             "line": {
              "color": "white",
              "width": 0.6
             }
            },
            "type": "histogram"
           }
          ],
          "histogram2d": [
           {
            "colorbar": {
             "outlinewidth": 1,
             "tickcolor": "rgb(36,36,36)",
             "ticks": "outside"
            },
            "colorscale": [
             [
              0,
              "#440154"
             ],
             [
              0.1111111111111111,
              "#482878"
             ],
             [
              0.2222222222222222,
              "#3e4989"
             ],
             [
              0.3333333333333333,
              "#31688e"
             ],
             [
              0.4444444444444444,
              "#26828e"
             ],
             [
              0.5555555555555556,
              "#1f9e89"
             ],
             [
              0.6666666666666666,
              "#35b779"
             ],
             [
              0.7777777777777778,
              "#6ece58"
             ],
             [
              0.8888888888888888,
              "#b5de2b"
             ],
             [
              1,
              "#fde725"
             ]
            ],
            "type": "histogram2d"
           }
          ],
          "histogram2dcontour": [
           {
            "colorbar": {
             "outlinewidth": 1,
             "tickcolor": "rgb(36,36,36)",
             "ticks": "outside"
            },
            "colorscale": [
             [
              0,
              "#440154"
             ],
             [
              0.1111111111111111,
              "#482878"
             ],
             [
              0.2222222222222222,
              "#3e4989"
             ],
             [
              0.3333333333333333,
              "#31688e"
             ],
             [
              0.4444444444444444,
              "#26828e"
             ],
             [
              0.5555555555555556,
              "#1f9e89"
             ],
             [
              0.6666666666666666,
              "#35b779"
             ],
             [
              0.7777777777777778,
              "#6ece58"
             ],
             [
              0.8888888888888888,
              "#b5de2b"
             ],
             [
              1,
              "#fde725"
             ]
            ],
            "type": "histogram2dcontour"
           }
          ],
          "mesh3d": [
           {
            "colorbar": {
             "outlinewidth": 1,
             "tickcolor": "rgb(36,36,36)",
             "ticks": "outside"
            },
            "type": "mesh3d"
           }
          ],
          "parcoords": [
           {
            "line": {
             "colorbar": {
              "outlinewidth": 1,
              "tickcolor": "rgb(36,36,36)",
              "ticks": "outside"
             }
            },
            "type": "parcoords"
           }
          ],
          "pie": [
           {
            "automargin": true,
            "type": "pie"
           }
          ],
          "scatter": [
           {
            "fillpattern": {
             "fillmode": "overlay",
             "size": 10,
             "solidity": 0.2
            },
            "type": "scatter"
           }
          ],
          "scatter3d": [
           {
            "line": {
             "colorbar": {
              "outlinewidth": 1,
              "tickcolor": "rgb(36,36,36)",
              "ticks": "outside"
             }
            },
            "marker": {
             "colorbar": {
              "outlinewidth": 1,
              "tickcolor": "rgb(36,36,36)",
              "ticks": "outside"
             }
            },
            "type": "scatter3d"
           }
          ],
          "scattercarpet": [
           {
            "marker": {
             "colorbar": {
              "outlinewidth": 1,
              "tickcolor": "rgb(36,36,36)",
              "ticks": "outside"
             }
            },
            "type": "scattercarpet"
           }
          ],
          "scattergeo": [
           {
            "marker": {
             "colorbar": {
              "outlinewidth": 1,
              "tickcolor": "rgb(36,36,36)",
              "ticks": "outside"
             }
            },
            "type": "scattergeo"
           }
          ],
          "scattergl": [
           {
            "marker": {
             "colorbar": {
              "outlinewidth": 1,
              "tickcolor": "rgb(36,36,36)",
              "ticks": "outside"
             }
            },
            "type": "scattergl"
           }
          ],
          "scattermap": [
           {
            "marker": {
             "colorbar": {
              "outlinewidth": 1,
              "tickcolor": "rgb(36,36,36)",
              "ticks": "outside"
             }
            },
            "type": "scattermap"
           }
          ],
          "scattermapbox": [
           {
            "marker": {
             "colorbar": {
              "outlinewidth": 1,
              "tickcolor": "rgb(36,36,36)",
              "ticks": "outside"
             }
            },
            "type": "scattermapbox"
           }
          ],
          "scatterpolar": [
           {
            "marker": {
             "colorbar": {
              "outlinewidth": 1,
              "tickcolor": "rgb(36,36,36)",
              "ticks": "outside"
             }
            },
            "type": "scatterpolar"
           }
          ],
          "scatterpolargl": [
           {
            "marker": {
             "colorbar": {
              "outlinewidth": 1,
              "tickcolor": "rgb(36,36,36)",
              "ticks": "outside"
             }
            },
            "type": "scatterpolargl"
           }
          ],
          "scatterternary": [
           {
            "marker": {
             "colorbar": {
              "outlinewidth": 1,
              "tickcolor": "rgb(36,36,36)",
              "ticks": "outside"
             }
            },
            "type": "scatterternary"
           }
          ],
          "surface": [
           {
            "colorbar": {
             "outlinewidth": 1,
             "tickcolor": "rgb(36,36,36)",
             "ticks": "outside"
            },
            "colorscale": [
             [
              0,
              "#440154"
             ],
             [
              0.1111111111111111,
              "#482878"
             ],
             [
              0.2222222222222222,
              "#3e4989"
             ],
             [
              0.3333333333333333,
              "#31688e"
             ],
             [
              0.4444444444444444,
              "#26828e"
             ],
             [
              0.5555555555555556,
              "#1f9e89"
             ],
             [
              0.6666666666666666,
              "#35b779"
             ],
             [
              0.7777777777777778,
              "#6ece58"
             ],
             [
              0.8888888888888888,
              "#b5de2b"
             ],
             [
              1,
              "#fde725"
             ]
            ],
            "type": "surface"
           }
          ],
          "table": [
           {
            "cells": {
             "fill": {
              "color": "rgb(237,237,237)"
             },
             "line": {
              "color": "white"
             }
            },
            "header": {
             "fill": {
              "color": "rgb(217,217,217)"
             },
             "line": {
              "color": "white"
             }
            },
            "type": "table"
           }
          ]
         },
         "layout": {
          "annotationdefaults": {
           "arrowhead": 0,
           "arrowwidth": 1
          },
          "autotypenumbers": "strict",
          "coloraxis": {
           "colorbar": {
            "outlinewidth": 1,
            "tickcolor": "rgb(36,36,36)",
            "ticks": "outside"
           }
          },
          "colorscale": {
           "diverging": [
            [
             0,
             "rgb(103,0,31)"
            ],
            [
             0.1,
             "rgb(178,24,43)"
            ],
            [
             0.2,
             "rgb(214,96,77)"
            ],
            [
             0.3,
             "rgb(244,165,130)"
            ],
            [
             0.4,
             "rgb(253,219,199)"
            ],
            [
             0.5,
             "rgb(247,247,247)"
            ],
            [
             0.6,
             "rgb(209,229,240)"
            ],
            [
             0.7,
             "rgb(146,197,222)"
            ],
            [
             0.8,
             "rgb(67,147,195)"
            ],
            [
             0.9,
             "rgb(33,102,172)"
            ],
            [
             1,
             "rgb(5,48,97)"
            ]
           ],
           "sequential": [
            [
             0,
             "#440154"
            ],
            [
             0.1111111111111111,
             "#482878"
            ],
            [
             0.2222222222222222,
             "#3e4989"
            ],
            [
             0.3333333333333333,
             "#31688e"
            ],
            [
             0.4444444444444444,
             "#26828e"
            ],
            [
             0.5555555555555556,
             "#1f9e89"
            ],
            [
             0.6666666666666666,
             "#35b779"
            ],
            [
             0.7777777777777778,
             "#6ece58"
            ],
            [
             0.8888888888888888,
             "#b5de2b"
            ],
            [
             1,
             "#fde725"
            ]
           ],
           "sequentialminus": [
            [
             0,
             "#440154"
            ],
            [
             0.1111111111111111,
             "#482878"
            ],
            [
             0.2222222222222222,
             "#3e4989"
            ],
            [
             0.3333333333333333,
             "#31688e"
            ],
            [
             0.4444444444444444,
             "#26828e"
            ],
            [
             0.5555555555555556,
             "#1f9e89"
            ],
            [
             0.6666666666666666,
             "#35b779"
            ],
            [
             0.7777777777777778,
             "#6ece58"
            ],
            [
             0.8888888888888888,
             "#b5de2b"
            ],
            [
             1,
             "#fde725"
            ]
           ]
          },
          "colorway": [
           "#1F77B4",
           "#FF7F0E",
           "#2CA02C",
           "#D62728",
           "#9467BD",
           "#8C564B",
           "#E377C2",
           "#7F7F7F",
           "#BCBD22",
           "#17BECF"
          ],
          "font": {
           "color": "rgb(36,36,36)"
          },
          "geo": {
           "bgcolor": "white",
           "lakecolor": "white",
           "landcolor": "white",
           "showlakes": true,
           "showland": true,
           "subunitcolor": "white"
          },
          "hoverlabel": {
           "align": "left"
          },
          "hovermode": "closest",
          "mapbox": {
           "style": "light"
          },
          "paper_bgcolor": "white",
          "plot_bgcolor": "white",
          "polar": {
           "angularaxis": {
            "gridcolor": "rgb(232,232,232)",
            "linecolor": "rgb(36,36,36)",
            "showgrid": false,
            "showline": true,
            "ticks": "outside"
           },
           "bgcolor": "white",
           "radialaxis": {
            "gridcolor": "rgb(232,232,232)",
            "linecolor": "rgb(36,36,36)",
            "showgrid": false,
            "showline": true,
            "ticks": "outside"
           }
          },
          "scene": {
           "xaxis": {
            "backgroundcolor": "white",
            "gridcolor": "rgb(232,232,232)",
            "gridwidth": 2,
            "linecolor": "rgb(36,36,36)",
            "showbackground": true,
            "showgrid": false,
            "showline": true,
            "ticks": "outside",
            "zeroline": false,
            "zerolinecolor": "rgb(36,36,36)"
           },
           "yaxis": {
            "backgroundcolor": "white",
            "gridcolor": "rgb(232,232,232)",
            "gridwidth": 2,
            "linecolor": "rgb(36,36,36)",
            "showbackground": true,
            "showgrid": false,
            "showline": true,
            "ticks": "outside",
            "zeroline": false,
            "zerolinecolor": "rgb(36,36,36)"
           },
           "zaxis": {
            "backgroundcolor": "white",
            "gridcolor": "rgb(232,232,232)",
            "gridwidth": 2,
            "linecolor": "rgb(36,36,36)",
            "showbackground": true,
            "showgrid": false,
            "showline": true,
            "ticks": "outside",
            "zeroline": false,
            "zerolinecolor": "rgb(36,36,36)"
           }
          },
          "shapedefaults": {
           "fillcolor": "black",
           "line": {
            "width": 0
           },
           "opacity": 0.3
          },
          "ternary": {
           "aaxis": {
            "gridcolor": "rgb(232,232,232)",
            "linecolor": "rgb(36,36,36)",
            "showgrid": false,
            "showline": true,
            "ticks": "outside"
           },
           "baxis": {
            "gridcolor": "rgb(232,232,232)",
            "linecolor": "rgb(36,36,36)",
            "showgrid": false,
            "showline": true,
            "ticks": "outside"
           },
           "bgcolor": "white",
           "caxis": {
            "gridcolor": "rgb(232,232,232)",
            "linecolor": "rgb(36,36,36)",
            "showgrid": false,
            "showline": true,
            "ticks": "outside"
           }
          },
          "title": {
           "x": 0.05
          },
          "xaxis": {
           "automargin": true,
           "gridcolor": "rgb(232,232,232)",
           "linecolor": "rgb(36,36,36)",
           "showgrid": false,
           "showline": true,
           "ticks": "outside",
           "title": {
            "standoff": 15
           },
           "zeroline": false,
           "zerolinecolor": "rgb(36,36,36)"
          },
          "yaxis": {
           "automargin": true,
           "gridcolor": "rgb(232,232,232)",
           "linecolor": "rgb(36,36,36)",
           "showgrid": false,
           "showline": true,
           "ticks": "outside",
           "title": {
            "standoff": 15
           },
           "zeroline": false,
           "zerolinecolor": "rgb(36,36,36)"
          }
         }
        },
        "title": {
         "text": "Topic Trends Over Time<br><sup>All years</sup>"
        },
        "width": 1200,
        "xaxis": {
         "showgrid": true,
         "title": {
          "text": "Year"
         }
        },
        "yaxis": {
         "showgrid": true,
         "title": {
          "text": "Topic Frequency (% of Annual Report)"
         }
        }
       }
      }
     },
     "metadata": {},
     "output_type": "display_data"
    }
   ],
   "source": [
    "# ------------------------------------------------------------\n",
    "# Generate topic time series and visualize trends\n",
    "# ------------------------------------------------------------\n",
    "\n",
    "timestamps = pd.to_datetime(timestamps, format=\"%Y\")\n",
    "topics_over_time = topic_model.topics_over_time(texts, timestamps, topic_model.topics_)\n",
    "\n",
    "# OPTIONAL: Set filter criteria\n",
    "# Set to None to ignore\n",
    "min_year = None\n",
    "max_year = None\n",
    "exclude_years = None #[2020]  \n",
    "\n",
    "# Apply year filtering\n",
    "filtered_topics, filter_label = filter_dataframe_by_year(\n",
    "    topics_over_time,\n",
    "    min_year=min_year,\n",
    "    max_year=max_year,\n",
    "    exclude_years=exclude_years\n",
    ")\n",
    "\n",
    "# Apply topic filtering (remove junk and noise topics)\n",
    "filtered_topics = filtered_topics[\n",
    "    (~filtered_topics[\"Topic\"].isin(junk_topics)) &\n",
    "    (filtered_topics[\"Topic\"] != -1)\n",
    "]\n",
    "\n",
    "# Select top k most frequent clean topics\n",
    "top_k = 10\n",
    "top_topics = get_top_topics(filtered_topics, top_k)\n",
    "\n",
    "\n",
    "# Make plot of topic frequency by year\n",
    "# y-axis = % of all text chunks assigned to this topic in a given year\n",
    "fig = topic_model.visualize_topics_over_time(filtered_topics, topics=top_topics)\n",
    "\n",
    "# Apply custom colors and labels\n",
    "palette = px.colors.qualitative.T10\n",
    "\n",
    "for i, trace in enumerate(fig.data):\n",
    "    topic_id = top_topics[i]\n",
    "    trace.line.color = palette[i % len(palette)]\n",
    "    trace.name = clean_labels[topic_id]\n",
    "    hover_text = trace.hovertemplate or \"\"\n",
    "    trace.hovertemplate = f\"{clean_labels[topic_id]}<extra></extra>\"\n",
    "\n",
    "# Clean up the figure layout\n",
    "fig.update_layout(\n",
    "    title=f\"Topic Trends Over Time<br><sup>{filter_label}</sup>\",\n",
    "    width=1200,\n",
    "    height=600,\n",
    "    xaxis_title=\"Year\",\n",
    "    yaxis_title=\"Topic Frequency (% of Annual Report)\",\n",
    "    legend_title=\"Topics\",\n",
    "    font=dict(family=\"Arial\", size=12),\n",
    "    legend=dict(\n",
    "        orientation=\"h\",\n",
    "        yanchor=\"bottom\",\n",
    "        y=-0.4,\n",
    "        xanchor=\"center\",\n",
    "        x=0.5\n",
    "    )\n",
    ")\n",
    "\n",
    "output_filename = f\"../outputs/topic_trends\"\n",
    "fig.write_html(f\"{output_filename}.html\")\n",
    "fig.write_image(f\"{output_filename}.png\")\n",
    "\n",
    "fig.show()"
   ]
  },
  {
   "cell_type": "code",
   "execution_count": 7,
   "id": "16b23e44",
   "metadata": {},
   "outputs": [
    {
     "name": "stdout",
     "output_type": "stream",
     "text": [
      "Filtering (if any): \n",
      "Model Name: bertopic_cluster_model\n",
      "\n",
      "=== Matched Business Opportunities ===\n",
      "\n"
     ]
    },
    {
     "data": {
      "text/html": [
       "<div>\n",
       "<style scoped>\n",
       "    .dataframe tbody tr th:only-of-type {\n",
       "        vertical-align: middle;\n",
       "    }\n",
       "\n",
       "    .dataframe tbody tr th {\n",
       "        vertical-align: top;\n",
       "    }\n",
       "\n",
       "    .dataframe thead th {\n",
       "        text-align: right;\n",
       "    }\n",
       "</style>\n",
       "<table border=\"1\" class=\"dataframe\">\n",
       "  <thead>\n",
       "    <tr style=\"text-align: right;\">\n",
       "      <th></th>\n",
       "      <th>Trend</th>\n",
       "      <th>Detected Label</th>\n",
       "      <th>Implication</th>\n",
       "      <th>Ongoing Activity</th>\n",
       "      <th>Priority (Recommended)</th>\n",
       "      <th>Keyword Fraction (%)</th>\n",
       "      <th>Topic Growth</th>\n",
       "    </tr>\n",
       "  </thead>\n",
       "  <tbody>\n",
       "    <tr>\n",
       "      <th>0</th>\n",
       "      <td>Safety</td>\n",
       "      <td>0_safety_iosa_accidents_accident</td>\n",
       "      <td>Ongoing emphasis on flight and operational saf...</td>\n",
       "      <td>Invest in IOSA certification, risk management,...</td>\n",
       "      <td>High</td>\n",
       "      <td>9.62</td>\n",
       "      <td>7</td>\n",
       "    </tr>\n",
       "    <tr>\n",
       "      <th>1</th>\n",
       "      <td>Airport Charges/Infrastructure</td>\n",
       "      <td>3_charges_airport_airports_infrastructure</td>\n",
       "      <td>Rising airport and regulatory charges impactin...</td>\n",
       "      <td>Advocate for transparency and collaborate on c...</td>\n",
       "      <td>High</td>\n",
       "      <td>6.03</td>\n",
       "      <td>6</td>\n",
       "    </tr>\n",
       "    <tr>\n",
       "      <th>2</th>\n",
       "      <td>SAF</td>\n",
       "      <td>8_saf_corsia_emissions_production</td>\n",
       "      <td>Industry push for sustainable fuels to meet ne...</td>\n",
       "      <td>Invest in SAF partnerships and explore supply ...</td>\n",
       "      <td>High</td>\n",
       "      <td>3.47</td>\n",
       "      <td>15</td>\n",
       "    </tr>\n",
       "    <tr>\n",
       "      <th>3</th>\n",
       "      <td>Security</td>\n",
       "      <td>1_security_information_smart security_passenger</td>\n",
       "      <td>Need for secure and seamless passenger identit...</td>\n",
       "      <td>Adopt biometric identity systems and enhance c...</td>\n",
       "      <td>Medium</td>\n",
       "      <td>8.01</td>\n",
       "      <td>4</td>\n",
       "    </tr>\n",
       "    <tr>\n",
       "      <th>4</th>\n",
       "      <td>Cargo &amp; E-Freight</td>\n",
       "      <td>7_cargo_e-freight_freight_e-awb</td>\n",
       "      <td>Cargo remains a strong revenue pillar post-pan...</td>\n",
       "      <td>Expand dedicated cargo capacity and invest in ...</td>\n",
       "      <td>Medium</td>\n",
       "      <td>3.68</td>\n",
       "      <td>2</td>\n",
       "    </tr>\n",
       "    <tr>\n",
       "      <th>5</th>\n",
       "      <td>Markets Growth</td>\n",
       "      <td>10_markets_growth_load_premium</td>\n",
       "      <td>Shifting demand patterns and regional recovery...</td>\n",
       "      <td>Refocus network planning on high-growth and un...</td>\n",
       "      <td>Medium</td>\n",
       "      <td>2.93</td>\n",
       "      <td>1</td>\n",
       "    </tr>\n",
       "    <tr>\n",
       "      <th>6</th>\n",
       "      <td>Tax</td>\n",
       "      <td>13_tax_taxes_taxation_government</td>\n",
       "      <td>Growing tax pressures from governments on avia...</td>\n",
       "      <td>Strengthen policy advocacy and evaluate operat...</td>\n",
       "      <td>Medium</td>\n",
       "      <td>2.73</td>\n",
       "      <td>2</td>\n",
       "    </tr>\n",
       "    <tr>\n",
       "      <th>7</th>\n",
       "      <td>Cargo</td>\n",
       "      <td>15_cargo_trade_growth_global</td>\n",
       "      <td>Macro-level trends influencing aviation growth...</td>\n",
       "      <td>Adapt strategy to respond to geopolitical, eco...</td>\n",
       "      <td>Medium</td>\n",
       "      <td>2.48</td>\n",
       "      <td>5</td>\n",
       "    </tr>\n",
       "    <tr>\n",
       "      <th>8</th>\n",
       "      <td>Settlement/BSP</td>\n",
       "      <td>2_settlement_billion_processed_bsp</td>\n",
       "      <td>Evolution of industry financial frameworks (e....</td>\n",
       "      <td>Upgrade payment systems and optimize cash flow...</td>\n",
       "      <td>Low</td>\n",
       "      <td>7.02</td>\n",
       "      <td>-1</td>\n",
       "    </tr>\n",
       "    <tr>\n",
       "      <th>9</th>\n",
       "      <td>Global Governments</td>\n",
       "      <td>4_global_governments_important_great</td>\n",
       "      <td>Macro-level trends influencing aviation growth...</td>\n",
       "      <td>Adapt strategy to respond to geopolitical, eco...</td>\n",
       "      <td>Low</td>\n",
       "      <td>5.91</td>\n",
       "      <td>-7</td>\n",
       "    </tr>\n",
       "    <tr>\n",
       "      <th>10</th>\n",
       "      <td>Baggage</td>\n",
       "      <td>6_baggage_fast travel_fast_boarding</td>\n",
       "      <td>Passenger expectations for efficient baggage s...</td>\n",
       "      <td>Introduce real-time tracking and self-service ...</td>\n",
       "      <td>Low</td>\n",
       "      <td>3.72</td>\n",
       "      <td>-4</td>\n",
       "    </tr>\n",
       "    <tr>\n",
       "      <th>11</th>\n",
       "      <td>COVID‑19</td>\n",
       "      <td>11_covid-19_health_testing_travel</td>\n",
       "      <td>Operational disruption and long-term resilienc...</td>\n",
       "      <td>Invest in flexible operating models and health...</td>\n",
       "      <td>Low</td>\n",
       "      <td>2.85</td>\n",
       "      <td>0</td>\n",
       "    </tr>\n",
       "    <tr>\n",
       "      <th>12</th>\n",
       "      <td>China</td>\n",
       "      <td>12_china_cargo_latam_express</td>\n",
       "      <td>Cargo remains a strong revenue pillar post-pan...</td>\n",
       "      <td>Expand dedicated cargo capacity and invest in ...</td>\n",
       "      <td>Low</td>\n",
       "      <td>2.85</td>\n",
       "      <td>-3</td>\n",
       "    </tr>\n",
       "    <tr>\n",
       "      <th>13</th>\n",
       "      <td>Data &amp; AI</td>\n",
       "      <td>14_data_intelligence_consulting_cargois</td>\n",
       "      <td>Cargo remains a strong revenue pillar post-pan...</td>\n",
       "      <td>Expand dedicated cargo capacity and invest in ...</td>\n",
       "      <td>Low</td>\n",
       "      <td>2.73</td>\n",
       "      <td>-1</td>\n",
       "    </tr>\n",
       "    <tr>\n",
       "      <th>14</th>\n",
       "      <td>Training</td>\n",
       "      <td>19_training_itdi_strategic_courses</td>\n",
       "      <td>Need to attract and upskill talent amid workfo...</td>\n",
       "      <td>Expand digital learning and modernise aviation...</td>\n",
       "      <td>Low</td>\n",
       "      <td>2.11</td>\n",
       "      <td>-1</td>\n",
       "    </tr>\n",
       "  </tbody>\n",
       "</table>\n",
       "</div>"
      ],
      "text/plain": [
       "                             Trend  \\\n",
       "0                           Safety   \n",
       "1   Airport Charges/Infrastructure   \n",
       "2                              SAF   \n",
       "3                         Security   \n",
       "4                Cargo & E-Freight   \n",
       "5                   Markets Growth   \n",
       "6                              Tax   \n",
       "7                            Cargo   \n",
       "8                   Settlement/BSP   \n",
       "9               Global Governments   \n",
       "10                         Baggage   \n",
       "11                        COVID‑19   \n",
       "12                           China   \n",
       "13                       Data & AI   \n",
       "14                        Training   \n",
       "\n",
       "                                     Detected Label  \\\n",
       "0                  0_safety_iosa_accidents_accident   \n",
       "1         3_charges_airport_airports_infrastructure   \n",
       "2                 8_saf_corsia_emissions_production   \n",
       "3   1_security_information_smart security_passenger   \n",
       "4                   7_cargo_e-freight_freight_e-awb   \n",
       "5                    10_markets_growth_load_premium   \n",
       "6                  13_tax_taxes_taxation_government   \n",
       "7                      15_cargo_trade_growth_global   \n",
       "8                2_settlement_billion_processed_bsp   \n",
       "9              4_global_governments_important_great   \n",
       "10              6_baggage_fast travel_fast_boarding   \n",
       "11                11_covid-19_health_testing_travel   \n",
       "12                     12_china_cargo_latam_express   \n",
       "13          14_data_intelligence_consulting_cargois   \n",
       "14               19_training_itdi_strategic_courses   \n",
       "\n",
       "                                          Implication  \\\n",
       "0   Ongoing emphasis on flight and operational saf...   \n",
       "1   Rising airport and regulatory charges impactin...   \n",
       "2   Industry push for sustainable fuels to meet ne...   \n",
       "3   Need for secure and seamless passenger identit...   \n",
       "4   Cargo remains a strong revenue pillar post-pan...   \n",
       "5   Shifting demand patterns and regional recovery...   \n",
       "6   Growing tax pressures from governments on avia...   \n",
       "7   Macro-level trends influencing aviation growth...   \n",
       "8   Evolution of industry financial frameworks (e....   \n",
       "9   Macro-level trends influencing aviation growth...   \n",
       "10  Passenger expectations for efficient baggage s...   \n",
       "11  Operational disruption and long-term resilienc...   \n",
       "12  Cargo remains a strong revenue pillar post-pan...   \n",
       "13  Cargo remains a strong revenue pillar post-pan...   \n",
       "14  Need to attract and upskill talent amid workfo...   \n",
       "\n",
       "                                     Ongoing Activity Priority (Recommended)  \\\n",
       "0   Invest in IOSA certification, risk management,...                   High   \n",
       "1   Advocate for transparency and collaborate on c...                   High   \n",
       "2   Invest in SAF partnerships and explore supply ...                   High   \n",
       "3   Adopt biometric identity systems and enhance c...                 Medium   \n",
       "4   Expand dedicated cargo capacity and invest in ...                 Medium   \n",
       "5   Refocus network planning on high-growth and un...                 Medium   \n",
       "6   Strengthen policy advocacy and evaluate operat...                 Medium   \n",
       "7   Adapt strategy to respond to geopolitical, eco...                 Medium   \n",
       "8   Upgrade payment systems and optimize cash flow...                    Low   \n",
       "9   Adapt strategy to respond to geopolitical, eco...                    Low   \n",
       "10  Introduce real-time tracking and self-service ...                    Low   \n",
       "11  Invest in flexible operating models and health...                    Low   \n",
       "12  Expand dedicated cargo capacity and invest in ...                    Low   \n",
       "13  Expand dedicated cargo capacity and invest in ...                    Low   \n",
       "14  Expand digital learning and modernise aviation...                    Low   \n",
       "\n",
       "    Keyword Fraction (%)  Topic Growth  \n",
       "0                   9.62             7  \n",
       "1                   6.03             6  \n",
       "2                   3.47            15  \n",
       "3                   8.01             4  \n",
       "4                   3.68             2  \n",
       "5                   2.93             1  \n",
       "6                   2.73             2  \n",
       "7                   2.48             5  \n",
       "8                   7.02            -1  \n",
       "9                   5.91            -7  \n",
       "10                  3.72            -4  \n",
       "11                  2.85             0  \n",
       "12                  2.85            -3  \n",
       "13                  2.73            -1  \n",
       "14                  2.11            -1  "
      ]
     },
     "metadata": {},
     "output_type": "display_data"
    },
    {
     "name": "stdout",
     "output_type": "stream",
     "text": [
      "\n",
      "Saved opportunity table to: ../outputs/business_opportunities.csv\n"
     ]
    }
   ],
   "source": [
    "# ===============================================\n",
    "# Generate a table matching trends to business\n",
    "# opportunities, and assign a priority ranking\n",
    "# based on trend size and growth\n",
    "# ===============================================\n",
    "\n",
    "#matched_opportunities_df, unmatched_topics = generate_opportunity_table(topic_model, topics_over_time)\n",
    "#matched_opportunities_df, unmatched_topics = generate_opportunity_table(topic_model, filtered_topics)\n",
    "matched_opportunities_df, unmatched_topics = generate_opportunity_table(topic_model, filtered_topics, clean_labels=clean_labels)\n",
    "\n",
    "print(f\"Filtering (if any): {model_label}\")\n",
    "print(f\"Model Name: {model_name}\\n\")\n",
    "print(\"=== Matched Business Opportunities ===\\n\")\n",
    "display(matched_opportunities_df)\n",
    "\n",
    "# Save table as CSV\n",
    "output_filename = f\"../outputs/business_opportunities.csv\"\n",
    "matched_opportunities_df.to_csv(output_filename, index=False)\n",
    "\n",
    "print(f\"\\nSaved opportunity table to: {output_filename}\")"
   ]
  }
 ],
 "metadata": {
  "kernelspec": {
   "display_name": "Python 3",
   "language": "python",
   "name": "python3"
  },
  "language_info": {
   "codemirror_mode": {
    "name": "ipython",
    "version": 3
   },
   "file_extension": ".py",
   "mimetype": "text/x-python",
   "name": "python",
   "nbconvert_exporter": "python",
   "pygments_lexer": "ipython3",
   "version": "3.10.16"
  }
 },
 "nbformat": 4,
 "nbformat_minor": 5
}
