{
 "cells": [
  {
   "cell_type": "markdown",
   "id": "764c52e8",
   "metadata": {},
   "source": [
    "# Visualise results from model trained in clustering_analysis_training.ipynb\n",
    "\n",
    "Author: Katharine Leney, April 2025"
   ]
  },
  {
   "cell_type": "code",
   "execution_count": 1,
   "id": "42738697",
   "metadata": {},
   "outputs": [],
   "source": [
    "from bertopic import BERTopic # topic modelling\n",
    "import pandas as pd\n",
    "import pickle\n",
    "import os\n",
    "import sys\n",
    "sys.path.append(\"../src\")\n",
    "from helper_functions import parse_model_folder, generate_clean_labels\n",
    "from generate_opportunity_table import generate_opportunity_table"
   ]
  },
  {
   "cell_type": "code",
   "execution_count": 2,
   "id": "3f00276e",
   "metadata": {},
   "outputs": [
    {
     "name": "stdout",
     "output_type": "stream",
     "text": [
      "From 2015 | Excluding 2020, 2021\n"
     ]
    }
   ],
   "source": [
    "# ====================================\n",
    "# Load model and associated data\n",
    "# ====================================\n",
    "\n",
    "#model_name = f\"bertopic_cluster_model_20250425\"\n",
    "model_name = f\"bertopic_cluster_model_from_2015_excl_2020_2021_20250426\"\n",
    "\n",
    "# Load model\n",
    "topic_model = BERTopic.load(os.path.join(\"../models/\", model_name, \"model\"))\n",
    "\n",
    "# Load texts and timestamps\n",
    "with open(os.path.join(\"../models/\", model_name, \"texts.pkl\"), \"rb\") as f:\n",
    "    texts = pickle.load(f)\n",
    "\n",
    "with open(os.path.join(\"../models/\", model_name, \"timestamps.pkl\"), \"rb\") as f:\n",
    "    timestamps = pickle.load(f)\n",
    "\n",
    "model_label = parse_model_folder(model_name)\n",
    "print(model_label)"
   ]
  },
  {
   "cell_type": "code",
   "execution_count": 3,
   "id": "2ac0a6ee",
   "metadata": {},
   "outputs": [
    {
     "data": {
      "text/html": [
       "<div>\n",
       "<style scoped>\n",
       "    .dataframe tbody tr th:only-of-type {\n",
       "        vertical-align: middle;\n",
       "    }\n",
       "\n",
       "    .dataframe tbody tr th {\n",
       "        vertical-align: top;\n",
       "    }\n",
       "\n",
       "    .dataframe thead th {\n",
       "        text-align: right;\n",
       "    }\n",
       "</style>\n",
       "<table border=\"1\" class=\"dataframe\">\n",
       "  <thead>\n",
       "    <tr style=\"text-align: right;\">\n",
       "      <th></th>\n",
       "      <th>Topic</th>\n",
       "      <th>Count</th>\n",
       "      <th>Name</th>\n",
       "      <th>Representation</th>\n",
       "      <th>Representative_Docs</th>\n",
       "    </tr>\n",
       "  </thead>\n",
       "  <tbody>\n",
       "    <tr>\n",
       "      <th>0</th>\n",
       "      <td>-1</td>\n",
       "      <td>170</td>\n",
       "      <td>-1_s_passenger_fuel_passengers</td>\n",
       "      <td>[s, passenger, fuel, passengers, unruly, regul...</td>\n",
       "      <td>[Geneva  Executive  Office  33, Route de l’Aér...</td>\n",
       "    </tr>\n",
       "    <tr>\n",
       "      <th>1</th>\n",
       "      <td>0</td>\n",
       "      <td>199</td>\n",
       "      <td>0_passenger_year_cargo_growth</td>\n",
       "      <td>[passenger, year, cargo, growth, load, demand,...</td>\n",
       "      <td>[Africa Russia Brazil Jan Feb Mar Apr May Jun ...</td>\n",
       "    </tr>\n",
       "    <tr>\n",
       "      <th>2</th>\n",
       "      <td>1</td>\n",
       "      <td>152</td>\n",
       "      <td>1_safety_iosa_accidents_accident</td>\n",
       "      <td>[safety, iosa, accidents, accident, aircraft, ...</td>\n",
       "      <td>[Safety IATA Annual Review 2022 20  All accide...</td>\n",
       "    </tr>\n",
       "    <tr>\n",
       "      <th>3</th>\n",
       "      <td>2</td>\n",
       "      <td>151</td>\n",
       "      <td>2_saf_emissions_carbon_corsia</td>\n",
       "      <td>[saf, emissions, carbon, corsia, environmental...</td>\n",
       "      <td>[Environment &amp; Sustainability 28  IATA Annual ...</td>\n",
       "    </tr>\n",
       "    <tr>\n",
       "      <th>4</th>\n",
       "      <td>3</td>\n",
       "      <td>106</td>\n",
       "      <td>3_airport_charges_infrastructure_airports</td>\n",
       "      <td>[airport, charges, infrastructure, airports, d...</td>\n",
       "      <td>[Cost-efficiency and lower charges Infrastruct...</td>\n",
       "    </tr>\n",
       "    <tr>\n",
       "      <th>5</th>\n",
       "      <td>4</td>\n",
       "      <td>105</td>\n",
       "      <td>4_cargo_data_lithium_ceiv</td>\n",
       "      <td>[cargo, data, lithium, ceiv, e, freight, goods...</td>\n",
       "      <td>[Special cargo Standardized air cargo processe...</td>\n",
       "    </tr>\n",
       "    <tr>\n",
       "      <th>6</th>\n",
       "      <td>5</td>\n",
       "      <td>97</td>\n",
       "      <td>5_security_information_smart security_smart</td>\n",
       "      <td>[security, information, smart security, smart,...</td>\n",
       "      <td>[The UN resolution  confirms ICAO’s leadership...</td>\n",
       "    </tr>\n",
       "    <tr>\n",
       "      <th>7</th>\n",
       "      <td>6</td>\n",
       "      <td>64</td>\n",
       "      <td>6_settlement_billion_processed_iss</td>\n",
       "      <td>[settlement, billion, processed, iss, bsp, fin...</td>\n",
       "      <td>[At  the end of 2017, CASS  was processing 94 ...</td>\n",
       "    </tr>\n",
       "    <tr>\n",
       "      <th>8</th>\n",
       "      <td>7</td>\n",
       "      <td>61</td>\n",
       "      <td>7_ndc_order_travel_airline</td>\n",
       "      <td>[ndc, order, travel, airline, retailing, stand...</td>\n",
       "      <td>[In addition, NDC hackathons  and other initia...</td>\n",
       "    </tr>\n",
       "    <tr>\n",
       "      <th>9</th>\n",
       "      <td>8</td>\n",
       "      <td>49</td>\n",
       "      <td>8_latam_china_cargo_international</td>\n",
       "      <td>[latam, china, cargo, international, express, ...</td>\n",
       "      <td>[Members’ list IATA Annual Review 2022 4  A AB...</td>\n",
       "    </tr>\n",
       "  </tbody>\n",
       "</table>\n",
       "</div>"
      ],
      "text/plain": [
       "   Topic  Count                                         Name  \\\n",
       "0     -1    170               -1_s_passenger_fuel_passengers   \n",
       "1      0    199                0_passenger_year_cargo_growth   \n",
       "2      1    152             1_safety_iosa_accidents_accident   \n",
       "3      2    151                2_saf_emissions_carbon_corsia   \n",
       "4      3    106    3_airport_charges_infrastructure_airports   \n",
       "5      4    105                    4_cargo_data_lithium_ceiv   \n",
       "6      5     97  5_security_information_smart security_smart   \n",
       "7      6     64           6_settlement_billion_processed_iss   \n",
       "8      7     61                   7_ndc_order_travel_airline   \n",
       "9      8     49            8_latam_china_cargo_international   \n",
       "\n",
       "                                      Representation  \\\n",
       "0  [s, passenger, fuel, passengers, unruly, regul...   \n",
       "1  [passenger, year, cargo, growth, load, demand,...   \n",
       "2  [safety, iosa, accidents, accident, aircraft, ...   \n",
       "3  [saf, emissions, carbon, corsia, environmental...   \n",
       "4  [airport, charges, infrastructure, airports, d...   \n",
       "5  [cargo, data, lithium, ceiv, e, freight, goods...   \n",
       "6  [security, information, smart security, smart,...   \n",
       "7  [settlement, billion, processed, iss, bsp, fin...   \n",
       "8  [ndc, order, travel, airline, retailing, stand...   \n",
       "9  [latam, china, cargo, international, express, ...   \n",
       "\n",
       "                                 Representative_Docs  \n",
       "0  [Geneva  Executive  Office  33, Route de l’Aér...  \n",
       "1  [Africa Russia Brazil Jan Feb Mar Apr May Jun ...  \n",
       "2  [Safety IATA Annual Review 2022 20  All accide...  \n",
       "3  [Environment & Sustainability 28  IATA Annual ...  \n",
       "4  [Cost-efficiency and lower charges Infrastruct...  \n",
       "5  [Special cargo Standardized air cargo processe...  \n",
       "6  [The UN resolution  confirms ICAO’s leadership...  \n",
       "7  [At  the end of 2017, CASS  was processing 94 ...  \n",
       "8  [In addition, NDC hackathons  and other initia...  \n",
       "9  [Members’ list IATA Annual Review 2022 4  A AB...  "
      ]
     },
     "execution_count": 3,
     "metadata": {},
     "output_type": "execute_result"
    }
   ],
   "source": [
    "# Explore top topics\n",
    "topic_model.get_topic_info().head(10)\n",
    "#topic_model.get_topic_info()"
   ]
  },
  {
   "cell_type": "code",
   "execution_count": 4,
   "id": "185fc284",
   "metadata": {},
   "outputs": [
    {
     "data": {
      "application/vnd.plotly.v1+json": {
       "config": {
        "plotlyServerURL": "https://plot.ly"
       },
       "data": [
        {
         "customdata": [
          [
           0,
           "passenger | year | cargo | growth | load",
           199
          ],
          [
           1,
           "safety | iosa | accidents | accident | aircraft",
           152
          ],
          [
           2,
           "saf | emissions | carbon | corsia | environmental",
           151
          ],
          [
           3,
           "airport | charges | infrastructure | airports | development",
           106
          ],
          [
           4,
           "cargo | data | lithium | ceiv | e",
           105
          ],
          [
           5,
           "security | information | smart security | smart | risk",
           97
          ],
          [
           6,
           "settlement | billion | processed | iss | bsp",
           64
          ],
          [
           7,
           "ndc | order | travel | airline | retailing",
           61
          ],
          [
           8,
           "latam | china | cargo | international | express",
           49
          ],
          [
           9,
           "annual | commercial | world | contents | s",
           48
          ],
          [
           10,
           "travel | passengers | experience | id | identity",
           48
          ],
          [
           11,
           "board | group | governors | board governors | chair",
           42
          ],
          [
           12,
           "tax | taxes | taxation | government | international",
           40
          ],
          [
           13,
           "slot | wsg | slots | regulation | capacity",
           30
          ],
          [
           14,
           "diversity | inclusion | diversity inclusion | female | gender",
           30
          ],
          [
           15,
           "regulation | rights | consumer | passenger rights | consumer protection",
           25
          ]
         ],
         "hovertemplate": "<b>Topic %{customdata[0]}</b><br>%{customdata[1]}<br>Size: %{customdata[2]}",
         "legendgroup": "",
         "marker": {
          "color": "#B0BEC5",
          "line": {
           "color": "DarkSlateGrey",
           "width": 2
          },
          "size": {
           "bdata": "xwCYAJcAagBpAGEAQAA9ADEAMAAwACoAKAAeAB4AGQA=",
           "dtype": "i2"
          },
          "sizemode": "area",
          "sizeref": 0.124375,
          "symbol": "circle"
         },
         "mode": "markers",
         "name": "",
         "orientation": "v",
         "showlegend": false,
         "type": "scatter",
         "x": {
          "bdata": "LSqaQZ0hasGR7xrBbNYfwYgHUT/WHGPByeUlwSp0Fj/zQ5ZBzoaVQWYJZMEYBJRBxMQiwTy9FsH7NZpBxrURwQ==",
          "dtype": "f4"
         },
         "xaxis": "x",
         "y": {
          "bdata": "4TyBwOqShUEG7xtBhjYVQU2yZMEREoJB07QbQXhbaMGcYYLAuveKwGqIgkF4SWPAIrIRQclUD0F2ekjA52kLQQ==",
          "dtype": "f4"
         },
         "yaxis": "y"
        }
       ],
       "layout": {
        "annotations": [
         {
          "showarrow": false,
          "text": "D1",
          "x": -16.82818732261658,
          "y": 1.2502823829650875,
          "yshift": 10
         },
         {
          "showarrow": false,
          "text": "D2",
          "x": 2.6698119878768907,
          "xshift": 10,
          "y": 19.20124568939209
         }
        ],
        "font": {
         "family": "Arial"
        },
        "height": 800,
        "hoverlabel": {
         "bgcolor": "white",
         "font": {
          "family": "Rockwell",
          "size": 16
         }
        },
        "legend": {
         "itemsizing": "constant",
         "orientation": "h",
         "tracegroupgap": 0,
         "x": 0.5,
         "xanchor": "center",
         "y": 1.02,
         "yanchor": "bottom"
        },
        "margin": {
         "t": 60
        },
        "paper_bgcolor": "white",
        "plot_bgcolor": "white",
        "shapes": [
         {
          "line": {
           "color": "#CFD8DC",
           "width": 2
          },
          "type": "line",
          "x0": 2.6698119878768907,
          "x1": 2.6698119878768907,
          "y0": -16.700680923461913,
          "y1": 19.20124568939209
         },
         {
          "line": {
           "color": "#9E9E9E",
           "width": 2
          },
          "type": "line",
          "x0": -16.82818732261658,
          "x1": 22.16781129837036,
          "y0": 1.2502823829650875,
          "y1": 1.2502823829650875
         }
        ],
        "sliders": [
         {
          "active": 0,
          "pad": {
           "t": 50
          },
          "steps": [
           {
            "args": [
             {
              "marker.color": [
               [
                "red",
                "#B0BEC5",
                "#B0BEC5",
                "#B0BEC5",
                "#B0BEC5",
                "#B0BEC5",
                "#B0BEC5",
                "#B0BEC5",
                "#B0BEC5",
                "#B0BEC5",
                "#B0BEC5",
                "#B0BEC5",
                "#B0BEC5",
                "#B0BEC5",
                "#B0BEC5",
                "#B0BEC5"
               ]
              ]
             }
            ],
            "label": "Topic 0",
            "method": "update"
           },
           {
            "args": [
             {
              "marker.color": [
               [
                "#B0BEC5",
                "red",
                "#B0BEC5",
                "#B0BEC5",
                "#B0BEC5",
                "#B0BEC5",
                "#B0BEC5",
                "#B0BEC5",
                "#B0BEC5",
                "#B0BEC5",
                "#B0BEC5",
                "#B0BEC5",
                "#B0BEC5",
                "#B0BEC5",
                "#B0BEC5",
                "#B0BEC5"
               ]
              ]
             }
            ],
            "label": "Topic 1",
            "method": "update"
           },
           {
            "args": [
             {
              "marker.color": [
               [
                "#B0BEC5",
                "#B0BEC5",
                "red",
                "#B0BEC5",
                "#B0BEC5",
                "#B0BEC5",
                "#B0BEC5",
                "#B0BEC5",
                "#B0BEC5",
                "#B0BEC5",
                "#B0BEC5",
                "#B0BEC5",
                "#B0BEC5",
                "#B0BEC5",
                "#B0BEC5",
                "#B0BEC5"
               ]
              ]
             }
            ],
            "label": "Topic 2",
            "method": "update"
           },
           {
            "args": [
             {
              "marker.color": [
               [
                "#B0BEC5",
                "#B0BEC5",
                "#B0BEC5",
                "red",
                "#B0BEC5",
                "#B0BEC5",
                "#B0BEC5",
                "#B0BEC5",
                "#B0BEC5",
                "#B0BEC5",
                "#B0BEC5",
                "#B0BEC5",
                "#B0BEC5",
                "#B0BEC5",
                "#B0BEC5",
                "#B0BEC5"
               ]
              ]
             }
            ],
            "label": "Topic 3",
            "method": "update"
           },
           {
            "args": [
             {
              "marker.color": [
               [
                "#B0BEC5",
                "#B0BEC5",
                "#B0BEC5",
                "#B0BEC5",
                "red",
                "#B0BEC5",
                "#B0BEC5",
                "#B0BEC5",
                "#B0BEC5",
                "#B0BEC5",
                "#B0BEC5",
                "#B0BEC5",
                "#B0BEC5",
                "#B0BEC5",
                "#B0BEC5",
                "#B0BEC5"
               ]
              ]
             }
            ],
            "label": "Topic 4",
            "method": "update"
           },
           {
            "args": [
             {
              "marker.color": [
               [
                "#B0BEC5",
                "#B0BEC5",
                "#B0BEC5",
                "#B0BEC5",
                "#B0BEC5",
                "red",
                "#B0BEC5",
                "#B0BEC5",
                "#B0BEC5",
                "#B0BEC5",
                "#B0BEC5",
                "#B0BEC5",
                "#B0BEC5",
                "#B0BEC5",
                "#B0BEC5",
                "#B0BEC5"
               ]
              ]
             }
            ],
            "label": "Topic 5",
            "method": "update"
           },
           {
            "args": [
             {
              "marker.color": [
               [
                "#B0BEC5",
                "#B0BEC5",
                "#B0BEC5",
                "#B0BEC5",
                "#B0BEC5",
                "#B0BEC5",
                "red",
                "#B0BEC5",
                "#B0BEC5",
                "#B0BEC5",
                "#B0BEC5",
                "#B0BEC5",
                "#B0BEC5",
                "#B0BEC5",
                "#B0BEC5",
                "#B0BEC5"
               ]
              ]
             }
            ],
            "label": "Topic 6",
            "method": "update"
           },
           {
            "args": [
             {
              "marker.color": [
               [
                "#B0BEC5",
                "#B0BEC5",
                "#B0BEC5",
                "#B0BEC5",
                "#B0BEC5",
                "#B0BEC5",
                "#B0BEC5",
                "red",
                "#B0BEC5",
                "#B0BEC5",
                "#B0BEC5",
                "#B0BEC5",
                "#B0BEC5",
                "#B0BEC5",
                "#B0BEC5",
                "#B0BEC5"
               ]
              ]
             }
            ],
            "label": "Topic 7",
            "method": "update"
           },
           {
            "args": [
             {
              "marker.color": [
               [
                "#B0BEC5",
                "#B0BEC5",
                "#B0BEC5",
                "#B0BEC5",
                "#B0BEC5",
                "#B0BEC5",
                "#B0BEC5",
                "#B0BEC5",
                "red",
                "#B0BEC5",
                "#B0BEC5",
                "#B0BEC5",
                "#B0BEC5",
                "#B0BEC5",
                "#B0BEC5",
                "#B0BEC5"
               ]
              ]
             }
            ],
            "label": "Topic 8",
            "method": "update"
           },
           {
            "args": [
             {
              "marker.color": [
               [
                "#B0BEC5",
                "#B0BEC5",
                "#B0BEC5",
                "#B0BEC5",
                "#B0BEC5",
                "#B0BEC5",
                "#B0BEC5",
                "#B0BEC5",
                "#B0BEC5",
                "red",
                "#B0BEC5",
                "#B0BEC5",
                "#B0BEC5",
                "#B0BEC5",
                "#B0BEC5",
                "#B0BEC5"
               ]
              ]
             }
            ],
            "label": "Topic 9",
            "method": "update"
           },
           {
            "args": [
             {
              "marker.color": [
               [
                "#B0BEC5",
                "#B0BEC5",
                "#B0BEC5",
                "#B0BEC5",
                "#B0BEC5",
                "#B0BEC5",
                "#B0BEC5",
                "#B0BEC5",
                "#B0BEC5",
                "#B0BEC5",
                "red",
                "#B0BEC5",
                "#B0BEC5",
                "#B0BEC5",
                "#B0BEC5",
                "#B0BEC5"
               ]
              ]
             }
            ],
            "label": "Topic 10",
            "method": "update"
           },
           {
            "args": [
             {
              "marker.color": [
               [
                "#B0BEC5",
                "#B0BEC5",
                "#B0BEC5",
                "#B0BEC5",
                "#B0BEC5",
                "#B0BEC5",
                "#B0BEC5",
                "#B0BEC5",
                "#B0BEC5",
                "#B0BEC5",
                "#B0BEC5",
                "red",
                "#B0BEC5",
                "#B0BEC5",
                "#B0BEC5",
                "#B0BEC5"
               ]
              ]
             }
            ],
            "label": "Topic 11",
            "method": "update"
           },
           {
            "args": [
             {
              "marker.color": [
               [
                "#B0BEC5",
                "#B0BEC5",
                "#B0BEC5",
                "#B0BEC5",
                "#B0BEC5",
                "#B0BEC5",
                "#B0BEC5",
                "#B0BEC5",
                "#B0BEC5",
                "#B0BEC5",
                "#B0BEC5",
                "#B0BEC5",
                "red",
                "#B0BEC5",
                "#B0BEC5",
                "#B0BEC5"
               ]
              ]
             }
            ],
            "label": "Topic 12",
            "method": "update"
           },
           {
            "args": [
             {
              "marker.color": [
               [
                "#B0BEC5",
                "#B0BEC5",
                "#B0BEC5",
                "#B0BEC5",
                "#B0BEC5",
                "#B0BEC5",
                "#B0BEC5",
                "#B0BEC5",
                "#B0BEC5",
                "#B0BEC5",
                "#B0BEC5",
                "#B0BEC5",
                "#B0BEC5",
                "red",
                "#B0BEC5",
                "#B0BEC5"
               ]
              ]
             }
            ],
            "label": "Topic 13",
            "method": "update"
           },
           {
            "args": [
             {
              "marker.color": [
               [
                "#B0BEC5",
                "#B0BEC5",
                "#B0BEC5",
                "#B0BEC5",
                "#B0BEC5",
                "#B0BEC5",
                "#B0BEC5",
                "#B0BEC5",
                "#B0BEC5",
                "#B0BEC5",
                "#B0BEC5",
                "#B0BEC5",
                "#B0BEC5",
                "#B0BEC5",
                "red",
                "#B0BEC5"
               ]
              ]
             }
            ],
            "label": "Topic 14",
            "method": "update"
           },
           {
            "args": [
             {
              "marker.color": [
               [
                "#B0BEC5",
                "#B0BEC5",
                "#B0BEC5",
                "#B0BEC5",
                "#B0BEC5",
                "#B0BEC5",
                "#B0BEC5",
                "#B0BEC5",
                "#B0BEC5",
                "#B0BEC5",
                "#B0BEC5",
                "#B0BEC5",
                "#B0BEC5",
                "#B0BEC5",
                "#B0BEC5",
                "red"
               ]
              ]
             }
            ],
            "label": "Topic 15",
            "method": "update"
           }
          ]
         }
        ],
        "template": {
         "data": {
          "bar": [
           {
            "error_x": {
             "color": "rgb(36,36,36)"
            },
            "error_y": {
             "color": "rgb(36,36,36)"
            },
            "marker": {
             "line": {
              "color": "white",
              "width": 0.5
             },
             "pattern": {
              "fillmode": "overlay",
              "size": 10,
              "solidity": 0.2
             }
            },
            "type": "bar"
           }
          ],
          "barpolar": [
           {
            "marker": {
             "line": {
              "color": "white",
              "width": 0.5
             },
             "pattern": {
              "fillmode": "overlay",
              "size": 10,
              "solidity": 0.2
             }
            },
            "type": "barpolar"
           }
          ],
          "carpet": [
           {
            "aaxis": {
             "endlinecolor": "rgb(36,36,36)",
             "gridcolor": "white",
             "linecolor": "white",
             "minorgridcolor": "white",
             "startlinecolor": "rgb(36,36,36)"
            },
            "baxis": {
             "endlinecolor": "rgb(36,36,36)",
             "gridcolor": "white",
             "linecolor": "white",
             "minorgridcolor": "white",
             "startlinecolor": "rgb(36,36,36)"
            },
            "type": "carpet"
           }
          ],
          "choropleth": [
           {
            "colorbar": {
             "outlinewidth": 1,
             "tickcolor": "rgb(36,36,36)",
             "ticks": "outside"
            },
            "type": "choropleth"
           }
          ],
          "contour": [
           {
            "colorbar": {
             "outlinewidth": 1,
             "tickcolor": "rgb(36,36,36)",
             "ticks": "outside"
            },
            "colorscale": [
             [
              0,
              "#440154"
             ],
             [
              0.1111111111111111,
              "#482878"
             ],
             [
              0.2222222222222222,
              "#3e4989"
             ],
             [
              0.3333333333333333,
              "#31688e"
             ],
             [
              0.4444444444444444,
              "#26828e"
             ],
             [
              0.5555555555555556,
              "#1f9e89"
             ],
             [
              0.6666666666666666,
              "#35b779"
             ],
             [
              0.7777777777777778,
              "#6ece58"
             ],
             [
              0.8888888888888888,
              "#b5de2b"
             ],
             [
              1,
              "#fde725"
             ]
            ],
            "type": "contour"
           }
          ],
          "contourcarpet": [
           {
            "colorbar": {
             "outlinewidth": 1,
             "tickcolor": "rgb(36,36,36)",
             "ticks": "outside"
            },
            "type": "contourcarpet"
           }
          ],
          "heatmap": [
           {
            "colorbar": {
             "outlinewidth": 1,
             "tickcolor": "rgb(36,36,36)",
             "ticks": "outside"
            },
            "colorscale": [
             [
              0,
              "#440154"
             ],
             [
              0.1111111111111111,
              "#482878"
             ],
             [
              0.2222222222222222,
              "#3e4989"
             ],
             [
              0.3333333333333333,
              "#31688e"
             ],
             [
              0.4444444444444444,
              "#26828e"
             ],
             [
              0.5555555555555556,
              "#1f9e89"
             ],
             [
              0.6666666666666666,
              "#35b779"
             ],
             [
              0.7777777777777778,
              "#6ece58"
             ],
             [
              0.8888888888888888,
              "#b5de2b"
             ],
             [
              1,
              "#fde725"
             ]
            ],
            "type": "heatmap"
           }
          ],
          "histogram": [
           {
            "marker": {
             "line": {
              "color": "white",
              "width": 0.6
             }
            },
            "type": "histogram"
           }
          ],
          "histogram2d": [
           {
            "colorbar": {
             "outlinewidth": 1,
             "tickcolor": "rgb(36,36,36)",
             "ticks": "outside"
            },
            "colorscale": [
             [
              0,
              "#440154"
             ],
             [
              0.1111111111111111,
              "#482878"
             ],
             [
              0.2222222222222222,
              "#3e4989"
             ],
             [
              0.3333333333333333,
              "#31688e"
             ],
             [
              0.4444444444444444,
              "#26828e"
             ],
             [
              0.5555555555555556,
              "#1f9e89"
             ],
             [
              0.6666666666666666,
              "#35b779"
             ],
             [
              0.7777777777777778,
              "#6ece58"
             ],
             [
              0.8888888888888888,
              "#b5de2b"
             ],
             [
              1,
              "#fde725"
             ]
            ],
            "type": "histogram2d"
           }
          ],
          "histogram2dcontour": [
           {
            "colorbar": {
             "outlinewidth": 1,
             "tickcolor": "rgb(36,36,36)",
             "ticks": "outside"
            },
            "colorscale": [
             [
              0,
              "#440154"
             ],
             [
              0.1111111111111111,
              "#482878"
             ],
             [
              0.2222222222222222,
              "#3e4989"
             ],
             [
              0.3333333333333333,
              "#31688e"
             ],
             [
              0.4444444444444444,
              "#26828e"
             ],
             [
              0.5555555555555556,
              "#1f9e89"
             ],
             [
              0.6666666666666666,
              "#35b779"
             ],
             [
              0.7777777777777778,
              "#6ece58"
             ],
             [
              0.8888888888888888,
              "#b5de2b"
             ],
             [
              1,
              "#fde725"
             ]
            ],
            "type": "histogram2dcontour"
           }
          ],
          "mesh3d": [
           {
            "colorbar": {
             "outlinewidth": 1,
             "tickcolor": "rgb(36,36,36)",
             "ticks": "outside"
            },
            "type": "mesh3d"
           }
          ],
          "parcoords": [
           {
            "line": {
             "colorbar": {
              "outlinewidth": 1,
              "tickcolor": "rgb(36,36,36)",
              "ticks": "outside"
             }
            },
            "type": "parcoords"
           }
          ],
          "pie": [
           {
            "automargin": true,
            "type": "pie"
           }
          ],
          "scatter": [
           {
            "fillpattern": {
             "fillmode": "overlay",
             "size": 10,
             "solidity": 0.2
            },
            "type": "scatter"
           }
          ],
          "scatter3d": [
           {
            "line": {
             "colorbar": {
              "outlinewidth": 1,
              "tickcolor": "rgb(36,36,36)",
              "ticks": "outside"
             }
            },
            "marker": {
             "colorbar": {
              "outlinewidth": 1,
              "tickcolor": "rgb(36,36,36)",
              "ticks": "outside"
             }
            },
            "type": "scatter3d"
           }
          ],
          "scattercarpet": [
           {
            "marker": {
             "colorbar": {
              "outlinewidth": 1,
              "tickcolor": "rgb(36,36,36)",
              "ticks": "outside"
             }
            },
            "type": "scattercarpet"
           }
          ],
          "scattergeo": [
           {
            "marker": {
             "colorbar": {
              "outlinewidth": 1,
              "tickcolor": "rgb(36,36,36)",
              "ticks": "outside"
             }
            },
            "type": "scattergeo"
           }
          ],
          "scattergl": [
           {
            "marker": {
             "colorbar": {
              "outlinewidth": 1,
              "tickcolor": "rgb(36,36,36)",
              "ticks": "outside"
             }
            },
            "type": "scattergl"
           }
          ],
          "scattermap": [
           {
            "marker": {
             "colorbar": {
              "outlinewidth": 1,
              "tickcolor": "rgb(36,36,36)",
              "ticks": "outside"
             }
            },
            "type": "scattermap"
           }
          ],
          "scattermapbox": [
           {
            "marker": {
             "colorbar": {
              "outlinewidth": 1,
              "tickcolor": "rgb(36,36,36)",
              "ticks": "outside"
             }
            },
            "type": "scattermapbox"
           }
          ],
          "scatterpolar": [
           {
            "marker": {
             "colorbar": {
              "outlinewidth": 1,
              "tickcolor": "rgb(36,36,36)",
              "ticks": "outside"
             }
            },
            "type": "scatterpolar"
           }
          ],
          "scatterpolargl": [
           {
            "marker": {
             "colorbar": {
              "outlinewidth": 1,
              "tickcolor": "rgb(36,36,36)",
              "ticks": "outside"
             }
            },
            "type": "scatterpolargl"
           }
          ],
          "scatterternary": [
           {
            "marker": {
             "colorbar": {
              "outlinewidth": 1,
              "tickcolor": "rgb(36,36,36)",
              "ticks": "outside"
             }
            },
            "type": "scatterternary"
           }
          ],
          "surface": [
           {
            "colorbar": {
             "outlinewidth": 1,
             "tickcolor": "rgb(36,36,36)",
             "ticks": "outside"
            },
            "colorscale": [
             [
              0,
              "#440154"
             ],
             [
              0.1111111111111111,
              "#482878"
             ],
             [
              0.2222222222222222,
              "#3e4989"
             ],
             [
              0.3333333333333333,
              "#31688e"
             ],
             [
              0.4444444444444444,
              "#26828e"
             ],
             [
              0.5555555555555556,
              "#1f9e89"
             ],
             [
              0.6666666666666666,
              "#35b779"
             ],
             [
              0.7777777777777778,
              "#6ece58"
             ],
             [
              0.8888888888888888,
              "#b5de2b"
             ],
             [
              1,
              "#fde725"
             ]
            ],
            "type": "surface"
           }
          ],
          "table": [
           {
            "cells": {
             "fill": {
              "color": "rgb(237,237,237)"
             },
             "line": {
              "color": "white"
             }
            },
            "header": {
             "fill": {
              "color": "rgb(217,217,217)"
             },
             "line": {
              "color": "white"
             }
            },
            "type": "table"
           }
          ]
         },
         "layout": {
          "annotationdefaults": {
           "arrowhead": 0,
           "arrowwidth": 1
          },
          "autotypenumbers": "strict",
          "coloraxis": {
           "colorbar": {
            "outlinewidth": 1,
            "tickcolor": "rgb(36,36,36)",
            "ticks": "outside"
           }
          },
          "colorscale": {
           "diverging": [
            [
             0,
             "rgb(103,0,31)"
            ],
            [
             0.1,
             "rgb(178,24,43)"
            ],
            [
             0.2,
             "rgb(214,96,77)"
            ],
            [
             0.3,
             "rgb(244,165,130)"
            ],
            [
             0.4,
             "rgb(253,219,199)"
            ],
            [
             0.5,
             "rgb(247,247,247)"
            ],
            [
             0.6,
             "rgb(209,229,240)"
            ],
            [
             0.7,
             "rgb(146,197,222)"
            ],
            [
             0.8,
             "rgb(67,147,195)"
            ],
            [
             0.9,
             "rgb(33,102,172)"
            ],
            [
             1,
             "rgb(5,48,97)"
            ]
           ],
           "sequential": [
            [
             0,
             "#440154"
            ],
            [
             0.1111111111111111,
             "#482878"
            ],
            [
             0.2222222222222222,
             "#3e4989"
            ],
            [
             0.3333333333333333,
             "#31688e"
            ],
            [
             0.4444444444444444,
             "#26828e"
            ],
            [
             0.5555555555555556,
             "#1f9e89"
            ],
            [
             0.6666666666666666,
             "#35b779"
            ],
            [
             0.7777777777777778,
             "#6ece58"
            ],
            [
             0.8888888888888888,
             "#b5de2b"
            ],
            [
             1,
             "#fde725"
            ]
           ],
           "sequentialminus": [
            [
             0,
             "#440154"
            ],
            [
             0.1111111111111111,
             "#482878"
            ],
            [
             0.2222222222222222,
             "#3e4989"
            ],
            [
             0.3333333333333333,
             "#31688e"
            ],
            [
             0.4444444444444444,
             "#26828e"
            ],
            [
             0.5555555555555556,
             "#1f9e89"
            ],
            [
             0.6666666666666666,
             "#35b779"
            ],
            [
             0.7777777777777778,
             "#6ece58"
            ],
            [
             0.8888888888888888,
             "#b5de2b"
            ],
            [
             1,
             "#fde725"
            ]
           ]
          },
          "colorway": [
           "#1F77B4",
           "#FF7F0E",
           "#2CA02C",
           "#D62728",
           "#9467BD",
           "#8C564B",
           "#E377C2",
           "#7F7F7F",
           "#BCBD22",
           "#17BECF"
          ],
          "font": {
           "color": "rgb(36,36,36)"
          },
          "geo": {
           "bgcolor": "white",
           "lakecolor": "white",
           "landcolor": "white",
           "showlakes": true,
           "showland": true,
           "subunitcolor": "white"
          },
          "hoverlabel": {
           "align": "left"
          },
          "hovermode": "closest",
          "mapbox": {
           "style": "light"
          },
          "paper_bgcolor": "white",
          "plot_bgcolor": "white",
          "polar": {
           "angularaxis": {
            "gridcolor": "rgb(232,232,232)",
            "linecolor": "rgb(36,36,36)",
            "showgrid": false,
            "showline": true,
            "ticks": "outside"
           },
           "bgcolor": "white",
           "radialaxis": {
            "gridcolor": "rgb(232,232,232)",
            "linecolor": "rgb(36,36,36)",
            "showgrid": false,
            "showline": true,
            "ticks": "outside"
           }
          },
          "scene": {
           "xaxis": {
            "backgroundcolor": "white",
            "gridcolor": "rgb(232,232,232)",
            "gridwidth": 2,
            "linecolor": "rgb(36,36,36)",
            "showbackground": true,
            "showgrid": false,
            "showline": true,
            "ticks": "outside",
            "zeroline": false,
            "zerolinecolor": "rgb(36,36,36)"
           },
           "yaxis": {
            "backgroundcolor": "white",
            "gridcolor": "rgb(232,232,232)",
            "gridwidth": 2,
            "linecolor": "rgb(36,36,36)",
            "showbackground": true,
            "showgrid": false,
            "showline": true,
            "ticks": "outside",
            "zeroline": false,
            "zerolinecolor": "rgb(36,36,36)"
           },
           "zaxis": {
            "backgroundcolor": "white",
            "gridcolor": "rgb(232,232,232)",
            "gridwidth": 2,
            "linecolor": "rgb(36,36,36)",
            "showbackground": true,
            "showgrid": false,
            "showline": true,
            "ticks": "outside",
            "zeroline": false,
            "zerolinecolor": "rgb(36,36,36)"
           }
          },
          "shapedefaults": {
           "fillcolor": "black",
           "line": {
            "width": 0
           },
           "opacity": 0.3
          },
          "ternary": {
           "aaxis": {
            "gridcolor": "rgb(232,232,232)",
            "linecolor": "rgb(36,36,36)",
            "showgrid": false,
            "showline": true,
            "ticks": "outside"
           },
           "baxis": {
            "gridcolor": "rgb(232,232,232)",
            "linecolor": "rgb(36,36,36)",
            "showgrid": false,
            "showline": true,
            "ticks": "outside"
           },
           "bgcolor": "white",
           "caxis": {
            "gridcolor": "rgb(232,232,232)",
            "linecolor": "rgb(36,36,36)",
            "showgrid": false,
            "showline": true,
            "ticks": "outside"
           }
          },
          "title": {
           "x": 0.05
          },
          "xaxis": {
           "automargin": true,
           "gridcolor": "rgb(232,232,232)",
           "linecolor": "rgb(36,36,36)",
           "showgrid": false,
           "showline": true,
           "ticks": "outside",
           "title": {
            "standoff": 15
           },
           "zeroline": false,
           "zerolinecolor": "rgb(36,36,36)"
          },
          "yaxis": {
           "automargin": true,
           "gridcolor": "rgb(232,232,232)",
           "linecolor": "rgb(36,36,36)",
           "showgrid": false,
           "showline": true,
           "ticks": "outside",
           "title": {
            "standoff": 15
           },
           "zeroline": false,
           "zerolinecolor": "rgb(36,36,36)"
          }
         }
        },
        "title": {
         "font": {
          "color": "Black",
          "size": 20
         },
         "text": "Intertopic Distance Map<br><sup>From 2015 | Excluding 2020, 2021</sup>",
         "x": 0.15,
         "xanchor": "center",
         "y": 0.95,
         "yanchor": "top"
        },
        "width": 1000,
        "xaxis": {
         "anchor": "y",
         "domain": [
          0,
          1
         ],
         "range": [
          -16.82818732261658,
          22.16781129837036
         ],
         "showgrid": false,
         "showline": true,
         "ticks": "outside",
         "title": {},
         "visible": false,
         "zeroline": true
        },
        "yaxis": {
         "anchor": "x",
         "domain": [
          0,
          1
         ],
         "range": [
          -16.700680923461913,
          19.20124568939209
         ],
         "showgrid": false,
         "showline": true,
         "ticks": "outside",
         "title": {},
         "visible": false,
         "zeroline": true
        }
       }
      }
     },
     "metadata": {},
     "output_type": "display_data"
    }
   ],
   "source": [
    "# ------------------------------------------------------------\n",
    "# Visualize intertopic distances\n",
    "# ------------------------------------------------------------\n",
    "\n",
    "# N.B. UMAP (Uniform Manifold Approximation and Projection)\n",
    "# used for dimensionality reduction. \n",
    "fig_2d = topic_model.visualize_topics(custom_labels=True)\n",
    "\n",
    "# Update background and grid\n",
    "fig_2d.update_layout(\n",
    "    plot_bgcolor=\"white\",\n",
    "    paper_bgcolor=\"white\",\n",
    "    font_family=\"Arial\",\n",
    "    title={\n",
    "        \"text\": f\"Intertopic Distance Map<br><sup>{model_label}</sup>\",\n",
    "        \"x\": 0.15,\n",
    "        \"font\": {\"size\": 20}\n",
    "    },\n",
    "    width=1000,\n",
    "    height=800,\n",
    "    xaxis=dict(\n",
    "        showgrid=False,\n",
    "        zeroline=True,\n",
    "        showline=True,\n",
    "        ticks=\"outside\",\n",
    "        title=None\n",
    "    ),\n",
    "    yaxis=dict(\n",
    "        showgrid=False,\n",
    "        zeroline=True,\n",
    "        showline=True,\n",
    "        ticks=\"outside\",\n",
    "        title=None\n",
    "    ),\n",
    "    legend=dict(\n",
    "        orientation=\"h\",\n",
    "        yanchor=\"bottom\",\n",
    "        y=1.02,\n",
    "        xanchor=\"center\",\n",
    "        x=0.5\n",
    "    )\n",
    ")\n",
    "fig_2d.write_html(\"../outputs/intertopic_distance_map_2D.html\")   \n",
    "\n",
    "fig_2d.show()"
   ]
  },
  {
   "cell_type": "code",
   "execution_count": 5,
   "id": "2b90ce99",
   "metadata": {},
   "outputs": [
    {
     "name": "stdout",
     "output_type": "stream",
     "text": [
      "\n",
      "Generated topic labels:\n",
      "Topic -1: NULL (OLD: -1_s_passenger_fuel_passengers)\n",
      "Topic 0: Passenger (OLD: 0_passenger_year_cargo_growth)\n",
      "Topic 1: Safety (OLD: 1_safety_iosa_accidents_accident)\n",
      "Topic 2: Saf (OLD: 2_saf_emissions_carbon_corsia)\n",
      "Topic 3: Airport (OLD: 3_airport_charges_infrastructure_airports)\n",
      "Topic 4: Cargo (OLD: 4_cargo_data_lithium_ceiv)\n",
      "Topic 5: Security (OLD: 5_security_information_smart security_smart)\n",
      "Topic 6: Settlement (OLD: 6_settlement_billion_processed_iss)\n",
      "Topic 7: New Distribution Capability (OLD: 7_ndc_order_travel_airline)\n",
      "Topic 8: Latam (OLD: 8_latam_china_cargo_international)\n",
      "Topic 9: Annual (OLD: 9_annual_commercial_world_contents)\n",
      "Topic 10: Travel (OLD: 10_travel_passengers_experience_id)\n",
      "Topic 11: Board (OLD: 11_board_group_governors_board governors)\n",
      "Topic 12: Tax (OLD: 12_tax_taxes_taxation_government)\n",
      "Topic 13: Slot (OLD: 13_slot_wsg_slots_regulation)\n",
      "Topic 14: Diversity (OLD: 14_diversity_inclusion_diversity inclusion_female)\n",
      "Topic 15: Regulation (OLD: 15_regulation_rights_consumer_passenger rights)\n"
     ]
    }
   ],
   "source": [
    "# ------------------------------------------------------\n",
    "# Clean up labels and remove junk topics\n",
    "# ------------------------------------------------------\n",
    "\n",
    "# Retrieve the current model labels before overwriting\n",
    "old_labels = topic_model.topic_labels_\n",
    "\n",
    "# Generate new labels\n",
    "clean_labels, junk_topics = generate_clean_labels(topic_model, top_n_words=1)\n",
    "\n",
    "# Print label changes for review\n",
    "print(\"\\nGenerated topic labels:\")\n",
    "for topic_id, label in sorted(clean_labels.items()):\n",
    "    old_label = old_labels.get(topic_id)\n",
    "    print(f\"Topic {topic_id}: {label} (OLD: {old_label})\")\n",
    "\n",
    "# Apply to the model\n",
    "topic_model.set_topic_labels(clean_labels)"
   ]
  },
  {
   "cell_type": "code",
   "execution_count": 8,
   "id": "f2f9003e",
   "metadata": {},
   "outputs": [
    {
     "name": "stderr",
     "output_type": "stream",
     "text": [
      "8it [00:00,  8.59it/s]\n"
     ]
    },
    {
     "data": {
      "application/vnd.plotly.v1+json": {
       "config": {
        "plotlyServerURL": "https://plot.ly"
       },
       "data": [
        {
         "hoverinfo": "text",
         "hovertemplate": "Passenger<extra></extra>",
         "hovertext": [
          "<b>Topic 0</b><br>Words: passenger, growth, load, cargo, year",
          "<b>Topic 0</b><br>Words: passenger, year, load, freight, domestic",
          "<b>Topic 0</b><br>Words: year, passenger, domestic, load, growth",
          "<b>Topic 0</b><br>Words: year, growth, load, passenger, freight",
          "<b>Topic 0</b><br>Words: year, passenger, cargo, domestic, growth",
          "<b>Topic 0</b><br>Words: cargo, demand, pandemic, passenger, travel",
          "<b>Topic 0</b><br>Words: cargo, passenger, america, economics, rpks",
          "<b>Topic 0</b><br>Words: cargo, growth, economics, year, demand"
         ],
         "marker": {
          "color": "#E69F00"
         },
         "mode": "lines",
         "name": "Passenger",
         "type": "scatter",
         "x": [
          "2015-01-01T00:00:00.000000000",
          "2016-01-01T00:00:00.000000000",
          "2017-01-01T00:00:00.000000000",
          "2018-01-01T00:00:00.000000000",
          "2019-01-01T00:00:00.000000000",
          "2022-01-01T00:00:00.000000000",
          "2023-01-01T00:00:00.000000000",
          "2024-01-01T00:00:00.000000000"
         ],
         "y": {
          "bdata": "EhQSFBcjJB0=",
          "dtype": "i1"
         }
        },
        {
         "hoverinfo": "text",
         "hovertemplate": "Safety<extra></extra>",
         "hovertext": [
          "<b>Topic 1</b><br>Words: safety, iosa, accidents, aircraft, accident",
          "<b>Topic 1</b><br>Words: safety, accidents, iosa, accident, aircraft",
          "<b>Topic 1</b><br>Words: safety, iosa, accidents, accident, isago",
          "<b>Topic 1</b><br>Words: safety, iosa, accidents, isago, aircraft",
          "<b>Topic 1</b><br>Words: safety, accident, iosa, accidents, turbulence",
          "<b>Topic 1</b><br>Words: safety, million flights, flights, accident, million",
          "<b>Topic 1</b><br>Words: safety, iosa, accidents, accident, risk",
          "<b>Topic 1</b><br>Words: safety, iosa, accidents, accident, risk"
         ],
         "marker": {
          "color": "#56B4E9"
         },
         "mode": "lines",
         "name": "Safety",
         "type": "scatter",
         "x": [
          "2015-01-01T00:00:00.000000000",
          "2016-01-01T00:00:00.000000000",
          "2017-01-01T00:00:00.000000000",
          "2018-01-01T00:00:00.000000000",
          "2019-01-01T00:00:00.000000000",
          "2022-01-01T00:00:00.000000000",
          "2023-01-01T00:00:00.000000000",
          "2024-01-01T00:00:00.000000000"
         ],
         "y": {
          "bdata": "FR0UFxMJDBM=",
          "dtype": "i1"
         }
        },
        {
         "hoverinfo": "text",
         "hovertemplate": "Saf<extra></extra>",
         "hovertext": [
          "<b>Topic 2</b><br>Words: emissions, saf, fuel, carbon, environmental",
          "<b>Topic 2</b><br>Words: emissions, environmental, carbon, saf, s",
          "<b>Topic 2</b><br>Words: emissions, saf, corsia, carbon, s",
          "<b>Topic 2</b><br>Words: saf, emissions, corsia, carbon, environmental",
          "<b>Topic 2</b><br>Words: saf, corsia, emissions, carbon, environmental",
          "<b>Topic 2</b><br>Words: emissions, saf, carbon, zero, net zero",
          "<b>Topic 2</b><br>Words: saf, emissions, corsia, production, net zero",
          "<b>Topic 2</b><br>Words: saf, emissions, carbon, corsia, net zero"
         ],
         "marker": {
          "color": "#009E73"
         },
         "mode": "lines",
         "name": "Saf",
         "type": "scatter",
         "x": [
          "2015-01-01T00:00:00.000000000",
          "2016-01-01T00:00:00.000000000",
          "2017-01-01T00:00:00.000000000",
          "2018-01-01T00:00:00.000000000",
          "2019-01-01T00:00:00.000000000",
          "2022-01-01T00:00:00.000000000",
          "2023-01-01T00:00:00.000000000",
          "2024-01-01T00:00:00.000000000"
         ],
         "y": {
          "bdata": "EhIQDQ0QFyI=",
          "dtype": "i1"
         }
        },
        {
         "hoverinfo": "text",
         "hovertemplate": "Airport<extra></extra>",
         "hovertext": [
          "<b>Topic 3</b><br>Words: airport, charges, infrastructure, airports, cost",
          "<b>Topic 3</b><br>Words: airport, charges, infrastructure, airports, s",
          "<b>Topic 3</b><br>Words: airport, charges, infrastructure, airports, cost",
          "<b>Topic 3</b><br>Words: airport, infrastructure, charges, capacity, investment",
          "<b>Topic 3</b><br>Words: airport, infrastructure, charges, investment, capacity",
          "<b>Topic 3</b><br>Words: airports, business travel, economic regulation, travel, economic",
          "<b>Topic 3</b><br>Words: charges, airport, airports, infrastructure, ansps",
          "<b>Topic 3</b><br>Words: airport, charges, infrastructure, development, airports"
         ],
         "marker": {
          "color": "#F0E442"
         },
         "mode": "lines",
         "name": "Airport",
         "type": "scatter",
         "x": [
          "2015-01-01T00:00:00.000000000",
          "2016-01-01T00:00:00.000000000",
          "2017-01-01T00:00:00.000000000",
          "2018-01-01T00:00:00.000000000",
          "2019-01-01T00:00:00.000000000",
          "2022-01-01T00:00:00.000000000",
          "2023-01-01T00:00:00.000000000",
          "2024-01-01T00:00:00.000000000"
         ],
         "y": {
          "bdata": "ERMODxABCBA=",
          "dtype": "i1"
         }
        },
        {
         "hoverinfo": "text",
         "hovertemplate": "Cargo<extra></extra>",
         "hovertext": [
          "<b>Topic 4</b><br>Words: cargo, freight, e, data, lithium",
          "<b>Topic 4</b><br>Words: cargo, lithium, freight, data, batteries",
          "<b>Topic 4</b><br>Words: cargo, e, data, freight, forwarders",
          "<b>Topic 4</b><br>Words: cargo, data, dangerous, dangerous goods, goods",
          "<b>Topic 4</b><br>Words: cargo, data, s, dangerous, dangerous goods",
          "<b>Topic 4</b><br>Words: cargo, lithium, batteries, lithium batteries, people",
          "<b>Topic 4</b><br>Words: lithium, lithium battery, battery, cargo, vehicles",
          "<b>Topic 4</b><br>Words: cargo, ceiv, lithium, batteries, lithium batteries"
         ],
         "marker": {
          "color": "#D55E00"
         },
         "mode": "lines",
         "name": "Cargo",
         "type": "scatter",
         "x": [
          "2015-01-01T00:00:00.000000000",
          "2016-01-01T00:00:00.000000000",
          "2017-01-01T00:00:00.000000000",
          "2018-01-01T00:00:00.000000000",
          "2019-01-01T00:00:00.000000000",
          "2022-01-01T00:00:00.000000000",
          "2023-01-01T00:00:00.000000000",
          "2024-01-01T00:00:00.000000000"
         ],
         "y": {
          "bdata": "Ew4VEgsEBQ0=",
          "dtype": "i1"
         }
        },
        {
         "hoverinfo": "text",
         "hovertemplate": "Security<extra></extra>",
         "hovertext": [
          "<b>Topic 5</b><br>Words: security, information, smart security, smart, cyber",
          "<b>Topic 5</b><br>Words: security, information, pnr, risk, api",
          "<b>Topic 5</b><br>Words: security, smart security, smart, information, risk",
          "<b>Topic 5</b><br>Words: security, smart security, smart, measures, risk",
          "<b>Topic 5</b><br>Words: security, information, gasep, threats, governments",
          "<b>Topic 5</b><br>Words: security, civil, information, airspace, attacks",
          "<b>Topic 5</b><br>Words: security, risk, measures, screening, information",
          "<b>Topic 5</b><br>Words: security, information, cybersecurity, risk, sems"
         ],
         "marker": {
          "color": "#0072B2"
         },
         "mode": "lines",
         "name": "Security",
         "type": "scatter",
         "x": [
          "2015-01-01T00:00:00.000000000",
          "2016-01-01T00:00:00.000000000",
          "2017-01-01T00:00:00.000000000",
          "2018-01-01T00:00:00.000000000",
          "2019-01-01T00:00:00.000000000",
          "2022-01-01T00:00:00.000000000",
          "2023-01-01T00:00:00.000000000",
          "2024-01-01T00:00:00.000000000"
         ],
         "y": {
          "bdata": "Dg8RDwgDDA0=",
          "dtype": "i1"
         }
        },
        {
         "hoverinfo": "text",
         "hovertemplate": "Settlement<extra></extra>",
         "hovertext": [
          "<b>Topic 6</b><br>Words: settlement, iss, billion, bsp, cass",
          "<b>Topic 6</b><br>Words: settlement, billion, iss, bsp, financial",
          "<b>Topic 6</b><br>Words: settlement, iss, billion, processed, bsp",
          "<b>Topic 6</b><br>Words: settlement, billion, iss, processed, bsp",
          "<b>Topic 6</b><br>Words: settlement, agents, bsp, billion, processed",
          "<b>Topic 6</b><br>Words: billion, processed, processed billion, settlement, financial",
          "<b>Topic 6</b><br>Words: billion, settlement, processed, processed billion, financial",
          "<b>Topic 6</b><br>Words: settlement, billion, processed, cass, bsp"
         ],
         "marker": {
          "color": "#CC79A7"
         },
         "mode": "lines",
         "name": "Settlement",
         "type": "scatter",
         "x": [
          "2015-01-01T00:00:00.000000000",
          "2016-01-01T00:00:00.000000000",
          "2017-01-01T00:00:00.000000000",
          "2018-01-01T00:00:00.000000000",
          "2019-01-01T00:00:00.000000000",
          "2022-01-01T00:00:00.000000000",
          "2023-01-01T00:00:00.000000000",
          "2024-01-01T00:00:00.000000000"
         ],
         "y": {
          "bdata": "CAcMCQoGBgY=",
          "dtype": "i1"
         }
        },
        {
         "hoverinfo": "text",
         "hovertemplate": "New Distribution Capability<extra></extra>",
         "hovertext": [
          "<b>Topic 7</b><br>Words: ndc, travel, airline, order, distribution",
          "<b>Topic 7</b><br>Words: ndc, travel, order, agents, standard",
          "<b>Topic 7</b><br>Words: ndc, order, travel, standard, distribution",
          "<b>Topic 7</b><br>Words: ndc, order, travel, airline, standard",
          "<b>Topic 7</b><br>Words: ndc, order, travel, airline, products",
          "<b>Topic 7</b><br>Words: retailing, airline retailing, airline, ndc, order",
          "<b>Topic 7</b><br>Words: ndc, order, retailing, airline, channels",
          "<b>Topic 7</b><br>Words: retailing, ndc, travel, offers, orders"
         ],
         "marker": {
          "color": "#E69F00"
         },
         "mode": "lines",
         "name": "New Distribution Capability",
         "type": "scatter",
         "x": [
          "2015-01-01T00:00:00.000000000",
          "2016-01-01T00:00:00.000000000",
          "2017-01-01T00:00:00.000000000",
          "2018-01-01T00:00:00.000000000",
          "2019-01-01T00:00:00.000000000",
          "2022-01-01T00:00:00.000000000",
          "2023-01-01T00:00:00.000000000",
          "2024-01-01T00:00:00.000000000"
         ],
         "y": {
          "bdata": "CQcHCAYFCQo=",
          "dtype": "i1"
         }
        },
        {
         "hoverinfo": "text",
         "hovertemplate": "Latam<extra></extra>",
         "hovertext": [
          "<b>Topic 8</b><br>Words: china, cargo, lan, express, lufthansa",
          "<b>Topic 8</b><br>Words: international, china, cargo, lan, express",
          "<b>Topic 8</b><br>Words: latam, cargo, china, international, members",
          "<b>Topic 8</b><br>Words: latam, china, cargo, express, international",
          "<b>Topic 8</b><br>Words: latam, cargo, china, members, avianca",
          "<b>Topic 8</b><br>Words: latam, cargo, china, international, fly",
          "<b>Topic 8</b><br>Words: latam, cargo, china, international, fly",
          "<b>Topic 8</b><br>Words: latam, cargo, china, express, fly"
         ],
         "marker": {
          "color": "#56B4E9"
         },
         "mode": "lines",
         "name": "Latam",
         "type": "scatter",
         "x": [
          "2015-01-01T00:00:00.000000000",
          "2016-01-01T00:00:00.000000000",
          "2017-01-01T00:00:00.000000000",
          "2018-01-01T00:00:00.000000000",
          "2019-01-01T00:00:00.000000000",
          "2022-01-01T00:00:00.000000000",
          "2023-01-01T00:00:00.000000000",
          "2024-01-01T00:00:00.000000000"
         ],
         "y": {
          "bdata": "BgcICAMHBQU=",
          "dtype": "i1"
         }
        },
        {
         "hoverinfo": "text",
         "hovertemplate": "Annual<extra></extra>",
         "hovertext": [
          "<b>Topic 9</b><br>Words: commercial, world, years, s, annual",
          "<b>Topic 9</b><br>Words: anniversary, fl, s, annual, people",
          "<b>Topic 9</b><br>Words: contents, annual, offices contents, s message, message",
          "<b>Topic 9</b><br>Words: contents, annual, offices contents, s message, globalization",
          "<b>Topic 9</b><br>Words: annual, contents, borders, travel, benefits",
          "<b>Topic 9</b><br>Words: annual, contents, contents annual, annual contents, regulations annual",
          "<b>Topic 9</b><br>Words: annual, contents, board governors, governors, board",
          "<b>Topic 9</b><br>Words: annual, continent, contents, africa, contribution"
         ],
         "marker": {
          "color": "#009E73"
         },
         "mode": "lines",
         "name": "Annual",
         "type": "scatter",
         "x": [
          "2015-01-01T00:00:00.000000000",
          "2016-01-01T00:00:00.000000000",
          "2017-01-01T00:00:00.000000000",
          "2018-01-01T00:00:00.000000000",
          "2019-01-01T00:00:00.000000000",
          "2022-01-01T00:00:00.000000000",
          "2023-01-01T00:00:00.000000000",
          "2024-01-01T00:00:00.000000000"
         ],
         "y": {
          "bdata": "GAcCAgUEAQM=",
          "dtype": "i1"
         }
        }
       ],
       "layout": {
        "font": {
         "family": "Arial",
         "size": 12
        },
        "height": 600,
        "hoverlabel": {
         "bgcolor": "white",
         "font": {
          "family": "Rockwell",
          "size": 16
         }
        },
        "legend": {
         "orientation": "h",
         "title": {
          "text": "Topics"
         },
         "x": 0.5,
         "xanchor": "center",
         "y": -0.6,
         "yanchor": "bottom"
        },
        "template": {
         "data": {
          "bar": [
           {
            "error_x": {
             "color": "rgb(36,36,36)"
            },
            "error_y": {
             "color": "rgb(36,36,36)"
            },
            "marker": {
             "line": {
              "color": "white",
              "width": 0.5
             },
             "pattern": {
              "fillmode": "overlay",
              "size": 10,
              "solidity": 0.2
             }
            },
            "type": "bar"
           }
          ],
          "barpolar": [
           {
            "marker": {
             "line": {
              "color": "white",
              "width": 0.5
             },
             "pattern": {
              "fillmode": "overlay",
              "size": 10,
              "solidity": 0.2
             }
            },
            "type": "barpolar"
           }
          ],
          "carpet": [
           {
            "aaxis": {
             "endlinecolor": "rgb(36,36,36)",
             "gridcolor": "white",
             "linecolor": "white",
             "minorgridcolor": "white",
             "startlinecolor": "rgb(36,36,36)"
            },
            "baxis": {
             "endlinecolor": "rgb(36,36,36)",
             "gridcolor": "white",
             "linecolor": "white",
             "minorgridcolor": "white",
             "startlinecolor": "rgb(36,36,36)"
            },
            "type": "carpet"
           }
          ],
          "choropleth": [
           {
            "colorbar": {
             "outlinewidth": 1,
             "tickcolor": "rgb(36,36,36)",
             "ticks": "outside"
            },
            "type": "choropleth"
           }
          ],
          "contour": [
           {
            "colorbar": {
             "outlinewidth": 1,
             "tickcolor": "rgb(36,36,36)",
             "ticks": "outside"
            },
            "colorscale": [
             [
              0,
              "#440154"
             ],
             [
              0.1111111111111111,
              "#482878"
             ],
             [
              0.2222222222222222,
              "#3e4989"
             ],
             [
              0.3333333333333333,
              "#31688e"
             ],
             [
              0.4444444444444444,
              "#26828e"
             ],
             [
              0.5555555555555556,
              "#1f9e89"
             ],
             [
              0.6666666666666666,
              "#35b779"
             ],
             [
              0.7777777777777778,
              "#6ece58"
             ],
             [
              0.8888888888888888,
              "#b5de2b"
             ],
             [
              1,
              "#fde725"
             ]
            ],
            "type": "contour"
           }
          ],
          "contourcarpet": [
           {
            "colorbar": {
             "outlinewidth": 1,
             "tickcolor": "rgb(36,36,36)",
             "ticks": "outside"
            },
            "type": "contourcarpet"
           }
          ],
          "heatmap": [
           {
            "colorbar": {
             "outlinewidth": 1,
             "tickcolor": "rgb(36,36,36)",
             "ticks": "outside"
            },
            "colorscale": [
             [
              0,
              "#440154"
             ],
             [
              0.1111111111111111,
              "#482878"
             ],
             [
              0.2222222222222222,
              "#3e4989"
             ],
             [
              0.3333333333333333,
              "#31688e"
             ],
             [
              0.4444444444444444,
              "#26828e"
             ],
             [
              0.5555555555555556,
              "#1f9e89"
             ],
             [
              0.6666666666666666,
              "#35b779"
             ],
             [
              0.7777777777777778,
              "#6ece58"
             ],
             [
              0.8888888888888888,
              "#b5de2b"
             ],
             [
              1,
              "#fde725"
             ]
            ],
            "type": "heatmap"
           }
          ],
          "histogram": [
           {
            "marker": {
             "line": {
              "color": "white",
              "width": 0.6
             }
            },
            "type": "histogram"
           }
          ],
          "histogram2d": [
           {
            "colorbar": {
             "outlinewidth": 1,
             "tickcolor": "rgb(36,36,36)",
             "ticks": "outside"
            },
            "colorscale": [
             [
              0,
              "#440154"
             ],
             [
              0.1111111111111111,
              "#482878"
             ],
             [
              0.2222222222222222,
              "#3e4989"
             ],
             [
              0.3333333333333333,
              "#31688e"
             ],
             [
              0.4444444444444444,
              "#26828e"
             ],
             [
              0.5555555555555556,
              "#1f9e89"
             ],
             [
              0.6666666666666666,
              "#35b779"
             ],
             [
              0.7777777777777778,
              "#6ece58"
             ],
             [
              0.8888888888888888,
              "#b5de2b"
             ],
             [
              1,
              "#fde725"
             ]
            ],
            "type": "histogram2d"
           }
          ],
          "histogram2dcontour": [
           {
            "colorbar": {
             "outlinewidth": 1,
             "tickcolor": "rgb(36,36,36)",
             "ticks": "outside"
            },
            "colorscale": [
             [
              0,
              "#440154"
             ],
             [
              0.1111111111111111,
              "#482878"
             ],
             [
              0.2222222222222222,
              "#3e4989"
             ],
             [
              0.3333333333333333,
              "#31688e"
             ],
             [
              0.4444444444444444,
              "#26828e"
             ],
             [
              0.5555555555555556,
              "#1f9e89"
             ],
             [
              0.6666666666666666,
              "#35b779"
             ],
             [
              0.7777777777777778,
              "#6ece58"
             ],
             [
              0.8888888888888888,
              "#b5de2b"
             ],
             [
              1,
              "#fde725"
             ]
            ],
            "type": "histogram2dcontour"
           }
          ],
          "mesh3d": [
           {
            "colorbar": {
             "outlinewidth": 1,
             "tickcolor": "rgb(36,36,36)",
             "ticks": "outside"
            },
            "type": "mesh3d"
           }
          ],
          "parcoords": [
           {
            "line": {
             "colorbar": {
              "outlinewidth": 1,
              "tickcolor": "rgb(36,36,36)",
              "ticks": "outside"
             }
            },
            "type": "parcoords"
           }
          ],
          "pie": [
           {
            "automargin": true,
            "type": "pie"
           }
          ],
          "scatter": [
           {
            "fillpattern": {
             "fillmode": "overlay",
             "size": 10,
             "solidity": 0.2
            },
            "type": "scatter"
           }
          ],
          "scatter3d": [
           {
            "line": {
             "colorbar": {
              "outlinewidth": 1,
              "tickcolor": "rgb(36,36,36)",
              "ticks": "outside"
             }
            },
            "marker": {
             "colorbar": {
              "outlinewidth": 1,
              "tickcolor": "rgb(36,36,36)",
              "ticks": "outside"
             }
            },
            "type": "scatter3d"
           }
          ],
          "scattercarpet": [
           {
            "marker": {
             "colorbar": {
              "outlinewidth": 1,
              "tickcolor": "rgb(36,36,36)",
              "ticks": "outside"
             }
            },
            "type": "scattercarpet"
           }
          ],
          "scattergeo": [
           {
            "marker": {
             "colorbar": {
              "outlinewidth": 1,
              "tickcolor": "rgb(36,36,36)",
              "ticks": "outside"
             }
            },
            "type": "scattergeo"
           }
          ],
          "scattergl": [
           {
            "marker": {
             "colorbar": {
              "outlinewidth": 1,
              "tickcolor": "rgb(36,36,36)",
              "ticks": "outside"
             }
            },
            "type": "scattergl"
           }
          ],
          "scattermap": [
           {
            "marker": {
             "colorbar": {
              "outlinewidth": 1,
              "tickcolor": "rgb(36,36,36)",
              "ticks": "outside"
             }
            },
            "type": "scattermap"
           }
          ],
          "scattermapbox": [
           {
            "marker": {
             "colorbar": {
              "outlinewidth": 1,
              "tickcolor": "rgb(36,36,36)",
              "ticks": "outside"
             }
            },
            "type": "scattermapbox"
           }
          ],
          "scatterpolar": [
           {
            "marker": {
             "colorbar": {
              "outlinewidth": 1,
              "tickcolor": "rgb(36,36,36)",
              "ticks": "outside"
             }
            },
            "type": "scatterpolar"
           }
          ],
          "scatterpolargl": [
           {
            "marker": {
             "colorbar": {
              "outlinewidth": 1,
              "tickcolor": "rgb(36,36,36)",
              "ticks": "outside"
             }
            },
            "type": "scatterpolargl"
           }
          ],
          "scatterternary": [
           {
            "marker": {
             "colorbar": {
              "outlinewidth": 1,
              "tickcolor": "rgb(36,36,36)",
              "ticks": "outside"
             }
            },
            "type": "scatterternary"
           }
          ],
          "surface": [
           {
            "colorbar": {
             "outlinewidth": 1,
             "tickcolor": "rgb(36,36,36)",
             "ticks": "outside"
            },
            "colorscale": [
             [
              0,
              "#440154"
             ],
             [
              0.1111111111111111,
              "#482878"
             ],
             [
              0.2222222222222222,
              "#3e4989"
             ],
             [
              0.3333333333333333,
              "#31688e"
             ],
             [
              0.4444444444444444,
              "#26828e"
             ],
             [
              0.5555555555555556,
              "#1f9e89"
             ],
             [
              0.6666666666666666,
              "#35b779"
             ],
             [
              0.7777777777777778,
              "#6ece58"
             ],
             [
              0.8888888888888888,
              "#b5de2b"
             ],
             [
              1,
              "#fde725"
             ]
            ],
            "type": "surface"
           }
          ],
          "table": [
           {
            "cells": {
             "fill": {
              "color": "rgb(237,237,237)"
             },
             "line": {
              "color": "white"
             }
            },
            "header": {
             "fill": {
              "color": "rgb(217,217,217)"
             },
             "line": {
              "color": "white"
             }
            },
            "type": "table"
           }
          ]
         },
         "layout": {
          "annotationdefaults": {
           "arrowhead": 0,
           "arrowwidth": 1
          },
          "autotypenumbers": "strict",
          "coloraxis": {
           "colorbar": {
            "outlinewidth": 1,
            "tickcolor": "rgb(36,36,36)",
            "ticks": "outside"
           }
          },
          "colorscale": {
           "diverging": [
            [
             0,
             "rgb(103,0,31)"
            ],
            [
             0.1,
             "rgb(178,24,43)"
            ],
            [
             0.2,
             "rgb(214,96,77)"
            ],
            [
             0.3,
             "rgb(244,165,130)"
            ],
            [
             0.4,
             "rgb(253,219,199)"
            ],
            [
             0.5,
             "rgb(247,247,247)"
            ],
            [
             0.6,
             "rgb(209,229,240)"
            ],
            [
             0.7,
             "rgb(146,197,222)"
            ],
            [
             0.8,
             "rgb(67,147,195)"
            ],
            [
             0.9,
             "rgb(33,102,172)"
            ],
            [
             1,
             "rgb(5,48,97)"
            ]
           ],
           "sequential": [
            [
             0,
             "#440154"
            ],
            [
             0.1111111111111111,
             "#482878"
            ],
            [
             0.2222222222222222,
             "#3e4989"
            ],
            [
             0.3333333333333333,
             "#31688e"
            ],
            [
             0.4444444444444444,
             "#26828e"
            ],
            [
             0.5555555555555556,
             "#1f9e89"
            ],
            [
             0.6666666666666666,
             "#35b779"
            ],
            [
             0.7777777777777778,
             "#6ece58"
            ],
            [
             0.8888888888888888,
             "#b5de2b"
            ],
            [
             1,
             "#fde725"
            ]
           ],
           "sequentialminus": [
            [
             0,
             "#440154"
            ],
            [
             0.1111111111111111,
             "#482878"
            ],
            [
             0.2222222222222222,
             "#3e4989"
            ],
            [
             0.3333333333333333,
             "#31688e"
            ],
            [
             0.4444444444444444,
             "#26828e"
            ],
            [
             0.5555555555555556,
             "#1f9e89"
            ],
            [
             0.6666666666666666,
             "#35b779"
            ],
            [
             0.7777777777777778,
             "#6ece58"
            ],
            [
             0.8888888888888888,
             "#b5de2b"
            ],
            [
             1,
             "#fde725"
            ]
           ]
          },
          "colorway": [
           "#1F77B4",
           "#FF7F0E",
           "#2CA02C",
           "#D62728",
           "#9467BD",
           "#8C564B",
           "#E377C2",
           "#7F7F7F",
           "#BCBD22",
           "#17BECF"
          ],
          "font": {
           "color": "rgb(36,36,36)"
          },
          "geo": {
           "bgcolor": "white",
           "lakecolor": "white",
           "landcolor": "white",
           "showlakes": true,
           "showland": true,
           "subunitcolor": "white"
          },
          "hoverlabel": {
           "align": "left"
          },
          "hovermode": "closest",
          "mapbox": {
           "style": "light"
          },
          "paper_bgcolor": "white",
          "plot_bgcolor": "white",
          "polar": {
           "angularaxis": {
            "gridcolor": "rgb(232,232,232)",
            "linecolor": "rgb(36,36,36)",
            "showgrid": false,
            "showline": true,
            "ticks": "outside"
           },
           "bgcolor": "white",
           "radialaxis": {
            "gridcolor": "rgb(232,232,232)",
            "linecolor": "rgb(36,36,36)",
            "showgrid": false,
            "showline": true,
            "ticks": "outside"
           }
          },
          "scene": {
           "xaxis": {
            "backgroundcolor": "white",
            "gridcolor": "rgb(232,232,232)",
            "gridwidth": 2,
            "linecolor": "rgb(36,36,36)",
            "showbackground": true,
            "showgrid": false,
            "showline": true,
            "ticks": "outside",
            "zeroline": false,
            "zerolinecolor": "rgb(36,36,36)"
           },
           "yaxis": {
            "backgroundcolor": "white",
            "gridcolor": "rgb(232,232,232)",
            "gridwidth": 2,
            "linecolor": "rgb(36,36,36)",
            "showbackground": true,
            "showgrid": false,
            "showline": true,
            "ticks": "outside",
            "zeroline": false,
            "zerolinecolor": "rgb(36,36,36)"
           },
           "zaxis": {
            "backgroundcolor": "white",
            "gridcolor": "rgb(232,232,232)",
            "gridwidth": 2,
            "linecolor": "rgb(36,36,36)",
            "showbackground": true,
            "showgrid": false,
            "showline": true,
            "ticks": "outside",
            "zeroline": false,
            "zerolinecolor": "rgb(36,36,36)"
           }
          },
          "shapedefaults": {
           "fillcolor": "black",
           "line": {
            "width": 0
           },
           "opacity": 0.3
          },
          "ternary": {
           "aaxis": {
            "gridcolor": "rgb(232,232,232)",
            "linecolor": "rgb(36,36,36)",
            "showgrid": false,
            "showline": true,
            "ticks": "outside"
           },
           "baxis": {
            "gridcolor": "rgb(232,232,232)",
            "linecolor": "rgb(36,36,36)",
            "showgrid": false,
            "showline": true,
            "ticks": "outside"
           },
           "bgcolor": "white",
           "caxis": {
            "gridcolor": "rgb(232,232,232)",
            "linecolor": "rgb(36,36,36)",
            "showgrid": false,
            "showline": true,
            "ticks": "outside"
           }
          },
          "title": {
           "x": 0.05
          },
          "xaxis": {
           "automargin": true,
           "gridcolor": "rgb(232,232,232)",
           "linecolor": "rgb(36,36,36)",
           "showgrid": false,
           "showline": true,
           "ticks": "outside",
           "title": {
            "standoff": 15
           },
           "zeroline": false,
           "zerolinecolor": "rgb(36,36,36)"
          },
          "yaxis": {
           "automargin": true,
           "gridcolor": "rgb(232,232,232)",
           "linecolor": "rgb(36,36,36)",
           "showgrid": false,
           "showline": true,
           "ticks": "outside",
           "title": {
            "standoff": 15
           },
           "zeroline": false,
           "zerolinecolor": "rgb(36,36,36)"
          }
         }
        },
        "title": {
         "text": "Topic Trends Over Time<br><sup>From 2015 | Excluding 2020, 2021</sup>"
        },
        "width": 1200,
        "xaxis": {
         "showgrid": true,
         "title": {
          "text": "Year"
         }
        },
        "yaxis": {
         "showgrid": true,
         "title": {
          "text": "Topic Frequency (% of Annual Report)"
         }
        }
       }
      }
     },
     "metadata": {},
     "output_type": "display_data"
    }
   ],
   "source": [
    "# ------------------------------------------------------------\n",
    "# Generate topic time series and visualize trends\n",
    "# ------------------------------------------------------------\n",
    "\n",
    "timestamps = pd.to_datetime(timestamps, format=\"%Y\")\n",
    "topics_over_time = topic_model.topics_over_time(texts, timestamps, topic_model.topics_)\n",
    "\n",
    "# Filter out junk and noise topics\n",
    "# (Assuming junk_topics is already defined)\n",
    "topic_freq = topic_model.get_topic_freq()\n",
    "valid_topic_freq = topic_freq[\n",
    "    (~topic_freq[\"Topic\"].isin(junk_topics)) &\n",
    "    (topic_freq[\"Topic\"] != -1)\n",
    "]\n",
    "\n",
    "# Select top 10 most frequent clean topics\n",
    "top_topics = valid_topic_freq.head(10)[\"Topic\"].tolist()\n",
    "\n",
    "# Make plot of topic frequency by year\n",
    "# y-axis = % of all text chunks assigned to this topic in a given year\n",
    "fig = topic_model.visualize_topics_over_time(topics_over_time, topics=top_topics)\n",
    "\n",
    "# Apply custom colors and labels\n",
    "for i, trace in enumerate(fig.data):\n",
    "    topic_id = top_topics[i]\n",
    "    #trace.line.color = iata_palette[i % len(iata_palette)]\n",
    "    trace.name = clean_labels[topic_id]\n",
    "    hover_text = trace.hovertemplate or \"\"\n",
    "    trace.hovertemplate = f\"{clean_labels[topic_id]}<extra></extra>\"\n",
    "\n",
    "# Clean up the figure layout\n",
    "fig.update_layout(\n",
    "    title=f\"Topic Trends Over Time<br><sup>{model_label}</sup>\",\n",
    "    width=1200,\n",
    "    height=600,\n",
    "    xaxis_title=\"Year\",\n",
    "    yaxis_title=\"Topic Frequency (% of Annual Report)\",\n",
    "    legend_title=\"Topics\",\n",
    "    font=dict(family=\"Arial\", size=12),\n",
    "    legend=dict(\n",
    "        orientation=\"h\",\n",
    "        yanchor=\"bottom\",\n",
    "        y=-0.6,\n",
    "        xanchor=\"center\",\n",
    "        x=0.5\n",
    "    )\n",
    ")\n",
    "\n",
    "output_filename = f\"../outputs/topic_trends_{model_name}\"\n",
    "fig.write_html(f\"{output_filename}.html\")\n",
    "fig.write_image(f\"{output_filename}.png\")\n",
    "\n",
    "fig.show()"
   ]
  },
  {
   "cell_type": "code",
   "execution_count": 7,
   "id": "16b23e44",
   "metadata": {},
   "outputs": [
    {
     "name": "stderr",
     "output_type": "stream",
     "text": [
      "8it [00:00,  8.53it/s]"
     ]
    },
    {
     "name": "stdout",
     "output_type": "stream",
     "text": [
      "Filtering (if any): From 2015 | Excluding 2020, 2021\n",
      "Model Name: bertopic_cluster_model_from_2015_excl_2020_2021_20250426\n",
      "\n",
      "=== Matched Business Opportunities ===\n",
      "\n"
     ]
    },
    {
     "name": "stderr",
     "output_type": "stream",
     "text": [
      "\n"
     ]
    },
    {
     "data": {
      "text/html": [
       "<div>\n",
       "<style scoped>\n",
       "    .dataframe tbody tr th:only-of-type {\n",
       "        vertical-align: middle;\n",
       "    }\n",
       "\n",
       "    .dataframe tbody tr th {\n",
       "        vertical-align: top;\n",
       "    }\n",
       "\n",
       "    .dataframe thead th {\n",
       "        text-align: right;\n",
       "    }\n",
       "</style>\n",
       "<table border=\"1\" class=\"dataframe\">\n",
       "  <thead>\n",
       "    <tr style=\"text-align: right;\">\n",
       "      <th></th>\n",
       "      <th>Trend</th>\n",
       "      <th>Detected Label</th>\n",
       "      <th>Implication</th>\n",
       "      <th>Opportunity</th>\n",
       "      <th>Priority (Recommended)</th>\n",
       "      <th>Keyword Fraction (%)</th>\n",
       "      <th>Topic Growth</th>\n",
       "    </tr>\n",
       "  </thead>\n",
       "  <tbody>\n",
       "    <tr>\n",
       "      <th>0</th>\n",
       "      <td>Growth</td>\n",
       "      <td>0_passenger_year_cargo_growth</td>\n",
       "      <td>Strong recovery in air travel post-pandemic</td>\n",
       "      <td>Expand network capacity and optimize route pla...</td>\n",
       "      <td>High</td>\n",
       "      <td>15.96</td>\n",
       "      <td>11</td>\n",
       "    </tr>\n",
       "    <tr>\n",
       "      <th>1</th>\n",
       "      <td>Emissions</td>\n",
       "      <td>2_saf_emissions_carbon_corsia</td>\n",
       "      <td>Increasing pressure for environmental responsi...</td>\n",
       "      <td>Adopt Sustainable Aviation Fuels (SAF) and car...</td>\n",
       "      <td>High</td>\n",
       "      <td>12.11</td>\n",
       "      <td>16</td>\n",
       "    </tr>\n",
       "    <tr>\n",
       "      <th>2</th>\n",
       "      <td>Safety</td>\n",
       "      <td>1_safety_iosa_accidents_accident</td>\n",
       "      <td>Continued industry focus on safety standards</td>\n",
       "      <td>Invest in IOSA certification and safety audits</td>\n",
       "      <td>Medium</td>\n",
       "      <td>12.19</td>\n",
       "      <td>-2</td>\n",
       "    </tr>\n",
       "    <tr>\n",
       "      <th>3</th>\n",
       "      <td>Airport</td>\n",
       "      <td>3_airport_charges_infrastructure_airports</td>\n",
       "      <td>Growing airport-related fees and costs</td>\n",
       "      <td>Negotiate airport charges and improve operatio...</td>\n",
       "      <td>Medium</td>\n",
       "      <td>8.50</td>\n",
       "      <td>-1</td>\n",
       "    </tr>\n",
       "    <tr>\n",
       "      <th>4</th>\n",
       "      <td>Cargo</td>\n",
       "      <td>4_cargo_data_lithium_ceiv</td>\n",
       "      <td>Continued strength in air cargo and freight de...</td>\n",
       "      <td>Expand cargo services and invest in logistics ...</td>\n",
       "      <td>Medium</td>\n",
       "      <td>8.42</td>\n",
       "      <td>-6</td>\n",
       "    </tr>\n",
       "    <tr>\n",
       "      <th>5</th>\n",
       "      <td>Security</td>\n",
       "      <td>5_security_information_smart security_smart</td>\n",
       "      <td>Passenger data security and travel security co...</td>\n",
       "      <td>Enhance digital identity management and passen...</td>\n",
       "      <td>Medium</td>\n",
       "      <td>7.78</td>\n",
       "      <td>-1</td>\n",
       "    </tr>\n",
       "    <tr>\n",
       "      <th>6</th>\n",
       "      <td>Settlement</td>\n",
       "      <td>6_settlement_billion_processed_iss</td>\n",
       "      <td>Changes in financial settlement systems (BSP, ...</td>\n",
       "      <td>Optimize settlement systems and implement fast...</td>\n",
       "      <td>Medium</td>\n",
       "      <td>5.13</td>\n",
       "      <td>-2</td>\n",
       "    </tr>\n",
       "    <tr>\n",
       "      <th>7</th>\n",
       "      <td>ID</td>\n",
       "      <td>10_travel_passengers_experience_id</td>\n",
       "      <td>Move towards digital identity and seamless travel</td>\n",
       "      <td>Implement biometric and digital ID solutions</td>\n",
       "      <td>Medium</td>\n",
       "      <td>3.85</td>\n",
       "      <td>7</td>\n",
       "    </tr>\n",
       "    <tr>\n",
       "      <th>8</th>\n",
       "      <td>Regulation</td>\n",
       "      <td>13_slot_wsg_slots_regulation</td>\n",
       "      <td>Tighter regulatory environment for passenger r...</td>\n",
       "      <td>Implement compliance monitoring and customer c...</td>\n",
       "      <td>Medium</td>\n",
       "      <td>2.41</td>\n",
       "      <td>1</td>\n",
       "    </tr>\n",
       "    <tr>\n",
       "      <th>9</th>\n",
       "      <td>Diversity</td>\n",
       "      <td>14_diversity_inclusion_diversity inclusion_female</td>\n",
       "      <td>Industry-wide DEI (Diversity, Equity, Inclusio...</td>\n",
       "      <td>Strengthen diversity and inclusion initiatives</td>\n",
       "      <td>Medium</td>\n",
       "      <td>2.41</td>\n",
       "      <td>11</td>\n",
       "    </tr>\n",
       "    <tr>\n",
       "      <th>10</th>\n",
       "      <td>Cargo</td>\n",
       "      <td>8_latam_china_cargo_international</td>\n",
       "      <td>Continued strength in air cargo and freight de...</td>\n",
       "      <td>Expand cargo services and invest in logistics ...</td>\n",
       "      <td>Low</td>\n",
       "      <td>3.93</td>\n",
       "      <td>-1</td>\n",
       "    </tr>\n",
       "    <tr>\n",
       "      <th>11</th>\n",
       "      <td>Commercial</td>\n",
       "      <td>9_annual_commercial_world_contents</td>\n",
       "      <td>Need for revenue diversification</td>\n",
       "      <td>Develop new commercial partnerships and ancill...</td>\n",
       "      <td>Low</td>\n",
       "      <td>3.85</td>\n",
       "      <td>-21</td>\n",
       "    </tr>\n",
       "    <tr>\n",
       "      <th>12</th>\n",
       "      <td>Board</td>\n",
       "      <td>11_board_group_governors_board governors</td>\n",
       "      <td>Board representation and governance changes</td>\n",
       "      <td>Strengthen board leadership and stakeholder en...</td>\n",
       "      <td>Low</td>\n",
       "      <td>3.37</td>\n",
       "      <td>-2</td>\n",
       "    </tr>\n",
       "    <tr>\n",
       "      <th>13</th>\n",
       "      <td>Tax</td>\n",
       "      <td>12_tax_taxes_taxation_government</td>\n",
       "      <td>Government pressure via taxes on aviation</td>\n",
       "      <td>Engage in advocacy and optimize tax planning s...</td>\n",
       "      <td>Low</td>\n",
       "      <td>3.21</td>\n",
       "      <td>0</td>\n",
       "    </tr>\n",
       "    <tr>\n",
       "      <th>14</th>\n",
       "      <td>Regulation</td>\n",
       "      <td>15_regulation_rights_consumer_passenger rights</td>\n",
       "      <td>Tighter regulatory environment for passenger r...</td>\n",
       "      <td>Implement compliance monitoring and customer c...</td>\n",
       "      <td>Low</td>\n",
       "      <td>2.00</td>\n",
       "      <td>-4</td>\n",
       "    </tr>\n",
       "  </tbody>\n",
       "</table>\n",
       "</div>"
      ],
      "text/plain": [
       "         Trend                                     Detected Label  \\\n",
       "0       Growth                      0_passenger_year_cargo_growth   \n",
       "1    Emissions                      2_saf_emissions_carbon_corsia   \n",
       "2       Safety                   1_safety_iosa_accidents_accident   \n",
       "3      Airport          3_airport_charges_infrastructure_airports   \n",
       "4        Cargo                          4_cargo_data_lithium_ceiv   \n",
       "5     Security        5_security_information_smart security_smart   \n",
       "6   Settlement                 6_settlement_billion_processed_iss   \n",
       "7           ID                 10_travel_passengers_experience_id   \n",
       "8   Regulation                       13_slot_wsg_slots_regulation   \n",
       "9    Diversity  14_diversity_inclusion_diversity inclusion_female   \n",
       "10       Cargo                  8_latam_china_cargo_international   \n",
       "11  Commercial                 9_annual_commercial_world_contents   \n",
       "12       Board           11_board_group_governors_board governors   \n",
       "13         Tax                   12_tax_taxes_taxation_government   \n",
       "14  Regulation     15_regulation_rights_consumer_passenger rights   \n",
       "\n",
       "                                          Implication  \\\n",
       "0         Strong recovery in air travel post-pandemic   \n",
       "1   Increasing pressure for environmental responsi...   \n",
       "2        Continued industry focus on safety standards   \n",
       "3              Growing airport-related fees and costs   \n",
       "4   Continued strength in air cargo and freight de...   \n",
       "5   Passenger data security and travel security co...   \n",
       "6   Changes in financial settlement systems (BSP, ...   \n",
       "7   Move towards digital identity and seamless travel   \n",
       "8   Tighter regulatory environment for passenger r...   \n",
       "9   Industry-wide DEI (Diversity, Equity, Inclusio...   \n",
       "10  Continued strength in air cargo and freight de...   \n",
       "11                   Need for revenue diversification   \n",
       "12        Board representation and governance changes   \n",
       "13          Government pressure via taxes on aviation   \n",
       "14  Tighter regulatory environment for passenger r...   \n",
       "\n",
       "                                          Opportunity Priority (Recommended)  \\\n",
       "0   Expand network capacity and optimize route pla...                   High   \n",
       "1   Adopt Sustainable Aviation Fuels (SAF) and car...                   High   \n",
       "2      Invest in IOSA certification and safety audits                 Medium   \n",
       "3   Negotiate airport charges and improve operatio...                 Medium   \n",
       "4   Expand cargo services and invest in logistics ...                 Medium   \n",
       "5   Enhance digital identity management and passen...                 Medium   \n",
       "6   Optimize settlement systems and implement fast...                 Medium   \n",
       "7        Implement biometric and digital ID solutions                 Medium   \n",
       "8   Implement compliance monitoring and customer c...                 Medium   \n",
       "9      Strengthen diversity and inclusion initiatives                 Medium   \n",
       "10  Expand cargo services and invest in logistics ...                    Low   \n",
       "11  Develop new commercial partnerships and ancill...                    Low   \n",
       "12  Strengthen board leadership and stakeholder en...                    Low   \n",
       "13  Engage in advocacy and optimize tax planning s...                    Low   \n",
       "14  Implement compliance monitoring and customer c...                    Low   \n",
       "\n",
       "    Keyword Fraction (%)  Topic Growth  \n",
       "0                  15.96            11  \n",
       "1                  12.11            16  \n",
       "2                  12.19            -2  \n",
       "3                   8.50            -1  \n",
       "4                   8.42            -6  \n",
       "5                   7.78            -1  \n",
       "6                   5.13            -2  \n",
       "7                   3.85             7  \n",
       "8                   2.41             1  \n",
       "9                   2.41            11  \n",
       "10                  3.93            -1  \n",
       "11                  3.85           -21  \n",
       "12                  3.37            -2  \n",
       "13                  3.21             0  \n",
       "14                  2.00            -4  "
      ]
     },
     "metadata": {},
     "output_type": "display_data"
    },
    {
     "name": "stdout",
     "output_type": "stream",
     "text": [
      "\n",
      "Saved opportunity table to: ../outputs/business_opportunities_bertopic_cluster_model_from_2015_excl_2020_2021_20250426.csv\n"
     ]
    }
   ],
   "source": [
    "# ===============================================\n",
    "# Generate a table matching trends to business\n",
    "# opportunities, and assign a priority ranking\n",
    "# based on trend size and growth\n",
    "# ===============================================\n",
    "\n",
    "topics_over_time = topic_model.topics_over_time(texts, timestamps, topic_model.topics_)\n",
    "matched_opportunities_df, unmatched_topics = generate_opportunity_table(topic_model, topics_over_time)\n",
    "\n",
    "print(f\"Filtering (if any): {model_label}\")\n",
    "print(f\"Model Name: {model_name}\\n\")\n",
    "print(\"=== Matched Business Opportunities ===\\n\")\n",
    "display(matched_opportunities_df)\n",
    "\n",
    "# Save table as CSV\n",
    "output_filename = f\"../outputs/business_opportunities_{model_name}.csv\"\n",
    "matched_opportunities_df.to_csv(output_filename, index=False)\n",
    "\n",
    "print(f\"\\nSaved opportunity table to: {output_filename}\")"
   ]
  }
 ],
 "metadata": {
  "kernelspec": {
   "display_name": "iata",
   "language": "python",
   "name": "python3"
  },
  "language_info": {
   "codemirror_mode": {
    "name": "ipython",
    "version": 3
   },
   "file_extension": ".py",
   "mimetype": "text/x-python",
   "name": "python",
   "nbconvert_exporter": "python",
   "pygments_lexer": "ipython3",
   "version": "3.9.22"
  }
 },
 "nbformat": 4,
 "nbformat_minor": 5
}
