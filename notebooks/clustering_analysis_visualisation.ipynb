{
 "cells": [
  {
   "cell_type": "markdown",
   "id": "764c52e8",
   "metadata": {},
   "source": [
    "# Visualise results from model trained in clustering_analysis_training.ipynb\n",
    "\n",
    "Author: Katharine Leney, April 2025"
   ]
  },
  {
   "cell_type": "code",
   "execution_count": 8,
   "id": "42738697",
   "metadata": {},
   "outputs": [],
   "source": [
    "import joblib\n",
    "import pandas as pd\n",
    "import pickle\n",
    "import os\n",
    "import sys\n",
    "import plotly.express as px  \n",
    "sys.path.append(\"../src\")\n",
    "from utils.filter_dataframe import filter_dataframe_by_year, get_top_topics\n",
    "from utils.parse_model_folder import parse_model_folder\n",
    "from utils.generate_clean_labels import generate_clean_labels\n",
    "from utils.generate_opportunity_table import generate_opportunity_table"
   ]
  },
  {
   "cell_type": "code",
   "execution_count": 9,
   "id": "3f00276e",
   "metadata": {},
   "outputs": [
    {
     "name": "stdout",
     "output_type": "stream",
     "text": [
      "\n"
     ]
    }
   ],
   "source": [
    "# ====================================\n",
    "# Load model and associated data\n",
    "# ====================================\n",
    "\n",
    "# Model name\n",
    "model_name = f\"bertopic_cluster_model\"\n",
    "\n",
    "# Build correct path\n",
    "model_path = os.path.join(\"../models/\", model_name, \"model\")\n",
    "\n",
    "# Load the model\n",
    "topic_model = joblib.load(model_path)\n",
    "\n",
    "# Load texts and timestamps\n",
    "with open(os.path.join(\"../models/\", model_name, \"texts.pkl\"), \"rb\") as f:\n",
    "    texts = pickle.load(f)\n",
    "\n",
    "with open(os.path.join(\"../models/\", model_name, \"timestamps.pkl\"), \"rb\") as f:\n",
    "    timestamps = pickle.load(f)\n",
    "\n",
    "model_label = parse_model_folder(model_name)\n",
    "print(model_label)\n",
    "\n",
    "# Make sure the outputs folder exists\n",
    "os.makedirs(\"../outputs\", exist_ok=True)"
   ]
  },
  {
   "cell_type": "code",
   "execution_count": 10,
   "id": "2ac0a6ee",
   "metadata": {},
   "outputs": [
    {
     "data": {
      "text/html": [
       "<div>\n",
       "<style scoped>\n",
       "    .dataframe tbody tr th:only-of-type {\n",
       "        vertical-align: middle;\n",
       "    }\n",
       "\n",
       "    .dataframe tbody tr th {\n",
       "        vertical-align: top;\n",
       "    }\n",
       "\n",
       "    .dataframe thead th {\n",
       "        text-align: right;\n",
       "    }\n",
       "</style>\n",
       "<table border=\"1\" class=\"dataframe\">\n",
       "  <thead>\n",
       "    <tr style=\"text-align: right;\">\n",
       "      <th></th>\n",
       "      <th>Topic</th>\n",
       "      <th>Count</th>\n",
       "      <th>Name</th>\n",
       "      <th>Representation</th>\n",
       "      <th>Representative_Docs</th>\n",
       "    </tr>\n",
       "  </thead>\n",
       "  <tbody>\n",
       "    <tr>\n",
       "      <th>0</th>\n",
       "      <td>-1</td>\n",
       "      <td>595</td>\n",
       "      <td>-1_fuel_airlines_airline_emissions</td>\n",
       "      <td>[fuel, airlines, airline, emissions, passenger...</td>\n",
       "      <td>[Region 2023 2022 5-year average (2019-2023) A...</td>\n",
       "    </tr>\n",
       "    <tr>\n",
       "      <th>1</th>\n",
       "      <td>0</td>\n",
       "      <td>233</td>\n",
       "      <td>0_safety_iosa_accidents_accident</td>\n",
       "      <td>[safety, iosa, accidents, accident, audit, rat...</td>\n",
       "      <td>[22 Auditing to global standards and practices...</td>\n",
       "    </tr>\n",
       "    <tr>\n",
       "      <th>2</th>\n",
       "      <td>1</td>\n",
       "      <td>194</td>\n",
       "      <td>1_security_information_passenger_smart security</td>\n",
       "      <td>[security, information, passenger, smart secur...</td>\n",
       "      <td>[Smart Security Smart Security is joint initia...</td>\n",
       "    </tr>\n",
       "    <tr>\n",
       "      <th>3</th>\n",
       "      <td>2</td>\n",
       "      <td>170</td>\n",
       "      <td>2_settlement_billion_processed_bsp</td>\n",
       "      <td>[settlement, billion, processed, bsp, cass, is...</td>\n",
       "      <td>[60 09 PASSENGER EXPERIENCE FINANCIAL SYSTEMS ...</td>\n",
       "    </tr>\n",
       "    <tr>\n",
       "      <th>4</th>\n",
       "      <td>3</td>\n",
       "      <td>146</td>\n",
       "      <td>3_charges_airport_airports_infrastructure</td>\n",
       "      <td>[charges, airport, airports, infrastructure, c...</td>\n",
       "      <td>[Airports Savings in airport charges of $1.5 b...</td>\n",
       "    </tr>\n",
       "    <tr>\n",
       "      <th>5</th>\n",
       "      <td>4</td>\n",
       "      <td>143</td>\n",
       "      <td>4_business_global_governments_important</td>\n",
       "      <td>[business, global, governments, important, gre...</td>\n",
       "      <td>[Tony Tyler Director General &amp; CEO Internation...</td>\n",
       "    </tr>\n",
       "    <tr>\n",
       "      <th>6</th>\n",
       "      <td>5</td>\n",
       "      <td>92</td>\n",
       "      <td>5_ndc_order_travel_airline</td>\n",
       "      <td>[ndc, order, travel, airline, retailing, distr...</td>\n",
       "      <td>[As IATA receives feedback from early NDC depl...</td>\n",
       "    </tr>\n",
       "    <tr>\n",
       "      <th>7</th>\n",
       "      <td>6</td>\n",
       "      <td>90</td>\n",
       "      <td>6_baggage_fast travel_fast_boarding</td>\n",
       "      <td>[baggage, fast travel, fast, boarding, passeng...</td>\n",
       "      <td>[The program provides self-service options at ...</td>\n",
       "    </tr>\n",
       "    <tr>\n",
       "      <th>8</th>\n",
       "      <td>7</td>\n",
       "      <td>89</td>\n",
       "      <td>7_cargo_e-freight_freight_e-awb</td>\n",
       "      <td>[cargo, e-freight, freight, e-awb, chain, supp...</td>\n",
       "      <td>[In partnership with shippers, freight forward...</td>\n",
       "    </tr>\n",
       "    <tr>\n",
       "      <th>9</th>\n",
       "      <td>8</td>\n",
       "      <td>84</td>\n",
       "      <td>8_saf_corsia_emissions_production</td>\n",
       "      <td>[saf, corsia, emissions, production, carbon, i...</td>\n",
       "      <td>[Sustainable aviation fuels One of the most pr...</td>\n",
       "    </tr>\n",
       "  </tbody>\n",
       "</table>\n",
       "</div>"
      ],
      "text/plain": [
       "   Topic  Count                                             Name  \\\n",
       "0     -1    595               -1_fuel_airlines_airline_emissions   \n",
       "1      0    233                 0_safety_iosa_accidents_accident   \n",
       "2      1    194  1_security_information_passenger_smart security   \n",
       "3      2    170               2_settlement_billion_processed_bsp   \n",
       "4      3    146        3_charges_airport_airports_infrastructure   \n",
       "5      4    143          4_business_global_governments_important   \n",
       "6      5     92                       5_ndc_order_travel_airline   \n",
       "7      6     90              6_baggage_fast travel_fast_boarding   \n",
       "8      7     89                  7_cargo_e-freight_freight_e-awb   \n",
       "9      8     84                8_saf_corsia_emissions_production   \n",
       "\n",
       "                                      Representation  \\\n",
       "0  [fuel, airlines, airline, emissions, passenger...   \n",
       "1  [safety, iosa, accidents, accident, audit, rat...   \n",
       "2  [security, information, passenger, smart secur...   \n",
       "3  [settlement, billion, processed, bsp, cass, is...   \n",
       "4  [charges, airport, airports, infrastructure, c...   \n",
       "5  [business, global, governments, important, gre...   \n",
       "6  [ndc, order, travel, airline, retailing, distr...   \n",
       "7  [baggage, fast travel, fast, boarding, passeng...   \n",
       "8  [cargo, e-freight, freight, e-awb, chain, supp...   \n",
       "9  [saf, corsia, emissions, production, carbon, i...   \n",
       "\n",
       "                                 Representative_Docs  \n",
       "0  [Region 2023 2022 5-year average (2019-2023) A...  \n",
       "1  [22 Auditing to global standards and practices...  \n",
       "2  [Smart Security Smart Security is joint initia...  \n",
       "3  [60 09 PASSENGER EXPERIENCE FINANCIAL SYSTEMS ...  \n",
       "4  [Airports Savings in airport charges of $1.5 b...  \n",
       "5  [Tony Tyler Director General & CEO Internation...  \n",
       "6  [As IATA receives feedback from early NDC depl...  \n",
       "7  [The program provides self-service options at ...  \n",
       "8  [In partnership with shippers, freight forward...  \n",
       "9  [Sustainable aviation fuels One of the most pr...  "
      ]
     },
     "execution_count": 10,
     "metadata": {},
     "output_type": "execute_result"
    }
   ],
   "source": [
    "# Explore top topics\n",
    "topic_model.get_topic_info().head(10)\n",
    "#topic_model.get_topic_info()"
   ]
  },
  {
   "cell_type": "code",
   "execution_count": 11,
   "id": "185fc284",
   "metadata": {},
   "outputs": [
    {
     "data": {
      "application/vnd.plotly.v1+json": {
       "config": {
        "plotlyServerURL": "https://plot.ly"
       },
       "data": [
        {
         "customdata": [
          [
           0,
           "safety | iosa | accidents | accident | audit",
           233
          ],
          [
           1,
           "security | information | passenger | smart security | screening",
           194
          ],
          [
           2,
           "settlement | billion | processed | bsp | cass",
           170
          ],
          [
           3,
           "charges | airport | airports | infrastructure | cost",
           146
          ],
          [
           4,
           "business | global | governments | important | great",
           143
          ],
          [
           5,
           "ndc | order | travel | airline | retailing",
           92
          ],
          [
           6,
           "baggage | fast travel | fast | boarding | passengers",
           90
          ],
          [
           7,
           "cargo | e-freight | freight | e-awb | chain",
           89
          ],
          [
           8,
           "saf | corsia | emissions | production | carbon",
           84
          ],
          [
           9,
           "regulation | rights | passenger rights | regulations | smarter",
           76
          ],
          [
           10,
           "markets | growth | load | premium | capacity",
           71
          ],
          [
           11,
           "covid-19 | health | testing | travel | pandemic",
           69
          ],
          [
           12,
           "airlines | airways | china | cargo | latam",
           69
          ],
          [
           13,
           "tax | taxes | taxation | government | tourism",
           66
          ],
          [
           14,
           "data | intelligence | consulting | cargois | solutions",
           66
          ],
          [
           15,
           "cargo | trade | growth | global | demand",
           60
          ],
          [
           16,
           "world | commercial | jobs | people | economic",
           58
          ],
          [
           17,
           "unruly | mc99 | mp14 | passengers | incidents",
           53
          ],
          [
           18,
           "ceiv | lithium | batteries | dangerous | dangerous goods",
           52
          ],
          [
           19,
           "training | itdi | strategic | courses | partners",
           51
          ],
          [
           20,
           "emissions | carbon | environmental | technology | fuel efficiency",
           51
          ],
          [
           21,
           "profit | billion | net | profits | profitability",
           47
          ],
          [
           22,
           "slot | wsg | slots | airport | airports",
           46
          ],
          [
           23,
           " |  |  |  | ",
           41
          ],
          [
           24,
           "fax | tel fax | tel | offices | box",
           39
          ],
          [
           25,
           "airlines | airways | mr | representing | group",
           37
          ],
          [
           26,
           "atm | airspace | european | nextgen | traffic",
           35
          ],
          [
           27,
           "identity | id | digital | biometric | travel",
           29
          ],
          [
           28,
           "diversity | inclusion | diversity inclusion | female | gender",
           29
          ],
          [
           29,
           "ienva | waste | environmental | assessment | stage",
           28
          ],
          [
           30,
           "fuel | jet fuel | jet | supply | fuel supply",
           28
          ],
          [
           31,
           "oil | barrel | prices | fuel | price",
           28
          ],
          [
           32,
           "isago | ground | audits | audit | ground operations",
           27
          ],
          [
           33,
           "domestic | travel | rpks | international | traffic",
           24
          ]
         ],
         "hovertemplate": "<b>Topic %{customdata[0]}</b><br>%{customdata[1]}<br>Size: %{customdata[2]}",
         "legendgroup": "",
         "marker": {
          "color": "#B0BEC5",
          "line": {
           "color": "DarkSlateGrey",
           "width": 2
          },
          "size": {
           "bdata": "6QDCAKoAkgCPAFwAWgBZAFQATABHAEUARQBCAEIAPAA6ADUANAAzADMALwAuACkAJwAlACMAHQAdABwAHAAcABsAGAA=",
           "dtype": "i2"
          },
          "sizemode": "area",
          "sizeref": 0.145625,
          "symbol": "circle"
         },
         "mode": "markers",
         "name": "",
         "orientation": "v",
         "showlegend": false,
         "type": "scatter",
         "x": {
          "bdata": "FhAnwZTCLsE3uANAB/EKQWcBJD/QhWvBKfEUQBaxDkClK5lBj5nOwPcNk0BT+yTBgBaJP5RPCkGQhmvBMwuOQOr+tT4YQdbA34chQDLwfz756plBWmmbQDGuzMD11C3BFJUtwaKdiT+vJg9BKwMswcNICT+guJtBRlIIQWuunkBpMSLB6GEiwQ==",
          "dtype": "f4"
         },
         "xaxis": "x",
         "y": {
          "bdata": "5YBuQbeyd0HS1VfBwacxQZ5PhkG0CB5BBIhTwSkYVcEFWVXAVuXeP47qEUE513RBPX2AQW57MkHzBx5BfW4UQbQ8hEH3TMA/x2JQwWdUiEG5UVvAJ78NQUyQ5j8Zi4FBPpt8QUx4gUG08yxBquF9QYi3hUHAvGnAy2E0QYQgDEEtRWtBQ8F2QQ==",
          "dtype": "f4"
         },
         "yaxis": "y"
        }
       ],
       "layout": {
        "annotations": [
         {
          "showarrow": false,
          "text": "D1",
          "x": -16.928404998779296,
          "y": 2.042118167877197,
          "yshift": 10
         },
         {
          "showarrow": false,
          "text": "D2",
          "x": 2.7282581329345703,
          "xshift": 10,
          "y": 19.597393894195555
         }
        ],
        "font": {
         "family": "Arial"
        },
        "height": 800,
        "hoverlabel": {
         "bgcolor": "white",
         "font": {
          "family": "Rockwell",
          "size": 16
         }
        },
        "legend": {
         "itemsizing": "constant",
         "orientation": "h",
         "tracegroupgap": 0,
         "x": 0.5,
         "xanchor": "center",
         "y": 1.02,
         "yanchor": "bottom"
        },
        "margin": {
         "t": 60
        },
        "paper_bgcolor": "white",
        "plot_bgcolor": "white",
        "shapes": [
         {
          "line": {
           "color": "#CFD8DC",
           "width": 2
          },
          "type": "line",
          "x0": 2.7282581329345703,
          "x1": 2.7282581329345703,
          "y0": -15.513157558441161,
          "y1": 19.597393894195555
         },
         {
          "line": {
           "color": "#9E9E9E",
           "width": 2
          },
          "type": "line",
          "x0": -16.928404998779296,
          "x1": 22.384921264648437,
          "y0": 2.042118167877197,
          "y1": 2.042118167877197
         }
        ],
        "sliders": [
         {
          "active": 0,
          "pad": {
           "t": 50
          },
          "steps": [
           {
            "args": [
             {
              "marker.color": [
               [
                "red",
                "#B0BEC5",
                "#B0BEC5",
                "#B0BEC5",
                "#B0BEC5",
                "#B0BEC5",
                "#B0BEC5",
                "#B0BEC5",
                "#B0BEC5",
                "#B0BEC5",
                "#B0BEC5",
                "#B0BEC5",
                "#B0BEC5",
                "#B0BEC5",
                "#B0BEC5",
                "#B0BEC5",
                "#B0BEC5",
                "#B0BEC5",
                "#B0BEC5",
                "#B0BEC5",
                "#B0BEC5",
                "#B0BEC5",
                "#B0BEC5",
                "#B0BEC5",
                "#B0BEC5",
                "#B0BEC5",
                "#B0BEC5",
                "#B0BEC5",
                "#B0BEC5",
                "#B0BEC5",
                "#B0BEC5",
                "#B0BEC5",
                "#B0BEC5",
                "#B0BEC5"
               ]
              ]
             }
            ],
            "label": "Topic 0",
            "method": "update"
           },
           {
            "args": [
             {
              "marker.color": [
               [
                "#B0BEC5",
                "red",
                "#B0BEC5",
                "#B0BEC5",
                "#B0BEC5",
                "#B0BEC5",
                "#B0BEC5",
                "#B0BEC5",
                "#B0BEC5",
                "#B0BEC5",
                "#B0BEC5",
                "#B0BEC5",
                "#B0BEC5",
                "#B0BEC5",
                "#B0BEC5",
                "#B0BEC5",
                "#B0BEC5",
                "#B0BEC5",
                "#B0BEC5",
                "#B0BEC5",
                "#B0BEC5",
                "#B0BEC5",
                "#B0BEC5",
                "#B0BEC5",
                "#B0BEC5",
                "#B0BEC5",
                "#B0BEC5",
                "#B0BEC5",
                "#B0BEC5",
                "#B0BEC5",
                "#B0BEC5",
                "#B0BEC5",
                "#B0BEC5",
                "#B0BEC5"
               ]
              ]
             }
            ],
            "label": "Topic 1",
            "method": "update"
           },
           {
            "args": [
             {
              "marker.color": [
               [
                "#B0BEC5",
                "#B0BEC5",
                "red",
                "#B0BEC5",
                "#B0BEC5",
                "#B0BEC5",
                "#B0BEC5",
                "#B0BEC5",
                "#B0BEC5",
                "#B0BEC5",
                "#B0BEC5",
                "#B0BEC5",
                "#B0BEC5",
                "#B0BEC5",
                "#B0BEC5",
                "#B0BEC5",
                "#B0BEC5",
                "#B0BEC5",
                "#B0BEC5",
                "#B0BEC5",
                "#B0BEC5",
                "#B0BEC5",
                "#B0BEC5",
                "#B0BEC5",
                "#B0BEC5",
                "#B0BEC5",
                "#B0BEC5",
                "#B0BEC5",
                "#B0BEC5",
                "#B0BEC5",
                "#B0BEC5",
                "#B0BEC5",
                "#B0BEC5",
                "#B0BEC5"
               ]
              ]
             }
            ],
            "label": "Topic 2",
            "method": "update"
           },
           {
            "args": [
             {
              "marker.color": [
               [
                "#B0BEC5",
                "#B0BEC5",
                "#B0BEC5",
                "red",
                "#B0BEC5",
                "#B0BEC5",
                "#B0BEC5",
                "#B0BEC5",
                "#B0BEC5",
                "#B0BEC5",
                "#B0BEC5",
                "#B0BEC5",
                "#B0BEC5",
                "#B0BEC5",
                "#B0BEC5",
                "#B0BEC5",
                "#B0BEC5",
                "#B0BEC5",
                "#B0BEC5",
                "#B0BEC5",
                "#B0BEC5",
                "#B0BEC5",
                "#B0BEC5",
                "#B0BEC5",
                "#B0BEC5",
                "#B0BEC5",
                "#B0BEC5",
                "#B0BEC5",
                "#B0BEC5",
                "#B0BEC5",
                "#B0BEC5",
                "#B0BEC5",
                "#B0BEC5",
                "#B0BEC5"
               ]
              ]
             }
            ],
            "label": "Topic 3",
            "method": "update"
           },
           {
            "args": [
             {
              "marker.color": [
               [
                "#B0BEC5",
                "#B0BEC5",
                "#B0BEC5",
                "#B0BEC5",
                "red",
                "#B0BEC5",
                "#B0BEC5",
                "#B0BEC5",
                "#B0BEC5",
                "#B0BEC5",
                "#B0BEC5",
                "#B0BEC5",
                "#B0BEC5",
                "#B0BEC5",
                "#B0BEC5",
                "#B0BEC5",
                "#B0BEC5",
                "#B0BEC5",
                "#B0BEC5",
                "#B0BEC5",
                "#B0BEC5",
                "#B0BEC5",
                "#B0BEC5",
                "#B0BEC5",
                "#B0BEC5",
                "#B0BEC5",
                "#B0BEC5",
                "#B0BEC5",
                "#B0BEC5",
                "#B0BEC5",
                "#B0BEC5",
                "#B0BEC5",
                "#B0BEC5",
                "#B0BEC5"
               ]
              ]
             }
            ],
            "label": "Topic 4",
            "method": "update"
           },
           {
            "args": [
             {
              "marker.color": [
               [
                "#B0BEC5",
                "#B0BEC5",
                "#B0BEC5",
                "#B0BEC5",
                "#B0BEC5",
                "red",
                "#B0BEC5",
                "#B0BEC5",
                "#B0BEC5",
                "#B0BEC5",
                "#B0BEC5",
                "#B0BEC5",
                "#B0BEC5",
                "#B0BEC5",
                "#B0BEC5",
                "#B0BEC5",
                "#B0BEC5",
                "#B0BEC5",
                "#B0BEC5",
                "#B0BEC5",
                "#B0BEC5",
                "#B0BEC5",
                "#B0BEC5",
                "#B0BEC5",
                "#B0BEC5",
                "#B0BEC5",
                "#B0BEC5",
                "#B0BEC5",
                "#B0BEC5",
                "#B0BEC5",
                "#B0BEC5",
                "#B0BEC5",
                "#B0BEC5",
                "#B0BEC5"
               ]
              ]
             }
            ],
            "label": "Topic 5",
            "method": "update"
           },
           {
            "args": [
             {
              "marker.color": [
               [
                "#B0BEC5",
                "#B0BEC5",
                "#B0BEC5",
                "#B0BEC5",
                "#B0BEC5",
                "#B0BEC5",
                "red",
                "#B0BEC5",
                "#B0BEC5",
                "#B0BEC5",
                "#B0BEC5",
                "#B0BEC5",
                "#B0BEC5",
                "#B0BEC5",
                "#B0BEC5",
                "#B0BEC5",
                "#B0BEC5",
                "#B0BEC5",
                "#B0BEC5",
                "#B0BEC5",
                "#B0BEC5",
                "#B0BEC5",
                "#B0BEC5",
                "#B0BEC5",
                "#B0BEC5",
                "#B0BEC5",
                "#B0BEC5",
                "#B0BEC5",
                "#B0BEC5",
                "#B0BEC5",
                "#B0BEC5",
                "#B0BEC5",
                "#B0BEC5",
                "#B0BEC5"
               ]
              ]
             }
            ],
            "label": "Topic 6",
            "method": "update"
           },
           {
            "args": [
             {
              "marker.color": [
               [
                "#B0BEC5",
                "#B0BEC5",
                "#B0BEC5",
                "#B0BEC5",
                "#B0BEC5",
                "#B0BEC5",
                "#B0BEC5",
                "red",
                "#B0BEC5",
                "#B0BEC5",
                "#B0BEC5",
                "#B0BEC5",
                "#B0BEC5",
                "#B0BEC5",
                "#B0BEC5",
                "#B0BEC5",
                "#B0BEC5",
                "#B0BEC5",
                "#B0BEC5",
                "#B0BEC5",
                "#B0BEC5",
                "#B0BEC5",
                "#B0BEC5",
                "#B0BEC5",
                "#B0BEC5",
                "#B0BEC5",
                "#B0BEC5",
                "#B0BEC5",
                "#B0BEC5",
                "#B0BEC5",
                "#B0BEC5",
                "#B0BEC5",
                "#B0BEC5",
                "#B0BEC5"
               ]
              ]
             }
            ],
            "label": "Topic 7",
            "method": "update"
           },
           {
            "args": [
             {
              "marker.color": [
               [
                "#B0BEC5",
                "#B0BEC5",
                "#B0BEC5",
                "#B0BEC5",
                "#B0BEC5",
                "#B0BEC5",
                "#B0BEC5",
                "#B0BEC5",
                "red",
                "#B0BEC5",
                "#B0BEC5",
                "#B0BEC5",
                "#B0BEC5",
                "#B0BEC5",
                "#B0BEC5",
                "#B0BEC5",
                "#B0BEC5",
                "#B0BEC5",
                "#B0BEC5",
                "#B0BEC5",
                "#B0BEC5",
                "#B0BEC5",
                "#B0BEC5",
                "#B0BEC5",
                "#B0BEC5",
                "#B0BEC5",
                "#B0BEC5",
                "#B0BEC5",
                "#B0BEC5",
                "#B0BEC5",
                "#B0BEC5",
                "#B0BEC5",
                "#B0BEC5",
                "#B0BEC5"
               ]
              ]
             }
            ],
            "label": "Topic 8",
            "method": "update"
           },
           {
            "args": [
             {
              "marker.color": [
               [
                "#B0BEC5",
                "#B0BEC5",
                "#B0BEC5",
                "#B0BEC5",
                "#B0BEC5",
                "#B0BEC5",
                "#B0BEC5",
                "#B0BEC5",
                "#B0BEC5",
                "red",
                "#B0BEC5",
                "#B0BEC5",
                "#B0BEC5",
                "#B0BEC5",
                "#B0BEC5",
                "#B0BEC5",
                "#B0BEC5",
                "#B0BEC5",
                "#B0BEC5",
                "#B0BEC5",
                "#B0BEC5",
                "#B0BEC5",
                "#B0BEC5",
                "#B0BEC5",
                "#B0BEC5",
                "#B0BEC5",
                "#B0BEC5",
                "#B0BEC5",
                "#B0BEC5",
                "#B0BEC5",
                "#B0BEC5",
                "#B0BEC5",
                "#B0BEC5",
                "#B0BEC5"
               ]
              ]
             }
            ],
            "label": "Topic 9",
            "method": "update"
           },
           {
            "args": [
             {
              "marker.color": [
               [
                "#B0BEC5",
                "#B0BEC5",
                "#B0BEC5",
                "#B0BEC5",
                "#B0BEC5",
                "#B0BEC5",
                "#B0BEC5",
                "#B0BEC5",
                "#B0BEC5",
                "#B0BEC5",
                "red",
                "#B0BEC5",
                "#B0BEC5",
                "#B0BEC5",
                "#B0BEC5",
                "#B0BEC5",
                "#B0BEC5",
                "#B0BEC5",
                "#B0BEC5",
                "#B0BEC5",
                "#B0BEC5",
                "#B0BEC5",
                "#B0BEC5",
                "#B0BEC5",
                "#B0BEC5",
                "#B0BEC5",
                "#B0BEC5",
                "#B0BEC5",
                "#B0BEC5",
                "#B0BEC5",
                "#B0BEC5",
                "#B0BEC5",
                "#B0BEC5",
                "#B0BEC5"
               ]
              ]
             }
            ],
            "label": "Topic 10",
            "method": "update"
           },
           {
            "args": [
             {
              "marker.color": [
               [
                "#B0BEC5",
                "#B0BEC5",
                "#B0BEC5",
                "#B0BEC5",
                "#B0BEC5",
                "#B0BEC5",
                "#B0BEC5",
                "#B0BEC5",
                "#B0BEC5",
                "#B0BEC5",
                "#B0BEC5",
                "red",
                "#B0BEC5",
                "#B0BEC5",
                "#B0BEC5",
                "#B0BEC5",
                "#B0BEC5",
                "#B0BEC5",
                "#B0BEC5",
                "#B0BEC5",
                "#B0BEC5",
                "#B0BEC5",
                "#B0BEC5",
                "#B0BEC5",
                "#B0BEC5",
                "#B0BEC5",
                "#B0BEC5",
                "#B0BEC5",
                "#B0BEC5",
                "#B0BEC5",
                "#B0BEC5",
                "#B0BEC5",
                "#B0BEC5",
                "#B0BEC5"
               ]
              ]
             }
            ],
            "label": "Topic 11",
            "method": "update"
           },
           {
            "args": [
             {
              "marker.color": [
               [
                "#B0BEC5",
                "#B0BEC5",
                "#B0BEC5",
                "#B0BEC5",
                "#B0BEC5",
                "#B0BEC5",
                "#B0BEC5",
                "#B0BEC5",
                "#B0BEC5",
                "#B0BEC5",
                "#B0BEC5",
                "#B0BEC5",
                "red",
                "#B0BEC5",
                "#B0BEC5",
                "#B0BEC5",
                "#B0BEC5",
                "#B0BEC5",
                "#B0BEC5",
                "#B0BEC5",
                "#B0BEC5",
                "#B0BEC5",
                "#B0BEC5",
                "#B0BEC5",
                "#B0BEC5",
                "#B0BEC5",
                "#B0BEC5",
                "#B0BEC5",
                "#B0BEC5",
                "#B0BEC5",
                "#B0BEC5",
                "#B0BEC5",
                "#B0BEC5",
                "#B0BEC5"
               ]
              ]
             }
            ],
            "label": "Topic 12",
            "method": "update"
           },
           {
            "args": [
             {
              "marker.color": [
               [
                "#B0BEC5",
                "#B0BEC5",
                "#B0BEC5",
                "#B0BEC5",
                "#B0BEC5",
                "#B0BEC5",
                "#B0BEC5",
                "#B0BEC5",
                "#B0BEC5",
                "#B0BEC5",
                "#B0BEC5",
                "#B0BEC5",
                "#B0BEC5",
                "red",
                "#B0BEC5",
                "#B0BEC5",
                "#B0BEC5",
                "#B0BEC5",
                "#B0BEC5",
                "#B0BEC5",
                "#B0BEC5",
                "#B0BEC5",
                "#B0BEC5",
                "#B0BEC5",
                "#B0BEC5",
                "#B0BEC5",
                "#B0BEC5",
                "#B0BEC5",
                "#B0BEC5",
                "#B0BEC5",
                "#B0BEC5",
                "#B0BEC5",
                "#B0BEC5",
                "#B0BEC5"
               ]
              ]
             }
            ],
            "label": "Topic 13",
            "method": "update"
           },
           {
            "args": [
             {
              "marker.color": [
               [
                "#B0BEC5",
                "#B0BEC5",
                "#B0BEC5",
                "#B0BEC5",
                "#B0BEC5",
                "#B0BEC5",
                "#B0BEC5",
                "#B0BEC5",
                "#B0BEC5",
                "#B0BEC5",
                "#B0BEC5",
                "#B0BEC5",
                "#B0BEC5",
                "#B0BEC5",
                "red",
                "#B0BEC5",
                "#B0BEC5",
                "#B0BEC5",
                "#B0BEC5",
                "#B0BEC5",
                "#B0BEC5",
                "#B0BEC5",
                "#B0BEC5",
                "#B0BEC5",
                "#B0BEC5",
                "#B0BEC5",
                "#B0BEC5",
                "#B0BEC5",
                "#B0BEC5",
                "#B0BEC5",
                "#B0BEC5",
                "#B0BEC5",
                "#B0BEC5",
                "#B0BEC5"
               ]
              ]
             }
            ],
            "label": "Topic 14",
            "method": "update"
           },
           {
            "args": [
             {
              "marker.color": [
               [
                "#B0BEC5",
                "#B0BEC5",
                "#B0BEC5",
                "#B0BEC5",
                "#B0BEC5",
                "#B0BEC5",
                "#B0BEC5",
                "#B0BEC5",
                "#B0BEC5",
                "#B0BEC5",
                "#B0BEC5",
                "#B0BEC5",
                "#B0BEC5",
                "#B0BEC5",
                "#B0BEC5",
                "red",
                "#B0BEC5",
                "#B0BEC5",
                "#B0BEC5",
                "#B0BEC5",
                "#B0BEC5",
                "#B0BEC5",
                "#B0BEC5",
                "#B0BEC5",
                "#B0BEC5",
                "#B0BEC5",
                "#B0BEC5",
                "#B0BEC5",
                "#B0BEC5",
                "#B0BEC5",
                "#B0BEC5",
                "#B0BEC5",
                "#B0BEC5",
                "#B0BEC5"
               ]
              ]
             }
            ],
            "label": "Topic 15",
            "method": "update"
           },
           {
            "args": [
             {
              "marker.color": [
               [
                "#B0BEC5",
                "#B0BEC5",
                "#B0BEC5",
                "#B0BEC5",
                "#B0BEC5",
                "#B0BEC5",
                "#B0BEC5",
                "#B0BEC5",
                "#B0BEC5",
                "#B0BEC5",
                "#B0BEC5",
                "#B0BEC5",
                "#B0BEC5",
                "#B0BEC5",
                "#B0BEC5",
                "#B0BEC5",
                "red",
                "#B0BEC5",
                "#B0BEC5",
                "#B0BEC5",
                "#B0BEC5",
                "#B0BEC5",
                "#B0BEC5",
                "#B0BEC5",
                "#B0BEC5",
                "#B0BEC5",
                "#B0BEC5",
                "#B0BEC5",
                "#B0BEC5",
                "#B0BEC5",
                "#B0BEC5",
                "#B0BEC5",
                "#B0BEC5",
                "#B0BEC5"
               ]
              ]
             }
            ],
            "label": "Topic 16",
            "method": "update"
           },
           {
            "args": [
             {
              "marker.color": [
               [
                "#B0BEC5",
                "#B0BEC5",
                "#B0BEC5",
                "#B0BEC5",
                "#B0BEC5",
                "#B0BEC5",
                "#B0BEC5",
                "#B0BEC5",
                "#B0BEC5",
                "#B0BEC5",
                "#B0BEC5",
                "#B0BEC5",
                "#B0BEC5",
                "#B0BEC5",
                "#B0BEC5",
                "#B0BEC5",
                "#B0BEC5",
                "red",
                "#B0BEC5",
                "#B0BEC5",
                "#B0BEC5",
                "#B0BEC5",
                "#B0BEC5",
                "#B0BEC5",
                "#B0BEC5",
                "#B0BEC5",
                "#B0BEC5",
                "#B0BEC5",
                "#B0BEC5",
                "#B0BEC5",
                "#B0BEC5",
                "#B0BEC5",
                "#B0BEC5",
                "#B0BEC5"
               ]
              ]
             }
            ],
            "label": "Topic 17",
            "method": "update"
           },
           {
            "args": [
             {
              "marker.color": [
               [
                "#B0BEC5",
                "#B0BEC5",
                "#B0BEC5",
                "#B0BEC5",
                "#B0BEC5",
                "#B0BEC5",
                "#B0BEC5",
                "#B0BEC5",
                "#B0BEC5",
                "#B0BEC5",
                "#B0BEC5",
                "#B0BEC5",
                "#B0BEC5",
                "#B0BEC5",
                "#B0BEC5",
                "#B0BEC5",
                "#B0BEC5",
                "#B0BEC5",
                "red",
                "#B0BEC5",
                "#B0BEC5",
                "#B0BEC5",
                "#B0BEC5",
                "#B0BEC5",
                "#B0BEC5",
                "#B0BEC5",
                "#B0BEC5",
                "#B0BEC5",
                "#B0BEC5",
                "#B0BEC5",
                "#B0BEC5",
                "#B0BEC5",
                "#B0BEC5",
                "#B0BEC5"
               ]
              ]
             }
            ],
            "label": "Topic 18",
            "method": "update"
           },
           {
            "args": [
             {
              "marker.color": [
               [
                "#B0BEC5",
                "#B0BEC5",
                "#B0BEC5",
                "#B0BEC5",
                "#B0BEC5",
                "#B0BEC5",
                "#B0BEC5",
                "#B0BEC5",
                "#B0BEC5",
                "#B0BEC5",
                "#B0BEC5",
                "#B0BEC5",
                "#B0BEC5",
                "#B0BEC5",
                "#B0BEC5",
                "#B0BEC5",
                "#B0BEC5",
                "#B0BEC5",
                "#B0BEC5",
                "red",
                "#B0BEC5",
                "#B0BEC5",
                "#B0BEC5",
                "#B0BEC5",
                "#B0BEC5",
                "#B0BEC5",
                "#B0BEC5",
                "#B0BEC5",
                "#B0BEC5",
                "#B0BEC5",
                "#B0BEC5",
                "#B0BEC5",
                "#B0BEC5",
                "#B0BEC5"
               ]
              ]
             }
            ],
            "label": "Topic 19",
            "method": "update"
           },
           {
            "args": [
             {
              "marker.color": [
               [
                "#B0BEC5",
                "#B0BEC5",
                "#B0BEC5",
                "#B0BEC5",
                "#B0BEC5",
                "#B0BEC5",
                "#B0BEC5",
                "#B0BEC5",
                "#B0BEC5",
                "#B0BEC5",
                "#B0BEC5",
                "#B0BEC5",
                "#B0BEC5",
                "#B0BEC5",
                "#B0BEC5",
                "#B0BEC5",
                "#B0BEC5",
                "#B0BEC5",
                "#B0BEC5",
                "#B0BEC5",
                "red",
                "#B0BEC5",
                "#B0BEC5",
                "#B0BEC5",
                "#B0BEC5",
                "#B0BEC5",
                "#B0BEC5",
                "#B0BEC5",
                "#B0BEC5",
                "#B0BEC5",
                "#B0BEC5",
                "#B0BEC5",
                "#B0BEC5",
                "#B0BEC5"
               ]
              ]
             }
            ],
            "label": "Topic 20",
            "method": "update"
           },
           {
            "args": [
             {
              "marker.color": [
               [
                "#B0BEC5",
                "#B0BEC5",
                "#B0BEC5",
                "#B0BEC5",
                "#B0BEC5",
                "#B0BEC5",
                "#B0BEC5",
                "#B0BEC5",
                "#B0BEC5",
                "#B0BEC5",
                "#B0BEC5",
                "#B0BEC5",
                "#B0BEC5",
                "#B0BEC5",
                "#B0BEC5",
                "#B0BEC5",
                "#B0BEC5",
                "#B0BEC5",
                "#B0BEC5",
                "#B0BEC5",
                "#B0BEC5",
                "red",
                "#B0BEC5",
                "#B0BEC5",
                "#B0BEC5",
                "#B0BEC5",
                "#B0BEC5",
                "#B0BEC5",
                "#B0BEC5",
                "#B0BEC5",
                "#B0BEC5",
                "#B0BEC5",
                "#B0BEC5",
                "#B0BEC5"
               ]
              ]
             }
            ],
            "label": "Topic 21",
            "method": "update"
           },
           {
            "args": [
             {
              "marker.color": [
               [
                "#B0BEC5",
                "#B0BEC5",
                "#B0BEC5",
                "#B0BEC5",
                "#B0BEC5",
                "#B0BEC5",
                "#B0BEC5",
                "#B0BEC5",
                "#B0BEC5",
                "#B0BEC5",
                "#B0BEC5",
                "#B0BEC5",
                "#B0BEC5",
                "#B0BEC5",
                "#B0BEC5",
                "#B0BEC5",
                "#B0BEC5",
                "#B0BEC5",
                "#B0BEC5",
                "#B0BEC5",
                "#B0BEC5",
                "#B0BEC5",
                "red",
                "#B0BEC5",
                "#B0BEC5",
                "#B0BEC5",
                "#B0BEC5",
                "#B0BEC5",
                "#B0BEC5",
                "#B0BEC5",
                "#B0BEC5",
                "#B0BEC5",
                "#B0BEC5",
                "#B0BEC5"
               ]
              ]
             }
            ],
            "label": "Topic 22",
            "method": "update"
           },
           {
            "args": [
             {
              "marker.color": [
               [
                "#B0BEC5",
                "#B0BEC5",
                "#B0BEC5",
                "#B0BEC5",
                "#B0BEC5",
                "#B0BEC5",
                "#B0BEC5",
                "#B0BEC5",
                "#B0BEC5",
                "#B0BEC5",
                "#B0BEC5",
                "#B0BEC5",
                "#B0BEC5",
                "#B0BEC5",
                "#B0BEC5",
                "#B0BEC5",
                "#B0BEC5",
                "#B0BEC5",
                "#B0BEC5",
                "#B0BEC5",
                "#B0BEC5",
                "#B0BEC5",
                "#B0BEC5",
                "red",
                "#B0BEC5",
                "#B0BEC5",
                "#B0BEC5",
                "#B0BEC5",
                "#B0BEC5",
                "#B0BEC5",
                "#B0BEC5",
                "#B0BEC5",
                "#B0BEC5",
                "#B0BEC5"
               ]
              ]
             }
            ],
            "label": "Topic 23",
            "method": "update"
           },
           {
            "args": [
             {
              "marker.color": [
               [
                "#B0BEC5",
                "#B0BEC5",
                "#B0BEC5",
                "#B0BEC5",
                "#B0BEC5",
                "#B0BEC5",
                "#B0BEC5",
                "#B0BEC5",
                "#B0BEC5",
                "#B0BEC5",
                "#B0BEC5",
                "#B0BEC5",
                "#B0BEC5",
                "#B0BEC5",
                "#B0BEC5",
                "#B0BEC5",
                "#B0BEC5",
                "#B0BEC5",
                "#B0BEC5",
                "#B0BEC5",
                "#B0BEC5",
                "#B0BEC5",
                "#B0BEC5",
                "#B0BEC5",
                "red",
                "#B0BEC5",
                "#B0BEC5",
                "#B0BEC5",
                "#B0BEC5",
                "#B0BEC5",
                "#B0BEC5",
                "#B0BEC5",
                "#B0BEC5",
                "#B0BEC5"
               ]
              ]
             }
            ],
            "label": "Topic 24",
            "method": "update"
           },
           {
            "args": [
             {
              "marker.color": [
               [
                "#B0BEC5",
                "#B0BEC5",
                "#B0BEC5",
                "#B0BEC5",
                "#B0BEC5",
                "#B0BEC5",
                "#B0BEC5",
                "#B0BEC5",
                "#B0BEC5",
                "#B0BEC5",
                "#B0BEC5",
                "#B0BEC5",
                "#B0BEC5",
                "#B0BEC5",
                "#B0BEC5",
                "#B0BEC5",
                "#B0BEC5",
                "#B0BEC5",
                "#B0BEC5",
                "#B0BEC5",
                "#B0BEC5",
                "#B0BEC5",
                "#B0BEC5",
                "#B0BEC5",
                "#B0BEC5",
                "red",
                "#B0BEC5",
                "#B0BEC5",
                "#B0BEC5",
                "#B0BEC5",
                "#B0BEC5",
                "#B0BEC5",
                "#B0BEC5",
                "#B0BEC5"
               ]
              ]
             }
            ],
            "label": "Topic 25",
            "method": "update"
           },
           {
            "args": [
             {
              "marker.color": [
               [
                "#B0BEC5",
                "#B0BEC5",
                "#B0BEC5",
                "#B0BEC5",
                "#B0BEC5",
                "#B0BEC5",
                "#B0BEC5",
                "#B0BEC5",
                "#B0BEC5",
                "#B0BEC5",
                "#B0BEC5",
                "#B0BEC5",
                "#B0BEC5",
                "#B0BEC5",
                "#B0BEC5",
                "#B0BEC5",
                "#B0BEC5",
                "#B0BEC5",
                "#B0BEC5",
                "#B0BEC5",
                "#B0BEC5",
                "#B0BEC5",
                "#B0BEC5",
                "#B0BEC5",
                "#B0BEC5",
                "#B0BEC5",
                "red",
                "#B0BEC5",
                "#B0BEC5",
                "#B0BEC5",
                "#B0BEC5",
                "#B0BEC5",
                "#B0BEC5",
                "#B0BEC5"
               ]
              ]
             }
            ],
            "label": "Topic 26",
            "method": "update"
           },
           {
            "args": [
             {
              "marker.color": [
               [
                "#B0BEC5",
                "#B0BEC5",
                "#B0BEC5",
                "#B0BEC5",
                "#B0BEC5",
                "#B0BEC5",
                "#B0BEC5",
                "#B0BEC5",
                "#B0BEC5",
                "#B0BEC5",
                "#B0BEC5",
                "#B0BEC5",
                "#B0BEC5",
                "#B0BEC5",
                "#B0BEC5",
                "#B0BEC5",
                "#B0BEC5",
                "#B0BEC5",
                "#B0BEC5",
                "#B0BEC5",
                "#B0BEC5",
                "#B0BEC5",
                "#B0BEC5",
                "#B0BEC5",
                "#B0BEC5",
                "#B0BEC5",
                "#B0BEC5",
                "red",
                "#B0BEC5",
                "#B0BEC5",
                "#B0BEC5",
                "#B0BEC5",
                "#B0BEC5",
                "#B0BEC5"
               ]
              ]
             }
            ],
            "label": "Topic 27",
            "method": "update"
           },
           {
            "args": [
             {
              "marker.color": [
               [
                "#B0BEC5",
                "#B0BEC5",
                "#B0BEC5",
                "#B0BEC5",
                "#B0BEC5",
                "#B0BEC5",
                "#B0BEC5",
                "#B0BEC5",
                "#B0BEC5",
                "#B0BEC5",
                "#B0BEC5",
                "#B0BEC5",
                "#B0BEC5",
                "#B0BEC5",
                "#B0BEC5",
                "#B0BEC5",
                "#B0BEC5",
                "#B0BEC5",
                "#B0BEC5",
                "#B0BEC5",
                "#B0BEC5",
                "#B0BEC5",
                "#B0BEC5",
                "#B0BEC5",
                "#B0BEC5",
                "#B0BEC5",
                "#B0BEC5",
                "#B0BEC5",
                "red",
                "#B0BEC5",
                "#B0BEC5",
                "#B0BEC5",
                "#B0BEC5",
                "#B0BEC5"
               ]
              ]
             }
            ],
            "label": "Topic 28",
            "method": "update"
           },
           {
            "args": [
             {
              "marker.color": [
               [
                "#B0BEC5",
                "#B0BEC5",
                "#B0BEC5",
                "#B0BEC5",
                "#B0BEC5",
                "#B0BEC5",
                "#B0BEC5",
                "#B0BEC5",
                "#B0BEC5",
                "#B0BEC5",
                "#B0BEC5",
                "#B0BEC5",
                "#B0BEC5",
                "#B0BEC5",
                "#B0BEC5",
                "#B0BEC5",
                "#B0BEC5",
                "#B0BEC5",
                "#B0BEC5",
                "#B0BEC5",
                "#B0BEC5",
                "#B0BEC5",
                "#B0BEC5",
                "#B0BEC5",
                "#B0BEC5",
                "#B0BEC5",
                "#B0BEC5",
                "#B0BEC5",
                "#B0BEC5",
                "red",
                "#B0BEC5",
                "#B0BEC5",
                "#B0BEC5",
                "#B0BEC5"
               ]
              ]
             }
            ],
            "label": "Topic 29",
            "method": "update"
           },
           {
            "args": [
             {
              "marker.color": [
               [
                "#B0BEC5",
                "#B0BEC5",
                "#B0BEC5",
                "#B0BEC5",
                "#B0BEC5",
                "#B0BEC5",
                "#B0BEC5",
                "#B0BEC5",
                "#B0BEC5",
                "#B0BEC5",
                "#B0BEC5",
                "#B0BEC5",
                "#B0BEC5",
                "#B0BEC5",
                "#B0BEC5",
                "#B0BEC5",
                "#B0BEC5",
                "#B0BEC5",
                "#B0BEC5",
                "#B0BEC5",
                "#B0BEC5",
                "#B0BEC5",
                "#B0BEC5",
                "#B0BEC5",
                "#B0BEC5",
                "#B0BEC5",
                "#B0BEC5",
                "#B0BEC5",
                "#B0BEC5",
                "#B0BEC5",
                "red",
                "#B0BEC5",
                "#B0BEC5",
                "#B0BEC5"
               ]
              ]
             }
            ],
            "label": "Topic 30",
            "method": "update"
           },
           {
            "args": [
             {
              "marker.color": [
               [
                "#B0BEC5",
                "#B0BEC5",
                "#B0BEC5",
                "#B0BEC5",
                "#B0BEC5",
                "#B0BEC5",
                "#B0BEC5",
                "#B0BEC5",
                "#B0BEC5",
                "#B0BEC5",
                "#B0BEC5",
                "#B0BEC5",
                "#B0BEC5",
                "#B0BEC5",
                "#B0BEC5",
                "#B0BEC5",
                "#B0BEC5",
                "#B0BEC5",
                "#B0BEC5",
                "#B0BEC5",
                "#B0BEC5",
                "#B0BEC5",
                "#B0BEC5",
                "#B0BEC5",
                "#B0BEC5",
                "#B0BEC5",
                "#B0BEC5",
                "#B0BEC5",
                "#B0BEC5",
                "#B0BEC5",
                "#B0BEC5",
                "red",
                "#B0BEC5",
                "#B0BEC5"
               ]
              ]
             }
            ],
            "label": "Topic 31",
            "method": "update"
           },
           {
            "args": [
             {
              "marker.color": [
               [
                "#B0BEC5",
                "#B0BEC5",
                "#B0BEC5",
                "#B0BEC5",
                "#B0BEC5",
                "#B0BEC5",
                "#B0BEC5",
                "#B0BEC5",
                "#B0BEC5",
                "#B0BEC5",
                "#B0BEC5",
                "#B0BEC5",
                "#B0BEC5",
                "#B0BEC5",
                "#B0BEC5",
                "#B0BEC5",
                "#B0BEC5",
                "#B0BEC5",
                "#B0BEC5",
                "#B0BEC5",
                "#B0BEC5",
                "#B0BEC5",
                "#B0BEC5",
                "#B0BEC5",
                "#B0BEC5",
                "#B0BEC5",
                "#B0BEC5",
                "#B0BEC5",
                "#B0BEC5",
                "#B0BEC5",
                "#B0BEC5",
                "#B0BEC5",
                "red",
                "#B0BEC5"
               ]
              ]
             }
            ],
            "label": "Topic 32",
            "method": "update"
           },
           {
            "args": [
             {
              "marker.color": [
               [
                "#B0BEC5",
                "#B0BEC5",
                "#B0BEC5",
                "#B0BEC5",
                "#B0BEC5",
                "#B0BEC5",
                "#B0BEC5",
                "#B0BEC5",
                "#B0BEC5",
                "#B0BEC5",
                "#B0BEC5",
                "#B0BEC5",
                "#B0BEC5",
                "#B0BEC5",
                "#B0BEC5",
                "#B0BEC5",
                "#B0BEC5",
                "#B0BEC5",
                "#B0BEC5",
                "#B0BEC5",
                "#B0BEC5",
                "#B0BEC5",
                "#B0BEC5",
                "#B0BEC5",
                "#B0BEC5",
                "#B0BEC5",
                "#B0BEC5",
                "#B0BEC5",
                "#B0BEC5",
                "#B0BEC5",
                "#B0BEC5",
                "#B0BEC5",
                "#B0BEC5",
                "red"
               ]
              ]
             }
            ],
            "label": "Topic 33",
            "method": "update"
           }
          ]
         }
        ],
        "template": {
         "data": {
          "bar": [
           {
            "error_x": {
             "color": "rgb(36,36,36)"
            },
            "error_y": {
             "color": "rgb(36,36,36)"
            },
            "marker": {
             "line": {
              "color": "white",
              "width": 0.5
             },
             "pattern": {
              "fillmode": "overlay",
              "size": 10,
              "solidity": 0.2
             }
            },
            "type": "bar"
           }
          ],
          "barpolar": [
           {
            "marker": {
             "line": {
              "color": "white",
              "width": 0.5
             },
             "pattern": {
              "fillmode": "overlay",
              "size": 10,
              "solidity": 0.2
             }
            },
            "type": "barpolar"
           }
          ],
          "carpet": [
           {
            "aaxis": {
             "endlinecolor": "rgb(36,36,36)",
             "gridcolor": "white",
             "linecolor": "white",
             "minorgridcolor": "white",
             "startlinecolor": "rgb(36,36,36)"
            },
            "baxis": {
             "endlinecolor": "rgb(36,36,36)",
             "gridcolor": "white",
             "linecolor": "white",
             "minorgridcolor": "white",
             "startlinecolor": "rgb(36,36,36)"
            },
            "type": "carpet"
           }
          ],
          "choropleth": [
           {
            "colorbar": {
             "outlinewidth": 1,
             "tickcolor": "rgb(36,36,36)",
             "ticks": "outside"
            },
            "type": "choropleth"
           }
          ],
          "contour": [
           {
            "colorbar": {
             "outlinewidth": 1,
             "tickcolor": "rgb(36,36,36)",
             "ticks": "outside"
            },
            "colorscale": [
             [
              0,
              "#440154"
             ],
             [
              0.1111111111111111,
              "#482878"
             ],
             [
              0.2222222222222222,
              "#3e4989"
             ],
             [
              0.3333333333333333,
              "#31688e"
             ],
             [
              0.4444444444444444,
              "#26828e"
             ],
             [
              0.5555555555555556,
              "#1f9e89"
             ],
             [
              0.6666666666666666,
              "#35b779"
             ],
             [
              0.7777777777777778,
              "#6ece58"
             ],
             [
              0.8888888888888888,
              "#b5de2b"
             ],
             [
              1,
              "#fde725"
             ]
            ],
            "type": "contour"
           }
          ],
          "contourcarpet": [
           {
            "colorbar": {
             "outlinewidth": 1,
             "tickcolor": "rgb(36,36,36)",
             "ticks": "outside"
            },
            "type": "contourcarpet"
           }
          ],
          "heatmap": [
           {
            "colorbar": {
             "outlinewidth": 1,
             "tickcolor": "rgb(36,36,36)",
             "ticks": "outside"
            },
            "colorscale": [
             [
              0,
              "#440154"
             ],
             [
              0.1111111111111111,
              "#482878"
             ],
             [
              0.2222222222222222,
              "#3e4989"
             ],
             [
              0.3333333333333333,
              "#31688e"
             ],
             [
              0.4444444444444444,
              "#26828e"
             ],
             [
              0.5555555555555556,
              "#1f9e89"
             ],
             [
              0.6666666666666666,
              "#35b779"
             ],
             [
              0.7777777777777778,
              "#6ece58"
             ],
             [
              0.8888888888888888,
              "#b5de2b"
             ],
             [
              1,
              "#fde725"
             ]
            ],
            "type": "heatmap"
           }
          ],
          "histogram": [
           {
            "marker": {
             "line": {
              "color": "white",
              "width": 0.6
             }
            },
            "type": "histogram"
           }
          ],
          "histogram2d": [
           {
            "colorbar": {
             "outlinewidth": 1,
             "tickcolor": "rgb(36,36,36)",
             "ticks": "outside"
            },
            "colorscale": [
             [
              0,
              "#440154"
             ],
             [
              0.1111111111111111,
              "#482878"
             ],
             [
              0.2222222222222222,
              "#3e4989"
             ],
             [
              0.3333333333333333,
              "#31688e"
             ],
             [
              0.4444444444444444,
              "#26828e"
             ],
             [
              0.5555555555555556,
              "#1f9e89"
             ],
             [
              0.6666666666666666,
              "#35b779"
             ],
             [
              0.7777777777777778,
              "#6ece58"
             ],
             [
              0.8888888888888888,
              "#b5de2b"
             ],
             [
              1,
              "#fde725"
             ]
            ],
            "type": "histogram2d"
           }
          ],
          "histogram2dcontour": [
           {
            "colorbar": {
             "outlinewidth": 1,
             "tickcolor": "rgb(36,36,36)",
             "ticks": "outside"
            },
            "colorscale": [
             [
              0,
              "#440154"
             ],
             [
              0.1111111111111111,
              "#482878"
             ],
             [
              0.2222222222222222,
              "#3e4989"
             ],
             [
              0.3333333333333333,
              "#31688e"
             ],
             [
              0.4444444444444444,
              "#26828e"
             ],
             [
              0.5555555555555556,
              "#1f9e89"
             ],
             [
              0.6666666666666666,
              "#35b779"
             ],
             [
              0.7777777777777778,
              "#6ece58"
             ],
             [
              0.8888888888888888,
              "#b5de2b"
             ],
             [
              1,
              "#fde725"
             ]
            ],
            "type": "histogram2dcontour"
           }
          ],
          "mesh3d": [
           {
            "colorbar": {
             "outlinewidth": 1,
             "tickcolor": "rgb(36,36,36)",
             "ticks": "outside"
            },
            "type": "mesh3d"
           }
          ],
          "parcoords": [
           {
            "line": {
             "colorbar": {
              "outlinewidth": 1,
              "tickcolor": "rgb(36,36,36)",
              "ticks": "outside"
             }
            },
            "type": "parcoords"
           }
          ],
          "pie": [
           {
            "automargin": true,
            "type": "pie"
           }
          ],
          "scatter": [
           {
            "fillpattern": {
             "fillmode": "overlay",
             "size": 10,
             "solidity": 0.2
            },
            "type": "scatter"
           }
          ],
          "scatter3d": [
           {
            "line": {
             "colorbar": {
              "outlinewidth": 1,
              "tickcolor": "rgb(36,36,36)",
              "ticks": "outside"
             }
            },
            "marker": {
             "colorbar": {
              "outlinewidth": 1,
              "tickcolor": "rgb(36,36,36)",
              "ticks": "outside"
             }
            },
            "type": "scatter3d"
           }
          ],
          "scattercarpet": [
           {
            "marker": {
             "colorbar": {
              "outlinewidth": 1,
              "tickcolor": "rgb(36,36,36)",
              "ticks": "outside"
             }
            },
            "type": "scattercarpet"
           }
          ],
          "scattergeo": [
           {
            "marker": {
             "colorbar": {
              "outlinewidth": 1,
              "tickcolor": "rgb(36,36,36)",
              "ticks": "outside"
             }
            },
            "type": "scattergeo"
           }
          ],
          "scattergl": [
           {
            "marker": {
             "colorbar": {
              "outlinewidth": 1,
              "tickcolor": "rgb(36,36,36)",
              "ticks": "outside"
             }
            },
            "type": "scattergl"
           }
          ],
          "scattermap": [
           {
            "marker": {
             "colorbar": {
              "outlinewidth": 1,
              "tickcolor": "rgb(36,36,36)",
              "ticks": "outside"
             }
            },
            "type": "scattermap"
           }
          ],
          "scattermapbox": [
           {
            "marker": {
             "colorbar": {
              "outlinewidth": 1,
              "tickcolor": "rgb(36,36,36)",
              "ticks": "outside"
             }
            },
            "type": "scattermapbox"
           }
          ],
          "scatterpolar": [
           {
            "marker": {
             "colorbar": {
              "outlinewidth": 1,
              "tickcolor": "rgb(36,36,36)",
              "ticks": "outside"
             }
            },
            "type": "scatterpolar"
           }
          ],
          "scatterpolargl": [
           {
            "marker": {
             "colorbar": {
              "outlinewidth": 1,
              "tickcolor": "rgb(36,36,36)",
              "ticks": "outside"
             }
            },
            "type": "scatterpolargl"
           }
          ],
          "scatterternary": [
           {
            "marker": {
             "colorbar": {
              "outlinewidth": 1,
              "tickcolor": "rgb(36,36,36)",
              "ticks": "outside"
             }
            },
            "type": "scatterternary"
           }
          ],
          "surface": [
           {
            "colorbar": {
             "outlinewidth": 1,
             "tickcolor": "rgb(36,36,36)",
             "ticks": "outside"
            },
            "colorscale": [
             [
              0,
              "#440154"
             ],
             [
              0.1111111111111111,
              "#482878"
             ],
             [
              0.2222222222222222,
              "#3e4989"
             ],
             [
              0.3333333333333333,
              "#31688e"
             ],
             [
              0.4444444444444444,
              "#26828e"
             ],
             [
              0.5555555555555556,
              "#1f9e89"
             ],
             [
              0.6666666666666666,
              "#35b779"
             ],
             [
              0.7777777777777778,
              "#6ece58"
             ],
             [
              0.8888888888888888,
              "#b5de2b"
             ],
             [
              1,
              "#fde725"
             ]
            ],
            "type": "surface"
           }
          ],
          "table": [
           {
            "cells": {
             "fill": {
              "color": "rgb(237,237,237)"
             },
             "line": {
              "color": "white"
             }
            },
            "header": {
             "fill": {
              "color": "rgb(217,217,217)"
             },
             "line": {
              "color": "white"
             }
            },
            "type": "table"
           }
          ]
         },
         "layout": {
          "annotationdefaults": {
           "arrowhead": 0,
           "arrowwidth": 1
          },
          "autotypenumbers": "strict",
          "coloraxis": {
           "colorbar": {
            "outlinewidth": 1,
            "tickcolor": "rgb(36,36,36)",
            "ticks": "outside"
           }
          },
          "colorscale": {
           "diverging": [
            [
             0,
             "rgb(103,0,31)"
            ],
            [
             0.1,
             "rgb(178,24,43)"
            ],
            [
             0.2,
             "rgb(214,96,77)"
            ],
            [
             0.3,
             "rgb(244,165,130)"
            ],
            [
             0.4,
             "rgb(253,219,199)"
            ],
            [
             0.5,
             "rgb(247,247,247)"
            ],
            [
             0.6,
             "rgb(209,229,240)"
            ],
            [
             0.7,
             "rgb(146,197,222)"
            ],
            [
             0.8,
             "rgb(67,147,195)"
            ],
            [
             0.9,
             "rgb(33,102,172)"
            ],
            [
             1,
             "rgb(5,48,97)"
            ]
           ],
           "sequential": [
            [
             0,
             "#440154"
            ],
            [
             0.1111111111111111,
             "#482878"
            ],
            [
             0.2222222222222222,
             "#3e4989"
            ],
            [
             0.3333333333333333,
             "#31688e"
            ],
            [
             0.4444444444444444,
             "#26828e"
            ],
            [
             0.5555555555555556,
             "#1f9e89"
            ],
            [
             0.6666666666666666,
             "#35b779"
            ],
            [
             0.7777777777777778,
             "#6ece58"
            ],
            [
             0.8888888888888888,
             "#b5de2b"
            ],
            [
             1,
             "#fde725"
            ]
           ],
           "sequentialminus": [
            [
             0,
             "#440154"
            ],
            [
             0.1111111111111111,
             "#482878"
            ],
            [
             0.2222222222222222,
             "#3e4989"
            ],
            [
             0.3333333333333333,
             "#31688e"
            ],
            [
             0.4444444444444444,
             "#26828e"
            ],
            [
             0.5555555555555556,
             "#1f9e89"
            ],
            [
             0.6666666666666666,
             "#35b779"
            ],
            [
             0.7777777777777778,
             "#6ece58"
            ],
            [
             0.8888888888888888,
             "#b5de2b"
            ],
            [
             1,
             "#fde725"
            ]
           ]
          },
          "colorway": [
           "#1F77B4",
           "#FF7F0E",
           "#2CA02C",
           "#D62728",
           "#9467BD",
           "#8C564B",
           "#E377C2",
           "#7F7F7F",
           "#BCBD22",
           "#17BECF"
          ],
          "font": {
           "color": "rgb(36,36,36)"
          },
          "geo": {
           "bgcolor": "white",
           "lakecolor": "white",
           "landcolor": "white",
           "showlakes": true,
           "showland": true,
           "subunitcolor": "white"
          },
          "hoverlabel": {
           "align": "left"
          },
          "hovermode": "closest",
          "mapbox": {
           "style": "light"
          },
          "paper_bgcolor": "white",
          "plot_bgcolor": "white",
          "polar": {
           "angularaxis": {
            "gridcolor": "rgb(232,232,232)",
            "linecolor": "rgb(36,36,36)",
            "showgrid": false,
            "showline": true,
            "ticks": "outside"
           },
           "bgcolor": "white",
           "radialaxis": {
            "gridcolor": "rgb(232,232,232)",
            "linecolor": "rgb(36,36,36)",
            "showgrid": false,
            "showline": true,
            "ticks": "outside"
           }
          },
          "scene": {
           "xaxis": {
            "backgroundcolor": "white",
            "gridcolor": "rgb(232,232,232)",
            "gridwidth": 2,
            "linecolor": "rgb(36,36,36)",
            "showbackground": true,
            "showgrid": false,
            "showline": true,
            "ticks": "outside",
            "zeroline": false,
            "zerolinecolor": "rgb(36,36,36)"
           },
           "yaxis": {
            "backgroundcolor": "white",
            "gridcolor": "rgb(232,232,232)",
            "gridwidth": 2,
            "linecolor": "rgb(36,36,36)",
            "showbackground": true,
            "showgrid": false,
            "showline": true,
            "ticks": "outside",
            "zeroline": false,
            "zerolinecolor": "rgb(36,36,36)"
           },
           "zaxis": {
            "backgroundcolor": "white",
            "gridcolor": "rgb(232,232,232)",
            "gridwidth": 2,
            "linecolor": "rgb(36,36,36)",
            "showbackground": true,
            "showgrid": false,
            "showline": true,
            "ticks": "outside",
            "zeroline": false,
            "zerolinecolor": "rgb(36,36,36)"
           }
          },
          "shapedefaults": {
           "fillcolor": "black",
           "line": {
            "width": 0
           },
           "opacity": 0.3
          },
          "ternary": {
           "aaxis": {
            "gridcolor": "rgb(232,232,232)",
            "linecolor": "rgb(36,36,36)",
            "showgrid": false,
            "showline": true,
            "ticks": "outside"
           },
           "baxis": {
            "gridcolor": "rgb(232,232,232)",
            "linecolor": "rgb(36,36,36)",
            "showgrid": false,
            "showline": true,
            "ticks": "outside"
           },
           "bgcolor": "white",
           "caxis": {
            "gridcolor": "rgb(232,232,232)",
            "linecolor": "rgb(36,36,36)",
            "showgrid": false,
            "showline": true,
            "ticks": "outside"
           }
          },
          "title": {
           "x": 0.05
          },
          "xaxis": {
           "automargin": true,
           "gridcolor": "rgb(232,232,232)",
           "linecolor": "rgb(36,36,36)",
           "showgrid": false,
           "showline": true,
           "ticks": "outside",
           "title": {
            "standoff": 15
           },
           "zeroline": false,
           "zerolinecolor": "rgb(36,36,36)"
          },
          "yaxis": {
           "automargin": true,
           "gridcolor": "rgb(232,232,232)",
           "linecolor": "rgb(36,36,36)",
           "showgrid": false,
           "showline": true,
           "ticks": "outside",
           "title": {
            "standoff": 15
           },
           "zeroline": false,
           "zerolinecolor": "rgb(36,36,36)"
          }
         }
        },
        "title": {
         "font": {
          "color": "Black",
          "size": 20
         },
         "text": "Intertopic Distance Map<br><sup></sup>",
         "x": 0.15,
         "xanchor": "center",
         "y": 0.95,
         "yanchor": "top"
        },
        "width": 1000,
        "xaxis": {
         "anchor": "y",
         "domain": [
          0,
          1
         ],
         "range": [
          -16.928404998779296,
          22.384921264648437
         ],
         "showgrid": false,
         "showline": true,
         "ticks": "outside",
         "title": {},
         "visible": false,
         "zeroline": true
        },
        "yaxis": {
         "anchor": "x",
         "domain": [
          0,
          1
         ],
         "range": [
          -15.513157558441161,
          19.597393894195555
         ],
         "showgrid": false,
         "showline": true,
         "ticks": "outside",
         "title": {},
         "visible": false,
         "zeroline": true
        }
       }
      }
     },
     "metadata": {},
     "output_type": "display_data"
    }
   ],
   "source": [
    "# ------------------------------------------------------------\n",
    "# Visualize intertopic distances\n",
    "# (move this to a function)\n",
    "# ------------------------------------------------------------\n",
    "\n",
    "# N.B. UMAP (Uniform Manifold Approximation and Projection)\n",
    "# used for dimensionality reduction. \n",
    "fig_2d = topic_model.visualize_topics(custom_labels=True)\n",
    "\n",
    "# Update background and grid\n",
    "fig_2d.update_layout(\n",
    "    plot_bgcolor=\"white\",\n",
    "    paper_bgcolor=\"white\",\n",
    "    font_family=\"Arial\",\n",
    "    title={\n",
    "        \"text\": f\"Intertopic Distance Map<br><sup>{model_label}</sup>\",\n",
    "        \"x\": 0.15,\n",
    "        \"font\": {\"size\": 20}\n",
    "    },\n",
    "    width=1000,\n",
    "    height=800,\n",
    "    xaxis=dict(\n",
    "        showgrid=False,\n",
    "        zeroline=True,\n",
    "        showline=True,\n",
    "        ticks=\"outside\",\n",
    "        title=None\n",
    "    ),\n",
    "    yaxis=dict(\n",
    "        showgrid=False,\n",
    "        zeroline=True,\n",
    "        showline=True,\n",
    "        ticks=\"outside\",\n",
    "        title=None\n",
    "    ),\n",
    "    legend=dict(\n",
    "        orientation=\"h\",\n",
    "        yanchor=\"bottom\",\n",
    "        y=1.02,\n",
    "        xanchor=\"center\",\n",
    "        x=0.5\n",
    "    )\n",
    ")\n",
    "fig_2d.write_html(\"../outputs/intertopic_distance_map_2D.html\")   \n",
    "\n",
    "fig_2d.show()"
   ]
  },
  {
   "cell_type": "code",
   "execution_count": 12,
   "id": "2b90ce99",
   "metadata": {},
   "outputs": [
    {
     "name": "stdout",
     "output_type": "stream",
     "text": [
      "Topic  23 identified as junk:\n",
      "[('', 1e-05), ('', 1e-05), ('', 1e-05), ('', 1e-05), ('', 1e-05), ('', 1e-05), ('', 1e-05), ('', 1e-05), ('', 1e-05), ('', 1e-05)]\n",
      "\n",
      "Generated topic labels:\n",
      "Topic -1: NULL (OLD: -1_fuel_airlines_airline_emissions)\n",
      "Topic 0: Safety (OLD: 0_safety_iosa_accidents_accident)\n",
      "Topic 1: Security (OLD: 1_security_information_passenger_smart security)\n",
      "Topic 2: Settlement (OLD: 2_settlement_billion_processed_bsp)\n",
      "Topic 3: Charges (OLD: 3_charges_airport_airports_infrastructure)\n",
      "Topic 4: Business (OLD: 4_business_global_governments_important)\n",
      "Topic 5: New Distribution Capability (OLD: 5_ndc_order_travel_airline)\n",
      "Topic 6: Baggage (OLD: 6_baggage_fast travel_fast_boarding)\n",
      "Topic 7: Cargo (OLD: 7_cargo_e-freight_freight_e-awb)\n",
      "Topic 8: SAF (OLD: 8_saf_corsia_emissions_production)\n",
      "Topic 9: Regulation (OLD: 9_regulation_rights_passenger rights_regulations)\n",
      "Topic 10: Markets (OLD: 10_markets_growth_load_premium)\n",
      "Topic 11: Covid-19 (OLD: 11_covid-19_health_testing_travel)\n",
      "Topic 12: Airlines (OLD: 12_airlines_airways_china_cargo)\n",
      "Topic 13: Tax (OLD: 13_tax_taxes_taxation_government)\n",
      "Topic 14: Data (OLD: 14_data_intelligence_consulting_cargois)\n",
      "Topic 15: Cargo (OLD: 15_cargo_trade_growth_global)\n",
      "Topic 16: World (OLD: 16_world_commercial_jobs_people)\n",
      "Topic 17: Unruly (OLD: 17_unruly_mc99_mp14_passengers)\n",
      "Topic 18: Center of Excellence for Independent Validators (OLD: 18_ceiv_lithium_batteries_dangerous)\n",
      "Topic 19: Training (OLD: 19_training_itdi_strategic_courses)\n",
      "Topic 20: Emissions (OLD: 20_emissions_carbon_environmental_technology)\n",
      "Topic 21: Profit (OLD: 21_profit_billion_net_profits)\n",
      "Topic 22: Slot (OLD: 22_slot_wsg_slots_airport)\n",
      "Topic 23:  (OLD: 23____)\n",
      "Topic 24: Fax (OLD: 24_fax_tel fax_tel_offices)\n",
      "Topic 25: Airlines (OLD: 25_airlines_airways_mr_representing)\n",
      "Topic 26: Atm (OLD: 26_atm_airspace_european_nextgen)\n",
      "Topic 27: Identity (OLD: 27_identity_id_digital_biometric)\n",
      "Topic 28: Diversity (OLD: 28_diversity_inclusion_diversity inclusion_female)\n",
      "Topic 29: Ienva (OLD: 29_ienva_waste_environmental_assessment)\n",
      "Topic 30: Fuel (OLD: 30_fuel_jet fuel_jet_supply)\n",
      "Topic 31: Oil (OLD: 31_oil_barrel_prices_fuel)\n",
      "Topic 32: Isago (OLD: 32_isago_ground_audits_audit)\n",
      "Topic 33: Domestic (OLD: 33_domestic_travel_rpks_international)\n"
     ]
    }
   ],
   "source": [
    "# ------------------------------------------------------\n",
    "# Clean up labels and remove junk topics\n",
    "# ------------------------------------------------------\n",
    "\n",
    "# Retrieve the current model labels before overwriting\n",
    "old_labels = topic_model.topic_labels_\n",
    "\n",
    "# Generate new labels\n",
    "clean_labels, junk_topics = generate_clean_labels(topic_model, top_n_words=1)\n",
    "\n",
    "# Print label changes for review\n",
    "print(\"\\nGenerated topic labels:\")\n",
    "for topic_id, label in sorted(clean_labels.items()):\n",
    "    old_label = old_labels.get(topic_id)\n",
    "    print(f\"Topic {topic_id}: {label} (OLD: {old_label})\")\n",
    "\n",
    "# Apply to the model\n",
    "topic_model.set_topic_labels(clean_labels)"
   ]
  },
  {
   "cell_type": "code",
   "execution_count": 13,
   "id": "f2f9003e",
   "metadata": {},
   "outputs": [
    {
     "name": "stderr",
     "output_type": "stream",
     "text": [
      "19it [00:05,  3.31it/s]\n"
     ]
    },
    {
     "data": {
      "application/vnd.plotly.v1+json": {
       "config": {
        "plotlyServerURL": "https://plot.ly"
       },
       "data": [
        {
         "hoverinfo": "text",
         "hovertemplate": "Safety<extra></extra>",
         "hovertext": [
          "<b>Topic 0</b><br>Words: safety, iosa, accidents, audit, accident",
          "<b>Topic 0</b><br>Words: safety, accidents, iosa, accident, fatalities",
          "<b>Topic 0</b><br>Words: safety, accidents, accident, iosa, cfit",
          "<b>Topic 0</b><br>Words: safety, accidents, iosa, accident, flights",
          "<b>Topic 0</b><br>Words: safety, accidents, accident, iosa, turbulence",
          "<b>Topic 0</b><br>Words: vouchers, safety, refundable vouchers, refundable, iosa",
          "<b>Topic 0</b><br>Words: safety, safety risk, accidents, safety leadership, pillar",
          "<b>Topic 0</b><br>Words: safety, million flights, flights, accident, million",
          "<b>Topic 0</b><br>Words: safety, iosa, accidents, accident, rate",
          "<b>Topic 0</b><br>Words: safety, iosa, accidents, accident, fatal"
         ],
         "line": {
          "color": "#4C78A8"
         },
         "marker": {
          "color": "#E69F00"
         },
         "mode": "lines",
         "name": "Safety",
         "type": "scatter",
         "x": [
          "2015-01-01T00:00:00.000000000",
          "2016-01-01T00:00:00.000000000",
          "2017-01-01T00:00:00.000000000",
          "2018-01-01T00:00:00.000000000",
          "2019-01-01T00:00:00.000000000",
          "2020-01-01T00:00:00.000000000",
          "2021-01-01T00:00:00.000000000",
          "2022-01-01T00:00:00.000000000",
          "2023-01-01T00:00:00.000000000",
          "2024-01-01T00:00:00.000000000"
         ],
         "y": {
          "bdata": "DhYLDgsDBQcIDw==",
          "dtype": "i1"
         }
        },
        {
         "hoverinfo": "text",
         "hovertemplate": "Airlines<extra></extra>",
         "hovertext": [
          "<b>Topic 1</b><br>Words: security, information, smart security, smart, cyber",
          "<b>Topic 1</b><br>Words: security, information, pnr, smart security, smart",
          "<b>Topic 1</b><br>Words: security, smart security, smart, information, governments",
          "<b>Topic 1</b><br>Words: security, smart security, smart, data, screening",
          "<b>Topic 1</b><br>Words: security, gasep, information, threats, governments",
          "<b>Topic 1</b><br>Words: security, cybersecurity, threats, cyber, conflict zones",
          "<b>Topic 1</b><br>Words: security, countries, belarus, terrorist, screening",
          "<b>Topic 1</b><br>Words: security, civil, attacks, information, airspace",
          "<b>Topic 1</b><br>Words: security, screening, measures, risk, information",
          "<b>Topic 1</b><br>Words: security, cybersecurity, information, sems, cyber"
         ],
         "line": {
          "color": "#F58518"
         },
         "marker": {
          "color": "#56B4E9"
         },
         "mode": "lines",
         "name": "Airlines",
         "type": "scatter",
         "x": [
          "2015-01-01T00:00:00.000000000",
          "2016-01-01T00:00:00.000000000",
          "2017-01-01T00:00:00.000000000",
          "2018-01-01T00:00:00.000000000",
          "2019-01-01T00:00:00.000000000",
          "2020-01-01T00:00:00.000000000",
          "2021-01-01T00:00:00.000000000",
          "2022-01-01T00:00:00.000000000",
          "2023-01-01T00:00:00.000000000",
          "2024-01-01T00:00:00.000000000"
         ],
         "y": {
          "bdata": "DA8RDQkCCQMMDg==",
          "dtype": "i1"
         }
        },
        {
         "hoverinfo": "text",
         "hovertemplate": "Profit<extra></extra>",
         "hovertext": [
          "<b>Topic 12</b><br>Words: airlines, airways, china, lan, airlines china",
          "<b>Topic 12</b><br>Words: airlines, airways, china, international, lan",
          "<b>Topic 12</b><br>Words: airlines, airways, latam, latam airlines, china",
          "<b>Topic 12</b><br>Words: airlines, airways, latam, china, latam airlines",
          "<b>Topic 12</b><br>Words: airlines, airways, latam, latam airlines, china",
          "<b>Topic 12</b><br>Words: airlines, airways, latam, latam airlines, china",
          "<b>Topic 12</b><br>Words: airlines, airways, latam, express, china",
          "<b>Topic 12</b><br>Words: airlines, airways, latam, china, latam airlines",
          "<b>Topic 12</b><br>Words: airlines, airways, latam, china, latam airlines",
          "<b>Topic 12</b><br>Words: airlines, airways, latam, china, express"
         ],
         "line": {
          "color": "#E45756"
         },
         "marker": {
          "color": "#009E73"
         },
         "mode": "lines",
         "name": "Profit",
         "type": "scatter",
         "x": [
          "2015-01-01T00:00:00.000000000",
          "2016-01-01T00:00:00.000000000",
          "2017-01-01T00:00:00.000000000",
          "2018-01-01T00:00:00.000000000",
          "2019-01-01T00:00:00.000000000",
          "2020-01-01T00:00:00.000000000",
          "2021-01-01T00:00:00.000000000",
          "2022-01-01T00:00:00.000000000",
          "2023-01-01T00:00:00.000000000",
          "2024-01-01T00:00:00.000000000"
         ],
         "y": {
          "bdata": "BAYGBAMCAwICAg==",
          "dtype": "i1"
         }
        },
        {
         "hoverinfo": "text",
         "hovertemplate": "Unruly<extra></extra>",
         "hovertext": [
          "<b>Topic 13</b><br>Words: tax, taxes, taxation, government, apd",
          "<b>Topic 13</b><br>Words: tax, taxes, taxation, passenger, fee",
          "<b>Topic 13</b><br>Words: tax, government, taxes, vat, taxation",
          "<b>Topic 13</b><br>Words: tax, government, taxes, taxation, vat",
          "<b>Topic 13</b><br>Words: tax, government, levy, taxation, vat",
          "<b>Topic 13</b><br>Words: tax, taxation, million, saving million, saving",
          "<b>Topic 13</b><br>Words: tax, europe energy, energy carbon, energy, initiatives",
          "<b>Topic 13</b><br>Words: tax, eu, taxes, taxation, non-eu",
          "<b>Topic 13</b><br>Words: tax, taxation, taxes, article, government",
          "<b>Topic 13</b><br>Words: tax, taxes, taxation, revenue, government"
         ],
         "line": {
          "color": "#72B7B2"
         },
         "marker": {
          "color": "#F0E442"
         },
         "mode": "lines",
         "name": "Unruly",
         "type": "scatter",
         "x": [
          "2015-01-01T00:00:00.000000000",
          "2016-01-01T00:00:00.000000000",
          "2017-01-01T00:00:00.000000000",
          "2018-01-01T00:00:00.000000000",
          "2019-01-01T00:00:00.000000000",
          "2020-01-01T00:00:00.000000000",
          "2021-01-01T00:00:00.000000000",
          "2022-01-01T00:00:00.000000000",
          "2023-01-01T00:00:00.000000000",
          "2024-01-01T00:00:00.000000000"
         ],
         "y": {
          "bdata": "BwYFBgQBAQIEBg==",
          "dtype": "i1"
         }
        },
        {
         "hoverinfo": "text",
         "hovertemplate": "Security<extra></extra>",
         "hovertext": [
          "<b>Topic 15</b><br>Words: trade, cargo, freight, world trade, growth",
          "<b>Topic 15</b><br>Words: domestic, freight, trade, year, cargo",
          "<b>Topic 15</b><br>Words: trade, freight, cargo, global, growth",
          "<b>Topic 15</b><br>Words: cargo, growth, global, chart, passenger",
          "<b>Topic 15</b><br>Words: dom, cargo, trade, domestic, global",
          "<b>Topic 15</b><br>Words: cargo, trade, global, ctks, passenger",
          "<b>Topic 15</b><br>Words: cargo, demand, capacity, global, passenger",
          "<b>Topic 15</b><br>Words: cargo, demand, goods, trade, monthly traffic",
          "<b>Topic 15</b><br>Words: cargo, ctks, demand, cargo demand, passenger aircraft",
          "<b>Topic 15</b><br>Words: cargo, trade, yoy, demand, growth"
         ],
         "line": {
          "color": "#54A24B"
         },
         "marker": {
          "color": "#D55E00"
         },
         "mode": "lines",
         "name": "Security",
         "type": "scatter",
         "x": [
          "2015-01-01T00:00:00.000000000",
          "2016-01-01T00:00:00.000000000",
          "2017-01-01T00:00:00.000000000",
          "2018-01-01T00:00:00.000000000",
          "2019-01-01T00:00:00.000000000",
          "2020-01-01T00:00:00.000000000",
          "2021-01-01T00:00:00.000000000",
          "2022-01-01T00:00:00.000000000",
          "2023-01-01T00:00:00.000000000",
          "2024-01-01T00:00:00.000000000"
         ],
         "y": {
          "bdata": "BAQDBQYGBwcFBg==",
          "dtype": "i1"
         }
        },
        {
         "hoverinfo": "text",
         "hovertemplate": "Cargo<extra></extra>",
         "hovertext": [
          "<b>Topic 17</b><br>Words: mc99, ratification, mp14, unruly, ratify",
          "<b>Topic 17</b><br>Words: unruly, mc99, mp14, ratify, nations",
          "<b>Topic 17</b><br>Words: unruly, mc99, unruly passengers, ratify, passengers",
          "<b>Topic 17</b><br>Words: unruly, mc99, mp14, passengers, unruly passengers",
          "<b>Topic 17</b><br>Words: mc99, unruly, mp14, incidents, passengers",
          "<b>Topic 17</b><br>Words: mp14, african, unruly, disabilities, african market",
          "<b>Topic 17</b><br>Words: mp14, unruly, ratify, traveler survey, mask",
          "<b>Topic 17</b><br>Words: mobility, mobility aids, aids, unruly, incidents",
          "<b>Topic 17</b><br>Words: unruly, incidents, mobility, disabilities, unruly passenger",
          "<b>Topic 17</b><br>Words: unruly, disabilities, guidance, behavior, mp14"
         ],
         "line": {
          "color": "#EECA3B"
         },
         "marker": {
          "color": "#0072B2"
         },
         "mode": "lines",
         "name": "Cargo",
         "type": "scatter",
         "x": [
          "2015-01-01T00:00:00.000000000",
          "2016-01-01T00:00:00.000000000",
          "2017-01-01T00:00:00.000000000",
          "2018-01-01T00:00:00.000000000",
          "2019-01-01T00:00:00.000000000",
          "2020-01-01T00:00:00.000000000",
          "2021-01-01T00:00:00.000000000",
          "2022-01-01T00:00:00.000000000",
          "2023-01-01T00:00:00.000000000",
          "2024-01-01T00:00:00.000000000"
         ],
         "y": {
          "bdata": "BwUFAwYCAgQFBQ==",
          "dtype": "i1"
         }
        },
        {
         "hoverinfo": "text",
         "hovertemplate": "Tax<extra></extra>",
         "hovertext": [
          "<b>Topic 21</b><br>Words: profit, revenues, profitability, ancillary, billion",
          "<b>Topic 21</b><br>Words: profi, financial performance, profit, generated, financial",
          "<b>Topic 21</b><br>Words: profit, profits, billion, american, financial performance",
          "<b>Topic 21</b><br>Words: operating profit, margin, operating, profit, important contributor",
          "<b>Topic 21</b><br>Words: financial performance, passenger basis, regionally, north american, financial",
          "<b>Topic 21</b><br>Words: operating, remained, operating margin, margin, financial performance",
          "<b>Topic 21</b><br>Words: cash, carriers, cash flow, flow, positive",
          "<b>Topic 21</b><br>Words: region, margin, international travel, operating, troubled renewed",
          "<b>Topic 21</b><br>Words: roic, source financial, net, financial forecast, north american",
          "<b>Topic 21</b><br>Words: profit, net, economics airline, analyst, airline analyst"
         ],
         "line": {
          "color": "#B279A2"
         },
         "marker": {
          "color": "#CC79A7"
         },
         "mode": "lines",
         "name": "Tax",
         "type": "scatter",
         "x": [
          "2015-01-01T00:00:00.000000000",
          "2016-01-01T00:00:00.000000000",
          "2017-01-01T00:00:00.000000000",
          "2018-01-01T00:00:00.000000000",
          "2019-01-01T00:00:00.000000000",
          "2020-01-01T00:00:00.000000000",
          "2021-01-01T00:00:00.000000000",
          "2022-01-01T00:00:00.000000000",
          "2023-01-01T00:00:00.000000000",
          "2024-01-01T00:00:00.000000000"
         ],
         "y": {
          "bdata": "AgMDAQECAQEBAg==",
          "dtype": "i1"
         }
        },
        {
         "hoverinfo": "text",
         "hovertemplate": "Airlines<extra></extra>",
         "hovertext": [
          "<b>Topic 25</b><br>Words: airlines, airways, representing, group, david",
          "<b>Topic 25</b><br>Words: airlines, airways, representing, egyptair, alexandre",
          "<b>Topic 25</b><br>Words: airlines, airways, representing, group, france",
          "<b>Topic 25</b><br>Words: airlines, airways, group, managing, representing",
          "<b>Topic 25</b><br>Words: airlines, airways, al, al baker, akbar",
          "<b>Topic 25</b><br>Words: airlines, airways, representing, egyptair, group",
          "<b>Topic 25</b><br>Words: airlines, representing, airways, klm, egyptair",
          "<b>Topic 25</b><br>Words: airlines, airways, representing, klm, france",
          "<b>Topic 25</b><br>Words: airlines, mr, group, chair, representing",
          "<b>Topic 25</b><br>Words: airlines, group, representing, mr, chair"
         ],
         "line": {
          "color": "#FF9DA6"
         },
         "marker": {
          "color": "#E69F00"
         },
         "mode": "lines",
         "name": "Airlines",
         "type": "scatter",
         "x": [
          "2015-01-01T00:00:00.000000000",
          "2016-01-01T00:00:00.000000000",
          "2017-01-01T00:00:00.000000000",
          "2018-01-01T00:00:00.000000000",
          "2019-01-01T00:00:00.000000000",
          "2020-01-01T00:00:00.000000000",
          "2021-01-01T00:00:00.000000000",
          "2022-01-01T00:00:00.000000000",
          "2023-01-01T00:00:00.000000000",
          "2024-01-01T00:00:00.000000000"
         ],
         "y": {
          "bdata": "AQMDAgIDAgMDAw==",
          "dtype": "i1"
         }
        }
       ],
       "layout": {
        "font": {
         "family": "Arial",
         "size": 12
        },
        "height": 600,
        "hoverlabel": {
         "bgcolor": "white",
         "font": {
          "family": "Rockwell",
          "size": 16
         }
        },
        "legend": {
         "orientation": "h",
         "title": {
          "text": "Topics"
         },
         "x": 0.5,
         "xanchor": "center",
         "y": -0.4,
         "yanchor": "bottom"
        },
        "template": {
         "data": {
          "bar": [
           {
            "error_x": {
             "color": "rgb(36,36,36)"
            },
            "error_y": {
             "color": "rgb(36,36,36)"
            },
            "marker": {
             "line": {
              "color": "white",
              "width": 0.5
             },
             "pattern": {
              "fillmode": "overlay",
              "size": 10,
              "solidity": 0.2
             }
            },
            "type": "bar"
           }
          ],
          "barpolar": [
           {
            "marker": {
             "line": {
              "color": "white",
              "width": 0.5
             },
             "pattern": {
              "fillmode": "overlay",
              "size": 10,
              "solidity": 0.2
             }
            },
            "type": "barpolar"
           }
          ],
          "carpet": [
           {
            "aaxis": {
             "endlinecolor": "rgb(36,36,36)",
             "gridcolor": "white",
             "linecolor": "white",
             "minorgridcolor": "white",
             "startlinecolor": "rgb(36,36,36)"
            },
            "baxis": {
             "endlinecolor": "rgb(36,36,36)",
             "gridcolor": "white",
             "linecolor": "white",
             "minorgridcolor": "white",
             "startlinecolor": "rgb(36,36,36)"
            },
            "type": "carpet"
           }
          ],
          "choropleth": [
           {
            "colorbar": {
             "outlinewidth": 1,
             "tickcolor": "rgb(36,36,36)",
             "ticks": "outside"
            },
            "type": "choropleth"
           }
          ],
          "contour": [
           {
            "colorbar": {
             "outlinewidth": 1,
             "tickcolor": "rgb(36,36,36)",
             "ticks": "outside"
            },
            "colorscale": [
             [
              0,
              "#440154"
             ],
             [
              0.1111111111111111,
              "#482878"
             ],
             [
              0.2222222222222222,
              "#3e4989"
             ],
             [
              0.3333333333333333,
              "#31688e"
             ],
             [
              0.4444444444444444,
              "#26828e"
             ],
             [
              0.5555555555555556,
              "#1f9e89"
             ],
             [
              0.6666666666666666,
              "#35b779"
             ],
             [
              0.7777777777777778,
              "#6ece58"
             ],
             [
              0.8888888888888888,
              "#b5de2b"
             ],
             [
              1,
              "#fde725"
             ]
            ],
            "type": "contour"
           }
          ],
          "contourcarpet": [
           {
            "colorbar": {
             "outlinewidth": 1,
             "tickcolor": "rgb(36,36,36)",
             "ticks": "outside"
            },
            "type": "contourcarpet"
           }
          ],
          "heatmap": [
           {
            "colorbar": {
             "outlinewidth": 1,
             "tickcolor": "rgb(36,36,36)",
             "ticks": "outside"
            },
            "colorscale": [
             [
              0,
              "#440154"
             ],
             [
              0.1111111111111111,
              "#482878"
             ],
             [
              0.2222222222222222,
              "#3e4989"
             ],
             [
              0.3333333333333333,
              "#31688e"
             ],
             [
              0.4444444444444444,
              "#26828e"
             ],
             [
              0.5555555555555556,
              "#1f9e89"
             ],
             [
              0.6666666666666666,
              "#35b779"
             ],
             [
              0.7777777777777778,
              "#6ece58"
             ],
             [
              0.8888888888888888,
              "#b5de2b"
             ],
             [
              1,
              "#fde725"
             ]
            ],
            "type": "heatmap"
           }
          ],
          "histogram": [
           {
            "marker": {
             "line": {
              "color": "white",
              "width": 0.6
             }
            },
            "type": "histogram"
           }
          ],
          "histogram2d": [
           {
            "colorbar": {
             "outlinewidth": 1,
             "tickcolor": "rgb(36,36,36)",
             "ticks": "outside"
            },
            "colorscale": [
             [
              0,
              "#440154"
             ],
             [
              0.1111111111111111,
              "#482878"
             ],
             [
              0.2222222222222222,
              "#3e4989"
             ],
             [
              0.3333333333333333,
              "#31688e"
             ],
             [
              0.4444444444444444,
              "#26828e"
             ],
             [
              0.5555555555555556,
              "#1f9e89"
             ],
             [
              0.6666666666666666,
              "#35b779"
             ],
             [
              0.7777777777777778,
              "#6ece58"
             ],
             [
              0.8888888888888888,
              "#b5de2b"
             ],
             [
              1,
              "#fde725"
             ]
            ],
            "type": "histogram2d"
           }
          ],
          "histogram2dcontour": [
           {
            "colorbar": {
             "outlinewidth": 1,
             "tickcolor": "rgb(36,36,36)",
             "ticks": "outside"
            },
            "colorscale": [
             [
              0,
              "#440154"
             ],
             [
              0.1111111111111111,
              "#482878"
             ],
             [
              0.2222222222222222,
              "#3e4989"
             ],
             [
              0.3333333333333333,
              "#31688e"
             ],
             [
              0.4444444444444444,
              "#26828e"
             ],
             [
              0.5555555555555556,
              "#1f9e89"
             ],
             [
              0.6666666666666666,
              "#35b779"
             ],
             [
              0.7777777777777778,
              "#6ece58"
             ],
             [
              0.8888888888888888,
              "#b5de2b"
             ],
             [
              1,
              "#fde725"
             ]
            ],
            "type": "histogram2dcontour"
           }
          ],
          "mesh3d": [
           {
            "colorbar": {
             "outlinewidth": 1,
             "tickcolor": "rgb(36,36,36)",
             "ticks": "outside"
            },
            "type": "mesh3d"
           }
          ],
          "parcoords": [
           {
            "line": {
             "colorbar": {
              "outlinewidth": 1,
              "tickcolor": "rgb(36,36,36)",
              "ticks": "outside"
             }
            },
            "type": "parcoords"
           }
          ],
          "pie": [
           {
            "automargin": true,
            "type": "pie"
           }
          ],
          "scatter": [
           {
            "fillpattern": {
             "fillmode": "overlay",
             "size": 10,
             "solidity": 0.2
            },
            "type": "scatter"
           }
          ],
          "scatter3d": [
           {
            "line": {
             "colorbar": {
              "outlinewidth": 1,
              "tickcolor": "rgb(36,36,36)",
              "ticks": "outside"
             }
            },
            "marker": {
             "colorbar": {
              "outlinewidth": 1,
              "tickcolor": "rgb(36,36,36)",
              "ticks": "outside"
             }
            },
            "type": "scatter3d"
           }
          ],
          "scattercarpet": [
           {
            "marker": {
             "colorbar": {
              "outlinewidth": 1,
              "tickcolor": "rgb(36,36,36)",
              "ticks": "outside"
             }
            },
            "type": "scattercarpet"
           }
          ],
          "scattergeo": [
           {
            "marker": {
             "colorbar": {
              "outlinewidth": 1,
              "tickcolor": "rgb(36,36,36)",
              "ticks": "outside"
             }
            },
            "type": "scattergeo"
           }
          ],
          "scattergl": [
           {
            "marker": {
             "colorbar": {
              "outlinewidth": 1,
              "tickcolor": "rgb(36,36,36)",
              "ticks": "outside"
             }
            },
            "type": "scattergl"
           }
          ],
          "scattermap": [
           {
            "marker": {
             "colorbar": {
              "outlinewidth": 1,
              "tickcolor": "rgb(36,36,36)",
              "ticks": "outside"
             }
            },
            "type": "scattermap"
           }
          ],
          "scattermapbox": [
           {
            "marker": {
             "colorbar": {
              "outlinewidth": 1,
              "tickcolor": "rgb(36,36,36)",
              "ticks": "outside"
             }
            },
            "type": "scattermapbox"
           }
          ],
          "scatterpolar": [
           {
            "marker": {
             "colorbar": {
              "outlinewidth": 1,
              "tickcolor": "rgb(36,36,36)",
              "ticks": "outside"
             }
            },
            "type": "scatterpolar"
           }
          ],
          "scatterpolargl": [
           {
            "marker": {
             "colorbar": {
              "outlinewidth": 1,
              "tickcolor": "rgb(36,36,36)",
              "ticks": "outside"
             }
            },
            "type": "scatterpolargl"
           }
          ],
          "scatterternary": [
           {
            "marker": {
             "colorbar": {
              "outlinewidth": 1,
              "tickcolor": "rgb(36,36,36)",
              "ticks": "outside"
             }
            },
            "type": "scatterternary"
           }
          ],
          "surface": [
           {
            "colorbar": {
             "outlinewidth": 1,
             "tickcolor": "rgb(36,36,36)",
             "ticks": "outside"
            },
            "colorscale": [
             [
              0,
              "#440154"
             ],
             [
              0.1111111111111111,
              "#482878"
             ],
             [
              0.2222222222222222,
              "#3e4989"
             ],
             [
              0.3333333333333333,
              "#31688e"
             ],
             [
              0.4444444444444444,
              "#26828e"
             ],
             [
              0.5555555555555556,
              "#1f9e89"
             ],
             [
              0.6666666666666666,
              "#35b779"
             ],
             [
              0.7777777777777778,
              "#6ece58"
             ],
             [
              0.8888888888888888,
              "#b5de2b"
             ],
             [
              1,
              "#fde725"
             ]
            ],
            "type": "surface"
           }
          ],
          "table": [
           {
            "cells": {
             "fill": {
              "color": "rgb(237,237,237)"
             },
             "line": {
              "color": "white"
             }
            },
            "header": {
             "fill": {
              "color": "rgb(217,217,217)"
             },
             "line": {
              "color": "white"
             }
            },
            "type": "table"
           }
          ]
         },
         "layout": {
          "annotationdefaults": {
           "arrowhead": 0,
           "arrowwidth": 1
          },
          "autotypenumbers": "strict",
          "coloraxis": {
           "colorbar": {
            "outlinewidth": 1,
            "tickcolor": "rgb(36,36,36)",
            "ticks": "outside"
           }
          },
          "colorscale": {
           "diverging": [
            [
             0,
             "rgb(103,0,31)"
            ],
            [
             0.1,
             "rgb(178,24,43)"
            ],
            [
             0.2,
             "rgb(214,96,77)"
            ],
            [
             0.3,
             "rgb(244,165,130)"
            ],
            [
             0.4,
             "rgb(253,219,199)"
            ],
            [
             0.5,
             "rgb(247,247,247)"
            ],
            [
             0.6,
             "rgb(209,229,240)"
            ],
            [
             0.7,
             "rgb(146,197,222)"
            ],
            [
             0.8,
             "rgb(67,147,195)"
            ],
            [
             0.9,
             "rgb(33,102,172)"
            ],
            [
             1,
             "rgb(5,48,97)"
            ]
           ],
           "sequential": [
            [
             0,
             "#440154"
            ],
            [
             0.1111111111111111,
             "#482878"
            ],
            [
             0.2222222222222222,
             "#3e4989"
            ],
            [
             0.3333333333333333,
             "#31688e"
            ],
            [
             0.4444444444444444,
             "#26828e"
            ],
            [
             0.5555555555555556,
             "#1f9e89"
            ],
            [
             0.6666666666666666,
             "#35b779"
            ],
            [
             0.7777777777777778,
             "#6ece58"
            ],
            [
             0.8888888888888888,
             "#b5de2b"
            ],
            [
             1,
             "#fde725"
            ]
           ],
           "sequentialminus": [
            [
             0,
             "#440154"
            ],
            [
             0.1111111111111111,
             "#482878"
            ],
            [
             0.2222222222222222,
             "#3e4989"
            ],
            [
             0.3333333333333333,
             "#31688e"
            ],
            [
             0.4444444444444444,
             "#26828e"
            ],
            [
             0.5555555555555556,
             "#1f9e89"
            ],
            [
             0.6666666666666666,
             "#35b779"
            ],
            [
             0.7777777777777778,
             "#6ece58"
            ],
            [
             0.8888888888888888,
             "#b5de2b"
            ],
            [
             1,
             "#fde725"
            ]
           ]
          },
          "colorway": [
           "#1F77B4",
           "#FF7F0E",
           "#2CA02C",
           "#D62728",
           "#9467BD",
           "#8C564B",
           "#E377C2",
           "#7F7F7F",
           "#BCBD22",
           "#17BECF"
          ],
          "font": {
           "color": "rgb(36,36,36)"
          },
          "geo": {
           "bgcolor": "white",
           "lakecolor": "white",
           "landcolor": "white",
           "showlakes": true,
           "showland": true,
           "subunitcolor": "white"
          },
          "hoverlabel": {
           "align": "left"
          },
          "hovermode": "closest",
          "mapbox": {
           "style": "light"
          },
          "paper_bgcolor": "white",
          "plot_bgcolor": "white",
          "polar": {
           "angularaxis": {
            "gridcolor": "rgb(232,232,232)",
            "linecolor": "rgb(36,36,36)",
            "showgrid": false,
            "showline": true,
            "ticks": "outside"
           },
           "bgcolor": "white",
           "radialaxis": {
            "gridcolor": "rgb(232,232,232)",
            "linecolor": "rgb(36,36,36)",
            "showgrid": false,
            "showline": true,
            "ticks": "outside"
           }
          },
          "scene": {
           "xaxis": {
            "backgroundcolor": "white",
            "gridcolor": "rgb(232,232,232)",
            "gridwidth": 2,
            "linecolor": "rgb(36,36,36)",
            "showbackground": true,
            "showgrid": false,
            "showline": true,
            "ticks": "outside",
            "zeroline": false,
            "zerolinecolor": "rgb(36,36,36)"
           },
           "yaxis": {
            "backgroundcolor": "white",
            "gridcolor": "rgb(232,232,232)",
            "gridwidth": 2,
            "linecolor": "rgb(36,36,36)",
            "showbackground": true,
            "showgrid": false,
            "showline": true,
            "ticks": "outside",
            "zeroline": false,
            "zerolinecolor": "rgb(36,36,36)"
           },
           "zaxis": {
            "backgroundcolor": "white",
            "gridcolor": "rgb(232,232,232)",
            "gridwidth": 2,
            "linecolor": "rgb(36,36,36)",
            "showbackground": true,
            "showgrid": false,
            "showline": true,
            "ticks": "outside",
            "zeroline": false,
            "zerolinecolor": "rgb(36,36,36)"
           }
          },
          "shapedefaults": {
           "fillcolor": "black",
           "line": {
            "width": 0
           },
           "opacity": 0.3
          },
          "ternary": {
           "aaxis": {
            "gridcolor": "rgb(232,232,232)",
            "linecolor": "rgb(36,36,36)",
            "showgrid": false,
            "showline": true,
            "ticks": "outside"
           },
           "baxis": {
            "gridcolor": "rgb(232,232,232)",
            "linecolor": "rgb(36,36,36)",
            "showgrid": false,
            "showline": true,
            "ticks": "outside"
           },
           "bgcolor": "white",
           "caxis": {
            "gridcolor": "rgb(232,232,232)",
            "linecolor": "rgb(36,36,36)",
            "showgrid": false,
            "showline": true,
            "ticks": "outside"
           }
          },
          "title": {
           "x": 0.05
          },
          "xaxis": {
           "automargin": true,
           "gridcolor": "rgb(232,232,232)",
           "linecolor": "rgb(36,36,36)",
           "showgrid": false,
           "showline": true,
           "ticks": "outside",
           "title": {
            "standoff": 15
           },
           "zeroline": false,
           "zerolinecolor": "rgb(36,36,36)"
          },
          "yaxis": {
           "automargin": true,
           "gridcolor": "rgb(232,232,232)",
           "linecolor": "rgb(36,36,36)",
           "showgrid": false,
           "showline": true,
           "ticks": "outside",
           "title": {
            "standoff": 15
           },
           "zeroline": false,
           "zerolinecolor": "rgb(36,36,36)"
          }
         }
        },
        "title": {
         "text": "Topic Trends Over Time<br><sup>Data from 2015 onwards</sup>"
        },
        "width": 1200,
        "xaxis": {
         "showgrid": true,
         "title": {
          "text": "Year"
         }
        },
        "yaxis": {
         "showgrid": true,
         "title": {
          "text": "Topic Frequency (% of Annual Report)"
         }
        }
       }
      }
     },
     "metadata": {},
     "output_type": "display_data"
    }
   ],
   "source": [
    "# ------------------------------------------------------------\n",
    "# Generate topic time series and visualize trends\n",
    "# ------------------------------------------------------------\n",
    "\n",
    "timestamps = pd.to_datetime(timestamps, format=\"%Y\")\n",
    "topics_over_time = topic_model.topics_over_time(texts, timestamps, topic_model.topics_)\n",
    "\n",
    "# OPTIONAL: Set filter criteria\n",
    "# Set to None to ignore\n",
    "min_year = 2015\n",
    "max_year = None\n",
    "exclude_years = None #[2020]  \n",
    "\n",
    "# Apply year filtering\n",
    "filtered_topics, filter_label = filter_dataframe_by_year(\n",
    "    topics_over_time,\n",
    "    min_year=min_year,\n",
    "    max_year=max_year,\n",
    "    exclude_years=exclude_years\n",
    ")\n",
    "\n",
    "# Apply topic filtering (remove junk and noise topics)\n",
    "filtered_topics = filtered_topics[\n",
    "    (~filtered_topics[\"Topic\"].isin(junk_topics)) &\n",
    "    (filtered_topics[\"Topic\"] != -1)\n",
    "]\n",
    "\n",
    "# Select top k most frequent clean topics\n",
    "top_k = 8\n",
    "top_topics = get_top_topics(filtered_topics, top_k)\n",
    "\n",
    "# Make plot of topic frequency by year\n",
    "# y-axis = % of all text chunks assigned to this topic in a given year\n",
    "fig = topic_model.visualize_topics_over_time(filtered_topics, topics=top_topics)\n",
    "\n",
    "# Apply custom colors and labels\n",
    "palette = px.colors.qualitative.T10\n",
    "\n",
    "for i, trace in enumerate(fig.data):\n",
    "    topic_id = top_topics[i]\n",
    "    trace.line.color    = palette[i % len(palette)]\n",
    "    trace.name = clean_labels[topic_id]\n",
    "    hover_text = trace.hovertemplate or \"\"\n",
    "    trace.hovertemplate = f\"{clean_labels[topic_id]}<extra></extra>\"\n",
    "\n",
    "# Clean up the figure layout\n",
    "fig.update_layout(\n",
    "    title=f\"Topic Trends Over Time<br><sup>{filter_label}</sup>\",\n",
    "    width=1200,\n",
    "    height=600,\n",
    "    xaxis_title=\"Year\",\n",
    "    yaxis_title=\"Topic Frequency (% of Annual Report)\",\n",
    "    legend_title=\"Topics\",\n",
    "    font=dict(family=\"Arial\", size=12),\n",
    "    legend=dict(\n",
    "        orientation=\"h\",\n",
    "        yanchor=\"bottom\",\n",
    "        y=-0.4,\n",
    "        xanchor=\"center\",\n",
    "        x=0.5\n",
    "    )\n",
    ")\n",
    "\n",
    "output_filename = f\"../outputs/topic_trends\"\n",
    "fig.write_html(f\"{output_filename}.html\")\n",
    "fig.write_image(f\"{output_filename}.png\")\n",
    "\n",
    "fig.show()"
   ]
  },
  {
   "cell_type": "code",
   "execution_count": 14,
   "id": "16b23e44",
   "metadata": {},
   "outputs": [
    {
     "name": "stdout",
     "output_type": "stream",
     "text": [
      "Filtering (if any): \n",
      "Model Name: bertopic_cluster_model\n",
      "\n",
      "=== Matched Business Opportunities ===\n",
      "\n"
     ]
    },
    {
     "data": {
      "text/html": [
       "<div>\n",
       "<style scoped>\n",
       "    .dataframe tbody tr th:only-of-type {\n",
       "        vertical-align: middle;\n",
       "    }\n",
       "\n",
       "    .dataframe tbody tr th {\n",
       "        vertical-align: top;\n",
       "    }\n",
       "\n",
       "    .dataframe thead th {\n",
       "        text-align: right;\n",
       "    }\n",
       "</style>\n",
       "<table border=\"1\" class=\"dataframe\">\n",
       "  <thead>\n",
       "    <tr style=\"text-align: right;\">\n",
       "      <th></th>\n",
       "      <th>Trend</th>\n",
       "      <th>Detected Label</th>\n",
       "      <th>Implication</th>\n",
       "      <th>Opportunity</th>\n",
       "      <th>Priority (Recommended)</th>\n",
       "      <th>Keyword Fraction (%)</th>\n",
       "      <th>Topic Growth</th>\n",
       "    </tr>\n",
       "  </thead>\n",
       "  <tbody>\n",
       "    <tr>\n",
       "      <th>0</th>\n",
       "      <td>Safety</td>\n",
       "      <td>0_safety_iosa_accidents_accident</td>\n",
       "      <td>Continued industry focus on safety standards</td>\n",
       "      <td>Invest in IOSA certification and safety audits</td>\n",
       "      <td>High</td>\n",
       "      <td>9.62</td>\n",
       "      <td>7</td>\n",
       "    </tr>\n",
       "    <tr>\n",
       "      <th>1</th>\n",
       "      <td>Airport</td>\n",
       "      <td>3_charges_airport_airports_infrastructure</td>\n",
       "      <td>Growing airport-related fees and costs</td>\n",
       "      <td>Negotiate airport charges and improve operatio...</td>\n",
       "      <td>High</td>\n",
       "      <td>6.03</td>\n",
       "      <td>6</td>\n",
       "    </tr>\n",
       "    <tr>\n",
       "      <th>2</th>\n",
       "      <td>Security</td>\n",
       "      <td>1_security_information_passenger_smart security</td>\n",
       "      <td>Passenger data security and travel security co...</td>\n",
       "      <td>Enhance digital identity management and passen...</td>\n",
       "      <td>Medium</td>\n",
       "      <td>8.01</td>\n",
       "      <td>4</td>\n",
       "    </tr>\n",
       "    <tr>\n",
       "      <th>3</th>\n",
       "      <td>Settlement</td>\n",
       "      <td>2_settlement_billion_processed_bsp</td>\n",
       "      <td>Changes in financial settlement systems (BSP, ...</td>\n",
       "      <td>Optimize settlement systems and implement fast...</td>\n",
       "      <td>Medium</td>\n",
       "      <td>7.02</td>\n",
       "      <td>-1</td>\n",
       "    </tr>\n",
       "    <tr>\n",
       "      <th>4</th>\n",
       "      <td>Business</td>\n",
       "      <td>4_business_global_governments_important</td>\n",
       "      <td>Organizational agility and change management</td>\n",
       "      <td>Simplify business processes and accelerate cha...</td>\n",
       "      <td>Medium</td>\n",
       "      <td>5.91</td>\n",
       "      <td>-7</td>\n",
       "    </tr>\n",
       "    <tr>\n",
       "      <th>5</th>\n",
       "      <td>Cargo</td>\n",
       "      <td>7_cargo_e-freight_freight_e-awb</td>\n",
       "      <td>Continued strength in air cargo and freight de...</td>\n",
       "      <td>Expand cargo services and invest in logistics ...</td>\n",
       "      <td>Medium</td>\n",
       "      <td>3.68</td>\n",
       "      <td>2</td>\n",
       "    </tr>\n",
       "    <tr>\n",
       "      <th>6</th>\n",
       "      <td>Emissions</td>\n",
       "      <td>8_saf_corsia_emissions_production</td>\n",
       "      <td>Increasing pressure for environmental responsi...</td>\n",
       "      <td>Adopt Sustainable Aviation Fuels (SAF) and car...</td>\n",
       "      <td>Medium</td>\n",
       "      <td>3.47</td>\n",
       "      <td>15</td>\n",
       "    </tr>\n",
       "    <tr>\n",
       "      <th>7</th>\n",
       "      <td>Growth</td>\n",
       "      <td>10_markets_growth_load_premium</td>\n",
       "      <td>Strong recovery in air travel post-pandemic</td>\n",
       "      <td>Expand network capacity and optimize route pla...</td>\n",
       "      <td>Medium</td>\n",
       "      <td>2.93</td>\n",
       "      <td>1</td>\n",
       "    </tr>\n",
       "    <tr>\n",
       "      <th>8</th>\n",
       "      <td>Tax</td>\n",
       "      <td>13_tax_taxes_taxation_government</td>\n",
       "      <td>Government pressure via taxes on aviation</td>\n",
       "      <td>Engage in advocacy and optimize tax planning s...</td>\n",
       "      <td>Medium</td>\n",
       "      <td>2.73</td>\n",
       "      <td>2</td>\n",
       "    </tr>\n",
       "    <tr>\n",
       "      <th>9</th>\n",
       "      <td>Growth</td>\n",
       "      <td>15_cargo_trade_growth_global</td>\n",
       "      <td>Strong recovery in air travel post-pandemic</td>\n",
       "      <td>Expand network capacity and optimize route pla...</td>\n",
       "      <td>Medium</td>\n",
       "      <td>2.48</td>\n",
       "      <td>5</td>\n",
       "    </tr>\n",
       "    <tr>\n",
       "      <th>10</th>\n",
       "      <td>Unruly</td>\n",
       "      <td>17_unruly_mc99_mp14_passengers</td>\n",
       "      <td>Rise in unruly passenger incidents</td>\n",
       "      <td>Enhance crew training and incident management ...</td>\n",
       "      <td>Medium</td>\n",
       "      <td>2.19</td>\n",
       "      <td>4</td>\n",
       "    </tr>\n",
       "    <tr>\n",
       "      <th>11</th>\n",
       "      <td>Lithium</td>\n",
       "      <td>18_ceiv_lithium_batteries_dangerous</td>\n",
       "      <td>Rising risks from transporting lithium batteries</td>\n",
       "      <td>Strengthen dangerous goods handling protocols</td>\n",
       "      <td>Medium</td>\n",
       "      <td>2.15</td>\n",
       "      <td>8</td>\n",
       "    </tr>\n",
       "    <tr>\n",
       "      <th>12</th>\n",
       "      <td>Airport</td>\n",
       "      <td>22_slot_wsg_slots_airport</td>\n",
       "      <td>Growing airport-related fees and costs</td>\n",
       "      <td>Negotiate airport charges and improve operatio...</td>\n",
       "      <td>Medium</td>\n",
       "      <td>1.90</td>\n",
       "      <td>3</td>\n",
       "    </tr>\n",
       "    <tr>\n",
       "      <th>13</th>\n",
       "      <td>ID</td>\n",
       "      <td>27_identity_id_digital_biometric</td>\n",
       "      <td>Move towards digital identity and seamless travel</td>\n",
       "      <td>Implement biometric and digital ID solutions</td>\n",
       "      <td>Medium</td>\n",
       "      <td>1.20</td>\n",
       "      <td>7</td>\n",
       "    </tr>\n",
       "    <tr>\n",
       "      <th>14</th>\n",
       "      <td>Diversity</td>\n",
       "      <td>28_diversity_inclusion_diversity inclusion_female</td>\n",
       "      <td>Industry-wide DEI (Diversity, Equity, Inclusio...</td>\n",
       "      <td>Strengthen diversity and inclusion initiatives</td>\n",
       "      <td>Medium</td>\n",
       "      <td>1.20</td>\n",
       "      <td>9</td>\n",
       "    </tr>\n",
       "    <tr>\n",
       "      <th>15</th>\n",
       "      <td>Fuel</td>\n",
       "      <td>30_fuel_jet fuel_jet_supply</td>\n",
       "      <td>Volatility of jet fuel prices</td>\n",
       "      <td>Implement fuel hedging strategies and optimize...</td>\n",
       "      <td>Medium</td>\n",
       "      <td>1.16</td>\n",
       "      <td>1</td>\n",
       "    </tr>\n",
       "    <tr>\n",
       "      <th>16</th>\n",
       "      <td>Board</td>\n",
       "      <td>6_baggage_fast travel_fast_boarding</td>\n",
       "      <td>Board representation and governance changes</td>\n",
       "      <td>Strengthen board leadership and stakeholder en...</td>\n",
       "      <td>Low</td>\n",
       "      <td>3.72</td>\n",
       "      <td>-4</td>\n",
       "    </tr>\n",
       "    <tr>\n",
       "      <th>17</th>\n",
       "      <td>Regulation</td>\n",
       "      <td>9_regulation_rights_passenger rights_regulations</td>\n",
       "      <td>Tighter regulatory environment for passenger r...</td>\n",
       "      <td>Implement compliance monitoring and customer c...</td>\n",
       "      <td>Low</td>\n",
       "      <td>3.14</td>\n",
       "      <td>0</td>\n",
       "    </tr>\n",
       "    <tr>\n",
       "      <th>18</th>\n",
       "      <td>ID</td>\n",
       "      <td>11_covid-19_health_testing_travel</td>\n",
       "      <td>Move towards digital identity and seamless travel</td>\n",
       "      <td>Implement biometric and digital ID solutions</td>\n",
       "      <td>Low</td>\n",
       "      <td>2.85</td>\n",
       "      <td>0</td>\n",
       "    </tr>\n",
       "    <tr>\n",
       "      <th>19</th>\n",
       "      <td>Cargo</td>\n",
       "      <td>12_airlines_airways_china_cargo</td>\n",
       "      <td>Continued strength in air cargo and freight de...</td>\n",
       "      <td>Expand cargo services and invest in logistics ...</td>\n",
       "      <td>Low</td>\n",
       "      <td>2.85</td>\n",
       "      <td>-3</td>\n",
       "    </tr>\n",
       "    <tr>\n",
       "      <th>20</th>\n",
       "      <td>Cargo</td>\n",
       "      <td>14_data_intelligence_consulting_cargois</td>\n",
       "      <td>Continued strength in air cargo and freight de...</td>\n",
       "      <td>Expand cargo services and invest in logistics ...</td>\n",
       "      <td>Low</td>\n",
       "      <td>2.73</td>\n",
       "      <td>-1</td>\n",
       "    </tr>\n",
       "    <tr>\n",
       "      <th>21</th>\n",
       "      <td>Commercial</td>\n",
       "      <td>16_world_commercial_jobs_people</td>\n",
       "      <td>Need for revenue diversification</td>\n",
       "      <td>Develop new commercial partnerships and ancill...</td>\n",
       "      <td>Low</td>\n",
       "      <td>2.40</td>\n",
       "      <td>0</td>\n",
       "    </tr>\n",
       "    <tr>\n",
       "      <th>22</th>\n",
       "      <td>Training</td>\n",
       "      <td>19_training_itdi_strategic_courses</td>\n",
       "      <td>Ongoing need for aviation training and upskilling</td>\n",
       "      <td>Expand training programs and digital learning ...</td>\n",
       "      <td>Low</td>\n",
       "      <td>2.11</td>\n",
       "      <td>-1</td>\n",
       "    </tr>\n",
       "    <tr>\n",
       "      <th>23</th>\n",
       "      <td>Emissions</td>\n",
       "      <td>20_emissions_carbon_environmental_technology</td>\n",
       "      <td>Increasing pressure for environmental responsi...</td>\n",
       "      <td>Adopt Sustainable Aviation Fuels (SAF) and car...</td>\n",
       "      <td>Low</td>\n",
       "      <td>2.11</td>\n",
       "      <td>0</td>\n",
       "    </tr>\n",
       "    <tr>\n",
       "      <th>24</th>\n",
       "      <td>Fuel</td>\n",
       "      <td>31_oil_barrel_prices_fuel</td>\n",
       "      <td>Volatility of jet fuel prices</td>\n",
       "      <td>Implement fuel hedging strategies and optimize...</td>\n",
       "      <td>Low</td>\n",
       "      <td>1.16</td>\n",
       "      <td>0</td>\n",
       "    </tr>\n",
       "  </tbody>\n",
       "</table>\n",
       "</div>"
      ],
      "text/plain": [
       "         Trend                                     Detected Label  \\\n",
       "0       Safety                   0_safety_iosa_accidents_accident   \n",
       "1      Airport          3_charges_airport_airports_infrastructure   \n",
       "2     Security    1_security_information_passenger_smart security   \n",
       "3   Settlement                 2_settlement_billion_processed_bsp   \n",
       "4     Business            4_business_global_governments_important   \n",
       "5        Cargo                    7_cargo_e-freight_freight_e-awb   \n",
       "6    Emissions                  8_saf_corsia_emissions_production   \n",
       "7       Growth                     10_markets_growth_load_premium   \n",
       "8          Tax                   13_tax_taxes_taxation_government   \n",
       "9       Growth                       15_cargo_trade_growth_global   \n",
       "10      Unruly                     17_unruly_mc99_mp14_passengers   \n",
       "11     Lithium                18_ceiv_lithium_batteries_dangerous   \n",
       "12     Airport                          22_slot_wsg_slots_airport   \n",
       "13          ID                   27_identity_id_digital_biometric   \n",
       "14   Diversity  28_diversity_inclusion_diversity inclusion_female   \n",
       "15        Fuel                        30_fuel_jet fuel_jet_supply   \n",
       "16       Board                6_baggage_fast travel_fast_boarding   \n",
       "17  Regulation   9_regulation_rights_passenger rights_regulations   \n",
       "18          ID                  11_covid-19_health_testing_travel   \n",
       "19       Cargo                    12_airlines_airways_china_cargo   \n",
       "20       Cargo            14_data_intelligence_consulting_cargois   \n",
       "21  Commercial                    16_world_commercial_jobs_people   \n",
       "22    Training                 19_training_itdi_strategic_courses   \n",
       "23   Emissions       20_emissions_carbon_environmental_technology   \n",
       "24        Fuel                          31_oil_barrel_prices_fuel   \n",
       "\n",
       "                                          Implication  \\\n",
       "0        Continued industry focus on safety standards   \n",
       "1              Growing airport-related fees and costs   \n",
       "2   Passenger data security and travel security co...   \n",
       "3   Changes in financial settlement systems (BSP, ...   \n",
       "4        Organizational agility and change management   \n",
       "5   Continued strength in air cargo and freight de...   \n",
       "6   Increasing pressure for environmental responsi...   \n",
       "7         Strong recovery in air travel post-pandemic   \n",
       "8           Government pressure via taxes on aviation   \n",
       "9         Strong recovery in air travel post-pandemic   \n",
       "10                 Rise in unruly passenger incidents   \n",
       "11   Rising risks from transporting lithium batteries   \n",
       "12             Growing airport-related fees and costs   \n",
       "13  Move towards digital identity and seamless travel   \n",
       "14  Industry-wide DEI (Diversity, Equity, Inclusio...   \n",
       "15                      Volatility of jet fuel prices   \n",
       "16        Board representation and governance changes   \n",
       "17  Tighter regulatory environment for passenger r...   \n",
       "18  Move towards digital identity and seamless travel   \n",
       "19  Continued strength in air cargo and freight de...   \n",
       "20  Continued strength in air cargo and freight de...   \n",
       "21                   Need for revenue diversification   \n",
       "22  Ongoing need for aviation training and upskilling   \n",
       "23  Increasing pressure for environmental responsi...   \n",
       "24                      Volatility of jet fuel prices   \n",
       "\n",
       "                                          Opportunity Priority (Recommended)  \\\n",
       "0      Invest in IOSA certification and safety audits                   High   \n",
       "1   Negotiate airport charges and improve operatio...                   High   \n",
       "2   Enhance digital identity management and passen...                 Medium   \n",
       "3   Optimize settlement systems and implement fast...                 Medium   \n",
       "4   Simplify business processes and accelerate cha...                 Medium   \n",
       "5   Expand cargo services and invest in logistics ...                 Medium   \n",
       "6   Adopt Sustainable Aviation Fuels (SAF) and car...                 Medium   \n",
       "7   Expand network capacity and optimize route pla...                 Medium   \n",
       "8   Engage in advocacy and optimize tax planning s...                 Medium   \n",
       "9   Expand network capacity and optimize route pla...                 Medium   \n",
       "10  Enhance crew training and incident management ...                 Medium   \n",
       "11      Strengthen dangerous goods handling protocols                 Medium   \n",
       "12  Negotiate airport charges and improve operatio...                 Medium   \n",
       "13       Implement biometric and digital ID solutions                 Medium   \n",
       "14     Strengthen diversity and inclusion initiatives                 Medium   \n",
       "15  Implement fuel hedging strategies and optimize...                 Medium   \n",
       "16  Strengthen board leadership and stakeholder en...                    Low   \n",
       "17  Implement compliance monitoring and customer c...                    Low   \n",
       "18       Implement biometric and digital ID solutions                    Low   \n",
       "19  Expand cargo services and invest in logistics ...                    Low   \n",
       "20  Expand cargo services and invest in logistics ...                    Low   \n",
       "21  Develop new commercial partnerships and ancill...                    Low   \n",
       "22  Expand training programs and digital learning ...                    Low   \n",
       "23  Adopt Sustainable Aviation Fuels (SAF) and car...                    Low   \n",
       "24  Implement fuel hedging strategies and optimize...                    Low   \n",
       "\n",
       "    Keyword Fraction (%)  Topic Growth  \n",
       "0                   9.62             7  \n",
       "1                   6.03             6  \n",
       "2                   8.01             4  \n",
       "3                   7.02            -1  \n",
       "4                   5.91            -7  \n",
       "5                   3.68             2  \n",
       "6                   3.47            15  \n",
       "7                   2.93             1  \n",
       "8                   2.73             2  \n",
       "9                   2.48             5  \n",
       "10                  2.19             4  \n",
       "11                  2.15             8  \n",
       "12                  1.90             3  \n",
       "13                  1.20             7  \n",
       "14                  1.20             9  \n",
       "15                  1.16             1  \n",
       "16                  3.72            -4  \n",
       "17                  3.14             0  \n",
       "18                  2.85             0  \n",
       "19                  2.85            -3  \n",
       "20                  2.73            -1  \n",
       "21                  2.40             0  \n",
       "22                  2.11            -1  \n",
       "23                  2.11             0  \n",
       "24                  1.16             0  "
      ]
     },
     "metadata": {},
     "output_type": "display_data"
    },
    {
     "name": "stdout",
     "output_type": "stream",
     "text": [
      "\n",
      "Saved opportunity table to: ../outputs/business_opportunities.csv\n"
     ]
    }
   ],
   "source": [
    "# ===============================================\n",
    "# Generate a table matching trends to business\n",
    "# opportunities, and assign a priority ranking\n",
    "# based on trend size and growth\n",
    "# ===============================================\n",
    "\n",
    "matched_opportunities_df, unmatched_topics = generate_opportunity_table(topic_model, topics_over_time)\n",
    "\n",
    "print(f\"Filtering (if any): {model_label}\")\n",
    "print(f\"Model Name: {model_name}\\n\")\n",
    "print(\"=== Matched Business Opportunities ===\\n\")\n",
    "display(matched_opportunities_df)\n",
    "\n",
    "# Save table as CSV\n",
    "output_filename = f\"../outputs/business_opportunities.csv\"\n",
    "matched_opportunities_df.to_csv(output_filename, index=False)\n",
    "\n",
    "print(f\"\\nSaved opportunity table to: {output_filename}\")"
   ]
  }
 ],
 "metadata": {
  "kernelspec": {
   "display_name": "Python 3",
   "language": "python",
   "name": "python3"
  },
  "language_info": {
   "codemirror_mode": {
    "name": "ipython",
    "version": 3
   },
   "file_extension": ".py",
   "mimetype": "text/x-python",
   "name": "python",
   "nbconvert_exporter": "python",
   "pygments_lexer": "ipython3",
   "version": "3.10.16"
  }
 },
 "nbformat": 4,
 "nbformat_minor": 5
}
