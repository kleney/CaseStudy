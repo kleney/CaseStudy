{
 "cells": [
  {
   "cell_type": "markdown",
   "id": "764c52e8",
   "metadata": {},
   "source": [
    "# Visualise results from model trained in clustering_analysis_training.ipynb\n",
    "\n",
    "Author: Katharine Leney, April 2025"
   ]
  },
  {
   "cell_type": "code",
   "execution_count": 1,
   "id": "42738697",
   "metadata": {},
   "outputs": [],
   "source": [
    "from bertopic import BERTopic # topic modelling\n",
    "import pandas as pd\n",
    "import pickle\n",
    "import os\n",
    "import json\n",
    "import sys\n",
    "sys.path.append(\"../src\")\n",
    "from utils.parse_model_folder import parse_model_folder\n",
    "from utils.generate_clean_labels import generate_clean_labels\n",
    "from utils.generate_opportunity_table import generate_opportunity_table"
   ]
  },
  {
   "cell_type": "code",
   "execution_count": 2,
   "id": "3f00276e",
   "metadata": {},
   "outputs": [
    {
     "name": "stdout",
     "output_type": "stream",
     "text": [
      "From 2015 | Excluding 2020, 2021\n"
     ]
    }
   ],
   "source": [
    "# ====================================\n",
    "# Load model and associated data\n",
    "# ====================================\n",
    "\n",
    "# Model trained on full dataset\n",
    "#model_name = f\"bertopic_cluster_model_20250425\"\n",
    "\n",
    "# Model trained on 2015--2019, 2022--2024 data\n",
    "model_name = f\"bertopic_cluster_model_from_2015_excl_2020_2021_20250426\"\n",
    "\n",
    "# Load model\n",
    "topic_model = BERTopic.load(os.path.join(\"../models/\", model_name, \"model\"))\n",
    "\n",
    "# Load texts and timestamps\n",
    "with open(os.path.join(\"../models/\", model_name, \"texts.pkl\"), \"rb\") as f:\n",
    "    texts = pickle.load(f)\n",
    "\n",
    "with open(os.path.join(\"../models/\", model_name, \"timestamps.pkl\"), \"rb\") as f:\n",
    "    timestamps = pickle.load(f)\n",
    "\n",
    "model_label = parse_model_folder(model_name)\n",
    "print(model_label)\n",
    "\n",
    "# Make sure the outputs folder exists\n",
    "os.makedirs(\"../outputs\", exist_ok=True)"
   ]
  },
  {
   "cell_type": "code",
   "execution_count": 3,
   "id": "2ac0a6ee",
   "metadata": {},
   "outputs": [
    {
     "data": {
      "text/html": [
       "<div>\n",
       "<style scoped>\n",
       "    .dataframe tbody tr th:only-of-type {\n",
       "        vertical-align: middle;\n",
       "    }\n",
       "\n",
       "    .dataframe tbody tr th {\n",
       "        vertical-align: top;\n",
       "    }\n",
       "\n",
       "    .dataframe thead th {\n",
       "        text-align: right;\n",
       "    }\n",
       "</style>\n",
       "<table border=\"1\" class=\"dataframe\">\n",
       "  <thead>\n",
       "    <tr style=\"text-align: right;\">\n",
       "      <th></th>\n",
       "      <th>Topic</th>\n",
       "      <th>Count</th>\n",
       "      <th>Name</th>\n",
       "      <th>Representation</th>\n",
       "      <th>Representative_Docs</th>\n",
       "    </tr>\n",
       "  </thead>\n",
       "  <tbody>\n",
       "    <tr>\n",
       "      <th>0</th>\n",
       "      <td>-1</td>\n",
       "      <td>142</td>\n",
       "      <td>-1_fuel_airlines_s_timatic</td>\n",
       "      <td>[fuel, airlines, s, timatic, airport, jet fuel...</td>\n",
       "      <td>[60 IATA OFFICES  Geneva Executive Office  33,...</td>\n",
       "    </tr>\n",
       "    <tr>\n",
       "      <th>1</th>\n",
       "      <td>0</td>\n",
       "      <td>201</td>\n",
       "      <td>0_passenger_year_cargo_growth</td>\n",
       "      <td>[passenger, year, cargo, growth, load, demand,...</td>\n",
       "      <td>[Africa Russia Brazil Jan Feb Mar Apr May Jun ...</td>\n",
       "    </tr>\n",
       "    <tr>\n",
       "      <th>2</th>\n",
       "      <td>1</td>\n",
       "      <td>151</td>\n",
       "      <td>1_saf_emissions_carbon_corsia</td>\n",
       "      <td>[saf, emissions, carbon, corsia, environmental...</td>\n",
       "      <td>[Environment &amp; Sustainability 28  IATA Annual ...</td>\n",
       "    </tr>\n",
       "    <tr>\n",
       "      <th>3</th>\n",
       "      <td>2</td>\n",
       "      <td>147</td>\n",
       "      <td>2_safety_iosa_accidents_accident</td>\n",
       "      <td>[safety, iosa, accidents, accident, aircraft, ...</td>\n",
       "      <td>[Safety continues to improve The last decade s...</td>\n",
       "    </tr>\n",
       "    <tr>\n",
       "      <th>4</th>\n",
       "      <td>3</td>\n",
       "      <td>110</td>\n",
       "      <td>3_tax_regulation_taxation_passenger</td>\n",
       "      <td>[tax, regulation, taxation, passenger, unruly,...</td>\n",
       "      <td>[The industry is asking governments to adopt s...</td>\n",
       "    </tr>\n",
       "    <tr>\n",
       "      <th>5</th>\n",
       "      <td>4</td>\n",
       "      <td>108</td>\n",
       "      <td>4_cargo_data_lithium_ceiv</td>\n",
       "      <td>[cargo, data, lithium, ceiv, e, freight, goods...</td>\n",
       "      <td>[Special cargo Standardized air cargo processe...</td>\n",
       "    </tr>\n",
       "    <tr>\n",
       "      <th>6</th>\n",
       "      <td>5</td>\n",
       "      <td>102</td>\n",
       "      <td>5_airport_charges_infrastructure_airports</td>\n",
       "      <td>[airport, charges, infrastructure, airports, d...</td>\n",
       "      <td>[Cost-efficiency and lower charges Infrastruct...</td>\n",
       "    </tr>\n",
       "    <tr>\n",
       "      <th>7</th>\n",
       "      <td>6</td>\n",
       "      <td>98</td>\n",
       "      <td>6_security_information_smart security_smart</td>\n",
       "      <td>[security, information, smart security, smart,...</td>\n",
       "      <td>[The UN resolution  confirms ICAO’s leadership...</td>\n",
       "    </tr>\n",
       "    <tr>\n",
       "      <th>8</th>\n",
       "      <td>7</td>\n",
       "      <td>64</td>\n",
       "      <td>7_settlement_billion_processed_iss</td>\n",
       "      <td>[settlement, billion, processed, iss, bsp, fin...</td>\n",
       "      <td>[At  the end of 2017, CASS  was processing 94 ...</td>\n",
       "    </tr>\n",
       "    <tr>\n",
       "      <th>9</th>\n",
       "      <td>8</td>\n",
       "      <td>60</td>\n",
       "      <td>8_ndc_order_travel_airline</td>\n",
       "      <td>[ndc, order, travel, airline, retailing, airli...</td>\n",
       "      <td>[IATA has drafted a recommended practice  for ...</td>\n",
       "    </tr>\n",
       "  </tbody>\n",
       "</table>\n",
       "</div>"
      ],
      "text/plain": [
       "   Topic  Count                                         Name  \\\n",
       "0     -1    142                   -1_fuel_airlines_s_timatic   \n",
       "1      0    201                0_passenger_year_cargo_growth   \n",
       "2      1    151                1_saf_emissions_carbon_corsia   \n",
       "3      2    147             2_safety_iosa_accidents_accident   \n",
       "4      3    110          3_tax_regulation_taxation_passenger   \n",
       "5      4    108                    4_cargo_data_lithium_ceiv   \n",
       "6      5    102    5_airport_charges_infrastructure_airports   \n",
       "7      6     98  6_security_information_smart security_smart   \n",
       "8      7     64           7_settlement_billion_processed_iss   \n",
       "9      8     60                   8_ndc_order_travel_airline   \n",
       "\n",
       "                                      Representation  \\\n",
       "0  [fuel, airlines, s, timatic, airport, jet fuel...   \n",
       "1  [passenger, year, cargo, growth, load, demand,...   \n",
       "2  [saf, emissions, carbon, corsia, environmental...   \n",
       "3  [safety, iosa, accidents, accident, aircraft, ...   \n",
       "4  [tax, regulation, taxation, passenger, unruly,...   \n",
       "5  [cargo, data, lithium, ceiv, e, freight, goods...   \n",
       "6  [airport, charges, infrastructure, airports, d...   \n",
       "7  [security, information, smart security, smart,...   \n",
       "8  [settlement, billion, processed, iss, bsp, fin...   \n",
       "9  [ndc, order, travel, airline, retailing, airli...   \n",
       "\n",
       "                                 Representative_Docs  \n",
       "0  [60 IATA OFFICES  Geneva Executive Office  33,...  \n",
       "1  [Africa Russia Brazil Jan Feb Mar Apr May Jun ...  \n",
       "2  [Environment & Sustainability 28  IATA Annual ...  \n",
       "3  [Safety continues to improve The last decade s...  \n",
       "4  [The industry is asking governments to adopt s...  \n",
       "5  [Special cargo Standardized air cargo processe...  \n",
       "6  [Cost-efficiency and lower charges Infrastruct...  \n",
       "7  [The UN resolution  confirms ICAO’s leadership...  \n",
       "8  [At  the end of 2017, CASS  was processing 94 ...  \n",
       "9  [IATA has drafted a recommended practice  for ...  "
      ]
     },
     "execution_count": 3,
     "metadata": {},
     "output_type": "execute_result"
    }
   ],
   "source": [
    "# Explore top topics\n",
    "topic_model.get_topic_info().head(10)\n",
    "#topic_model.get_topic_info()"
   ]
  },
  {
   "cell_type": "code",
   "execution_count": 4,
   "id": "185fc284",
   "metadata": {},
   "outputs": [
    {
     "data": {
      "application/vnd.plotly.v1+json": {
       "config": {
        "plotlyServerURL": "https://plot.ly"
       },
       "data": [
        {
         "customdata": [
          [
           0,
           "passenger | year | cargo | growth | load",
           201
          ],
          [
           1,
           "saf | emissions | carbon | corsia | environmental",
           151
          ],
          [
           2,
           "safety | iosa | accidents | accident | aircraft",
           147
          ],
          [
           3,
           "tax | regulation | taxation | passenger | unruly",
           110
          ],
          [
           4,
           "cargo | data | lithium | ceiv | e",
           108
          ],
          [
           5,
           "airport | charges | infrastructure | airports | development",
           102
          ],
          [
           6,
           "security | information | smart security | smart | risk",
           98
          ],
          [
           7,
           "settlement | billion | processed | iss | bsp",
           64
          ],
          [
           8,
           "ndc | order | travel | airline | retailing",
           60
          ],
          [
           9,
           "commercial | world | contents | s | people",
           44
          ],
          [
           10,
           "travel | id | experience | passengers | digital",
           41
          ],
          [
           11,
           "chairman | president | airlines | board | group",
           39
          ],
          [
           12,
           "airlines | airways | latam | china | cargo",
           30
          ],
          [
           13,
           "slot | wsg | slots | regulation | capacity",
           29
          ],
          [
           14,
           "diversity | inclusion | diversity inclusion | female | gender",
           29
          ],
          [
           15,
           "training | itdi | strategic | partners | l",
           22
          ]
         ],
         "hovertemplate": "<b>Topic %{customdata[0]}</b><br>%{customdata[1]}<br>Size: %{customdata[2]}",
         "legendgroup": "",
         "marker": {
          "color": "#B0BEC5",
          "line": {
           "color": "DarkSlateGrey",
           "width": 2
          },
          "size": {
           "bdata": "yQCXAJMAbgBsAGYAYgBAADwALAApACcAHgAdAB0AFgA=",
           "dtype": "i2"
          },
          "sizemode": "area",
          "sizeref": 0.125625,
          "symbol": "circle"
         },
         "mode": "markers",
         "name": "",
         "orientation": "v",
         "showlegend": false,
         "type": "scatter",
         "x": {
          "bdata": "gF1HQFdrvsDfkeJAIAiywFd2bECmoJrAV8zqQBeGosA5zX1Aja4sQM8b8kCaGQtA+jHuPxAgmcCetBVAUjk6QA==",
          "dtype": "f4"
         },
         "xaxis": "x",
         "y": {
          "bdata": "rac4QKLq+EDeMDdAZ1UBQdHV+MD78/pA52JHQKOp8kDSwwDBSlMmQEoQVkCuqDpA8eZDQHO16kDMZhBAm7UOQA==",
          "dtype": "f4"
         },
         "yaxis": "y"
        }
       ],
       "layout": {
        "annotations": [
         {
          "showarrow": false,
          "text": "D1",
          "x": -6.843193459510803,
          "y": 0.020436930656433816,
          "yshift": 10
         },
         {
          "showarrow": false,
          "text": "D2",
          "x": 0.9287926673889157,
          "xshift": 10,
          "y": 9.295852708816529
         }
        ],
        "font": {
         "family": "Arial"
        },
        "height": 800,
        "hoverlabel": {
         "bgcolor": "white",
         "font": {
          "family": "Rockwell",
          "size": 16
         }
        },
        "legend": {
         "itemsizing": "constant",
         "orientation": "h",
         "tracegroupgap": 0,
         "x": 0.5,
         "xanchor": "center",
         "y": 1.02,
         "yanchor": "bottom"
        },
        "margin": {
         "t": 60
        },
        "paper_bgcolor": "white",
        "plot_bgcolor": "white",
        "shapes": [
         {
          "line": {
           "color": "#CFD8DC",
           "width": 2
          },
          "type": "line",
          "x0": 0.9287926673889157,
          "x1": 0.9287926673889157,
          "y0": -9.254978847503661,
          "y1": 9.295852708816529
         },
         {
          "line": {
           "color": "#9E9E9E",
           "width": 2
          },
          "type": "line",
          "x0": -6.843193459510803,
          "x1": 8.700778794288635,
          "y0": 0.020436930656433816,
          "y1": 0.020436930656433816
         }
        ],
        "sliders": [
         {
          "active": 0,
          "pad": {
           "t": 50
          },
          "steps": [
           {
            "args": [
             {
              "marker.color": [
               [
                "red",
                "#B0BEC5",
                "#B0BEC5",
                "#B0BEC5",
                "#B0BEC5",
                "#B0BEC5",
                "#B0BEC5",
                "#B0BEC5",
                "#B0BEC5",
                "#B0BEC5",
                "#B0BEC5",
                "#B0BEC5",
                "#B0BEC5",
                "#B0BEC5",
                "#B0BEC5",
                "#B0BEC5"
               ]
              ]
             }
            ],
            "label": "Topic 0",
            "method": "update"
           },
           {
            "args": [
             {
              "marker.color": [
               [
                "#B0BEC5",
                "red",
                "#B0BEC5",
                "#B0BEC5",
                "#B0BEC5",
                "#B0BEC5",
                "#B0BEC5",
                "#B0BEC5",
                "#B0BEC5",
                "#B0BEC5",
                "#B0BEC5",
                "#B0BEC5",
                "#B0BEC5",
                "#B0BEC5",
                "#B0BEC5",
                "#B0BEC5"
               ]
              ]
             }
            ],
            "label": "Topic 1",
            "method": "update"
           },
           {
            "args": [
             {
              "marker.color": [
               [
                "#B0BEC5",
                "#B0BEC5",
                "red",
                "#B0BEC5",
                "#B0BEC5",
                "#B0BEC5",
                "#B0BEC5",
                "#B0BEC5",
                "#B0BEC5",
                "#B0BEC5",
                "#B0BEC5",
                "#B0BEC5",
                "#B0BEC5",
                "#B0BEC5",
                "#B0BEC5",
                "#B0BEC5"
               ]
              ]
             }
            ],
            "label": "Topic 2",
            "method": "update"
           },
           {
            "args": [
             {
              "marker.color": [
               [
                "#B0BEC5",
                "#B0BEC5",
                "#B0BEC5",
                "red",
                "#B0BEC5",
                "#B0BEC5",
                "#B0BEC5",
                "#B0BEC5",
                "#B0BEC5",
                "#B0BEC5",
                "#B0BEC5",
                "#B0BEC5",
                "#B0BEC5",
                "#B0BEC5",
                "#B0BEC5",
                "#B0BEC5"
               ]
              ]
             }
            ],
            "label": "Topic 3",
            "method": "update"
           },
           {
            "args": [
             {
              "marker.color": [
               [
                "#B0BEC5",
                "#B0BEC5",
                "#B0BEC5",
                "#B0BEC5",
                "red",
                "#B0BEC5",
                "#B0BEC5",
                "#B0BEC5",
                "#B0BEC5",
                "#B0BEC5",
                "#B0BEC5",
                "#B0BEC5",
                "#B0BEC5",
                "#B0BEC5",
                "#B0BEC5",
                "#B0BEC5"
               ]
              ]
             }
            ],
            "label": "Topic 4",
            "method": "update"
           },
           {
            "args": [
             {
              "marker.color": [
               [
                "#B0BEC5",
                "#B0BEC5",
                "#B0BEC5",
                "#B0BEC5",
                "#B0BEC5",
                "red",
                "#B0BEC5",
                "#B0BEC5",
                "#B0BEC5",
                "#B0BEC5",
                "#B0BEC5",
                "#B0BEC5",
                "#B0BEC5",
                "#B0BEC5",
                "#B0BEC5",
                "#B0BEC5"
               ]
              ]
             }
            ],
            "label": "Topic 5",
            "method": "update"
           },
           {
            "args": [
             {
              "marker.color": [
               [
                "#B0BEC5",
                "#B0BEC5",
                "#B0BEC5",
                "#B0BEC5",
                "#B0BEC5",
                "#B0BEC5",
                "red",
                "#B0BEC5",
                "#B0BEC5",
                "#B0BEC5",
                "#B0BEC5",
                "#B0BEC5",
                "#B0BEC5",
                "#B0BEC5",
                "#B0BEC5",
                "#B0BEC5"
               ]
              ]
             }
            ],
            "label": "Topic 6",
            "method": "update"
           },
           {
            "args": [
             {
              "marker.color": [
               [
                "#B0BEC5",
                "#B0BEC5",
                "#B0BEC5",
                "#B0BEC5",
                "#B0BEC5",
                "#B0BEC5",
                "#B0BEC5",
                "red",
                "#B0BEC5",
                "#B0BEC5",
                "#B0BEC5",
                "#B0BEC5",
                "#B0BEC5",
                "#B0BEC5",
                "#B0BEC5",
                "#B0BEC5"
               ]
              ]
             }
            ],
            "label": "Topic 7",
            "method": "update"
           },
           {
            "args": [
             {
              "marker.color": [
               [
                "#B0BEC5",
                "#B0BEC5",
                "#B0BEC5",
                "#B0BEC5",
                "#B0BEC5",
                "#B0BEC5",
                "#B0BEC5",
                "#B0BEC5",
                "red",
                "#B0BEC5",
                "#B0BEC5",
                "#B0BEC5",
                "#B0BEC5",
                "#B0BEC5",
                "#B0BEC5",
                "#B0BEC5"
               ]
              ]
             }
            ],
            "label": "Topic 8",
            "method": "update"
           },
           {
            "args": [
             {
              "marker.color": [
               [
                "#B0BEC5",
                "#B0BEC5",
                "#B0BEC5",
                "#B0BEC5",
                "#B0BEC5",
                "#B0BEC5",
                "#B0BEC5",
                "#B0BEC5",
                "#B0BEC5",
                "red",
                "#B0BEC5",
                "#B0BEC5",
                "#B0BEC5",
                "#B0BEC5",
                "#B0BEC5",
                "#B0BEC5"
               ]
              ]
             }
            ],
            "label": "Topic 9",
            "method": "update"
           },
           {
            "args": [
             {
              "marker.color": [
               [
                "#B0BEC5",
                "#B0BEC5",
                "#B0BEC5",
                "#B0BEC5",
                "#B0BEC5",
                "#B0BEC5",
                "#B0BEC5",
                "#B0BEC5",
                "#B0BEC5",
                "#B0BEC5",
                "red",
                "#B0BEC5",
                "#B0BEC5",
                "#B0BEC5",
                "#B0BEC5",
                "#B0BEC5"
               ]
              ]
             }
            ],
            "label": "Topic 10",
            "method": "update"
           },
           {
            "args": [
             {
              "marker.color": [
               [
                "#B0BEC5",
                "#B0BEC5",
                "#B0BEC5",
                "#B0BEC5",
                "#B0BEC5",
                "#B0BEC5",
                "#B0BEC5",
                "#B0BEC5",
                "#B0BEC5",
                "#B0BEC5",
                "#B0BEC5",
                "red",
                "#B0BEC5",
                "#B0BEC5",
                "#B0BEC5",
                "#B0BEC5"
               ]
              ]
             }
            ],
            "label": "Topic 11",
            "method": "update"
           },
           {
            "args": [
             {
              "marker.color": [
               [
                "#B0BEC5",
                "#B0BEC5",
                "#B0BEC5",
                "#B0BEC5",
                "#B0BEC5",
                "#B0BEC5",
                "#B0BEC5",
                "#B0BEC5",
                "#B0BEC5",
                "#B0BEC5",
                "#B0BEC5",
                "#B0BEC5",
                "red",
                "#B0BEC5",
                "#B0BEC5",
                "#B0BEC5"
               ]
              ]
             }
            ],
            "label": "Topic 12",
            "method": "update"
           },
           {
            "args": [
             {
              "marker.color": [
               [
                "#B0BEC5",
                "#B0BEC5",
                "#B0BEC5",
                "#B0BEC5",
                "#B0BEC5",
                "#B0BEC5",
                "#B0BEC5",
                "#B0BEC5",
                "#B0BEC5",
                "#B0BEC5",
                "#B0BEC5",
                "#B0BEC5",
                "#B0BEC5",
                "red",
                "#B0BEC5",
                "#B0BEC5"
               ]
              ]
             }
            ],
            "label": "Topic 13",
            "method": "update"
           },
           {
            "args": [
             {
              "marker.color": [
               [
                "#B0BEC5",
                "#B0BEC5",
                "#B0BEC5",
                "#B0BEC5",
                "#B0BEC5",
                "#B0BEC5",
                "#B0BEC5",
                "#B0BEC5",
                "#B0BEC5",
                "#B0BEC5",
                "#B0BEC5",
                "#B0BEC5",
                "#B0BEC5",
                "#B0BEC5",
                "red",
                "#B0BEC5"
               ]
              ]
             }
            ],
            "label": "Topic 14",
            "method": "update"
           },
           {
            "args": [
             {
              "marker.color": [
               [
                "#B0BEC5",
                "#B0BEC5",
                "#B0BEC5",
                "#B0BEC5",
                "#B0BEC5",
                "#B0BEC5",
                "#B0BEC5",
                "#B0BEC5",
                "#B0BEC5",
                "#B0BEC5",
                "#B0BEC5",
                "#B0BEC5",
                "#B0BEC5",
                "#B0BEC5",
                "#B0BEC5",
                "red"
               ]
              ]
             }
            ],
            "label": "Topic 15",
            "method": "update"
           }
          ]
         }
        ],
        "template": {
         "data": {
          "bar": [
           {
            "error_x": {
             "color": "rgb(36,36,36)"
            },
            "error_y": {
             "color": "rgb(36,36,36)"
            },
            "marker": {
             "line": {
              "color": "white",
              "width": 0.5
             },
             "pattern": {
              "fillmode": "overlay",
              "size": 10,
              "solidity": 0.2
             }
            },
            "type": "bar"
           }
          ],
          "barpolar": [
           {
            "marker": {
             "line": {
              "color": "white",
              "width": 0.5
             },
             "pattern": {
              "fillmode": "overlay",
              "size": 10,
              "solidity": 0.2
             }
            },
            "type": "barpolar"
           }
          ],
          "carpet": [
           {
            "aaxis": {
             "endlinecolor": "rgb(36,36,36)",
             "gridcolor": "white",
             "linecolor": "white",
             "minorgridcolor": "white",
             "startlinecolor": "rgb(36,36,36)"
            },
            "baxis": {
             "endlinecolor": "rgb(36,36,36)",
             "gridcolor": "white",
             "linecolor": "white",
             "minorgridcolor": "white",
             "startlinecolor": "rgb(36,36,36)"
            },
            "type": "carpet"
           }
          ],
          "choropleth": [
           {
            "colorbar": {
             "outlinewidth": 1,
             "tickcolor": "rgb(36,36,36)",
             "ticks": "outside"
            },
            "type": "choropleth"
           }
          ],
          "contour": [
           {
            "colorbar": {
             "outlinewidth": 1,
             "tickcolor": "rgb(36,36,36)",
             "ticks": "outside"
            },
            "colorscale": [
             [
              0,
              "#440154"
             ],
             [
              0.1111111111111111,
              "#482878"
             ],
             [
              0.2222222222222222,
              "#3e4989"
             ],
             [
              0.3333333333333333,
              "#31688e"
             ],
             [
              0.4444444444444444,
              "#26828e"
             ],
             [
              0.5555555555555556,
              "#1f9e89"
             ],
             [
              0.6666666666666666,
              "#35b779"
             ],
             [
              0.7777777777777778,
              "#6ece58"
             ],
             [
              0.8888888888888888,
              "#b5de2b"
             ],
             [
              1,
              "#fde725"
             ]
            ],
            "type": "contour"
           }
          ],
          "contourcarpet": [
           {
            "colorbar": {
             "outlinewidth": 1,
             "tickcolor": "rgb(36,36,36)",
             "ticks": "outside"
            },
            "type": "contourcarpet"
           }
          ],
          "heatmap": [
           {
            "colorbar": {
             "outlinewidth": 1,
             "tickcolor": "rgb(36,36,36)",
             "ticks": "outside"
            },
            "colorscale": [
             [
              0,
              "#440154"
             ],
             [
              0.1111111111111111,
              "#482878"
             ],
             [
              0.2222222222222222,
              "#3e4989"
             ],
             [
              0.3333333333333333,
              "#31688e"
             ],
             [
              0.4444444444444444,
              "#26828e"
             ],
             [
              0.5555555555555556,
              "#1f9e89"
             ],
             [
              0.6666666666666666,
              "#35b779"
             ],
             [
              0.7777777777777778,
              "#6ece58"
             ],
             [
              0.8888888888888888,
              "#b5de2b"
             ],
             [
              1,
              "#fde725"
             ]
            ],
            "type": "heatmap"
           }
          ],
          "histogram": [
           {
            "marker": {
             "line": {
              "color": "white",
              "width": 0.6
             }
            },
            "type": "histogram"
           }
          ],
          "histogram2d": [
           {
            "colorbar": {
             "outlinewidth": 1,
             "tickcolor": "rgb(36,36,36)",
             "ticks": "outside"
            },
            "colorscale": [
             [
              0,
              "#440154"
             ],
             [
              0.1111111111111111,
              "#482878"
             ],
             [
              0.2222222222222222,
              "#3e4989"
             ],
             [
              0.3333333333333333,
              "#31688e"
             ],
             [
              0.4444444444444444,
              "#26828e"
             ],
             [
              0.5555555555555556,
              "#1f9e89"
             ],
             [
              0.6666666666666666,
              "#35b779"
             ],
             [
              0.7777777777777778,
              "#6ece58"
             ],
             [
              0.8888888888888888,
              "#b5de2b"
             ],
             [
              1,
              "#fde725"
             ]
            ],
            "type": "histogram2d"
           }
          ],
          "histogram2dcontour": [
           {
            "colorbar": {
             "outlinewidth": 1,
             "tickcolor": "rgb(36,36,36)",
             "ticks": "outside"
            },
            "colorscale": [
             [
              0,
              "#440154"
             ],
             [
              0.1111111111111111,
              "#482878"
             ],
             [
              0.2222222222222222,
              "#3e4989"
             ],
             [
              0.3333333333333333,
              "#31688e"
             ],
             [
              0.4444444444444444,
              "#26828e"
             ],
             [
              0.5555555555555556,
              "#1f9e89"
             ],
             [
              0.6666666666666666,
              "#35b779"
             ],
             [
              0.7777777777777778,
              "#6ece58"
             ],
             [
              0.8888888888888888,
              "#b5de2b"
             ],
             [
              1,
              "#fde725"
             ]
            ],
            "type": "histogram2dcontour"
           }
          ],
          "mesh3d": [
           {
            "colorbar": {
             "outlinewidth": 1,
             "tickcolor": "rgb(36,36,36)",
             "ticks": "outside"
            },
            "type": "mesh3d"
           }
          ],
          "parcoords": [
           {
            "line": {
             "colorbar": {
              "outlinewidth": 1,
              "tickcolor": "rgb(36,36,36)",
              "ticks": "outside"
             }
            },
            "type": "parcoords"
           }
          ],
          "pie": [
           {
            "automargin": true,
            "type": "pie"
           }
          ],
          "scatter": [
           {
            "fillpattern": {
             "fillmode": "overlay",
             "size": 10,
             "solidity": 0.2
            },
            "type": "scatter"
           }
          ],
          "scatter3d": [
           {
            "line": {
             "colorbar": {
              "outlinewidth": 1,
              "tickcolor": "rgb(36,36,36)",
              "ticks": "outside"
             }
            },
            "marker": {
             "colorbar": {
              "outlinewidth": 1,
              "tickcolor": "rgb(36,36,36)",
              "ticks": "outside"
             }
            },
            "type": "scatter3d"
           }
          ],
          "scattercarpet": [
           {
            "marker": {
             "colorbar": {
              "outlinewidth": 1,
              "tickcolor": "rgb(36,36,36)",
              "ticks": "outside"
             }
            },
            "type": "scattercarpet"
           }
          ],
          "scattergeo": [
           {
            "marker": {
             "colorbar": {
              "outlinewidth": 1,
              "tickcolor": "rgb(36,36,36)",
              "ticks": "outside"
             }
            },
            "type": "scattergeo"
           }
          ],
          "scattergl": [
           {
            "marker": {
             "colorbar": {
              "outlinewidth": 1,
              "tickcolor": "rgb(36,36,36)",
              "ticks": "outside"
             }
            },
            "type": "scattergl"
           }
          ],
          "scattermap": [
           {
            "marker": {
             "colorbar": {
              "outlinewidth": 1,
              "tickcolor": "rgb(36,36,36)",
              "ticks": "outside"
             }
            },
            "type": "scattermap"
           }
          ],
          "scattermapbox": [
           {
            "marker": {
             "colorbar": {
              "outlinewidth": 1,
              "tickcolor": "rgb(36,36,36)",
              "ticks": "outside"
             }
            },
            "type": "scattermapbox"
           }
          ],
          "scatterpolar": [
           {
            "marker": {
             "colorbar": {
              "outlinewidth": 1,
              "tickcolor": "rgb(36,36,36)",
              "ticks": "outside"
             }
            },
            "type": "scatterpolar"
           }
          ],
          "scatterpolargl": [
           {
            "marker": {
             "colorbar": {
              "outlinewidth": 1,
              "tickcolor": "rgb(36,36,36)",
              "ticks": "outside"
             }
            },
            "type": "scatterpolargl"
           }
          ],
          "scatterternary": [
           {
            "marker": {
             "colorbar": {
              "outlinewidth": 1,
              "tickcolor": "rgb(36,36,36)",
              "ticks": "outside"
             }
            },
            "type": "scatterternary"
           }
          ],
          "surface": [
           {
            "colorbar": {
             "outlinewidth": 1,
             "tickcolor": "rgb(36,36,36)",
             "ticks": "outside"
            },
            "colorscale": [
             [
              0,
              "#440154"
             ],
             [
              0.1111111111111111,
              "#482878"
             ],
             [
              0.2222222222222222,
              "#3e4989"
             ],
             [
              0.3333333333333333,
              "#31688e"
             ],
             [
              0.4444444444444444,
              "#26828e"
             ],
             [
              0.5555555555555556,
              "#1f9e89"
             ],
             [
              0.6666666666666666,
              "#35b779"
             ],
             [
              0.7777777777777778,
              "#6ece58"
             ],
             [
              0.8888888888888888,
              "#b5de2b"
             ],
             [
              1,
              "#fde725"
             ]
            ],
            "type": "surface"
           }
          ],
          "table": [
           {
            "cells": {
             "fill": {
              "color": "rgb(237,237,237)"
             },
             "line": {
              "color": "white"
             }
            },
            "header": {
             "fill": {
              "color": "rgb(217,217,217)"
             },
             "line": {
              "color": "white"
             }
            },
            "type": "table"
           }
          ]
         },
         "layout": {
          "annotationdefaults": {
           "arrowhead": 0,
           "arrowwidth": 1
          },
          "autotypenumbers": "strict",
          "coloraxis": {
           "colorbar": {
            "outlinewidth": 1,
            "tickcolor": "rgb(36,36,36)",
            "ticks": "outside"
           }
          },
          "colorscale": {
           "diverging": [
            [
             0,
             "rgb(103,0,31)"
            ],
            [
             0.1,
             "rgb(178,24,43)"
            ],
            [
             0.2,
             "rgb(214,96,77)"
            ],
            [
             0.3,
             "rgb(244,165,130)"
            ],
            [
             0.4,
             "rgb(253,219,199)"
            ],
            [
             0.5,
             "rgb(247,247,247)"
            ],
            [
             0.6,
             "rgb(209,229,240)"
            ],
            [
             0.7,
             "rgb(146,197,222)"
            ],
            [
             0.8,
             "rgb(67,147,195)"
            ],
            [
             0.9,
             "rgb(33,102,172)"
            ],
            [
             1,
             "rgb(5,48,97)"
            ]
           ],
           "sequential": [
            [
             0,
             "#440154"
            ],
            [
             0.1111111111111111,
             "#482878"
            ],
            [
             0.2222222222222222,
             "#3e4989"
            ],
            [
             0.3333333333333333,
             "#31688e"
            ],
            [
             0.4444444444444444,
             "#26828e"
            ],
            [
             0.5555555555555556,
             "#1f9e89"
            ],
            [
             0.6666666666666666,
             "#35b779"
            ],
            [
             0.7777777777777778,
             "#6ece58"
            ],
            [
             0.8888888888888888,
             "#b5de2b"
            ],
            [
             1,
             "#fde725"
            ]
           ],
           "sequentialminus": [
            [
             0,
             "#440154"
            ],
            [
             0.1111111111111111,
             "#482878"
            ],
            [
             0.2222222222222222,
             "#3e4989"
            ],
            [
             0.3333333333333333,
             "#31688e"
            ],
            [
             0.4444444444444444,
             "#26828e"
            ],
            [
             0.5555555555555556,
             "#1f9e89"
            ],
            [
             0.6666666666666666,
             "#35b779"
            ],
            [
             0.7777777777777778,
             "#6ece58"
            ],
            [
             0.8888888888888888,
             "#b5de2b"
            ],
            [
             1,
             "#fde725"
            ]
           ]
          },
          "colorway": [
           "#1F77B4",
           "#FF7F0E",
           "#2CA02C",
           "#D62728",
           "#9467BD",
           "#8C564B",
           "#E377C2",
           "#7F7F7F",
           "#BCBD22",
           "#17BECF"
          ],
          "font": {
           "color": "rgb(36,36,36)"
          },
          "geo": {
           "bgcolor": "white",
           "lakecolor": "white",
           "landcolor": "white",
           "showlakes": true,
           "showland": true,
           "subunitcolor": "white"
          },
          "hoverlabel": {
           "align": "left"
          },
          "hovermode": "closest",
          "mapbox": {
           "style": "light"
          },
          "paper_bgcolor": "white",
          "plot_bgcolor": "white",
          "polar": {
           "angularaxis": {
            "gridcolor": "rgb(232,232,232)",
            "linecolor": "rgb(36,36,36)",
            "showgrid": false,
            "showline": true,
            "ticks": "outside"
           },
           "bgcolor": "white",
           "radialaxis": {
            "gridcolor": "rgb(232,232,232)",
            "linecolor": "rgb(36,36,36)",
            "showgrid": false,
            "showline": true,
            "ticks": "outside"
           }
          },
          "scene": {
           "xaxis": {
            "backgroundcolor": "white",
            "gridcolor": "rgb(232,232,232)",
            "gridwidth": 2,
            "linecolor": "rgb(36,36,36)",
            "showbackground": true,
            "showgrid": false,
            "showline": true,
            "ticks": "outside",
            "zeroline": false,
            "zerolinecolor": "rgb(36,36,36)"
           },
           "yaxis": {
            "backgroundcolor": "white",
            "gridcolor": "rgb(232,232,232)",
            "gridwidth": 2,
            "linecolor": "rgb(36,36,36)",
            "showbackground": true,
            "showgrid": false,
            "showline": true,
            "ticks": "outside",
            "zeroline": false,
            "zerolinecolor": "rgb(36,36,36)"
           },
           "zaxis": {
            "backgroundcolor": "white",
            "gridcolor": "rgb(232,232,232)",
            "gridwidth": 2,
            "linecolor": "rgb(36,36,36)",
            "showbackground": true,
            "showgrid": false,
            "showline": true,
            "ticks": "outside",
            "zeroline": false,
            "zerolinecolor": "rgb(36,36,36)"
           }
          },
          "shapedefaults": {
           "fillcolor": "black",
           "line": {
            "width": 0
           },
           "opacity": 0.3
          },
          "ternary": {
           "aaxis": {
            "gridcolor": "rgb(232,232,232)",
            "linecolor": "rgb(36,36,36)",
            "showgrid": false,
            "showline": true,
            "ticks": "outside"
           },
           "baxis": {
            "gridcolor": "rgb(232,232,232)",
            "linecolor": "rgb(36,36,36)",
            "showgrid": false,
            "showline": true,
            "ticks": "outside"
           },
           "bgcolor": "white",
           "caxis": {
            "gridcolor": "rgb(232,232,232)",
            "linecolor": "rgb(36,36,36)",
            "showgrid": false,
            "showline": true,
            "ticks": "outside"
           }
          },
          "title": {
           "x": 0.05
          },
          "xaxis": {
           "automargin": true,
           "gridcolor": "rgb(232,232,232)",
           "linecolor": "rgb(36,36,36)",
           "showgrid": false,
           "showline": true,
           "ticks": "outside",
           "title": {
            "standoff": 15
           },
           "zeroline": false,
           "zerolinecolor": "rgb(36,36,36)"
          },
          "yaxis": {
           "automargin": true,
           "gridcolor": "rgb(232,232,232)",
           "linecolor": "rgb(36,36,36)",
           "showgrid": false,
           "showline": true,
           "ticks": "outside",
           "title": {
            "standoff": 15
           },
           "zeroline": false,
           "zerolinecolor": "rgb(36,36,36)"
          }
         }
        },
        "title": {
         "font": {
          "color": "Black",
          "size": 20
         },
         "text": "Intertopic Distance Map<br><sup>From 2015 | Excluding 2020, 2021</sup>",
         "x": 0.15,
         "xanchor": "center",
         "y": 0.95,
         "yanchor": "top"
        },
        "width": 1000,
        "xaxis": {
         "anchor": "y",
         "domain": [
          0,
          1
         ],
         "range": [
          -6.843193459510803,
          8.700778794288635
         ],
         "showgrid": false,
         "showline": true,
         "ticks": "outside",
         "title": {},
         "visible": false,
         "zeroline": true
        },
        "yaxis": {
         "anchor": "x",
         "domain": [
          0,
          1
         ],
         "range": [
          -9.254978847503661,
          9.295852708816529
         ],
         "showgrid": false,
         "showline": true,
         "ticks": "outside",
         "title": {},
         "visible": false,
         "zeroline": true
        }
       }
      }
     },
     "metadata": {},
     "output_type": "display_data"
    }
   ],
   "source": [
    "# ------------------------------------------------------------\n",
    "# Visualize intertopic distances\n",
    "# ------------------------------------------------------------\n",
    "\n",
    "# N.B. UMAP (Uniform Manifold Approximation and Projection)\n",
    "# used for dimensionality reduction. \n",
    "fig_2d = topic_model.visualize_topics(custom_labels=True)\n",
    "\n",
    "# Update background and grid\n",
    "fig_2d.update_layout(\n",
    "    plot_bgcolor=\"white\",\n",
    "    paper_bgcolor=\"white\",\n",
    "    font_family=\"Arial\",\n",
    "    title={\n",
    "        \"text\": f\"Intertopic Distance Map<br><sup>{model_label}</sup>\",\n",
    "        \"x\": 0.15,\n",
    "        \"font\": {\"size\": 20}\n",
    "    },\n",
    "    width=1000,\n",
    "    height=800,\n",
    "    xaxis=dict(\n",
    "        showgrid=False,\n",
    "        zeroline=True,\n",
    "        showline=True,\n",
    "        ticks=\"outside\",\n",
    "        title=None\n",
    "    ),\n",
    "    yaxis=dict(\n",
    "        showgrid=False,\n",
    "        zeroline=True,\n",
    "        showline=True,\n",
    "        ticks=\"outside\",\n",
    "        title=None\n",
    "    ),\n",
    "    legend=dict(\n",
    "        orientation=\"h\",\n",
    "        yanchor=\"bottom\",\n",
    "        y=1.02,\n",
    "        xanchor=\"center\",\n",
    "        x=0.5\n",
    "    )\n",
    ")\n",
    "fig_2d.write_html(\"../outputs/intertopic_distance_map_2D.html\")   \n",
    "\n",
    "fig_2d.show()"
   ]
  },
  {
   "cell_type": "code",
   "execution_count": 5,
   "id": "2b90ce99",
   "metadata": {},
   "outputs": [
    {
     "name": "stdout",
     "output_type": "stream",
     "text": [
      "\n",
      "Generated topic labels:\n",
      "Topic -1: NULL (OLD: -1_fuel_airlines_s_timatic)\n",
      "Topic 0: Passenger (OLD: 0_passenger_year_cargo_growth)\n",
      "Topic 1: SAF (OLD: 1_saf_emissions_carbon_corsia)\n",
      "Topic 2: Safety (OLD: 2_safety_iosa_accidents_accident)\n",
      "Topic 3: Tax (OLD: 3_tax_regulation_taxation_passenger)\n",
      "Topic 4: Cargo (OLD: 4_cargo_data_lithium_ceiv)\n",
      "Topic 5: Airport (OLD: 5_airport_charges_infrastructure_airports)\n",
      "Topic 6: Security (OLD: 6_security_information_smart security_smart)\n",
      "Topic 7: Settlement (OLD: 7_settlement_billion_processed_iss)\n",
      "Topic 8: New Distribution Capability (OLD: 8_ndc_order_travel_airline)\n",
      "Topic 9: Commercial (OLD: 9_commercial_world_contents_s)\n",
      "Topic 10: Travel (OLD: 10_travel_id_experience_passengers)\n",
      "Topic 11: Chairman (OLD: 11_chairman_president_airlines_board)\n",
      "Topic 12: Airlines (OLD: 12_airlines_airways_latam_china)\n",
      "Topic 13: Slot (OLD: 13_slot_wsg_slots_regulation)\n",
      "Topic 14: Diversity (OLD: 14_diversity_inclusion_diversity inclusion_female)\n",
      "Topic 15: Training (OLD: 15_training_itdi_strategic_partners)\n"
     ]
    }
   ],
   "source": [
    "# ------------------------------------------------------\n",
    "# Clean up labels and remove junk topics\n",
    "# ------------------------------------------------------\n",
    "\n",
    "# Retrieve the current model labels before overwriting\n",
    "old_labels = topic_model.topic_labels_\n",
    "\n",
    "# Generate new labels\n",
    "clean_labels, junk_topics = generate_clean_labels(topic_model, top_n_words=1)\n",
    "\n",
    "# Print label changes for review\n",
    "print(\"\\nGenerated topic labels:\")\n",
    "for topic_id, label in sorted(clean_labels.items()):\n",
    "    old_label = old_labels.get(topic_id)\n",
    "    print(f\"Topic {topic_id}: {label} (OLD: {old_label})\")\n",
    "\n",
    "# Apply to the model\n",
    "topic_model.set_topic_labels(clean_labels)"
   ]
  },
  {
   "cell_type": "code",
   "execution_count": 6,
   "id": "f2f9003e",
   "metadata": {},
   "outputs": [
    {
     "name": "stderr",
     "output_type": "stream",
     "text": [
      "8it [00:00,  8.26it/s]\n"
     ]
    },
    {
     "data": {
      "application/vnd.plotly.v1+json": {
       "config": {
        "plotlyServerURL": "https://plot.ly"
       },
       "data": [
        {
         "hoverinfo": "text",
         "hovertemplate": "Passenger<extra></extra>",
         "hovertext": [
          "<b>Topic 0</b><br>Words: passenger, growth, cargo, load, year",
          "<b>Topic 0</b><br>Words: passenger, year, load, freight, domestic",
          "<b>Topic 0</b><br>Words: year, passenger, domestic, load, growth",
          "<b>Topic 0</b><br>Words: year, growth, load, passenger, freight",
          "<b>Topic 0</b><br>Words: year, passenger, cargo, domestic, growth",
          "<b>Topic 0</b><br>Words: cargo, demand, pandemic, passenger, travel",
          "<b>Topic 0</b><br>Words: cargo, passenger, america, economics, rpks",
          "<b>Topic 0</b><br>Words: cargo, growth, economics, year, demand"
         ],
         "marker": {
          "color": "#E69F00"
         },
         "mode": "lines",
         "name": "Passenger",
         "type": "scatter",
         "x": [
          "2015-01-01T00:00:00.000000000",
          "2016-01-01T00:00:00.000000000",
          "2017-01-01T00:00:00.000000000",
          "2018-01-01T00:00:00.000000000",
          "2019-01-01T00:00:00.000000000",
          "2022-01-01T00:00:00.000000000",
          "2023-01-01T00:00:00.000000000",
          "2024-01-01T00:00:00.000000000"
         ],
         "y": {
          "bdata": "ExUSFBcjJB0=",
          "dtype": "i1"
         }
        },
        {
         "hoverinfo": "text",
         "hovertemplate": "SAF<extra></extra>",
         "hovertext": [
          "<b>Topic 1</b><br>Words: emissions, saf, fuel, carbon, environmental",
          "<b>Topic 1</b><br>Words: emissions, environmental, carbon, saf, s",
          "<b>Topic 1</b><br>Words: emissions, saf, corsia, carbon, s",
          "<b>Topic 1</b><br>Words: saf, emissions, corsia, carbon, environmental",
          "<b>Topic 1</b><br>Words: saf, corsia, emissions, carbon, environmental",
          "<b>Topic 1</b><br>Words: emissions, saf, carbon, zero, net zero",
          "<b>Topic 1</b><br>Words: saf, emissions, corsia, production, net zero",
          "<b>Topic 1</b><br>Words: saf, emissions, carbon, corsia, net zero"
         ],
         "marker": {
          "color": "#56B4E9"
         },
         "mode": "lines",
         "name": "SAF",
         "type": "scatter",
         "x": [
          "2015-01-01T00:00:00.000000000",
          "2016-01-01T00:00:00.000000000",
          "2017-01-01T00:00:00.000000000",
          "2018-01-01T00:00:00.000000000",
          "2019-01-01T00:00:00.000000000",
          "2022-01-01T00:00:00.000000000",
          "2023-01-01T00:00:00.000000000",
          "2024-01-01T00:00:00.000000000"
         ],
         "y": {
          "bdata": "EhIQDQ0QFyI=",
          "dtype": "i1"
         }
        },
        {
         "hoverinfo": "text",
         "hovertemplate": "Safety<extra></extra>",
         "hovertext": [
          "<b>Topic 2</b><br>Words: safety, iosa, accidents, accident, aircraft",
          "<b>Topic 2</b><br>Words: safety, accidents, iosa, accident, aircraft",
          "<b>Topic 2</b><br>Words: safety, iosa, accidents, accident, isago",
          "<b>Topic 2</b><br>Words: safety, iosa, accidents, isago, accident",
          "<b>Topic 2</b><br>Words: safety, accident, iosa, accidents, turbulence",
          "<b>Topic 2</b><br>Words: safety, million flights, flights, accident, million",
          "<b>Topic 2</b><br>Words: safety, iosa, accidents, accident, risk",
          "<b>Topic 2</b><br>Words: safety, iosa, accidents, accident, risk"
         ],
         "marker": {
          "color": "#009E73"
         },
         "mode": "lines",
         "name": "Safety",
         "type": "scatter",
         "x": [
          "2015-01-01T00:00:00.000000000",
          "2016-01-01T00:00:00.000000000",
          "2017-01-01T00:00:00.000000000",
          "2018-01-01T00:00:00.000000000",
          "2019-01-01T00:00:00.000000000",
          "2022-01-01T00:00:00.000000000",
          "2023-01-01T00:00:00.000000000",
          "2024-01-01T00:00:00.000000000"
         ],
         "y": {
          "bdata": "FR0UFxMHChI=",
          "dtype": "i1"
         }
        },
        {
         "hoverinfo": "text",
         "hovertemplate": "Tax<extra></extra>",
         "hovertext": [
          "<b>Topic 3</b><br>Words: regulation, tax, smarter, smarter regulation, principles",
          "<b>Topic 3</b><br>Words: tax, regulation, passenger, taxation, smarter",
          "<b>Topic 3</b><br>Words: tax, regulations, regulation, unruly, smarter",
          "<b>Topic 3</b><br>Words: tax, regulation, smarter, regulations, smarter regulation",
          "<b>Topic 3</b><br>Words: tax, regulation, taxation, principles, government",
          "<b>Topic 3</b><br>Words: eu, tax, unruly, mobility, taxation",
          "<b>Topic 3</b><br>Words: tax, incidents, passengers, unruly, mobility",
          "<b>Topic 3</b><br>Words: tax, taxes, passenger, regulation, approach"
         ],
         "marker": {
          "color": "#F0E442"
         },
         "mode": "lines",
         "name": "Tax",
         "type": "scatter",
         "x": [
          "2015-01-01T00:00:00.000000000",
          "2016-01-01T00:00:00.000000000",
          "2017-01-01T00:00:00.000000000",
          "2018-01-01T00:00:00.000000000",
          "2019-01-01T00:00:00.000000000",
          "2022-01-01T00:00:00.000000000",
          "2023-01-01T00:00:00.000000000",
          "2024-01-01T00:00:00.000000000"
         ],
         "y": {
          "bdata": "FA8QDg0GCw8=",
          "dtype": "i1"
         }
        },
        {
         "hoverinfo": "text",
         "hovertemplate": "Cargo<extra></extra>",
         "hovertext": [
          "<b>Topic 4</b><br>Words: cargo, freight, data, e, lithium",
          "<b>Topic 4</b><br>Words: cargo, freight, data, lithium, e",
          "<b>Topic 4</b><br>Words: cargo, data, e, freight, forwarders",
          "<b>Topic 4</b><br>Words: cargo, data, dangerous, dangerous goods, goods",
          "<b>Topic 4</b><br>Words: cargo, data, s, dangerous, dangerous goods",
          "<b>Topic 4</b><br>Words: cargo, lithium, lithium batteries, batteries, people",
          "<b>Topic 4</b><br>Words: lithium, lithium battery, battery, cargo, vehicles",
          "<b>Topic 4</b><br>Words: cargo, ceiv, lithium, batteries, lithium batteries"
         ],
         "marker": {
          "color": "#D55E00"
         },
         "mode": "lines",
         "name": "Cargo",
         "type": "scatter",
         "x": [
          "2015-01-01T00:00:00.000000000",
          "2016-01-01T00:00:00.000000000",
          "2017-01-01T00:00:00.000000000",
          "2018-01-01T00:00:00.000000000",
          "2019-01-01T00:00:00.000000000",
          "2022-01-01T00:00:00.000000000",
          "2023-01-01T00:00:00.000000000",
          "2024-01-01T00:00:00.000000000"
         ],
         "y": {
          "bdata": "FA8WEgsEBQ0=",
          "dtype": "i1"
         }
        },
        {
         "hoverinfo": "text",
         "hovertemplate": "Airport<extra></extra>",
         "hovertext": [
          "<b>Topic 5</b><br>Words: airport, charges, infrastructure, airports, cost",
          "<b>Topic 5</b><br>Words: airport, charges, infrastructure, airports, s",
          "<b>Topic 5</b><br>Words: airport, charges, infrastructure, airports, cost",
          "<b>Topic 5</b><br>Words: airport, infrastructure, charges, capacity, investment",
          "<b>Topic 5</b><br>Words: airport, infrastructure, charges, investment, capacity",
          "<b>Topic 5</b><br>Words: airports, business travel, economic regulation, travel, economic",
          "<b>Topic 5</b><br>Words: charges, airport, airports, infrastructure, ansps",
          "<b>Topic 5</b><br>Words: airport, charges, infrastructure, development, airports"
         ],
         "marker": {
          "color": "#0072B2"
         },
         "mode": "lines",
         "name": "Airport",
         "type": "scatter",
         "x": [
          "2015-01-01T00:00:00.000000000",
          "2016-01-01T00:00:00.000000000",
          "2017-01-01T00:00:00.000000000",
          "2018-01-01T00:00:00.000000000",
          "2019-01-01T00:00:00.000000000",
          "2022-01-01T00:00:00.000000000",
          "2023-01-01T00:00:00.000000000",
          "2024-01-01T00:00:00.000000000"
         ],
         "y": {
          "bdata": "EQ8ODxABCBA=",
          "dtype": "i1"
         }
        },
        {
         "hoverinfo": "text",
         "hovertemplate": "Security<extra></extra>",
         "hovertext": [
          "<b>Topic 6</b><br>Words: security, information, smart security, smart, cyber",
          "<b>Topic 6</b><br>Words: security, information, pnr, risk, smart security",
          "<b>Topic 6</b><br>Words: security, smart security, smart, information, risk",
          "<b>Topic 6</b><br>Words: security, smart security, smart, measures, risk",
          "<b>Topic 6</b><br>Words: security, information, gasep, threats, governments",
          "<b>Topic 6</b><br>Words: security, civil, information, airspace, attacks",
          "<b>Topic 6</b><br>Words: security, risk, measures, screening, information",
          "<b>Topic 6</b><br>Words: security, information, cybersecurity, risk, sems"
         ],
         "marker": {
          "color": "#CC79A7"
         },
         "mode": "lines",
         "name": "Security",
         "type": "scatter",
         "x": [
          "2015-01-01T00:00:00.000000000",
          "2016-01-01T00:00:00.000000000",
          "2017-01-01T00:00:00.000000000",
          "2018-01-01T00:00:00.000000000",
          "2019-01-01T00:00:00.000000000",
          "2022-01-01T00:00:00.000000000",
          "2023-01-01T00:00:00.000000000",
          "2024-01-01T00:00:00.000000000"
         ],
         "y": {
          "bdata": "DhARDwgDDA0=",
          "dtype": "i1"
         }
        },
        {
         "hoverinfo": "text",
         "hovertemplate": "Settlement<extra></extra>",
         "hovertext": [
          "<b>Topic 7</b><br>Words: settlement, iss, billion, bsp, cass",
          "<b>Topic 7</b><br>Words: settlement, billion, iss, bsp, financial",
          "<b>Topic 7</b><br>Words: settlement, iss, billion, processed, bsp",
          "<b>Topic 7</b><br>Words: settlement, billion, iss, processed, bsp",
          "<b>Topic 7</b><br>Words: settlement, agents, bsp, billion, processed",
          "<b>Topic 7</b><br>Words: billion, processed, processed billion, settlement, financial",
          "<b>Topic 7</b><br>Words: billion, settlement, processed, processed billion, financial",
          "<b>Topic 7</b><br>Words: settlement, billion, processed, cass, bsp"
         ],
         "marker": {
          "color": "#E69F00"
         },
         "mode": "lines",
         "name": "Settlement",
         "type": "scatter",
         "x": [
          "2015-01-01T00:00:00.000000000",
          "2016-01-01T00:00:00.000000000",
          "2017-01-01T00:00:00.000000000",
          "2018-01-01T00:00:00.000000000",
          "2019-01-01T00:00:00.000000000",
          "2022-01-01T00:00:00.000000000",
          "2023-01-01T00:00:00.000000000",
          "2024-01-01T00:00:00.000000000"
         ],
         "y": {
          "bdata": "CAcMCQoGBgY=",
          "dtype": "i1"
         }
        },
        {
         "hoverinfo": "text",
         "hovertemplate": "New Distribution Capability<extra></extra>",
         "hovertext": [
          "<b>Topic 8</b><br>Words: ndc, travel, airline, distribution, order",
          "<b>Topic 8</b><br>Words: ndc, travel, order, agents, standard",
          "<b>Topic 8</b><br>Words: ndc, order, travel, standard, distribution",
          "<b>Topic 8</b><br>Words: ndc, order, travel, airline, airlines",
          "<b>Topic 8</b><br>Words: ndc, order, travel, airline, distribution",
          "<b>Topic 8</b><br>Words: retailing, airline retailing, airline, ndc, order",
          "<b>Topic 8</b><br>Words: ndc, order, retailing, airline, offers",
          "<b>Topic 8</b><br>Words: retailing, ndc, travel, offers, orders"
         ],
         "marker": {
          "color": "#56B4E9"
         },
         "mode": "lines",
         "name": "New Distribution Capability",
         "type": "scatter",
         "x": [
          "2015-01-01T00:00:00.000000000",
          "2016-01-01T00:00:00.000000000",
          "2017-01-01T00:00:00.000000000",
          "2018-01-01T00:00:00.000000000",
          "2019-01-01T00:00:00.000000000",
          "2022-01-01T00:00:00.000000000",
          "2023-01-01T00:00:00.000000000",
          "2024-01-01T00:00:00.000000000"
         ],
         "y": {
          "bdata": "CQcHCAUFCQo=",
          "dtype": "i1"
         }
        },
        {
         "hoverinfo": "text",
         "hovertemplate": "Commercial<extra></extra>",
         "hovertext": [
          "<b>Topic 9</b><br>Words: commercial, world, years, s, years commercial",
          "<b>Topic 9</b><br>Words: anniversary, fl, s, people, social",
          "<b>Topic 9</b><br>Words: contents, offices contents, s message, message, offices",
          "<b>Topic 9</b><br>Words: contents, offices contents, s message, globalization, message",
          "<b>Topic 9</b><br>Words: contents, borders, travel, benefits, environment",
          "<b>Topic 9</b><br>Words: contents, airline retailing, retailing, data www, walsh robin",
          "<b>Topic 9</b><br>Words: contents, governors, board governors, board, members",
          "<b>Topic 9</b><br>Words: continent, africa, contents, contribution, world"
         ],
         "marker": {
          "color": "#009E73"
         },
         "mode": "lines",
         "name": "Commercial",
         "type": "scatter",
         "x": [
          "2015-01-01T00:00:00.000000000",
          "2016-01-01T00:00:00.000000000",
          "2017-01-01T00:00:00.000000000",
          "2018-01-01T00:00:00.000000000",
          "2019-01-01T00:00:00.000000000",
          "2022-01-01T00:00:00.000000000",
          "2023-01-01T00:00:00.000000000",
          "2024-01-01T00:00:00.000000000"
         ],
         "y": {
          "bdata": "FwcCAgUCAQI=",
          "dtype": "i1"
         }
        }
       ],
       "layout": {
        "font": {
         "family": "Arial",
         "size": 12
        },
        "height": 600,
        "hoverlabel": {
         "bgcolor": "white",
         "font": {
          "family": "Rockwell",
          "size": 16
         }
        },
        "legend": {
         "orientation": "h",
         "title": {
          "text": "Topics"
         },
         "x": 0.5,
         "xanchor": "center",
         "y": -0.6,
         "yanchor": "bottom"
        },
        "template": {
         "data": {
          "bar": [
           {
            "error_x": {
             "color": "rgb(36,36,36)"
            },
            "error_y": {
             "color": "rgb(36,36,36)"
            },
            "marker": {
             "line": {
              "color": "white",
              "width": 0.5
             },
             "pattern": {
              "fillmode": "overlay",
              "size": 10,
              "solidity": 0.2
             }
            },
            "type": "bar"
           }
          ],
          "barpolar": [
           {
            "marker": {
             "line": {
              "color": "white",
              "width": 0.5
             },
             "pattern": {
              "fillmode": "overlay",
              "size": 10,
              "solidity": 0.2
             }
            },
            "type": "barpolar"
           }
          ],
          "carpet": [
           {
            "aaxis": {
             "endlinecolor": "rgb(36,36,36)",
             "gridcolor": "white",
             "linecolor": "white",
             "minorgridcolor": "white",
             "startlinecolor": "rgb(36,36,36)"
            },
            "baxis": {
             "endlinecolor": "rgb(36,36,36)",
             "gridcolor": "white",
             "linecolor": "white",
             "minorgridcolor": "white",
             "startlinecolor": "rgb(36,36,36)"
            },
            "type": "carpet"
           }
          ],
          "choropleth": [
           {
            "colorbar": {
             "outlinewidth": 1,
             "tickcolor": "rgb(36,36,36)",
             "ticks": "outside"
            },
            "type": "choropleth"
           }
          ],
          "contour": [
           {
            "colorbar": {
             "outlinewidth": 1,
             "tickcolor": "rgb(36,36,36)",
             "ticks": "outside"
            },
            "colorscale": [
             [
              0,
              "#440154"
             ],
             [
              0.1111111111111111,
              "#482878"
             ],
             [
              0.2222222222222222,
              "#3e4989"
             ],
             [
              0.3333333333333333,
              "#31688e"
             ],
             [
              0.4444444444444444,
              "#26828e"
             ],
             [
              0.5555555555555556,
              "#1f9e89"
             ],
             [
              0.6666666666666666,
              "#35b779"
             ],
             [
              0.7777777777777778,
              "#6ece58"
             ],
             [
              0.8888888888888888,
              "#b5de2b"
             ],
             [
              1,
              "#fde725"
             ]
            ],
            "type": "contour"
           }
          ],
          "contourcarpet": [
           {
            "colorbar": {
             "outlinewidth": 1,
             "tickcolor": "rgb(36,36,36)",
             "ticks": "outside"
            },
            "type": "contourcarpet"
           }
          ],
          "heatmap": [
           {
            "colorbar": {
             "outlinewidth": 1,
             "tickcolor": "rgb(36,36,36)",
             "ticks": "outside"
            },
            "colorscale": [
             [
              0,
              "#440154"
             ],
             [
              0.1111111111111111,
              "#482878"
             ],
             [
              0.2222222222222222,
              "#3e4989"
             ],
             [
              0.3333333333333333,
              "#31688e"
             ],
             [
              0.4444444444444444,
              "#26828e"
             ],
             [
              0.5555555555555556,
              "#1f9e89"
             ],
             [
              0.6666666666666666,
              "#35b779"
             ],
             [
              0.7777777777777778,
              "#6ece58"
             ],
             [
              0.8888888888888888,
              "#b5de2b"
             ],
             [
              1,
              "#fde725"
             ]
            ],
            "type": "heatmap"
           }
          ],
          "histogram": [
           {
            "marker": {
             "line": {
              "color": "white",
              "width": 0.6
             }
            },
            "type": "histogram"
           }
          ],
          "histogram2d": [
           {
            "colorbar": {
             "outlinewidth": 1,
             "tickcolor": "rgb(36,36,36)",
             "ticks": "outside"
            },
            "colorscale": [
             [
              0,
              "#440154"
             ],
             [
              0.1111111111111111,
              "#482878"
             ],
             [
              0.2222222222222222,
              "#3e4989"
             ],
             [
              0.3333333333333333,
              "#31688e"
             ],
             [
              0.4444444444444444,
              "#26828e"
             ],
             [
              0.5555555555555556,
              "#1f9e89"
             ],
             [
              0.6666666666666666,
              "#35b779"
             ],
             [
              0.7777777777777778,
              "#6ece58"
             ],
             [
              0.8888888888888888,
              "#b5de2b"
             ],
             [
              1,
              "#fde725"
             ]
            ],
            "type": "histogram2d"
           }
          ],
          "histogram2dcontour": [
           {
            "colorbar": {
             "outlinewidth": 1,
             "tickcolor": "rgb(36,36,36)",
             "ticks": "outside"
            },
            "colorscale": [
             [
              0,
              "#440154"
             ],
             [
              0.1111111111111111,
              "#482878"
             ],
             [
              0.2222222222222222,
              "#3e4989"
             ],
             [
              0.3333333333333333,
              "#31688e"
             ],
             [
              0.4444444444444444,
              "#26828e"
             ],
             [
              0.5555555555555556,
              "#1f9e89"
             ],
             [
              0.6666666666666666,
              "#35b779"
             ],
             [
              0.7777777777777778,
              "#6ece58"
             ],
             [
              0.8888888888888888,
              "#b5de2b"
             ],
             [
              1,
              "#fde725"
             ]
            ],
            "type": "histogram2dcontour"
           }
          ],
          "mesh3d": [
           {
            "colorbar": {
             "outlinewidth": 1,
             "tickcolor": "rgb(36,36,36)",
             "ticks": "outside"
            },
            "type": "mesh3d"
           }
          ],
          "parcoords": [
           {
            "line": {
             "colorbar": {
              "outlinewidth": 1,
              "tickcolor": "rgb(36,36,36)",
              "ticks": "outside"
             }
            },
            "type": "parcoords"
           }
          ],
          "pie": [
           {
            "automargin": true,
            "type": "pie"
           }
          ],
          "scatter": [
           {
            "fillpattern": {
             "fillmode": "overlay",
             "size": 10,
             "solidity": 0.2
            },
            "type": "scatter"
           }
          ],
          "scatter3d": [
           {
            "line": {
             "colorbar": {
              "outlinewidth": 1,
              "tickcolor": "rgb(36,36,36)",
              "ticks": "outside"
             }
            },
            "marker": {
             "colorbar": {
              "outlinewidth": 1,
              "tickcolor": "rgb(36,36,36)",
              "ticks": "outside"
             }
            },
            "type": "scatter3d"
           }
          ],
          "scattercarpet": [
           {
            "marker": {
             "colorbar": {
              "outlinewidth": 1,
              "tickcolor": "rgb(36,36,36)",
              "ticks": "outside"
             }
            },
            "type": "scattercarpet"
           }
          ],
          "scattergeo": [
           {
            "marker": {
             "colorbar": {
              "outlinewidth": 1,
              "tickcolor": "rgb(36,36,36)",
              "ticks": "outside"
             }
            },
            "type": "scattergeo"
           }
          ],
          "scattergl": [
           {
            "marker": {
             "colorbar": {
              "outlinewidth": 1,
              "tickcolor": "rgb(36,36,36)",
              "ticks": "outside"
             }
            },
            "type": "scattergl"
           }
          ],
          "scattermap": [
           {
            "marker": {
             "colorbar": {
              "outlinewidth": 1,
              "tickcolor": "rgb(36,36,36)",
              "ticks": "outside"
             }
            },
            "type": "scattermap"
           }
          ],
          "scattermapbox": [
           {
            "marker": {
             "colorbar": {
              "outlinewidth": 1,
              "tickcolor": "rgb(36,36,36)",
              "ticks": "outside"
             }
            },
            "type": "scattermapbox"
           }
          ],
          "scatterpolar": [
           {
            "marker": {
             "colorbar": {
              "outlinewidth": 1,
              "tickcolor": "rgb(36,36,36)",
              "ticks": "outside"
             }
            },
            "type": "scatterpolar"
           }
          ],
          "scatterpolargl": [
           {
            "marker": {
             "colorbar": {
              "outlinewidth": 1,
              "tickcolor": "rgb(36,36,36)",
              "ticks": "outside"
             }
            },
            "type": "scatterpolargl"
           }
          ],
          "scatterternary": [
           {
            "marker": {
             "colorbar": {
              "outlinewidth": 1,
              "tickcolor": "rgb(36,36,36)",
              "ticks": "outside"
             }
            },
            "type": "scatterternary"
           }
          ],
          "surface": [
           {
            "colorbar": {
             "outlinewidth": 1,
             "tickcolor": "rgb(36,36,36)",
             "ticks": "outside"
            },
            "colorscale": [
             [
              0,
              "#440154"
             ],
             [
              0.1111111111111111,
              "#482878"
             ],
             [
              0.2222222222222222,
              "#3e4989"
             ],
             [
              0.3333333333333333,
              "#31688e"
             ],
             [
              0.4444444444444444,
              "#26828e"
             ],
             [
              0.5555555555555556,
              "#1f9e89"
             ],
             [
              0.6666666666666666,
              "#35b779"
             ],
             [
              0.7777777777777778,
              "#6ece58"
             ],
             [
              0.8888888888888888,
              "#b5de2b"
             ],
             [
              1,
              "#fde725"
             ]
            ],
            "type": "surface"
           }
          ],
          "table": [
           {
            "cells": {
             "fill": {
              "color": "rgb(237,237,237)"
             },
             "line": {
              "color": "white"
             }
            },
            "header": {
             "fill": {
              "color": "rgb(217,217,217)"
             },
             "line": {
              "color": "white"
             }
            },
            "type": "table"
           }
          ]
         },
         "layout": {
          "annotationdefaults": {
           "arrowhead": 0,
           "arrowwidth": 1
          },
          "autotypenumbers": "strict",
          "coloraxis": {
           "colorbar": {
            "outlinewidth": 1,
            "tickcolor": "rgb(36,36,36)",
            "ticks": "outside"
           }
          },
          "colorscale": {
           "diverging": [
            [
             0,
             "rgb(103,0,31)"
            ],
            [
             0.1,
             "rgb(178,24,43)"
            ],
            [
             0.2,
             "rgb(214,96,77)"
            ],
            [
             0.3,
             "rgb(244,165,130)"
            ],
            [
             0.4,
             "rgb(253,219,199)"
            ],
            [
             0.5,
             "rgb(247,247,247)"
            ],
            [
             0.6,
             "rgb(209,229,240)"
            ],
            [
             0.7,
             "rgb(146,197,222)"
            ],
            [
             0.8,
             "rgb(67,147,195)"
            ],
            [
             0.9,
             "rgb(33,102,172)"
            ],
            [
             1,
             "rgb(5,48,97)"
            ]
           ],
           "sequential": [
            [
             0,
             "#440154"
            ],
            [
             0.1111111111111111,
             "#482878"
            ],
            [
             0.2222222222222222,
             "#3e4989"
            ],
            [
             0.3333333333333333,
             "#31688e"
            ],
            [
             0.4444444444444444,
             "#26828e"
            ],
            [
             0.5555555555555556,
             "#1f9e89"
            ],
            [
             0.6666666666666666,
             "#35b779"
            ],
            [
             0.7777777777777778,
             "#6ece58"
            ],
            [
             0.8888888888888888,
             "#b5de2b"
            ],
            [
             1,
             "#fde725"
            ]
           ],
           "sequentialminus": [
            [
             0,
             "#440154"
            ],
            [
             0.1111111111111111,
             "#482878"
            ],
            [
             0.2222222222222222,
             "#3e4989"
            ],
            [
             0.3333333333333333,
             "#31688e"
            ],
            [
             0.4444444444444444,
             "#26828e"
            ],
            [
             0.5555555555555556,
             "#1f9e89"
            ],
            [
             0.6666666666666666,
             "#35b779"
            ],
            [
             0.7777777777777778,
             "#6ece58"
            ],
            [
             0.8888888888888888,
             "#b5de2b"
            ],
            [
             1,
             "#fde725"
            ]
           ]
          },
          "colorway": [
           "#1F77B4",
           "#FF7F0E",
           "#2CA02C",
           "#D62728",
           "#9467BD",
           "#8C564B",
           "#E377C2",
           "#7F7F7F",
           "#BCBD22",
           "#17BECF"
          ],
          "font": {
           "color": "rgb(36,36,36)"
          },
          "geo": {
           "bgcolor": "white",
           "lakecolor": "white",
           "landcolor": "white",
           "showlakes": true,
           "showland": true,
           "subunitcolor": "white"
          },
          "hoverlabel": {
           "align": "left"
          },
          "hovermode": "closest",
          "mapbox": {
           "style": "light"
          },
          "paper_bgcolor": "white",
          "plot_bgcolor": "white",
          "polar": {
           "angularaxis": {
            "gridcolor": "rgb(232,232,232)",
            "linecolor": "rgb(36,36,36)",
            "showgrid": false,
            "showline": true,
            "ticks": "outside"
           },
           "bgcolor": "white",
           "radialaxis": {
            "gridcolor": "rgb(232,232,232)",
            "linecolor": "rgb(36,36,36)",
            "showgrid": false,
            "showline": true,
            "ticks": "outside"
           }
          },
          "scene": {
           "xaxis": {
            "backgroundcolor": "white",
            "gridcolor": "rgb(232,232,232)",
            "gridwidth": 2,
            "linecolor": "rgb(36,36,36)",
            "showbackground": true,
            "showgrid": false,
            "showline": true,
            "ticks": "outside",
            "zeroline": false,
            "zerolinecolor": "rgb(36,36,36)"
           },
           "yaxis": {
            "backgroundcolor": "white",
            "gridcolor": "rgb(232,232,232)",
            "gridwidth": 2,
            "linecolor": "rgb(36,36,36)",
            "showbackground": true,
            "showgrid": false,
            "showline": true,
            "ticks": "outside",
            "zeroline": false,
            "zerolinecolor": "rgb(36,36,36)"
           },
           "zaxis": {
            "backgroundcolor": "white",
            "gridcolor": "rgb(232,232,232)",
            "gridwidth": 2,
            "linecolor": "rgb(36,36,36)",
            "showbackground": true,
            "showgrid": false,
            "showline": true,
            "ticks": "outside",
            "zeroline": false,
            "zerolinecolor": "rgb(36,36,36)"
           }
          },
          "shapedefaults": {
           "fillcolor": "black",
           "line": {
            "width": 0
           },
           "opacity": 0.3
          },
          "ternary": {
           "aaxis": {
            "gridcolor": "rgb(232,232,232)",
            "linecolor": "rgb(36,36,36)",
            "showgrid": false,
            "showline": true,
            "ticks": "outside"
           },
           "baxis": {
            "gridcolor": "rgb(232,232,232)",
            "linecolor": "rgb(36,36,36)",
            "showgrid": false,
            "showline": true,
            "ticks": "outside"
           },
           "bgcolor": "white",
           "caxis": {
            "gridcolor": "rgb(232,232,232)",
            "linecolor": "rgb(36,36,36)",
            "showgrid": false,
            "showline": true,
            "ticks": "outside"
           }
          },
          "title": {
           "x": 0.05
          },
          "xaxis": {
           "automargin": true,
           "gridcolor": "rgb(232,232,232)",
           "linecolor": "rgb(36,36,36)",
           "showgrid": false,
           "showline": true,
           "ticks": "outside",
           "title": {
            "standoff": 15
           },
           "zeroline": false,
           "zerolinecolor": "rgb(36,36,36)"
          },
          "yaxis": {
           "automargin": true,
           "gridcolor": "rgb(232,232,232)",
           "linecolor": "rgb(36,36,36)",
           "showgrid": false,
           "showline": true,
           "ticks": "outside",
           "title": {
            "standoff": 15
           },
           "zeroline": false,
           "zerolinecolor": "rgb(36,36,36)"
          }
         }
        },
        "title": {
         "text": "Topic Trends Over Time<br><sup>From 2015 | Excluding 2020, 2021</sup>"
        },
        "width": 1200,
        "xaxis": {
         "showgrid": true,
         "title": {
          "text": "Year"
         }
        },
        "yaxis": {
         "showgrid": true,
         "title": {
          "text": "Topic Frequency (% of Annual Report)"
         }
        }
       }
      }
     },
     "metadata": {},
     "output_type": "display_data"
    }
   ],
   "source": [
    "# ------------------------------------------------------------\n",
    "# Generate topic time series and visualize trends\n",
    "# ------------------------------------------------------------\n",
    "\n",
    "timestamps = pd.to_datetime(timestamps, format=\"%Y\")\n",
    "topics_over_time = topic_model.topics_over_time(texts, timestamps, topic_model.topics_)\n",
    "\n",
    "# Save time series data and topic labels for the RAG assistant to use later\n",
    "topics_over_time.to_csv(\"../outputs/topics_over_time.csv\", index=False)\n",
    "with open(\"../outputs/topic_labels.json\", \"w\") as f:\n",
    "    json.dump(clean_labels, f, indent=2)\n",
    "\n",
    "# Filter out junk and noise topics from list and count rate\n",
    "topic_freq = topic_model.get_topic_freq()\n",
    "valid_topic_freq = topic_freq[\n",
    "    (~topic_freq[\"Topic\"].isin(junk_topics)) &\n",
    "    (topic_freq[\"Topic\"] != -1)\n",
    "]\n",
    "\n",
    "# Select top 10 most frequent clean topics\n",
    "top_topics = valid_topic_freq.head(10)[\"Topic\"].tolist()\n",
    "\n",
    "# Make plot of topic frequency by year\n",
    "# y-axis = % of all text chunks assigned to this topic in a given year\n",
    "fig = topic_model.visualize_topics_over_time(topics_over_time, topics=top_topics)\n",
    "\n",
    "# Apply custom colors and labels\n",
    "for i, trace in enumerate(fig.data):\n",
    "    topic_id = top_topics[i]\n",
    "    #trace.line.color = iata_palette[i % len(iata_palette)]\n",
    "    trace.name = clean_labels[topic_id]\n",
    "    hover_text = trace.hovertemplate or \"\"\n",
    "    trace.hovertemplate = f\"{clean_labels[topic_id]}<extra></extra>\"\n",
    "\n",
    "# Clean up the figure layout\n",
    "fig.update_layout(\n",
    "    title=f\"Topic Trends Over Time<br><sup>{model_label}</sup>\",\n",
    "    width=1200,\n",
    "    height=600,\n",
    "    xaxis_title=\"Year\",\n",
    "    yaxis_title=\"Topic Frequency (% of Annual Report)\",\n",
    "    legend_title=\"Topics\",\n",
    "    font=dict(family=\"Arial\", size=12),\n",
    "    legend=dict(\n",
    "        orientation=\"h\",\n",
    "        yanchor=\"bottom\",\n",
    "        y=-0.6,\n",
    "        xanchor=\"center\",\n",
    "        x=0.5\n",
    "    )\n",
    ")\n",
    "\n",
    "output_filename = f\"../outputs/topic_trends_{model_name}\"\n",
    "fig.write_html(f\"{output_filename}.html\")\n",
    "fig.write_image(f\"{output_filename}.png\")\n",
    "\n",
    "fig.show()"
   ]
  },
  {
   "cell_type": "code",
   "execution_count": 7,
   "id": "16b23e44",
   "metadata": {},
   "outputs": [
    {
     "name": "stdout",
     "output_type": "stream",
     "text": [
      "Filtering (if any): From 2015 | Excluding 2020, 2021\n",
      "Model Name: bertopic_cluster_model_from_2015_excl_2020_2021_20250426\n",
      "\n",
      "=== Matched Business Opportunities ===\n",
      "\n"
     ]
    },
    {
     "data": {
      "text/html": [
       "<div>\n",
       "<style scoped>\n",
       "    .dataframe tbody tr th:only-of-type {\n",
       "        vertical-align: middle;\n",
       "    }\n",
       "\n",
       "    .dataframe tbody tr th {\n",
       "        vertical-align: top;\n",
       "    }\n",
       "\n",
       "    .dataframe thead th {\n",
       "        text-align: right;\n",
       "    }\n",
       "</style>\n",
       "<table border=\"1\" class=\"dataframe\">\n",
       "  <thead>\n",
       "    <tr style=\"text-align: right;\">\n",
       "      <th></th>\n",
       "      <th>Trend</th>\n",
       "      <th>Detected Label</th>\n",
       "      <th>Implication</th>\n",
       "      <th>Opportunity</th>\n",
       "      <th>Priority (Recommended)</th>\n",
       "      <th>Keyword Fraction (%)</th>\n",
       "      <th>Topic Growth</th>\n",
       "    </tr>\n",
       "  </thead>\n",
       "  <tbody>\n",
       "    <tr>\n",
       "      <th>0</th>\n",
       "      <td>Growth</td>\n",
       "      <td>0_passenger_year_cargo_growth</td>\n",
       "      <td>Strong recovery in air travel post-pandemic</td>\n",
       "      <td>Expand network capacity and optimize route pla...</td>\n",
       "      <td>High</td>\n",
       "      <td>15.76</td>\n",
       "      <td>10</td>\n",
       "    </tr>\n",
       "    <tr>\n",
       "      <th>1</th>\n",
       "      <td>Emissions</td>\n",
       "      <td>1_saf_emissions_carbon_corsia</td>\n",
       "      <td>Increasing pressure for environmental responsi...</td>\n",
       "      <td>Adopt Sustainable Aviation Fuels (SAF) and car...</td>\n",
       "      <td>High</td>\n",
       "      <td>11.84</td>\n",
       "      <td>16</td>\n",
       "    </tr>\n",
       "    <tr>\n",
       "      <th>2</th>\n",
       "      <td>Safety</td>\n",
       "      <td>2_safety_iosa_accidents_accident</td>\n",
       "      <td>Continued industry focus on safety standards</td>\n",
       "      <td>Invest in IOSA certification and safety audits</td>\n",
       "      <td>Medium</td>\n",
       "      <td>11.53</td>\n",
       "      <td>-3</td>\n",
       "    </tr>\n",
       "    <tr>\n",
       "      <th>3</th>\n",
       "      <td>Regulation</td>\n",
       "      <td>3_tax_regulation_taxation_passenger</td>\n",
       "      <td>Tighter regulatory environment for passenger r...</td>\n",
       "      <td>Implement compliance monitoring and customer c...</td>\n",
       "      <td>Medium</td>\n",
       "      <td>8.63</td>\n",
       "      <td>-5</td>\n",
       "    </tr>\n",
       "    <tr>\n",
       "      <th>4</th>\n",
       "      <td>Cargo</td>\n",
       "      <td>4_cargo_data_lithium_ceiv</td>\n",
       "      <td>Continued strength in air cargo and freight de...</td>\n",
       "      <td>Expand cargo services and invest in logistics ...</td>\n",
       "      <td>Medium</td>\n",
       "      <td>8.47</td>\n",
       "      <td>-7</td>\n",
       "    </tr>\n",
       "    <tr>\n",
       "      <th>5</th>\n",
       "      <td>Airport</td>\n",
       "      <td>5_airport_charges_infrastructure_airports</td>\n",
       "      <td>Growing airport-related fees and costs</td>\n",
       "      <td>Negotiate airport charges and improve operatio...</td>\n",
       "      <td>Medium</td>\n",
       "      <td>8.00</td>\n",
       "      <td>-1</td>\n",
       "    </tr>\n",
       "    <tr>\n",
       "      <th>6</th>\n",
       "      <td>Security</td>\n",
       "      <td>6_security_information_smart security_smart</td>\n",
       "      <td>Passenger data security and travel security co...</td>\n",
       "      <td>Enhance digital identity management and passen...</td>\n",
       "      <td>Medium</td>\n",
       "      <td>7.69</td>\n",
       "      <td>-1</td>\n",
       "    </tr>\n",
       "    <tr>\n",
       "      <th>7</th>\n",
       "      <td>Settlement</td>\n",
       "      <td>7_settlement_billion_processed_iss</td>\n",
       "      <td>Changes in financial settlement systems (BSP, ...</td>\n",
       "      <td>Optimize settlement systems and implement fast...</td>\n",
       "      <td>Medium</td>\n",
       "      <td>5.02</td>\n",
       "      <td>-2</td>\n",
       "    </tr>\n",
       "    <tr>\n",
       "      <th>8</th>\n",
       "      <td>ID</td>\n",
       "      <td>10_travel_id_experience_passengers</td>\n",
       "      <td>Move towards digital identity and seamless travel</td>\n",
       "      <td>Implement biometric and digital ID solutions</td>\n",
       "      <td>Medium</td>\n",
       "      <td>3.22</td>\n",
       "      <td>7</td>\n",
       "    </tr>\n",
       "    <tr>\n",
       "      <th>9</th>\n",
       "      <td>Regulation</td>\n",
       "      <td>13_slot_wsg_slots_regulation</td>\n",
       "      <td>Tighter regulatory environment for passenger r...</td>\n",
       "      <td>Implement compliance monitoring and customer c...</td>\n",
       "      <td>Medium</td>\n",
       "      <td>2.27</td>\n",
       "      <td>2</td>\n",
       "    </tr>\n",
       "    <tr>\n",
       "      <th>10</th>\n",
       "      <td>Diversity</td>\n",
       "      <td>14_diversity_inclusion_diversity inclusion_female</td>\n",
       "      <td>Industry-wide DEI (Diversity, Equity, Inclusio...</td>\n",
       "      <td>Strengthen diversity and inclusion initiatives</td>\n",
       "      <td>Medium</td>\n",
       "      <td>2.27</td>\n",
       "      <td>10</td>\n",
       "    </tr>\n",
       "    <tr>\n",
       "      <th>11</th>\n",
       "      <td>Commercial</td>\n",
       "      <td>9_commercial_world_contents_s</td>\n",
       "      <td>Need for revenue diversification</td>\n",
       "      <td>Develop new commercial partnerships and ancill...</td>\n",
       "      <td>Low</td>\n",
       "      <td>3.45</td>\n",
       "      <td>-21</td>\n",
       "    </tr>\n",
       "    <tr>\n",
       "      <th>12</th>\n",
       "      <td>Board</td>\n",
       "      <td>11_chairman_president_airlines_board</td>\n",
       "      <td>Board representation and governance changes</td>\n",
       "      <td>Strengthen board leadership and stakeholder en...</td>\n",
       "      <td>Low</td>\n",
       "      <td>3.06</td>\n",
       "      <td>-2</td>\n",
       "    </tr>\n",
       "    <tr>\n",
       "      <th>13</th>\n",
       "      <td>China</td>\n",
       "      <td>12_airlines_airways_latam_china</td>\n",
       "      <td>Strategic importance of Chinese and Asia-Pacif...</td>\n",
       "      <td>Develop partnerships and routes in China and A...</td>\n",
       "      <td>Low</td>\n",
       "      <td>2.35</td>\n",
       "      <td>-3</td>\n",
       "    </tr>\n",
       "    <tr>\n",
       "      <th>14</th>\n",
       "      <td>Training</td>\n",
       "      <td>15_training_itdi_strategic_partners</td>\n",
       "      <td>Ongoing need for aviation training and upskilling</td>\n",
       "      <td>Expand training programs and digital learning ...</td>\n",
       "      <td>Low</td>\n",
       "      <td>1.73</td>\n",
       "      <td>-5</td>\n",
       "    </tr>\n",
       "  </tbody>\n",
       "</table>\n",
       "</div>"
      ],
      "text/plain": [
       "         Trend                                     Detected Label  \\\n",
       "0       Growth                      0_passenger_year_cargo_growth   \n",
       "1    Emissions                      1_saf_emissions_carbon_corsia   \n",
       "2       Safety                   2_safety_iosa_accidents_accident   \n",
       "3   Regulation                3_tax_regulation_taxation_passenger   \n",
       "4        Cargo                          4_cargo_data_lithium_ceiv   \n",
       "5      Airport          5_airport_charges_infrastructure_airports   \n",
       "6     Security        6_security_information_smart security_smart   \n",
       "7   Settlement                 7_settlement_billion_processed_iss   \n",
       "8           ID                 10_travel_id_experience_passengers   \n",
       "9   Regulation                       13_slot_wsg_slots_regulation   \n",
       "10   Diversity  14_diversity_inclusion_diversity inclusion_female   \n",
       "11  Commercial                      9_commercial_world_contents_s   \n",
       "12       Board               11_chairman_president_airlines_board   \n",
       "13       China                    12_airlines_airways_latam_china   \n",
       "14    Training                15_training_itdi_strategic_partners   \n",
       "\n",
       "                                          Implication  \\\n",
       "0         Strong recovery in air travel post-pandemic   \n",
       "1   Increasing pressure for environmental responsi...   \n",
       "2        Continued industry focus on safety standards   \n",
       "3   Tighter regulatory environment for passenger r...   \n",
       "4   Continued strength in air cargo and freight de...   \n",
       "5              Growing airport-related fees and costs   \n",
       "6   Passenger data security and travel security co...   \n",
       "7   Changes in financial settlement systems (BSP, ...   \n",
       "8   Move towards digital identity and seamless travel   \n",
       "9   Tighter regulatory environment for passenger r...   \n",
       "10  Industry-wide DEI (Diversity, Equity, Inclusio...   \n",
       "11                   Need for revenue diversification   \n",
       "12        Board representation and governance changes   \n",
       "13  Strategic importance of Chinese and Asia-Pacif...   \n",
       "14  Ongoing need for aviation training and upskilling   \n",
       "\n",
       "                                          Opportunity Priority (Recommended)  \\\n",
       "0   Expand network capacity and optimize route pla...                   High   \n",
       "1   Adopt Sustainable Aviation Fuels (SAF) and car...                   High   \n",
       "2      Invest in IOSA certification and safety audits                 Medium   \n",
       "3   Implement compliance monitoring and customer c...                 Medium   \n",
       "4   Expand cargo services and invest in logistics ...                 Medium   \n",
       "5   Negotiate airport charges and improve operatio...                 Medium   \n",
       "6   Enhance digital identity management and passen...                 Medium   \n",
       "7   Optimize settlement systems and implement fast...                 Medium   \n",
       "8        Implement biometric and digital ID solutions                 Medium   \n",
       "9   Implement compliance monitoring and customer c...                 Medium   \n",
       "10     Strengthen diversity and inclusion initiatives                 Medium   \n",
       "11  Develop new commercial partnerships and ancill...                    Low   \n",
       "12  Strengthen board leadership and stakeholder en...                    Low   \n",
       "13  Develop partnerships and routes in China and A...                    Low   \n",
       "14  Expand training programs and digital learning ...                    Low   \n",
       "\n",
       "    Keyword Fraction (%)  Topic Growth  \n",
       "0                  15.76            10  \n",
       "1                  11.84            16  \n",
       "2                  11.53            -3  \n",
       "3                   8.63            -5  \n",
       "4                   8.47            -7  \n",
       "5                   8.00            -1  \n",
       "6                   7.69            -1  \n",
       "7                   5.02            -2  \n",
       "8                   3.22             7  \n",
       "9                   2.27             2  \n",
       "10                  2.27            10  \n",
       "11                  3.45           -21  \n",
       "12                  3.06            -2  \n",
       "13                  2.35            -3  \n",
       "14                  1.73            -5  "
      ]
     },
     "metadata": {},
     "output_type": "display_data"
    },
    {
     "name": "stdout",
     "output_type": "stream",
     "text": [
      "\n",
      "Saved opportunity table to: ../outputs/business_opportunities_bertopic_cluster_model_from_2015_excl_2020_2021_20250426.csv\n"
     ]
    }
   ],
   "source": [
    "# ===============================================\n",
    "# Generate a table matching trends to business\n",
    "# opportunities, and assign a priority ranking\n",
    "# based on trend size and growth\n",
    "# ===============================================\n",
    "\n",
    "#topics_over_time = topic_model.topics_over_time(texts, timestamps, topic_model.topics_)\n",
    "matched_opportunities_df, unmatched_topics = generate_opportunity_table(topic_model, topics_over_time)\n",
    "\n",
    "print(f\"Filtering (if any): {model_label}\")\n",
    "print(f\"Model Name: {model_name}\\n\")\n",
    "print(\"=== Matched Business Opportunities ===\\n\")\n",
    "display(matched_opportunities_df)\n",
    "\n",
    "# Save table as CSV\n",
    "output_filename = f\"../outputs/business_opportunities_{model_name}.csv\"\n",
    "matched_opportunities_df.to_csv(output_filename, index=False)\n",
    "\n",
    "print(f\"\\nSaved opportunity table to: {output_filename}\")"
   ]
  }
 ],
 "metadata": {
  "kernelspec": {
   "display_name": "iata",
   "language": "python",
   "name": "python3"
  },
  "language_info": {
   "codemirror_mode": {
    "name": "ipython",
    "version": 3
   },
   "file_extension": ".py",
   "mimetype": "text/x-python",
   "name": "python",
   "nbconvert_exporter": "python",
   "pygments_lexer": "ipython3",
   "version": "3.9.22"
  }
 },
 "nbformat": 4,
 "nbformat_minor": 5
}
