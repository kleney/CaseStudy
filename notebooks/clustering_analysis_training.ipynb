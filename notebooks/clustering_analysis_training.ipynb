{
 "cells": [
  {
   "cell_type": "markdown",
   "id": "5e7f378b",
   "metadata": {},
   "source": [
    "# Clustering analysis using unsupervised learning\n",
    "This notebook loads IATA annual review text chunks and applies BERTopic to identify dominant topics and trends over time.\n",
    "BERTopic: https://arxiv.org/abs/2203.05794\n",
    "\n",
    "Author: Katharine Leney, April 2005"
   ]
  },
  {
   "cell_type": "code",
   "execution_count": null,
   "id": "ae58f6eb",
   "metadata": {},
   "outputs": [],
   "source": [
    "from bertopic import BERTopic # topic modelling\n",
    "from sentence_transformers import SentenceTransformer # embeddings\n",
    "import json\n",
    "#import pandas as pd\n",
    "from sklearn.feature_extraction.text import CountVectorizer\n",
    "from sklearn.feature_extraction.text import ENGLISH_STOP_WORDS\n",
    "import random\n",
    "import numpy as np\n",
    "import torch\n",
    "import pickle\n",
    "from datetime import datetime   \n",
    "from umap import UMAP\n",
    "from hdbscan import HDBSCAN\n",
    "import os\n",
    "import shutil\n",
    "import re"
   ]
  },
  {
   "cell_type": "code",
   "execution_count": 20,
   "id": "7e7e912f",
   "metadata": {},
   "outputs": [],
   "source": [
    "# ================================================================\n",
    "# Function to filter documents by minimum year, maximum year, \n",
    "# and/or specific years to exclude.\n",
    "# ================================================================\n",
    "\n",
    "def filter_data(data, min_year=None, max_year=None, exclude_years=None):\n",
    "    \"\"\"\n",
    "    Args:\n",
    "        data (list): List of dicts with at least a 'year' field.\n",
    "        min_year (int, optional): Keep only documents from this year onwards.\n",
    "        max_year (int, optional): Keep only documents up to and including this year.\n",
    "        exclude_years (list of int, optional): Years to exclude.\n",
    "\n",
    "    Returns:\n",
    "        tuple: (filtered_data, description_string)\n",
    "    \"\"\"\n",
    "    filtered = []\n",
    "    for entry in data:\n",
    "        year = int(entry[\"year\"])\n",
    "        if min_year is not None and year < min_year:\n",
    "            continue\n",
    "        if max_year is not None and year > max_year:\n",
    "            continue\n",
    "        if exclude_years is not None and year in exclude_years:\n",
    "            continue\n",
    "        filtered.append(entry)\n",
    "\n",
    "    # Build description\n",
    "    desc_parts = []\n",
    "    if min_year is not None:\n",
    "        desc_parts.append(f\"from_{min_year}\")\n",
    "    if max_year is not None:\n",
    "        desc_parts.append(f\"up_to_{max_year}\")\n",
    "    if exclude_years:\n",
    "        desc_parts.append(f\"excl_{'_'.join(map(str, exclude_years))}\")\n",
    "\n",
    "    description = \"_\".join(desc_parts) if desc_parts else \"all data\"\n",
    "\n",
    "    return filtered, description"
   ]
  },
  {
   "cell_type": "code",
   "execution_count": 26,
   "id": "56705130",
   "metadata": {},
   "outputs": [
    {
     "name": "stdout",
     "output_type": "stream",
     "text": [
      "from_2015_excl_2020_2021\n"
     ]
    }
   ],
   "source": [
    "\n",
    "# Load data (chunks extracted from annual\n",
    "# reports using src/extract.py)\n",
    "with open(\"../data/chunks.json\") as f:\n",
    "    data = json.load(f)\n",
    "\n",
    "# Possibility to filter data (e.g. focus on last 10 years but exclude pandemic)\n",
    "apply_filter=True\n",
    "filter_description=\"\"\n",
    "if apply_filter :\n",
    "    filtered_data, filter_description = filter_data(data, min_year=2015, exclude_years=[2020, 2021])\n",
    "    data = filtered_data\n",
    "    print(filter_description)\n",
    "\n",
    "texts = [entry[\"text\"] for entry in data]\n",
    "timestamps = [entry[\"year\"] for entry in data]  # used for topic over time"
   ]
  },
  {
   "cell_type": "code",
   "execution_count": 27,
   "id": "b39b751e",
   "metadata": {},
   "outputs": [],
   "source": [
    "# --------------------------------------------------\n",
    "# Set hyperparameters for UMAP and HDBScan\n",
    "# (chosen using grid_search_clustering_analysis.ipynb)\n",
    "# Set random seeds everywhere to improve stability\n",
    "# of model (needed with small dataset)\n",
    "# --------------------------------------------------\n",
    "\n",
    "random.seed(42)\n",
    "np.random.seed(42)\n",
    "torch.manual_seed(42)\n",
    "\n",
    "# If using GPU (for completeness):\n",
    "if torch.cuda.is_available():\n",
    "    torch.cuda.manual_seed_all(42)\n",
    "\n",
    "# Fix UMAP state\n",
    "# (controls topical separation)\n",
    "umap_model = UMAP(\n",
    "    n_neighbors=10, # larger = clusters more blended, smaller = tighter clusters\n",
    "    n_components=5, \n",
    "    min_dist=0.1, # controls spread of clusters (range: 0.0--0.1. larger = crisper clusters)\n",
    "    metric='cosine', \n",
    "    random_state=42\n",
    "    )\n",
    "\n",
    "# Fix HDBScan state\n",
    "# (controls topic stability)\n",
    "hdbscan_model = HDBSCAN(\n",
    "    min_cluster_size=20, \n",
    "    metric='euclidean', \n",
    "    cluster_selection_method='eom', \n",
    "    prediction_data=True\n",
    "    )\n"
   ]
  },
  {
   "cell_type": "code",
   "execution_count": 28,
   "id": "c0d1b1e6",
   "metadata": {},
   "outputs": [],
   "source": [
    "# Lightweight sentence transformer from Hugging Face\n",
    "# https://huggingface.co/sentence-transformers/all-MiniLM-L6-v2\n",
    "# Turns sentences into dense vectors \n",
    "# https://medium.com/@yasindusanjeewa8/dense-vectors-in-natural-language-processing-06818dff5cd7\n",
    "\n",
    "embedding_model = SentenceTransformer(\"all-MiniLM-L6-v2\")"
   ]
  },
  {
   "cell_type": "code",
   "execution_count": 29,
   "id": "ba23fdc7",
   "metadata": {},
   "outputs": [],
   "source": [
    "# --------------------------------------------------\n",
    "# Remove stopwords (\"and\", \"the\", \"is\", \"that\" etc)\n",
    "# and add custom stopwrods to the list\n",
    "# Remove standalone numbers\n",
    "# --------------------------------------------------\n",
    "\n",
    "# Expand list of stopwords to remove industry-specific noise\n",
    "# and months of the year\n",
    "iata_stopwords = [\n",
    "    \"sky\", \"flight\", \"air\", \"aviation\", \"iata\", \"airlines\", \"airways\", \"airline\"\n",
    "    \"annual\", \"review\", \"general\", \"director\", \"transport\", \"association\",\n",
    "    \"chief\", \"executive\", \"officer\", \"bisignani\", \"giovanni\", \"ceo\", \"mr\",\n",
    "    \"president\", \"chairman\", \"tel\", \"fax\", \"box\", \"sector\", \"industry\"\n",
    "]\n",
    "months = [\n",
    "    \"january\", \"february\", \"march\", \"april\", \"may\", \"june\",\n",
    "    \"july\", \"august\", \"september\", \"october\", \"november\", \"december\"\n",
    "]\n",
    "month_abbr = [\n",
    "    \"jan\", \"feb\", \"mar\", \"apr\", \"may\", \"jun\",\n",
    "    \"jul\", \"aug\", \"sep\", \"oct\", \"nov\", \"dec\"\n",
    "]\n",
    "custom_stopwords = sorted(list(ENGLISH_STOP_WORDS.union(iata_stopwords, months, month_abbr)))\n",
    "\n",
    "# Only allow tokens with at least one alphabet character (i.e. excludes numbers)\n",
    "token_pattern = r\"(?u)\\b[a-zA-Z]*[a-zA-Z][a-zA-Z]*\\b\"\n",
    "\n",
    "custom_vectorizer = CountVectorizer(\n",
    "    stop_words=custom_stopwords, # Remove stopwords\n",
    "    ngram_range=(1, 2),          # Include unigrams and bigrams\n",
    "    token_pattern=token_pattern\n",
    ")"
   ]
  },
  {
   "cell_type": "code",
   "execution_count": 30,
   "id": "487ccb21",
   "metadata": {},
   "outputs": [
    {
     "name": "stderr",
     "output_type": "stream",
     "text": [
      "2025-04-26 10:53:23,704 - BERTopic - Embedding - Transforming documents to embeddings.\n"
     ]
    },
    {
     "data": {
      "application/vnd.jupyter.widget-view+json": {
       "model_id": "8239618dbe854a7aba93835c627aa050",
       "version_major": 2,
       "version_minor": 0
      },
      "text/plain": [
       "Batches:   0%|          | 0/45 [00:00<?, ?it/s]"
      ]
     },
     "metadata": {},
     "output_type": "display_data"
    },
    {
     "name": "stderr",
     "output_type": "stream",
     "text": [
      "2025-04-26 10:53:26,867 - BERTopic - Embedding - Completed ✓\n",
      "2025-04-26 10:53:26,868 - BERTopic - Dimensionality - Fitting the dimensionality reduction algorithm\n",
      "2025-04-26 10:53:28,894 - BERTopic - Dimensionality - Completed ✓\n",
      "2025-04-26 10:53:28,894 - BERTopic - Cluster - Start clustering the reduced embeddings\n",
      "2025-04-26 10:53:28,939 - BERTopic - Cluster - Completed ✓\n",
      "2025-04-26 10:53:28,941 - BERTopic - Representation - Fine-tuning topics using representation models.\n",
      "2025-04-26 10:53:29,092 - BERTopic - Representation - Completed ✓\n"
     ]
    }
   ],
   "source": [
    "# Create and fit BERTopic model\n",
    "topic_model = BERTopic(embedding_model=embedding_model, \n",
    "                       vectorizer_model=custom_vectorizer,\n",
    "                       umap_model=umap_model,\n",
    "                       hdbscan_model=hdbscan_model, \n",
    "                       calculate_probabilities=True,\n",
    "                       verbose=True)\n",
    "topics, probs = topic_model.fit_transform(texts)"
   ]
  },
  {
   "cell_type": "code",
   "execution_count": null,
   "id": "173d7fa8",
   "metadata": {},
   "outputs": [
    {
     "name": "stderr",
     "output_type": "stream",
     "text": [
      "2025-04-26 10:54:25,703 - BERTopic - WARNING: When you use `pickle` to save/load a BERTopic model,please make sure that the environments in which you saveand load the model are **exactly** the same. The version of BERTopic,its dependencies, and python need to remain the same.\n"
     ]
    },
    {
     "name": "stdout",
     "output_type": "stream",
     "text": [
      "Saving model to  ../models/bertopic_cluster_model_from_2015_excl_2020_2021_20250426\n"
     ]
    }
   ],
   "source": [
    "# Save model with datestamp and filter name\n",
    "save_model=True\n",
    "\n",
    "if save_model:\n",
    "    today = datetime.now().strftime(\"%Y%m%d\")\n",
    "    model_dir = f\"../models/bertopic_cluster_model_{filter_description}_{today}\"\n",
    "\n",
    "    print(\"Saving model to \",model_dir)\n",
    "\n",
    "    # If directory exists, delete it (clean overwrite)\n",
    "    if os.path.exists(model_dir):\n",
    "        shutil.rmtree(model_dir)\n",
    "\n",
    "    # Create the directory\n",
    "    os.makedirs(model_dir)\n",
    "\n",
    "    # Save the BERTopic model\n",
    "    topic_model.save(os.path.join(model_dir, \"model\"))\n",
    "\n",
    "    # Save the texts and timestamps\n",
    "    with open(os.path.join(model_dir, \"texts.pkl\"), \"wb\") as f:\n",
    "        pickle.dump(texts, f)\n",
    "\n",
    "    with open(os.path.join(model_dir, \"timestamps.pkl\"), \"wb\") as f:\n",
    "        pickle.dump(timestamps, f)"
   ]
  },
  {
   "cell_type": "code",
   "execution_count": 32,
   "id": "b151598c",
   "metadata": {},
   "outputs": [
    {
     "data": {
      "text/plain": [
       "{'analyzer': 'word',\n",
       " 'binary': False,\n",
       " 'decode_error': 'strict',\n",
       " 'dtype': numpy.int64,\n",
       " 'encoding': 'utf-8',\n",
       " 'input': 'content',\n",
       " 'lowercase': True,\n",
       " 'max_df': 1.0,\n",
       " 'max_features': None,\n",
       " 'min_df': 1,\n",
       " 'ngram_range': (1, 2),\n",
       " 'preprocessor': None,\n",
       " 'stop_words': ['a',\n",
       "  'about',\n",
       "  'above',\n",
       "  'across',\n",
       "  'after',\n",
       "  'afterwards',\n",
       "  'again',\n",
       "  'against',\n",
       "  'air',\n",
       "  'airlineannual',\n",
       "  'airlines',\n",
       "  'airways',\n",
       "  'all',\n",
       "  'almost',\n",
       "  'alone',\n",
       "  'along',\n",
       "  'already',\n",
       "  'also',\n",
       "  'although',\n",
       "  'always',\n",
       "  'am',\n",
       "  'among',\n",
       "  'amongst',\n",
       "  'amoungst',\n",
       "  'amount',\n",
       "  'an',\n",
       "  'and',\n",
       "  'another',\n",
       "  'any',\n",
       "  'anyhow',\n",
       "  'anyone',\n",
       "  'anything',\n",
       "  'anyway',\n",
       "  'anywhere',\n",
       "  'apr',\n",
       "  'april',\n",
       "  'are',\n",
       "  'around',\n",
       "  'as',\n",
       "  'association',\n",
       "  'at',\n",
       "  'aug',\n",
       "  'august',\n",
       "  'aviation',\n",
       "  'back',\n",
       "  'be',\n",
       "  'became',\n",
       "  'because',\n",
       "  'become',\n",
       "  'becomes',\n",
       "  'becoming',\n",
       "  'been',\n",
       "  'before',\n",
       "  'beforehand',\n",
       "  'behind',\n",
       "  'being',\n",
       "  'below',\n",
       "  'beside',\n",
       "  'besides',\n",
       "  'between',\n",
       "  'beyond',\n",
       "  'bill',\n",
       "  'bisignani',\n",
       "  'both',\n",
       "  'bottom',\n",
       "  'box',\n",
       "  'but',\n",
       "  'by',\n",
       "  'call',\n",
       "  'can',\n",
       "  'cannot',\n",
       "  'cant',\n",
       "  'ceo',\n",
       "  'chairman',\n",
       "  'chief',\n",
       "  'co',\n",
       "  'con',\n",
       "  'could',\n",
       "  'couldnt',\n",
       "  'cry',\n",
       "  'de',\n",
       "  'dec',\n",
       "  'december',\n",
       "  'describe',\n",
       "  'detail',\n",
       "  'director',\n",
       "  'do',\n",
       "  'done',\n",
       "  'down',\n",
       "  'due',\n",
       "  'during',\n",
       "  'each',\n",
       "  'eg',\n",
       "  'eight',\n",
       "  'either',\n",
       "  'eleven',\n",
       "  'else',\n",
       "  'elsewhere',\n",
       "  'empty',\n",
       "  'enough',\n",
       "  'etc',\n",
       "  'even',\n",
       "  'ever',\n",
       "  'every',\n",
       "  'everyone',\n",
       "  'everything',\n",
       "  'everywhere',\n",
       "  'except',\n",
       "  'executive',\n",
       "  'fax',\n",
       "  'feb',\n",
       "  'february',\n",
       "  'few',\n",
       "  'fifteen',\n",
       "  'fifty',\n",
       "  'fill',\n",
       "  'find',\n",
       "  'fire',\n",
       "  'first',\n",
       "  'five',\n",
       "  'flight',\n",
       "  'for',\n",
       "  'former',\n",
       "  'formerly',\n",
       "  'forty',\n",
       "  'found',\n",
       "  'four',\n",
       "  'from',\n",
       "  'front',\n",
       "  'full',\n",
       "  'further',\n",
       "  'general',\n",
       "  'get',\n",
       "  'giovanni',\n",
       "  'give',\n",
       "  'go',\n",
       "  'had',\n",
       "  'has',\n",
       "  'hasnt',\n",
       "  'have',\n",
       "  'he',\n",
       "  'hence',\n",
       "  'her',\n",
       "  'here',\n",
       "  'hereafter',\n",
       "  'hereby',\n",
       "  'herein',\n",
       "  'hereupon',\n",
       "  'hers',\n",
       "  'herself',\n",
       "  'him',\n",
       "  'himself',\n",
       "  'his',\n",
       "  'how',\n",
       "  'however',\n",
       "  'hundred',\n",
       "  'i',\n",
       "  'iata',\n",
       "  'ie',\n",
       "  'if',\n",
       "  'in',\n",
       "  'inc',\n",
       "  'indeed',\n",
       "  'industry',\n",
       "  'interest',\n",
       "  'into',\n",
       "  'is',\n",
       "  'it',\n",
       "  'its',\n",
       "  'itself',\n",
       "  'jan',\n",
       "  'january',\n",
       "  'jul',\n",
       "  'july',\n",
       "  'jun',\n",
       "  'june',\n",
       "  'keep',\n",
       "  'last',\n",
       "  'latter',\n",
       "  'latterly',\n",
       "  'least',\n",
       "  'less',\n",
       "  'ltd',\n",
       "  'made',\n",
       "  'many',\n",
       "  'mar',\n",
       "  'march',\n",
       "  'may',\n",
       "  'me',\n",
       "  'meanwhile',\n",
       "  'might',\n",
       "  'mill',\n",
       "  'mine',\n",
       "  'more',\n",
       "  'moreover',\n",
       "  'most',\n",
       "  'mostly',\n",
       "  'move',\n",
       "  'mr',\n",
       "  'much',\n",
       "  'must',\n",
       "  'my',\n",
       "  'myself',\n",
       "  'name',\n",
       "  'namely',\n",
       "  'neither',\n",
       "  'never',\n",
       "  'nevertheless',\n",
       "  'next',\n",
       "  'nine',\n",
       "  'no',\n",
       "  'nobody',\n",
       "  'none',\n",
       "  'noone',\n",
       "  'nor',\n",
       "  'not',\n",
       "  'nothing',\n",
       "  'nov',\n",
       "  'november',\n",
       "  'now',\n",
       "  'nowhere',\n",
       "  'oct',\n",
       "  'october',\n",
       "  'of',\n",
       "  'off',\n",
       "  'officer',\n",
       "  'often',\n",
       "  'on',\n",
       "  'once',\n",
       "  'one',\n",
       "  'only',\n",
       "  'onto',\n",
       "  'or',\n",
       "  'other',\n",
       "  'others',\n",
       "  'otherwise',\n",
       "  'our',\n",
       "  'ours',\n",
       "  'ourselves',\n",
       "  'out',\n",
       "  'over',\n",
       "  'own',\n",
       "  'part',\n",
       "  'per',\n",
       "  'perhaps',\n",
       "  'please',\n",
       "  'president',\n",
       "  'put',\n",
       "  'rather',\n",
       "  're',\n",
       "  'review',\n",
       "  'same',\n",
       "  'sector',\n",
       "  'see',\n",
       "  'seem',\n",
       "  'seemed',\n",
       "  'seeming',\n",
       "  'seems',\n",
       "  'sep',\n",
       "  'september',\n",
       "  'serious',\n",
       "  'several',\n",
       "  'she',\n",
       "  'should',\n",
       "  'show',\n",
       "  'side',\n",
       "  'since',\n",
       "  'sincere',\n",
       "  'six',\n",
       "  'sixty',\n",
       "  'sky',\n",
       "  'so',\n",
       "  'some',\n",
       "  'somehow',\n",
       "  'someone',\n",
       "  'something',\n",
       "  'sometime',\n",
       "  'sometimes',\n",
       "  'somewhere',\n",
       "  'still',\n",
       "  'such',\n",
       "  'system',\n",
       "  'take',\n",
       "  'tel',\n",
       "  'ten',\n",
       "  'than',\n",
       "  'that',\n",
       "  'the',\n",
       "  'their',\n",
       "  'them',\n",
       "  'themselves',\n",
       "  'then',\n",
       "  'thence',\n",
       "  'there',\n",
       "  'thereafter',\n",
       "  'thereby',\n",
       "  'therefore',\n",
       "  'therein',\n",
       "  'thereupon',\n",
       "  'these',\n",
       "  'they',\n",
       "  'thick',\n",
       "  'thin',\n",
       "  'third',\n",
       "  'this',\n",
       "  'those',\n",
       "  'though',\n",
       "  'three',\n",
       "  'through',\n",
       "  'throughout',\n",
       "  'thru',\n",
       "  'thus',\n",
       "  'to',\n",
       "  'together',\n",
       "  'too',\n",
       "  'top',\n",
       "  'toward',\n",
       "  'towards',\n",
       "  'transport',\n",
       "  'twelve',\n",
       "  'twenty',\n",
       "  'two',\n",
       "  'un',\n",
       "  'under',\n",
       "  'until',\n",
       "  'up',\n",
       "  'upon',\n",
       "  'us',\n",
       "  'very',\n",
       "  'via',\n",
       "  'was',\n",
       "  'we',\n",
       "  'well',\n",
       "  'were',\n",
       "  'what',\n",
       "  'whatever',\n",
       "  'when',\n",
       "  'whence',\n",
       "  'whenever',\n",
       "  'where',\n",
       "  'whereafter',\n",
       "  'whereas',\n",
       "  'whereby',\n",
       "  'wherein',\n",
       "  'whereupon',\n",
       "  'wherever',\n",
       "  'whether',\n",
       "  'which',\n",
       "  'while',\n",
       "  'whither',\n",
       "  'who',\n",
       "  'whoever',\n",
       "  'whole',\n",
       "  'whom',\n",
       "  'whose',\n",
       "  'why',\n",
       "  'will',\n",
       "  'with',\n",
       "  'within',\n",
       "  'without',\n",
       "  'would',\n",
       "  'yet',\n",
       "  'you',\n",
       "  'your',\n",
       "  'yours',\n",
       "  'yourself',\n",
       "  'yourselves'],\n",
       " 'strip_accents': None,\n",
       " 'token_pattern': '(?u)\\\\b[a-zA-Z]*[a-zA-Z][a-zA-Z]*\\\\b',\n",
       " 'tokenizer': None,\n",
       " 'vocabulary': None}"
      ]
     },
     "execution_count": 32,
     "metadata": {},
     "output_type": "execute_result"
    }
   ],
   "source": [
    "# Inspect model parameters\n",
    "topic_model.vectorizer_model.get_params()"
   ]
  },
  {
   "cell_type": "code",
   "execution_count": 33,
   "id": "de82eb6e",
   "metadata": {},
   "outputs": [
    {
     "data": {
      "text/html": [
       "<div>\n",
       "<style scoped>\n",
       "    .dataframe tbody tr th:only-of-type {\n",
       "        vertical-align: middle;\n",
       "    }\n",
       "\n",
       "    .dataframe tbody tr th {\n",
       "        vertical-align: top;\n",
       "    }\n",
       "\n",
       "    .dataframe thead th {\n",
       "        text-align: right;\n",
       "    }\n",
       "</style>\n",
       "<table border=\"1\" class=\"dataframe\">\n",
       "  <thead>\n",
       "    <tr style=\"text-align: right;\">\n",
       "      <th></th>\n",
       "      <th>Topic</th>\n",
       "      <th>Count</th>\n",
       "      <th>Name</th>\n",
       "      <th>Representation</th>\n",
       "      <th>Representative_Docs</th>\n",
       "    </tr>\n",
       "  </thead>\n",
       "  <tbody>\n",
       "    <tr>\n",
       "      <th>0</th>\n",
       "      <td>-1</td>\n",
       "      <td>170</td>\n",
       "      <td>-1_s_passenger_fuel_passengers</td>\n",
       "      <td>[s, passenger, fuel, passengers, unruly, regul...</td>\n",
       "      <td>[Geneva  Executive  Office  33, Route de l’Aér...</td>\n",
       "    </tr>\n",
       "    <tr>\n",
       "      <th>1</th>\n",
       "      <td>0</td>\n",
       "      <td>199</td>\n",
       "      <td>0_passenger_year_cargo_growth</td>\n",
       "      <td>[passenger, year, cargo, growth, load, demand,...</td>\n",
       "      <td>[Africa Russia Brazil Jan Feb Mar Apr May Jun ...</td>\n",
       "    </tr>\n",
       "    <tr>\n",
       "      <th>2</th>\n",
       "      <td>1</td>\n",
       "      <td>152</td>\n",
       "      <td>1_safety_iosa_accidents_accident</td>\n",
       "      <td>[safety, iosa, accidents, accident, aircraft, ...</td>\n",
       "      <td>[Safety IATA Annual Review 2022 20  All accide...</td>\n",
       "    </tr>\n",
       "    <tr>\n",
       "      <th>3</th>\n",
       "      <td>2</td>\n",
       "      <td>151</td>\n",
       "      <td>2_saf_emissions_carbon_corsia</td>\n",
       "      <td>[saf, emissions, carbon, corsia, environmental...</td>\n",
       "      <td>[Environment &amp; Sustainability 28  IATA Annual ...</td>\n",
       "    </tr>\n",
       "    <tr>\n",
       "      <th>4</th>\n",
       "      <td>3</td>\n",
       "      <td>106</td>\n",
       "      <td>3_airport_charges_infrastructure_airports</td>\n",
       "      <td>[airport, charges, infrastructure, airports, d...</td>\n",
       "      <td>[Cost-efficiency and lower charges Infrastruct...</td>\n",
       "    </tr>\n",
       "    <tr>\n",
       "      <th>5</th>\n",
       "      <td>4</td>\n",
       "      <td>105</td>\n",
       "      <td>4_cargo_data_lithium_ceiv</td>\n",
       "      <td>[cargo, data, lithium, ceiv, e, freight, goods...</td>\n",
       "      <td>[Special cargo Standardized air cargo processe...</td>\n",
       "    </tr>\n",
       "    <tr>\n",
       "      <th>6</th>\n",
       "      <td>5</td>\n",
       "      <td>97</td>\n",
       "      <td>5_security_information_smart security_smart</td>\n",
       "      <td>[security, information, smart security, smart,...</td>\n",
       "      <td>[The UN resolution  confirms ICAO’s leadership...</td>\n",
       "    </tr>\n",
       "    <tr>\n",
       "      <th>7</th>\n",
       "      <td>6</td>\n",
       "      <td>64</td>\n",
       "      <td>6_settlement_billion_processed_iss</td>\n",
       "      <td>[settlement, billion, processed, iss, bsp, fin...</td>\n",
       "      <td>[At  the end of 2017, CASS  was processing 94 ...</td>\n",
       "    </tr>\n",
       "    <tr>\n",
       "      <th>8</th>\n",
       "      <td>7</td>\n",
       "      <td>61</td>\n",
       "      <td>7_ndc_order_travel_airline</td>\n",
       "      <td>[ndc, order, travel, airline, retailing, stand...</td>\n",
       "      <td>[In addition, NDC hackathons  and other initia...</td>\n",
       "    </tr>\n",
       "    <tr>\n",
       "      <th>9</th>\n",
       "      <td>8</td>\n",
       "      <td>49</td>\n",
       "      <td>8_latam_china_cargo_international</td>\n",
       "      <td>[latam, china, cargo, international, express, ...</td>\n",
       "      <td>[Members’ list IATA Annual Review 2022 4  A AB...</td>\n",
       "    </tr>\n",
       "  </tbody>\n",
       "</table>\n",
       "</div>"
      ],
      "text/plain": [
       "   Topic  Count                                         Name  \\\n",
       "0     -1    170               -1_s_passenger_fuel_passengers   \n",
       "1      0    199                0_passenger_year_cargo_growth   \n",
       "2      1    152             1_safety_iosa_accidents_accident   \n",
       "3      2    151                2_saf_emissions_carbon_corsia   \n",
       "4      3    106    3_airport_charges_infrastructure_airports   \n",
       "5      4    105                    4_cargo_data_lithium_ceiv   \n",
       "6      5     97  5_security_information_smart security_smart   \n",
       "7      6     64           6_settlement_billion_processed_iss   \n",
       "8      7     61                   7_ndc_order_travel_airline   \n",
       "9      8     49            8_latam_china_cargo_international   \n",
       "\n",
       "                                      Representation  \\\n",
       "0  [s, passenger, fuel, passengers, unruly, regul...   \n",
       "1  [passenger, year, cargo, growth, load, demand,...   \n",
       "2  [safety, iosa, accidents, accident, aircraft, ...   \n",
       "3  [saf, emissions, carbon, corsia, environmental...   \n",
       "4  [airport, charges, infrastructure, airports, d...   \n",
       "5  [cargo, data, lithium, ceiv, e, freight, goods...   \n",
       "6  [security, information, smart security, smart,...   \n",
       "7  [settlement, billion, processed, iss, bsp, fin...   \n",
       "8  [ndc, order, travel, airline, retailing, stand...   \n",
       "9  [latam, china, cargo, international, express, ...   \n",
       "\n",
       "                                 Representative_Docs  \n",
       "0  [Geneva  Executive  Office  33, Route de l’Aér...  \n",
       "1  [Africa Russia Brazil Jan Feb Mar Apr May Jun ...  \n",
       "2  [Safety IATA Annual Review 2022 20  All accide...  \n",
       "3  [Environment & Sustainability 28  IATA Annual ...  \n",
       "4  [Cost-efficiency and lower charges Infrastruct...  \n",
       "5  [Special cargo Standardized air cargo processe...  \n",
       "6  [The UN resolution  confirms ICAO’s leadership...  \n",
       "7  [At  the end of 2017, CASS  was processing 94 ...  \n",
       "8  [In addition, NDC hackathons  and other initia...  \n",
       "9  [Members’ list IATA Annual Review 2022 4  A AB...  "
      ]
     },
     "execution_count": 33,
     "metadata": {},
     "output_type": "execute_result"
    }
   ],
   "source": [
    "# Explore top topics\n",
    "topic_model.get_topic_info().head(10)\n",
    "#topic_model.get_topic_info()"
   ]
  },
  {
   "cell_type": "code",
   "execution_count": 34,
   "id": "5ef2a8c2",
   "metadata": {},
   "outputs": [],
   "source": [
    "\n",
    "# Export full topic info to csv file for easier viewing/cross-checks\n",
    "topic_model.get_topic_info().to_csv(\"../data/topic_info.csv\", index=False)\n"
   ]
  },
  {
   "cell_type": "code",
   "execution_count": 35,
   "id": "58eb5740",
   "metadata": {},
   "outputs": [
    {
     "data": {
      "application/vnd.plotly.v1+json": {
       "config": {
        "plotlyServerURL": "https://plot.ly"
       },
       "data": [
        {
         "customdata": [
          [
           0,
           "passenger | year | cargo | growth | load",
           199
          ],
          [
           1,
           "safety | iosa | accidents | accident | aircraft",
           152
          ],
          [
           2,
           "saf | emissions | carbon | corsia | environmental",
           151
          ],
          [
           3,
           "airport | charges | infrastructure | airports | development",
           106
          ],
          [
           4,
           "cargo | data | lithium | ceiv | e",
           105
          ],
          [
           5,
           "security | information | smart security | smart | risk",
           97
          ],
          [
           6,
           "settlement | billion | processed | iss | bsp",
           64
          ],
          [
           7,
           "ndc | order | travel | airline | retailing",
           61
          ],
          [
           8,
           "latam | china | cargo | international | express",
           49
          ],
          [
           9,
           "annual | commercial | world | contents | s",
           48
          ],
          [
           10,
           "travel | passengers | experience | id | identity",
           48
          ],
          [
           11,
           "board | group | governors | board governors | chair",
           42
          ],
          [
           12,
           "tax | taxes | taxation | government | international",
           40
          ],
          [
           13,
           "slot | wsg | slots | regulation | capacity",
           30
          ],
          [
           14,
           "diversity | inclusion | diversity inclusion | female | gender",
           30
          ],
          [
           15,
           "regulation | rights | consumer | passenger rights | consumer protection",
           25
          ]
         ],
         "hovertemplate": "<b>Topic %{customdata[0]}</b><br>%{customdata[1]}<br>Size: %{customdata[2]}",
         "legendgroup": "",
         "marker": {
          "color": "#B0BEC5",
          "line": {
           "color": "DarkSlateGrey",
           "width": 2
          },
          "size": {
           "bdata": "xwCYAJcAagBpAGEAQAA9ADEAMAAwACoAKAAeAB4AGQA=",
           "dtype": "i2"
          },
          "sizemode": "area",
          "sizeref": 0.124375,
          "symbol": "circle"
         },
         "mode": "markers",
         "name": "",
         "orientation": "v",
         "showlegend": false,
         "type": "scatter",
         "x": {
          "bdata": "Q/X+wC4dM0GpvKVAbY6aQNJgeUEXQC9BTGyiQKUUekH9pOvA0iX3wDLoK0EvbOzAyAKsQD5Hm0AoZgXBQw+lQA==",
          "dtype": "f4"
         },
         "xaxis": "x",
         "y": {
          "bdata": "IilCQfCmRkH5n69BoZ6sQfLXhMG9gkpBFfyoQejVhMF/HUFBbiRGQX7aTUG4tjZBPgGsQRers0GQHzhBVEW2QQ==",
          "dtype": "f4"
         },
         "yaxis": "y"
        }
       ],
       "layout": {
        "annotations": [
         {
          "showarrow": false,
          "text": "D1",
          "x": -9.588056564331055,
          "y": 3.5525855064392093,
          "yshift": 10
         },
         {
          "showarrow": false,
          "text": "D2",
          "x": 4.193244814872742,
          "xshift": 10,
          "y": 26.20142936706543
         }
        ],
        "font": {
         "family": "Arial"
        },
        "height": 800,
        "hoverlabel": {
         "bgcolor": "white",
         "font": {
          "family": "Rockwell",
          "size": 16
         }
        },
        "legend": {
         "itemsizing": "constant",
         "orientation": "h",
         "tracegroupgap": 0,
         "x": 0.5,
         "xanchor": "center",
         "y": 1.02,
         "yanchor": "bottom"
        },
        "margin": {
         "t": 60
        },
        "paper_bgcolor": "white",
        "plot_bgcolor": "white",
        "shapes": [
         {
          "line": {
           "color": "#CFD8DC",
           "width": 2
          },
          "type": "line",
          "x0": 4.193244814872742,
          "x1": 4.193244814872742,
          "y0": -19.09625835418701,
          "y1": 26.20142936706543
         },
         {
          "line": {
           "color": "#9E9E9E",
           "width": 2
          },
          "type": "line",
          "x0": -9.588056564331055,
          "x1": 17.974546194076538,
          "y0": 3.5525855064392093,
          "y1": 3.5525855064392093
         }
        ],
        "sliders": [
         {
          "active": 0,
          "pad": {
           "t": 50
          },
          "steps": [
           {
            "args": [
             {
              "marker.color": [
               [
                "red",
                "#B0BEC5",
                "#B0BEC5",
                "#B0BEC5",
                "#B0BEC5",
                "#B0BEC5",
                "#B0BEC5",
                "#B0BEC5",
                "#B0BEC5",
                "#B0BEC5",
                "#B0BEC5",
                "#B0BEC5",
                "#B0BEC5",
                "#B0BEC5",
                "#B0BEC5",
                "#B0BEC5"
               ]
              ]
             }
            ],
            "label": "Topic 0",
            "method": "update"
           },
           {
            "args": [
             {
              "marker.color": [
               [
                "#B0BEC5",
                "red",
                "#B0BEC5",
                "#B0BEC5",
                "#B0BEC5",
                "#B0BEC5",
                "#B0BEC5",
                "#B0BEC5",
                "#B0BEC5",
                "#B0BEC5",
                "#B0BEC5",
                "#B0BEC5",
                "#B0BEC5",
                "#B0BEC5",
                "#B0BEC5",
                "#B0BEC5"
               ]
              ]
             }
            ],
            "label": "Topic 1",
            "method": "update"
           },
           {
            "args": [
             {
              "marker.color": [
               [
                "#B0BEC5",
                "#B0BEC5",
                "red",
                "#B0BEC5",
                "#B0BEC5",
                "#B0BEC5",
                "#B0BEC5",
                "#B0BEC5",
                "#B0BEC5",
                "#B0BEC5",
                "#B0BEC5",
                "#B0BEC5",
                "#B0BEC5",
                "#B0BEC5",
                "#B0BEC5",
                "#B0BEC5"
               ]
              ]
             }
            ],
            "label": "Topic 2",
            "method": "update"
           },
           {
            "args": [
             {
              "marker.color": [
               [
                "#B0BEC5",
                "#B0BEC5",
                "#B0BEC5",
                "red",
                "#B0BEC5",
                "#B0BEC5",
                "#B0BEC5",
                "#B0BEC5",
                "#B0BEC5",
                "#B0BEC5",
                "#B0BEC5",
                "#B0BEC5",
                "#B0BEC5",
                "#B0BEC5",
                "#B0BEC5",
                "#B0BEC5"
               ]
              ]
             }
            ],
            "label": "Topic 3",
            "method": "update"
           },
           {
            "args": [
             {
              "marker.color": [
               [
                "#B0BEC5",
                "#B0BEC5",
                "#B0BEC5",
                "#B0BEC5",
                "red",
                "#B0BEC5",
                "#B0BEC5",
                "#B0BEC5",
                "#B0BEC5",
                "#B0BEC5",
                "#B0BEC5",
                "#B0BEC5",
                "#B0BEC5",
                "#B0BEC5",
                "#B0BEC5",
                "#B0BEC5"
               ]
              ]
             }
            ],
            "label": "Topic 4",
            "method": "update"
           },
           {
            "args": [
             {
              "marker.color": [
               [
                "#B0BEC5",
                "#B0BEC5",
                "#B0BEC5",
                "#B0BEC5",
                "#B0BEC5",
                "red",
                "#B0BEC5",
                "#B0BEC5",
                "#B0BEC5",
                "#B0BEC5",
                "#B0BEC5",
                "#B0BEC5",
                "#B0BEC5",
                "#B0BEC5",
                "#B0BEC5",
                "#B0BEC5"
               ]
              ]
             }
            ],
            "label": "Topic 5",
            "method": "update"
           },
           {
            "args": [
             {
              "marker.color": [
               [
                "#B0BEC5",
                "#B0BEC5",
                "#B0BEC5",
                "#B0BEC5",
                "#B0BEC5",
                "#B0BEC5",
                "red",
                "#B0BEC5",
                "#B0BEC5",
                "#B0BEC5",
                "#B0BEC5",
                "#B0BEC5",
                "#B0BEC5",
                "#B0BEC5",
                "#B0BEC5",
                "#B0BEC5"
               ]
              ]
             }
            ],
            "label": "Topic 6",
            "method": "update"
           },
           {
            "args": [
             {
              "marker.color": [
               [
                "#B0BEC5",
                "#B0BEC5",
                "#B0BEC5",
                "#B0BEC5",
                "#B0BEC5",
                "#B0BEC5",
                "#B0BEC5",
                "red",
                "#B0BEC5",
                "#B0BEC5",
                "#B0BEC5",
                "#B0BEC5",
                "#B0BEC5",
                "#B0BEC5",
                "#B0BEC5",
                "#B0BEC5"
               ]
              ]
             }
            ],
            "label": "Topic 7",
            "method": "update"
           },
           {
            "args": [
             {
              "marker.color": [
               [
                "#B0BEC5",
                "#B0BEC5",
                "#B0BEC5",
                "#B0BEC5",
                "#B0BEC5",
                "#B0BEC5",
                "#B0BEC5",
                "#B0BEC5",
                "red",
                "#B0BEC5",
                "#B0BEC5",
                "#B0BEC5",
                "#B0BEC5",
                "#B0BEC5",
                "#B0BEC5",
                "#B0BEC5"
               ]
              ]
             }
            ],
            "label": "Topic 8",
            "method": "update"
           },
           {
            "args": [
             {
              "marker.color": [
               [
                "#B0BEC5",
                "#B0BEC5",
                "#B0BEC5",
                "#B0BEC5",
                "#B0BEC5",
                "#B0BEC5",
                "#B0BEC5",
                "#B0BEC5",
                "#B0BEC5",
                "red",
                "#B0BEC5",
                "#B0BEC5",
                "#B0BEC5",
                "#B0BEC5",
                "#B0BEC5",
                "#B0BEC5"
               ]
              ]
             }
            ],
            "label": "Topic 9",
            "method": "update"
           },
           {
            "args": [
             {
              "marker.color": [
               [
                "#B0BEC5",
                "#B0BEC5",
                "#B0BEC5",
                "#B0BEC5",
                "#B0BEC5",
                "#B0BEC5",
                "#B0BEC5",
                "#B0BEC5",
                "#B0BEC5",
                "#B0BEC5",
                "red",
                "#B0BEC5",
                "#B0BEC5",
                "#B0BEC5",
                "#B0BEC5",
                "#B0BEC5"
               ]
              ]
             }
            ],
            "label": "Topic 10",
            "method": "update"
           },
           {
            "args": [
             {
              "marker.color": [
               [
                "#B0BEC5",
                "#B0BEC5",
                "#B0BEC5",
                "#B0BEC5",
                "#B0BEC5",
                "#B0BEC5",
                "#B0BEC5",
                "#B0BEC5",
                "#B0BEC5",
                "#B0BEC5",
                "#B0BEC5",
                "red",
                "#B0BEC5",
                "#B0BEC5",
                "#B0BEC5",
                "#B0BEC5"
               ]
              ]
             }
            ],
            "label": "Topic 11",
            "method": "update"
           },
           {
            "args": [
             {
              "marker.color": [
               [
                "#B0BEC5",
                "#B0BEC5",
                "#B0BEC5",
                "#B0BEC5",
                "#B0BEC5",
                "#B0BEC5",
                "#B0BEC5",
                "#B0BEC5",
                "#B0BEC5",
                "#B0BEC5",
                "#B0BEC5",
                "#B0BEC5",
                "red",
                "#B0BEC5",
                "#B0BEC5",
                "#B0BEC5"
               ]
              ]
             }
            ],
            "label": "Topic 12",
            "method": "update"
           },
           {
            "args": [
             {
              "marker.color": [
               [
                "#B0BEC5",
                "#B0BEC5",
                "#B0BEC5",
                "#B0BEC5",
                "#B0BEC5",
                "#B0BEC5",
                "#B0BEC5",
                "#B0BEC5",
                "#B0BEC5",
                "#B0BEC5",
                "#B0BEC5",
                "#B0BEC5",
                "#B0BEC5",
                "red",
                "#B0BEC5",
                "#B0BEC5"
               ]
              ]
             }
            ],
            "label": "Topic 13",
            "method": "update"
           },
           {
            "args": [
             {
              "marker.color": [
               [
                "#B0BEC5",
                "#B0BEC5",
                "#B0BEC5",
                "#B0BEC5",
                "#B0BEC5",
                "#B0BEC5",
                "#B0BEC5",
                "#B0BEC5",
                "#B0BEC5",
                "#B0BEC5",
                "#B0BEC5",
                "#B0BEC5",
                "#B0BEC5",
                "#B0BEC5",
                "red",
                "#B0BEC5"
               ]
              ]
             }
            ],
            "label": "Topic 14",
            "method": "update"
           },
           {
            "args": [
             {
              "marker.color": [
               [
                "#B0BEC5",
                "#B0BEC5",
                "#B0BEC5",
                "#B0BEC5",
                "#B0BEC5",
                "#B0BEC5",
                "#B0BEC5",
                "#B0BEC5",
                "#B0BEC5",
                "#B0BEC5",
                "#B0BEC5",
                "#B0BEC5",
                "#B0BEC5",
                "#B0BEC5",
                "#B0BEC5",
                "red"
               ]
              ]
             }
            ],
            "label": "Topic 15",
            "method": "update"
           }
          ]
         }
        ],
        "template": {
         "data": {
          "bar": [
           {
            "error_x": {
             "color": "rgb(36,36,36)"
            },
            "error_y": {
             "color": "rgb(36,36,36)"
            },
            "marker": {
             "line": {
              "color": "white",
              "width": 0.5
             },
             "pattern": {
              "fillmode": "overlay",
              "size": 10,
              "solidity": 0.2
             }
            },
            "type": "bar"
           }
          ],
          "barpolar": [
           {
            "marker": {
             "line": {
              "color": "white",
              "width": 0.5
             },
             "pattern": {
              "fillmode": "overlay",
              "size": 10,
              "solidity": 0.2
             }
            },
            "type": "barpolar"
           }
          ],
          "carpet": [
           {
            "aaxis": {
             "endlinecolor": "rgb(36,36,36)",
             "gridcolor": "white",
             "linecolor": "white",
             "minorgridcolor": "white",
             "startlinecolor": "rgb(36,36,36)"
            },
            "baxis": {
             "endlinecolor": "rgb(36,36,36)",
             "gridcolor": "white",
             "linecolor": "white",
             "minorgridcolor": "white",
             "startlinecolor": "rgb(36,36,36)"
            },
            "type": "carpet"
           }
          ],
          "choropleth": [
           {
            "colorbar": {
             "outlinewidth": 1,
             "tickcolor": "rgb(36,36,36)",
             "ticks": "outside"
            },
            "type": "choropleth"
           }
          ],
          "contour": [
           {
            "colorbar": {
             "outlinewidth": 1,
             "tickcolor": "rgb(36,36,36)",
             "ticks": "outside"
            },
            "colorscale": [
             [
              0,
              "#440154"
             ],
             [
              0.1111111111111111,
              "#482878"
             ],
             [
              0.2222222222222222,
              "#3e4989"
             ],
             [
              0.3333333333333333,
              "#31688e"
             ],
             [
              0.4444444444444444,
              "#26828e"
             ],
             [
              0.5555555555555556,
              "#1f9e89"
             ],
             [
              0.6666666666666666,
              "#35b779"
             ],
             [
              0.7777777777777778,
              "#6ece58"
             ],
             [
              0.8888888888888888,
              "#b5de2b"
             ],
             [
              1,
              "#fde725"
             ]
            ],
            "type": "contour"
           }
          ],
          "contourcarpet": [
           {
            "colorbar": {
             "outlinewidth": 1,
             "tickcolor": "rgb(36,36,36)",
             "ticks": "outside"
            },
            "type": "contourcarpet"
           }
          ],
          "heatmap": [
           {
            "colorbar": {
             "outlinewidth": 1,
             "tickcolor": "rgb(36,36,36)",
             "ticks": "outside"
            },
            "colorscale": [
             [
              0,
              "#440154"
             ],
             [
              0.1111111111111111,
              "#482878"
             ],
             [
              0.2222222222222222,
              "#3e4989"
             ],
             [
              0.3333333333333333,
              "#31688e"
             ],
             [
              0.4444444444444444,
              "#26828e"
             ],
             [
              0.5555555555555556,
              "#1f9e89"
             ],
             [
              0.6666666666666666,
              "#35b779"
             ],
             [
              0.7777777777777778,
              "#6ece58"
             ],
             [
              0.8888888888888888,
              "#b5de2b"
             ],
             [
              1,
              "#fde725"
             ]
            ],
            "type": "heatmap"
           }
          ],
          "histogram": [
           {
            "marker": {
             "line": {
              "color": "white",
              "width": 0.6
             }
            },
            "type": "histogram"
           }
          ],
          "histogram2d": [
           {
            "colorbar": {
             "outlinewidth": 1,
             "tickcolor": "rgb(36,36,36)",
             "ticks": "outside"
            },
            "colorscale": [
             [
              0,
              "#440154"
             ],
             [
              0.1111111111111111,
              "#482878"
             ],
             [
              0.2222222222222222,
              "#3e4989"
             ],
             [
              0.3333333333333333,
              "#31688e"
             ],
             [
              0.4444444444444444,
              "#26828e"
             ],
             [
              0.5555555555555556,
              "#1f9e89"
             ],
             [
              0.6666666666666666,
              "#35b779"
             ],
             [
              0.7777777777777778,
              "#6ece58"
             ],
             [
              0.8888888888888888,
              "#b5de2b"
             ],
             [
              1,
              "#fde725"
             ]
            ],
            "type": "histogram2d"
           }
          ],
          "histogram2dcontour": [
           {
            "colorbar": {
             "outlinewidth": 1,
             "tickcolor": "rgb(36,36,36)",
             "ticks": "outside"
            },
            "colorscale": [
             [
              0,
              "#440154"
             ],
             [
              0.1111111111111111,
              "#482878"
             ],
             [
              0.2222222222222222,
              "#3e4989"
             ],
             [
              0.3333333333333333,
              "#31688e"
             ],
             [
              0.4444444444444444,
              "#26828e"
             ],
             [
              0.5555555555555556,
              "#1f9e89"
             ],
             [
              0.6666666666666666,
              "#35b779"
             ],
             [
              0.7777777777777778,
              "#6ece58"
             ],
             [
              0.8888888888888888,
              "#b5de2b"
             ],
             [
              1,
              "#fde725"
             ]
            ],
            "type": "histogram2dcontour"
           }
          ],
          "mesh3d": [
           {
            "colorbar": {
             "outlinewidth": 1,
             "tickcolor": "rgb(36,36,36)",
             "ticks": "outside"
            },
            "type": "mesh3d"
           }
          ],
          "parcoords": [
           {
            "line": {
             "colorbar": {
              "outlinewidth": 1,
              "tickcolor": "rgb(36,36,36)",
              "ticks": "outside"
             }
            },
            "type": "parcoords"
           }
          ],
          "pie": [
           {
            "automargin": true,
            "type": "pie"
           }
          ],
          "scatter": [
           {
            "fillpattern": {
             "fillmode": "overlay",
             "size": 10,
             "solidity": 0.2
            },
            "type": "scatter"
           }
          ],
          "scatter3d": [
           {
            "line": {
             "colorbar": {
              "outlinewidth": 1,
              "tickcolor": "rgb(36,36,36)",
              "ticks": "outside"
             }
            },
            "marker": {
             "colorbar": {
              "outlinewidth": 1,
              "tickcolor": "rgb(36,36,36)",
              "ticks": "outside"
             }
            },
            "type": "scatter3d"
           }
          ],
          "scattercarpet": [
           {
            "marker": {
             "colorbar": {
              "outlinewidth": 1,
              "tickcolor": "rgb(36,36,36)",
              "ticks": "outside"
             }
            },
            "type": "scattercarpet"
           }
          ],
          "scattergeo": [
           {
            "marker": {
             "colorbar": {
              "outlinewidth": 1,
              "tickcolor": "rgb(36,36,36)",
              "ticks": "outside"
             }
            },
            "type": "scattergeo"
           }
          ],
          "scattergl": [
           {
            "marker": {
             "colorbar": {
              "outlinewidth": 1,
              "tickcolor": "rgb(36,36,36)",
              "ticks": "outside"
             }
            },
            "type": "scattergl"
           }
          ],
          "scattermap": [
           {
            "marker": {
             "colorbar": {
              "outlinewidth": 1,
              "tickcolor": "rgb(36,36,36)",
              "ticks": "outside"
             }
            },
            "type": "scattermap"
           }
          ],
          "scattermapbox": [
           {
            "marker": {
             "colorbar": {
              "outlinewidth": 1,
              "tickcolor": "rgb(36,36,36)",
              "ticks": "outside"
             }
            },
            "type": "scattermapbox"
           }
          ],
          "scatterpolar": [
           {
            "marker": {
             "colorbar": {
              "outlinewidth": 1,
              "tickcolor": "rgb(36,36,36)",
              "ticks": "outside"
             }
            },
            "type": "scatterpolar"
           }
          ],
          "scatterpolargl": [
           {
            "marker": {
             "colorbar": {
              "outlinewidth": 1,
              "tickcolor": "rgb(36,36,36)",
              "ticks": "outside"
             }
            },
            "type": "scatterpolargl"
           }
          ],
          "scatterternary": [
           {
            "marker": {
             "colorbar": {
              "outlinewidth": 1,
              "tickcolor": "rgb(36,36,36)",
              "ticks": "outside"
             }
            },
            "type": "scatterternary"
           }
          ],
          "surface": [
           {
            "colorbar": {
             "outlinewidth": 1,
             "tickcolor": "rgb(36,36,36)",
             "ticks": "outside"
            },
            "colorscale": [
             [
              0,
              "#440154"
             ],
             [
              0.1111111111111111,
              "#482878"
             ],
             [
              0.2222222222222222,
              "#3e4989"
             ],
             [
              0.3333333333333333,
              "#31688e"
             ],
             [
              0.4444444444444444,
              "#26828e"
             ],
             [
              0.5555555555555556,
              "#1f9e89"
             ],
             [
              0.6666666666666666,
              "#35b779"
             ],
             [
              0.7777777777777778,
              "#6ece58"
             ],
             [
              0.8888888888888888,
              "#b5de2b"
             ],
             [
              1,
              "#fde725"
             ]
            ],
            "type": "surface"
           }
          ],
          "table": [
           {
            "cells": {
             "fill": {
              "color": "rgb(237,237,237)"
             },
             "line": {
              "color": "white"
             }
            },
            "header": {
             "fill": {
              "color": "rgb(217,217,217)"
             },
             "line": {
              "color": "white"
             }
            },
            "type": "table"
           }
          ]
         },
         "layout": {
          "annotationdefaults": {
           "arrowhead": 0,
           "arrowwidth": 1
          },
          "autotypenumbers": "strict",
          "coloraxis": {
           "colorbar": {
            "outlinewidth": 1,
            "tickcolor": "rgb(36,36,36)",
            "ticks": "outside"
           }
          },
          "colorscale": {
           "diverging": [
            [
             0,
             "rgb(103,0,31)"
            ],
            [
             0.1,
             "rgb(178,24,43)"
            ],
            [
             0.2,
             "rgb(214,96,77)"
            ],
            [
             0.3,
             "rgb(244,165,130)"
            ],
            [
             0.4,
             "rgb(253,219,199)"
            ],
            [
             0.5,
             "rgb(247,247,247)"
            ],
            [
             0.6,
             "rgb(209,229,240)"
            ],
            [
             0.7,
             "rgb(146,197,222)"
            ],
            [
             0.8,
             "rgb(67,147,195)"
            ],
            [
             0.9,
             "rgb(33,102,172)"
            ],
            [
             1,
             "rgb(5,48,97)"
            ]
           ],
           "sequential": [
            [
             0,
             "#440154"
            ],
            [
             0.1111111111111111,
             "#482878"
            ],
            [
             0.2222222222222222,
             "#3e4989"
            ],
            [
             0.3333333333333333,
             "#31688e"
            ],
            [
             0.4444444444444444,
             "#26828e"
            ],
            [
             0.5555555555555556,
             "#1f9e89"
            ],
            [
             0.6666666666666666,
             "#35b779"
            ],
            [
             0.7777777777777778,
             "#6ece58"
            ],
            [
             0.8888888888888888,
             "#b5de2b"
            ],
            [
             1,
             "#fde725"
            ]
           ],
           "sequentialminus": [
            [
             0,
             "#440154"
            ],
            [
             0.1111111111111111,
             "#482878"
            ],
            [
             0.2222222222222222,
             "#3e4989"
            ],
            [
             0.3333333333333333,
             "#31688e"
            ],
            [
             0.4444444444444444,
             "#26828e"
            ],
            [
             0.5555555555555556,
             "#1f9e89"
            ],
            [
             0.6666666666666666,
             "#35b779"
            ],
            [
             0.7777777777777778,
             "#6ece58"
            ],
            [
             0.8888888888888888,
             "#b5de2b"
            ],
            [
             1,
             "#fde725"
            ]
           ]
          },
          "colorway": [
           "#1F77B4",
           "#FF7F0E",
           "#2CA02C",
           "#D62728",
           "#9467BD",
           "#8C564B",
           "#E377C2",
           "#7F7F7F",
           "#BCBD22",
           "#17BECF"
          ],
          "font": {
           "color": "rgb(36,36,36)"
          },
          "geo": {
           "bgcolor": "white",
           "lakecolor": "white",
           "landcolor": "white",
           "showlakes": true,
           "showland": true,
           "subunitcolor": "white"
          },
          "hoverlabel": {
           "align": "left"
          },
          "hovermode": "closest",
          "mapbox": {
           "style": "light"
          },
          "paper_bgcolor": "white",
          "plot_bgcolor": "white",
          "polar": {
           "angularaxis": {
            "gridcolor": "rgb(232,232,232)",
            "linecolor": "rgb(36,36,36)",
            "showgrid": false,
            "showline": true,
            "ticks": "outside"
           },
           "bgcolor": "white",
           "radialaxis": {
            "gridcolor": "rgb(232,232,232)",
            "linecolor": "rgb(36,36,36)",
            "showgrid": false,
            "showline": true,
            "ticks": "outside"
           }
          },
          "scene": {
           "xaxis": {
            "backgroundcolor": "white",
            "gridcolor": "rgb(232,232,232)",
            "gridwidth": 2,
            "linecolor": "rgb(36,36,36)",
            "showbackground": true,
            "showgrid": false,
            "showline": true,
            "ticks": "outside",
            "zeroline": false,
            "zerolinecolor": "rgb(36,36,36)"
           },
           "yaxis": {
            "backgroundcolor": "white",
            "gridcolor": "rgb(232,232,232)",
            "gridwidth": 2,
            "linecolor": "rgb(36,36,36)",
            "showbackground": true,
            "showgrid": false,
            "showline": true,
            "ticks": "outside",
            "zeroline": false,
            "zerolinecolor": "rgb(36,36,36)"
           },
           "zaxis": {
            "backgroundcolor": "white",
            "gridcolor": "rgb(232,232,232)",
            "gridwidth": 2,
            "linecolor": "rgb(36,36,36)",
            "showbackground": true,
            "showgrid": false,
            "showline": true,
            "ticks": "outside",
            "zeroline": false,
            "zerolinecolor": "rgb(36,36,36)"
           }
          },
          "shapedefaults": {
           "fillcolor": "black",
           "line": {
            "width": 0
           },
           "opacity": 0.3
          },
          "ternary": {
           "aaxis": {
            "gridcolor": "rgb(232,232,232)",
            "linecolor": "rgb(36,36,36)",
            "showgrid": false,
            "showline": true,
            "ticks": "outside"
           },
           "baxis": {
            "gridcolor": "rgb(232,232,232)",
            "linecolor": "rgb(36,36,36)",
            "showgrid": false,
            "showline": true,
            "ticks": "outside"
           },
           "bgcolor": "white",
           "caxis": {
            "gridcolor": "rgb(232,232,232)",
            "linecolor": "rgb(36,36,36)",
            "showgrid": false,
            "showline": true,
            "ticks": "outside"
           }
          },
          "title": {
           "x": 0.05
          },
          "xaxis": {
           "automargin": true,
           "gridcolor": "rgb(232,232,232)",
           "linecolor": "rgb(36,36,36)",
           "showgrid": false,
           "showline": true,
           "ticks": "outside",
           "title": {
            "standoff": 15
           },
           "zeroline": false,
           "zerolinecolor": "rgb(36,36,36)"
          },
          "yaxis": {
           "automargin": true,
           "gridcolor": "rgb(232,232,232)",
           "linecolor": "rgb(36,36,36)",
           "showgrid": false,
           "showline": true,
           "ticks": "outside",
           "title": {
            "standoff": 15
           },
           "zeroline": false,
           "zerolinecolor": "rgb(36,36,36)"
          }
         }
        },
        "title": {
         "font": {
          "color": "Black",
          "size": 20
         },
         "text": "<b>Intertopic Distance Map</b>",
         "x": 0.15,
         "xanchor": "center",
         "y": 0.95,
         "yanchor": "top"
        },
        "width": 1000,
        "xaxis": {
         "anchor": "y",
         "domain": [
          0,
          1
         ],
         "range": [
          -9.588056564331055,
          17.974546194076538
         ],
         "showgrid": false,
         "showline": true,
         "ticks": "outside",
         "title": {},
         "visible": false,
         "zeroline": true
        },
        "yaxis": {
         "anchor": "x",
         "domain": [
          0,
          1
         ],
         "range": [
          -19.09625835418701,
          26.20142936706543
         ],
         "showgrid": false,
         "showline": true,
         "ticks": "outside",
         "title": {},
         "visible": false,
         "zeroline": true
        }
       }
      }
     },
     "metadata": {},
     "output_type": "display_data"
    }
   ],
   "source": [
    "# ------------------------------------------------------------\n",
    "# Visualize intertopic distances\n",
    "# ------------------------------------------------------------\n",
    "\n",
    "# N.B. UMAP (Uniform Manifold Approximation and Projection)\n",
    "# used for dimensionality reduction. \n",
    "fig_2d = topic_model.visualize_topics(custom_labels=True)\n",
    "\n",
    "# Update background and grid\n",
    "fig_2d.update_layout(\n",
    "    plot_bgcolor=\"white\",\n",
    "    paper_bgcolor=\"white\",\n",
    "    font_family=\"Arial\",\n",
    "    title_font_size=20,\n",
    "    title_x=0.15,  # Center title\n",
    "    width=1000,\n",
    "    height=800,\n",
    "    xaxis=dict(\n",
    "        showgrid=False,\n",
    "        zeroline=True,\n",
    "        showline=True,\n",
    "        ticks=\"outside\",\n",
    "        title=None\n",
    "    ),\n",
    "    yaxis=dict(\n",
    "        showgrid=False,\n",
    "        zeroline=True,\n",
    "        showline=True,\n",
    "        ticks=\"outside\",\n",
    "        title=None\n",
    "    ),\n",
    "    legend=dict(\n",
    "        orientation=\"h\",\n",
    "        yanchor=\"bottom\",\n",
    "        y=1.02,\n",
    "        xanchor=\"center\",\n",
    "        x=0.5\n",
    "    )\n",
    ")\n",
    "\n",
    "fig_2d.write_image(\"../outputs/intertopic_distance_map_2D.png\")\n",
    "fig_2d.write_html(\"../outputs/intertopic_distance_map_2D.html\")   \n",
    "\n",
    "fig_2d.show()\n",
    "\n"
   ]
  }
 ],
 "metadata": {
  "kernelspec": {
   "display_name": "iata",
   "language": "python",
   "name": "python3"
  },
  "language_info": {
   "codemirror_mode": {
    "name": "ipython",
    "version": 3
   },
   "file_extension": ".py",
   "mimetype": "text/x-python",
   "name": "python",
   "nbconvert_exporter": "python",
   "pygments_lexer": "ipython3",
   "version": "3.9.22"
  }
 },
 "nbformat": 4,
 "nbformat_minor": 5
}
