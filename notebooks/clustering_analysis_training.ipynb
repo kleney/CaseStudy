{
 "cells": [
  {
   "cell_type": "markdown",
   "id": "5e7f378b",
   "metadata": {},
   "source": [
    "# Clustering analysis using unsupervised learning\n",
    "This notebook loads IATA annual review text chunks and applies BERTopic to identify dominant topics and trends over time.\n",
    "BERTopic: https://arxiv.org/abs/2203.05794\n",
    "\n",
    "Author: Katharine Leney, April 2005"
   ]
  },
  {
   "cell_type": "code",
   "execution_count": 1,
   "id": "ae58f6eb",
   "metadata": {},
   "outputs": [
    {
     "name": "stderr",
     "output_type": "stream",
     "text": [
      "/Users/katharine/anaconda3/envs/iata/lib/python3.10/site-packages/tqdm/auto.py:21: TqdmWarning: IProgress not found. Please update jupyter and ipywidgets. See https://ipywidgets.readthedocs.io/en/stable/user_install.html\n",
      "  from .autonotebook import tqdm as notebook_tqdm\n"
     ]
    }
   ],
   "source": [
    "from bertopic import BERTopic # topic modelling\n",
    "from sentence_transformers import SentenceTransformer # embeddings\n",
    "import json\n",
    "from sklearn.feature_extraction.text import CountVectorizer\n",
    "import random\n",
    "import numpy as np\n",
    "import torch\n",
    "import pickle\n",
    "from datetime import datetime   \n",
    "from umap import UMAP\n",
    "from hdbscan import HDBSCAN\n",
    "import os\n",
    "import shutil\n",
    "import sys\n",
    "sys.path.append(\"../src\")\n",
    "from utils.stopwords import CUSTOM_STOPWORDS"
   ]
  },
  {
   "cell_type": "code",
   "execution_count": 2,
   "id": "7e7e912f",
   "metadata": {},
   "outputs": [],
   "source": [
    "# ================================================================\n",
    "# Function to filter documents by minimum year, maximum year, \n",
    "# and/or specific years to exclude.\n",
    "# ================================================================\n",
    "\n",
    "def filter_data(data, min_year=None, max_year=None, exclude_years=None):\n",
    "    \"\"\"\n",
    "    Args:\n",
    "        data (list): List of dicts with at least a 'year' field.\n",
    "        min_year (int, optional): Keep only documents from this year onwards.\n",
    "        max_year (int, optional): Keep only documents up to and including this year.\n",
    "        exclude_years (list of int, optional): Years to exclude.\n",
    "\n",
    "    Returns:\n",
    "        tuple: (filtered_data, description_string)\n",
    "    \"\"\"\n",
    "    filtered = []\n",
    "    for entry in data:\n",
    "        year = int(entry[\"year\"])\n",
    "        if min_year is not None and year < min_year:\n",
    "            continue\n",
    "        if max_year is not None and year > max_year:\n",
    "            continue\n",
    "        if exclude_years is not None and year in exclude_years:\n",
    "            continue\n",
    "        filtered.append(entry)\n",
    "\n",
    "    # Build description\n",
    "    desc_parts = []\n",
    "    if min_year is not None:\n",
    "        desc_parts.append(f\"from_{min_year}\")\n",
    "    if max_year is not None:\n",
    "        desc_parts.append(f\"up_to_{max_year}\")\n",
    "    if exclude_years:\n",
    "        desc_parts.append(f\"excl_{'_'.join(map(str, exclude_years))}\")\n",
    "\n",
    "    description = \"_\".join(desc_parts) if desc_parts else \"all data\"\n",
    "\n",
    "    return filtered, description"
   ]
  },
  {
   "cell_type": "code",
   "execution_count": null,
   "id": "56705130",
   "metadata": {},
   "outputs": [],
   "source": [
    "# Load data (chunks extracted from annual\n",
    "# reports using src/extract.py)\n",
    "with open(\"../data/chunks.json\") as f:\n",
    "    data = json.load(f)\n",
    "\n",
    "# Possibility to filter data (e.g. focus on last 10 years but exclude pandemic)\n",
    "apply_filter=True\n",
    "filter_description=\"\"\n",
    "if apply_filter :\n",
    "    filtered_data, filter_description = filter_data(data, min_year=2015, exclude_years=[2020, 2021])\n",
    "    data = filtered_data\n",
    "    print(filter_description)\n",
    "\n",
    "texts = [entry[\"text\"] for entry in data]\n",
    "timestamps = [entry[\"year\"] for entry in data]  # used for topic over time\n",
    "\n",
    "# Make sure the models and outputs folders exist\n",
    "os.makedirs(\"../outputs\", exist_ok=True)\n",
    "os.makedirs(\"../models\", exist_ok=True)"
   ]
  },
  {
   "cell_type": "code",
   "execution_count": 4,
   "id": "b39b751e",
   "metadata": {},
   "outputs": [],
   "source": [
    "# --------------------------------------------------\n",
    "# Set hyperparameters for UMAP and HDBScan\n",
    "# (chosen using grid_search_clustering_analysis.ipynb)\n",
    "# Set random seeds everywhere to improve stability\n",
    "# of model (needed with small dataset)\n",
    "# --------------------------------------------------\n",
    "\n",
    "random.seed(42)\n",
    "np.random.seed(42)\n",
    "torch.manual_seed(42)\n",
    "\n",
    "# If using GPU (for completeness):\n",
    "if torch.cuda.is_available():\n",
    "    torch.cuda.manual_seed_all(42)\n",
    "\n",
    "# Fix UMAP state\n",
    "# (controls topical separation)\n",
    "umap_model = UMAP(\n",
    "    n_neighbors=10, # larger = clusters more blended, smaller = tighter clusters\n",
    "    n_components=5, \n",
    "    min_dist=0.1, # controls spread of clusters (range: 0.0--0.1. larger = crisper clusters)\n",
    "    metric='cosine', \n",
    "    random_state=42\n",
    "    )\n",
    "\n",
    "# Fix HDBScan state\n",
    "# (controls topic stability)\n",
    "hdbscan_model = HDBSCAN(\n",
    "    min_cluster_size=20, \n",
    "    metric='euclidean', \n",
    "    cluster_selection_method='eom', \n",
    "    prediction_data=True\n",
    "    )\n"
   ]
  },
  {
   "cell_type": "code",
   "execution_count": 5,
   "id": "c0d1b1e6",
   "metadata": {},
   "outputs": [],
   "source": [
    "# Lightweight sentence transformer from Hugging Face\n",
    "# https://huggingface.co/sentence-transformers/all-MiniLM-L6-v2\n",
    "# Turns sentences into dense vectors \n",
    "# https://medium.com/@yasindusanjeewa8/dense-vectors-in-natural-language-processing-06818dff5cd7\n",
    "\n",
    "embedding_model = SentenceTransformer(\"all-MiniLM-L6-v2\")"
   ]
  },
  {
   "cell_type": "code",
   "execution_count": 6,
   "id": "ba23fdc7",
   "metadata": {},
   "outputs": [],
   "source": [
    "# Only allow tokens with at least one alphabet character (i.e. excludes numbers)\n",
    "token_pattern = r\"(?u)\\b[a-zA-Z]*[a-zA-Z][a-zA-Z]*\\b\"\n",
    "\n",
    "custom_vectorizer = CountVectorizer(\n",
    "    stop_words=CUSTOM_STOPWORDS, # Remove stopwords\n",
    "    ngram_range=(1, 2),          # Include unigrams and bigrams\n",
    "    token_pattern=token_pattern\n",
    ")"
   ]
  },
  {
   "cell_type": "code",
   "execution_count": 7,
   "id": "487ccb21",
   "metadata": {},
   "outputs": [
    {
     "name": "stderr",
     "output_type": "stream",
     "text": [
      "2025-04-28 18:27:07,780 - BERTopic - Embedding - Transforming documents to embeddings.\n",
      "Batches: 100%|██████████| 97/97 [00:09<00:00,  9.71it/s]\n",
      "2025-04-28 18:27:17,866 - BERTopic - Embedding - Completed ✓\n",
      "2025-04-28 18:27:17,866 - BERTopic - Dimensionality - Fitting the dimensionality reduction algorithm\n",
      "2025-04-28 18:27:28,805 - BERTopic - Dimensionality - Completed ✓\n",
      "2025-04-28 18:27:28,806 - BERTopic - Cluster - Start clustering the reduced embeddings\n",
      "2025-04-28 18:27:28,945 - BERTopic - Cluster - Completed ✓\n",
      "2025-04-28 18:27:28,947 - BERTopic - Representation - Fine-tuning topics using representation models.\n",
      "2025-04-28 18:27:29,340 - BERTopic - Representation - Completed ✓\n"
     ]
    }
   ],
   "source": [
    "# Create and fit BERTopic model\n",
    "topic_model = BERTopic(embedding_model=embedding_model, \n",
    "                       vectorizer_model=custom_vectorizer,\n",
    "                       umap_model=umap_model,\n",
    "                       hdbscan_model=hdbscan_model, \n",
    "                       calculate_probabilities=True,\n",
    "                       verbose=True)\n",
    "topics, probs = topic_model.fit_transform(texts)"
   ]
  },
  {
   "cell_type": "code",
   "execution_count": 8,
   "id": "173d7fa8",
   "metadata": {},
   "outputs": [
    {
     "name": "stderr",
     "output_type": "stream",
     "text": [
      "2025-04-28 18:27:31,972 - BERTopic - WARNING: When you use `pickle` to save/load a BERTopic model,please make sure that the environments in which you saveand load the model are **exactly** the same. The version of BERTopic,its dependencies, and python need to remain the same.\n"
     ]
    },
    {
     "name": "stdout",
     "output_type": "stream",
     "text": [
      "Saving model to  ../models/bertopic_cluster_model__20250428\n"
     ]
    }
   ],
   "source": [
    "# Save model with datestamp and filter name\n",
    "save_model=True\n",
    "\n",
    "if save_model:\n",
    "    today = datetime.now().strftime(\"%Y%m%d\")\n",
    "    model_dir = f\"../models/bertopic_cluster_model_{filter_description}_{today}\"\n",
    "\n",
    "    print(\"Saving model to \",model_dir)\n",
    "\n",
    "    # If directory exists, delete it (clean overwrite)\n",
    "    if os.path.exists(model_dir):\n",
    "        shutil.rmtree(model_dir)\n",
    "\n",
    "    # Create the directory\n",
    "    os.makedirs(model_dir)\n",
    "\n",
    "    # Save the BERTopic model\n",
    "    topic_model.save(os.path.join(model_dir, \"model\"))\n",
    "\n",
    "    # Save the texts and timestamps\n",
    "    with open(os.path.join(model_dir, \"texts.pkl\"), \"wb\") as f:\n",
    "        pickle.dump(texts, f)\n",
    "\n",
    "    with open(os.path.join(model_dir, \"timestamps.pkl\"), \"wb\") as f:\n",
    "        pickle.dump(timestamps, f)"
   ]
  },
  {
   "cell_type": "code",
   "execution_count": 9,
   "id": "b151598c",
   "metadata": {},
   "outputs": [
    {
     "data": {
      "text/plain": [
       "{'analyzer': 'word',\n",
       " 'binary': False,\n",
       " 'decode_error': 'strict',\n",
       " 'dtype': numpy.int64,\n",
       " 'encoding': 'utf-8',\n",
       " 'input': 'content',\n",
       " 'lowercase': True,\n",
       " 'max_df': 1.0,\n",
       " 'max_features': None,\n",
       " 'min_df': 1,\n",
       " 'ngram_range': (1, 2),\n",
       " 'preprocessor': None,\n",
       " 'stop_words': ['a',\n",
       "  'about',\n",
       "  'above',\n",
       "  'across',\n",
       "  'after',\n",
       "  'afterwards',\n",
       "  'again',\n",
       "  'against',\n",
       "  'air',\n",
       "  'all',\n",
       "  'almost',\n",
       "  'alone',\n",
       "  'along',\n",
       "  'already',\n",
       "  'also',\n",
       "  'although',\n",
       "  'always',\n",
       "  'am',\n",
       "  'among',\n",
       "  'amongst',\n",
       "  'amoungst',\n",
       "  'amount',\n",
       "  'an',\n",
       "  'and',\n",
       "  'annual',\n",
       "  'another',\n",
       "  'any',\n",
       "  'anyhow',\n",
       "  'anyone',\n",
       "  'anything',\n",
       "  'anyway',\n",
       "  'anywhere',\n",
       "  'apr',\n",
       "  'april',\n",
       "  'are',\n",
       "  'around',\n",
       "  'as',\n",
       "  'association',\n",
       "  'at',\n",
       "  'aug',\n",
       "  'august',\n",
       "  'aviation',\n",
       "  'back',\n",
       "  'be',\n",
       "  'became',\n",
       "  'because',\n",
       "  'become',\n",
       "  'becomes',\n",
       "  'becoming',\n",
       "  'been',\n",
       "  'before',\n",
       "  'beforehand',\n",
       "  'behind',\n",
       "  'being',\n",
       "  'below',\n",
       "  'beside',\n",
       "  'besides',\n",
       "  'between',\n",
       "  'beyond',\n",
       "  'bill',\n",
       "  'bisignani',\n",
       "  'both',\n",
       "  'bottom',\n",
       "  'but',\n",
       "  'by',\n",
       "  'call',\n",
       "  'can',\n",
       "  'cannot',\n",
       "  'cant',\n",
       "  'ceo',\n",
       "  'chief',\n",
       "  'co',\n",
       "  'con',\n",
       "  'could',\n",
       "  'couldnt',\n",
       "  'cry',\n",
       "  'de',\n",
       "  'dec',\n",
       "  'december',\n",
       "  'describe',\n",
       "  'detail',\n",
       "  'director',\n",
       "  'do',\n",
       "  'done',\n",
       "  'down',\n",
       "  'due',\n",
       "  'during',\n",
       "  'each',\n",
       "  'eg',\n",
       "  'eight',\n",
       "  'either',\n",
       "  'eleven',\n",
       "  'else',\n",
       "  'elsewhere',\n",
       "  'empty',\n",
       "  'enough',\n",
       "  'etc',\n",
       "  'even',\n",
       "  'ever',\n",
       "  'every',\n",
       "  'everyone',\n",
       "  'everything',\n",
       "  'everywhere',\n",
       "  'except',\n",
       "  'executive',\n",
       "  'feb',\n",
       "  'february',\n",
       "  'few',\n",
       "  'fifteen',\n",
       "  'fifty',\n",
       "  'fill',\n",
       "  'find',\n",
       "  'fire',\n",
       "  'first',\n",
       "  'five',\n",
       "  'flight',\n",
       "  'for',\n",
       "  'former',\n",
       "  'formerly',\n",
       "  'forty',\n",
       "  'found',\n",
       "  'four',\n",
       "  'from',\n",
       "  'front',\n",
       "  'full',\n",
       "  'further',\n",
       "  'general',\n",
       "  'get',\n",
       "  'giovanni',\n",
       "  'give',\n",
       "  'go',\n",
       "  'had',\n",
       "  'has',\n",
       "  'hasnt',\n",
       "  'have',\n",
       "  'he',\n",
       "  'hence',\n",
       "  'her',\n",
       "  'here',\n",
       "  'hereafter',\n",
       "  'hereby',\n",
       "  'herein',\n",
       "  'hereupon',\n",
       "  'hers',\n",
       "  'herself',\n",
       "  'him',\n",
       "  'himself',\n",
       "  'his',\n",
       "  'how',\n",
       "  'however',\n",
       "  'hundred',\n",
       "  'i',\n",
       "  'iata',\n",
       "  'ie',\n",
       "  'if',\n",
       "  'in',\n",
       "  'inc',\n",
       "  'indeed',\n",
       "  'industry',\n",
       "  'interest',\n",
       "  'into',\n",
       "  'is',\n",
       "  'it',\n",
       "  'its',\n",
       "  'itself',\n",
       "  'jan',\n",
       "  'january',\n",
       "  'jul',\n",
       "  'july',\n",
       "  'jun',\n",
       "  'june',\n",
       "  'keep',\n",
       "  'last',\n",
       "  'latter',\n",
       "  'latterly',\n",
       "  'least',\n",
       "  'less',\n",
       "  'ltd',\n",
       "  'made',\n",
       "  'many',\n",
       "  'mar',\n",
       "  'march',\n",
       "  'may',\n",
       "  'me',\n",
       "  'meanwhile',\n",
       "  'might',\n",
       "  'mill',\n",
       "  'mine',\n",
       "  'more',\n",
       "  'moreover',\n",
       "  'most',\n",
       "  'mostly',\n",
       "  'move',\n",
       "  'much',\n",
       "  'must',\n",
       "  'my',\n",
       "  'myself',\n",
       "  'name',\n",
       "  'namely',\n",
       "  'neither',\n",
       "  'never',\n",
       "  'nevertheless',\n",
       "  'next',\n",
       "  'nine',\n",
       "  'no',\n",
       "  'nobody',\n",
       "  'none',\n",
       "  'noone',\n",
       "  'nor',\n",
       "  'not',\n",
       "  'nothing',\n",
       "  'nov',\n",
       "  'november',\n",
       "  'now',\n",
       "  'nowhere',\n",
       "  'oct',\n",
       "  'october',\n",
       "  'of',\n",
       "  'off',\n",
       "  'officer',\n",
       "  'often',\n",
       "  'on',\n",
       "  'once',\n",
       "  'one',\n",
       "  'only',\n",
       "  'onto',\n",
       "  'or',\n",
       "  'other',\n",
       "  'others',\n",
       "  'otherwise',\n",
       "  'our',\n",
       "  'ours',\n",
       "  'ourselves',\n",
       "  'out',\n",
       "  'over',\n",
       "  'own',\n",
       "  'part',\n",
       "  'per',\n",
       "  'perhaps',\n",
       "  'please',\n",
       "  'put',\n",
       "  'rather',\n",
       "  're',\n",
       "  'review',\n",
       "  'same',\n",
       "  'sector',\n",
       "  'see',\n",
       "  'seem',\n",
       "  'seemed',\n",
       "  'seeming',\n",
       "  'seems',\n",
       "  'sep',\n",
       "  'september',\n",
       "  'serious',\n",
       "  'several',\n",
       "  'she',\n",
       "  'should',\n",
       "  'show',\n",
       "  'side',\n",
       "  'since',\n",
       "  'sincere',\n",
       "  'six',\n",
       "  'sixty',\n",
       "  'sky',\n",
       "  'so',\n",
       "  'some',\n",
       "  'somehow',\n",
       "  'someone',\n",
       "  'something',\n",
       "  'sometime',\n",
       "  'sometimes',\n",
       "  'somewhere',\n",
       "  'still',\n",
       "  'such',\n",
       "  'system',\n",
       "  'take',\n",
       "  'ten',\n",
       "  'than',\n",
       "  'that',\n",
       "  'the',\n",
       "  'their',\n",
       "  'them',\n",
       "  'themselves',\n",
       "  'then',\n",
       "  'thence',\n",
       "  'there',\n",
       "  'thereafter',\n",
       "  'thereby',\n",
       "  'therefore',\n",
       "  'therein',\n",
       "  'thereupon',\n",
       "  'these',\n",
       "  'they',\n",
       "  'thick',\n",
       "  'thin',\n",
       "  'third',\n",
       "  'this',\n",
       "  'those',\n",
       "  'though',\n",
       "  'three',\n",
       "  'through',\n",
       "  'throughout',\n",
       "  'thru',\n",
       "  'thus',\n",
       "  'to',\n",
       "  'together',\n",
       "  'too',\n",
       "  'top',\n",
       "  'toward',\n",
       "  'towards',\n",
       "  'transport',\n",
       "  'twelve',\n",
       "  'twenty',\n",
       "  'two',\n",
       "  'un',\n",
       "  'under',\n",
       "  'until',\n",
       "  'up',\n",
       "  'upon',\n",
       "  'us',\n",
       "  'very',\n",
       "  'via',\n",
       "  'was',\n",
       "  'we',\n",
       "  'well',\n",
       "  'were',\n",
       "  'what',\n",
       "  'whatever',\n",
       "  'when',\n",
       "  'whence',\n",
       "  'whenever',\n",
       "  'where',\n",
       "  'whereafter',\n",
       "  'whereas',\n",
       "  'whereby',\n",
       "  'wherein',\n",
       "  'whereupon',\n",
       "  'wherever',\n",
       "  'whether',\n",
       "  'which',\n",
       "  'while',\n",
       "  'whither',\n",
       "  'who',\n",
       "  'whoever',\n",
       "  'whole',\n",
       "  'whom',\n",
       "  'whose',\n",
       "  'why',\n",
       "  'will',\n",
       "  'with',\n",
       "  'within',\n",
       "  'without',\n",
       "  'would',\n",
       "  'yet',\n",
       "  'you',\n",
       "  'your',\n",
       "  'yours',\n",
       "  'yourself',\n",
       "  'yourselves'],\n",
       " 'strip_accents': None,\n",
       " 'token_pattern': '(?u)\\\\b[a-zA-Z]*[a-zA-Z][a-zA-Z]*\\\\b',\n",
       " 'tokenizer': None,\n",
       " 'vocabulary': None}"
      ]
     },
     "execution_count": 9,
     "metadata": {},
     "output_type": "execute_result"
    }
   ],
   "source": [
    "# Inspect model parameters\n",
    "topic_model.vectorizer_model.get_params()"
   ]
  },
  {
   "cell_type": "code",
   "execution_count": 10,
   "id": "de82eb6e",
   "metadata": {},
   "outputs": [
    {
     "data": {
      "text/html": [
       "<div>\n",
       "<style scoped>\n",
       "    .dataframe tbody tr th:only-of-type {\n",
       "        vertical-align: middle;\n",
       "    }\n",
       "\n",
       "    .dataframe tbody tr th {\n",
       "        vertical-align: top;\n",
       "    }\n",
       "\n",
       "    .dataframe thead th {\n",
       "        text-align: right;\n",
       "    }\n",
       "</style>\n",
       "<table border=\"1\" class=\"dataframe\">\n",
       "  <thead>\n",
       "    <tr style=\"text-align: right;\">\n",
       "      <th></th>\n",
       "      <th>Topic</th>\n",
       "      <th>Count</th>\n",
       "      <th>Name</th>\n",
       "      <th>Representation</th>\n",
       "      <th>Representative_Docs</th>\n",
       "    </tr>\n",
       "  </thead>\n",
       "  <tbody>\n",
       "    <tr>\n",
       "      <th>0</th>\n",
       "      <td>-1</td>\n",
       "      <td>275</td>\n",
       "      <td>-1_airlines_passengers_s_airline</td>\n",
       "      <td>[airlines, passengers, s, airline, travel, car...</td>\n",
       "      <td>[ONE Order will  greatly simplify the passenge...</td>\n",
       "    </tr>\n",
       "    <tr>\n",
       "      <th>1</th>\n",
       "      <td>0</td>\n",
       "      <td>499</td>\n",
       "      <td>0_growth_passenger_travel_markets</td>\n",
       "      <td>[growth, passenger, travel, markets, cargo, ye...</td>\n",
       "      <td>[Available seat  kilometers (ASK) flown increa...</td>\n",
       "    </tr>\n",
       "    <tr>\n",
       "      <th>2</th>\n",
       "      <td>1</td>\n",
       "      <td>315</td>\n",
       "      <td>1_safety_iosa_accidents_accident</td>\n",
       "      <td>[safety, iosa, accidents, accident, audit, gro...</td>\n",
       "      <td>[22 Auditing to global standards and practices...</td>\n",
       "    </tr>\n",
       "    <tr>\n",
       "      <th>3</th>\n",
       "      <td>2</td>\n",
       "      <td>297</td>\n",
       "      <td>2_emissions_carbon_saf_environmental</td>\n",
       "      <td>[emissions, carbon, saf, environmental, icao, ...</td>\n",
       "      <td>[Capping net emissions through carbon-neutral ...</td>\n",
       "    </tr>\n",
       "    <tr>\n",
       "      <th>4</th>\n",
       "      <td>3</td>\n",
       "      <td>253</td>\n",
       "      <td>3_airport_charges_cost_airports</td>\n",
       "      <td>[airport, charges, cost, airports, infrastruct...</td>\n",
       "      <td>[Airports Savings in airport charges of $1.5 b...</td>\n",
       "    </tr>\n",
       "    <tr>\n",
       "      <th>5</th>\n",
       "      <td>4</td>\n",
       "      <td>196</td>\n",
       "      <td>4_security_risk_information_passenger</td>\n",
       "      <td>[security, risk, information, passenger, smart...</td>\n",
       "      <td>[Smart Security  Smart Security is a joint ini...</td>\n",
       "    </tr>\n",
       "    <tr>\n",
       "      <th>6</th>\n",
       "      <td>5</td>\n",
       "      <td>177</td>\n",
       "      <td>5_settlement_billion_bsp_processed</td>\n",
       "      <td>[settlement, billion, bsp, processed, cass, is...</td>\n",
       "      <td>[At  the end of 2017, CASS  was processing 94 ...</td>\n",
       "    </tr>\n",
       "    <tr>\n",
       "      <th>7</th>\n",
       "      <td>6</td>\n",
       "      <td>169</td>\n",
       "      <td>6_s_commercial_business_world</td>\n",
       "      <td>[s, commercial, business, world, contents, peo...</td>\n",
       "      <td>[Annual Review 2016\\n\\nTony Tyler  Director Ge...</td>\n",
       "    </tr>\n",
       "    <tr>\n",
       "      <th>8</th>\n",
       "      <td>7</td>\n",
       "      <td>93</td>\n",
       "      <td>7_cargo_e_freight_e freight</td>\n",
       "      <td>[cargo, e, freight, e freight, awb, e awb, cha...</td>\n",
       "      <td>[In partnership with shippers, freight forward...</td>\n",
       "    </tr>\n",
       "    <tr>\n",
       "      <th>9</th>\n",
       "      <td>8</td>\n",
       "      <td>80</td>\n",
       "      <td>8_regulation_rights_passenger rights_regulations</td>\n",
       "      <td>[regulation, rights, passenger rights, regulat...</td>\n",
       "      <td>[SMARTER REGULATION PRINCIPLES Smarter regulat...</td>\n",
       "    </tr>\n",
       "  </tbody>\n",
       "</table>\n",
       "</div>"
      ],
      "text/plain": [
       "   Topic  Count                                              Name  \\\n",
       "0     -1    275                  -1_airlines_passengers_s_airline   \n",
       "1      0    499                 0_growth_passenger_travel_markets   \n",
       "2      1    315                  1_safety_iosa_accidents_accident   \n",
       "3      2    297              2_emissions_carbon_saf_environmental   \n",
       "4      3    253                   3_airport_charges_cost_airports   \n",
       "5      4    196             4_security_risk_information_passenger   \n",
       "6      5    177                5_settlement_billion_bsp_processed   \n",
       "7      6    169                     6_s_commercial_business_world   \n",
       "8      7     93                       7_cargo_e_freight_e freight   \n",
       "9      8     80  8_regulation_rights_passenger rights_regulations   \n",
       "\n",
       "                                      Representation  \\\n",
       "0  [airlines, passengers, s, airline, travel, car...   \n",
       "1  [growth, passenger, travel, markets, cargo, ye...   \n",
       "2  [safety, iosa, accidents, accident, audit, gro...   \n",
       "3  [emissions, carbon, saf, environmental, icao, ...   \n",
       "4  [airport, charges, cost, airports, infrastruct...   \n",
       "5  [security, risk, information, passenger, smart...   \n",
       "6  [settlement, billion, bsp, processed, cass, is...   \n",
       "7  [s, commercial, business, world, contents, peo...   \n",
       "8  [cargo, e, freight, e freight, awb, e awb, cha...   \n",
       "9  [regulation, rights, passenger rights, regulat...   \n",
       "\n",
       "                                 Representative_Docs  \n",
       "0  [ONE Order will  greatly simplify the passenge...  \n",
       "1  [Available seat  kilometers (ASK) flown increa...  \n",
       "2  [22 Auditing to global standards and practices...  \n",
       "3  [Capping net emissions through carbon-neutral ...  \n",
       "4  [Airports Savings in airport charges of $1.5 b...  \n",
       "5  [Smart Security  Smart Security is a joint ini...  \n",
       "6  [At  the end of 2017, CASS  was processing 94 ...  \n",
       "7  [Annual Review 2016\\n\\nTony Tyler  Director Ge...  \n",
       "8  [In partnership with shippers, freight forward...  \n",
       "9  [SMARTER REGULATION PRINCIPLES Smarter regulat...  "
      ]
     },
     "execution_count": 10,
     "metadata": {},
     "output_type": "execute_result"
    }
   ],
   "source": [
    "# Explore top topics\n",
    "topic_model.get_topic_info().head(10)\n",
    "#topic_model.get_topic_info()"
   ]
  },
  {
   "cell_type": "code",
   "execution_count": 11,
   "id": "5ef2a8c2",
   "metadata": {},
   "outputs": [],
   "source": [
    "\n",
    "# Export full topic info to csv file for easier viewing/cross-checks\n",
    "topic_model.get_topic_info().to_csv(\"../data/topic_info.csv\", index=False)\n"
   ]
  },
  {
   "cell_type": "code",
   "execution_count": 13,
   "id": "58eb5740",
   "metadata": {},
   "outputs": [
    {
     "data": {
      "application/vnd.plotly.v1+json": {
       "config": {
        "plotlyServerURL": "https://plot.ly"
       },
       "data": [
        {
         "customdata": [
          [
           0,
           "growth | passenger | travel | markets | cargo",
           499
          ],
          [
           1,
           "safety | iosa | accidents | accident | audit",
           315
          ],
          [
           2,
           "emissions | carbon | saf | environmental | icao",
           297
          ],
          [
           3,
           "airport | charges | cost | airports | infrastructure",
           253
          ],
          [
           4,
           "security | risk | information | passenger | smart security",
           196
          ],
          [
           5,
           "settlement | billion | bsp | processed | cass",
           177
          ],
          [
           6,
           "s | commercial | business | world | contents",
           169
          ],
          [
           7,
           "cargo | e | freight | e freight | awb",
           93
          ],
          [
           8,
           "regulation | rights | passenger rights | regulations | smarter",
           80
          ],
          [
           9,
           "ndc | travel | airline | retailing | order",
           73
          ],
          [
           10,
           "airlines | airways | china | cargo | latam",
           69
          ],
          [
           11,
           "tax | taxes | taxation | government | passenger",
           67
          ],
          [
           12,
           "lithium | ceiv | batteries | lithium batteries | dangerous",
           61
          ],
          [
           13,
           "training | itdi | strategic | courses | partners",
           56
          ],
          [
           14,
           "slot | wsg | slots | airports | airport",
           46
          ],
          [
           15,
           "chairman | president | airlines | airways | board",
           44
          ],
          [
           16,
           "data | intelligence | cargois | business intelligence | dds",
           41
          ],
          [
           17,
           " |  |  |  | ",
           40
          ],
          [
           18,
           "bcbp | e | ticketing | boarding | passes",
           38
          ],
          [
           19,
           "baggage | self | fast travel | fast | travel",
           37
          ],
          [
           20,
           "diversity | inclusion | diversity inclusion | gender | female",
           33
          ],
          [
           21,
           "tel fax | fax | tel | offices | box",
           32
          ],
          [
           22,
           "id | identity | digital | biometric | travel",
           32
          ],
          [
           23,
           "fuel | jet fuel | jet | supply | fuel supply",
           28
          ],
          [
           24,
           "timatic | airs t | airs | t | timatic autocheck",
           26
          ],
          [
           25,
           "unruly | incidents | unruly passenger | unruly passengers | behavior",
           25
          ]
         ],
         "hovertemplate": "<b>Topic %{customdata[0]}</b><br>%{customdata[1]}<br>Size: %{customdata[2]}",
         "legendgroup": "",
         "marker": {
          "color": "#B0BEC5",
          "line": {
           "color": "DarkSlateGrey",
           "width": 2
          },
          "size": {
           "bdata": "8wE7ASkB/QDEALEAqQBdAFAASQBFAEMAPQA4AC4ALAApACgAJgAlACEAIAAgABwAGgAZAA==",
           "dtype": "i2"
          },
          "sizemode": "area",
          "sizeref": 0.311875,
          "symbol": "circle"
         },
         "mode": "markers",
         "name": "",
         "orientation": "v",
         "showlegend": false,
         "type": "scatter",
         "x": {
          "bdata": "I8UUQYWU2kB7QB1BZwy8QVBD3kCitaJAYGIWQZ0X+sBNUKk+NmqZQAuQBEFKQblBtEb+wJ63EUEAE71BcZAIQQ6G8MDHHfpAkP+dQN1ujkCpQhdBm2D6QGGh5ED9G7hBA0zswIWvuz4=",
          "dtype": "f4"
         },
         "xaxis": "x",
         "y": {
          "bdata": "W7AvQC+bN0Ge0SVAgSzzvkbGNUExPQFADf0zQIT+tEBXuU7AD2HdP1GmFECKIVO/G9KwQIzA/z+Wa7G+uaoeQHjtvUAfZzdAHlnxPzMhsz+NqRlAn/0pQDSXMkGSzHe/6B7CQAKsTMA=",
          "dtype": "f4"
         },
         "yaxis": "y"
        }
       ],
       "layout": {
        "annotations": [
         {
          "showarrow": false,
          "text": "D1",
          "x": -9.138050365447999,
          "y": 4.741061514616012,
          "yshift": 10
         },
         {
          "showarrow": false,
          "text": "D2",
          "x": 9.02068428993225,
          "xshift": 10,
          "y": 13.196694612503052
         }
        ],
        "font": {
         "family": "Arial"
        },
        "height": 800,
        "hoverlabel": {
         "bgcolor": "white",
         "font": {
          "family": "Rockwell",
          "size": 16
         }
        },
        "legend": {
         "itemsizing": "constant",
         "orientation": "h",
         "tracegroupgap": 0,
         "x": 0.5,
         "xanchor": "center",
         "y": 1.02,
         "yanchor": "bottom"
        },
        "margin": {
         "t": 60
        },
        "paper_bgcolor": "white",
        "plot_bgcolor": "white",
        "shapes": [
         {
          "line": {
           "color": "#CFD8DC",
           "width": 2
          },
          "type": "line",
          "x0": 9.02068428993225,
          "x1": 9.02068428993225,
          "y0": -3.7145715832710264,
          "y1": 13.196694612503052
         },
         {
          "line": {
           "color": "#9E9E9E",
           "width": 2
          },
          "type": "line",
          "x0": -9.138050365447999,
          "x1": 27.1794189453125,
          "y0": 4.741061514616012,
          "y1": 4.741061514616012
         }
        ],
        "sliders": [
         {
          "active": 0,
          "pad": {
           "t": 50
          },
          "steps": [
           {
            "args": [
             {
              "marker.color": [
               [
                "red",
                "#B0BEC5",
                "#B0BEC5",
                "#B0BEC5",
                "#B0BEC5",
                "#B0BEC5",
                "#B0BEC5",
                "#B0BEC5",
                "#B0BEC5",
                "#B0BEC5",
                "#B0BEC5",
                "#B0BEC5",
                "#B0BEC5",
                "#B0BEC5",
                "#B0BEC5",
                "#B0BEC5",
                "#B0BEC5",
                "#B0BEC5",
                "#B0BEC5",
                "#B0BEC5",
                "#B0BEC5",
                "#B0BEC5",
                "#B0BEC5",
                "#B0BEC5",
                "#B0BEC5",
                "#B0BEC5"
               ]
              ]
             }
            ],
            "label": "Topic 0",
            "method": "update"
           },
           {
            "args": [
             {
              "marker.color": [
               [
                "#B0BEC5",
                "red",
                "#B0BEC5",
                "#B0BEC5",
                "#B0BEC5",
                "#B0BEC5",
                "#B0BEC5",
                "#B0BEC5",
                "#B0BEC5",
                "#B0BEC5",
                "#B0BEC5",
                "#B0BEC5",
                "#B0BEC5",
                "#B0BEC5",
                "#B0BEC5",
                "#B0BEC5",
                "#B0BEC5",
                "#B0BEC5",
                "#B0BEC5",
                "#B0BEC5",
                "#B0BEC5",
                "#B0BEC5",
                "#B0BEC5",
                "#B0BEC5",
                "#B0BEC5",
                "#B0BEC5"
               ]
              ]
             }
            ],
            "label": "Topic 1",
            "method": "update"
           },
           {
            "args": [
             {
              "marker.color": [
               [
                "#B0BEC5",
                "#B0BEC5",
                "red",
                "#B0BEC5",
                "#B0BEC5",
                "#B0BEC5",
                "#B0BEC5",
                "#B0BEC5",
                "#B0BEC5",
                "#B0BEC5",
                "#B0BEC5",
                "#B0BEC5",
                "#B0BEC5",
                "#B0BEC5",
                "#B0BEC5",
                "#B0BEC5",
                "#B0BEC5",
                "#B0BEC5",
                "#B0BEC5",
                "#B0BEC5",
                "#B0BEC5",
                "#B0BEC5",
                "#B0BEC5",
                "#B0BEC5",
                "#B0BEC5",
                "#B0BEC5"
               ]
              ]
             }
            ],
            "label": "Topic 2",
            "method": "update"
           },
           {
            "args": [
             {
              "marker.color": [
               [
                "#B0BEC5",
                "#B0BEC5",
                "#B0BEC5",
                "red",
                "#B0BEC5",
                "#B0BEC5",
                "#B0BEC5",
                "#B0BEC5",
                "#B0BEC5",
                "#B0BEC5",
                "#B0BEC5",
                "#B0BEC5",
                "#B0BEC5",
                "#B0BEC5",
                "#B0BEC5",
                "#B0BEC5",
                "#B0BEC5",
                "#B0BEC5",
                "#B0BEC5",
                "#B0BEC5",
                "#B0BEC5",
                "#B0BEC5",
                "#B0BEC5",
                "#B0BEC5",
                "#B0BEC5",
                "#B0BEC5"
               ]
              ]
             }
            ],
            "label": "Topic 3",
            "method": "update"
           },
           {
            "args": [
             {
              "marker.color": [
               [
                "#B0BEC5",
                "#B0BEC5",
                "#B0BEC5",
                "#B0BEC5",
                "red",
                "#B0BEC5",
                "#B0BEC5",
                "#B0BEC5",
                "#B0BEC5",
                "#B0BEC5",
                "#B0BEC5",
                "#B0BEC5",
                "#B0BEC5",
                "#B0BEC5",
                "#B0BEC5",
                "#B0BEC5",
                "#B0BEC5",
                "#B0BEC5",
                "#B0BEC5",
                "#B0BEC5",
                "#B0BEC5",
                "#B0BEC5",
                "#B0BEC5",
                "#B0BEC5",
                "#B0BEC5",
                "#B0BEC5"
               ]
              ]
             }
            ],
            "label": "Topic 4",
            "method": "update"
           },
           {
            "args": [
             {
              "marker.color": [
               [
                "#B0BEC5",
                "#B0BEC5",
                "#B0BEC5",
                "#B0BEC5",
                "#B0BEC5",
                "red",
                "#B0BEC5",
                "#B0BEC5",
                "#B0BEC5",
                "#B0BEC5",
                "#B0BEC5",
                "#B0BEC5",
                "#B0BEC5",
                "#B0BEC5",
                "#B0BEC5",
                "#B0BEC5",
                "#B0BEC5",
                "#B0BEC5",
                "#B0BEC5",
                "#B0BEC5",
                "#B0BEC5",
                "#B0BEC5",
                "#B0BEC5",
                "#B0BEC5",
                "#B0BEC5",
                "#B0BEC5"
               ]
              ]
             }
            ],
            "label": "Topic 5",
            "method": "update"
           },
           {
            "args": [
             {
              "marker.color": [
               [
                "#B0BEC5",
                "#B0BEC5",
                "#B0BEC5",
                "#B0BEC5",
                "#B0BEC5",
                "#B0BEC5",
                "red",
                "#B0BEC5",
                "#B0BEC5",
                "#B0BEC5",
                "#B0BEC5",
                "#B0BEC5",
                "#B0BEC5",
                "#B0BEC5",
                "#B0BEC5",
                "#B0BEC5",
                "#B0BEC5",
                "#B0BEC5",
                "#B0BEC5",
                "#B0BEC5",
                "#B0BEC5",
                "#B0BEC5",
                "#B0BEC5",
                "#B0BEC5",
                "#B0BEC5",
                "#B0BEC5"
               ]
              ]
             }
            ],
            "label": "Topic 6",
            "method": "update"
           },
           {
            "args": [
             {
              "marker.color": [
               [
                "#B0BEC5",
                "#B0BEC5",
                "#B0BEC5",
                "#B0BEC5",
                "#B0BEC5",
                "#B0BEC5",
                "#B0BEC5",
                "red",
                "#B0BEC5",
                "#B0BEC5",
                "#B0BEC5",
                "#B0BEC5",
                "#B0BEC5",
                "#B0BEC5",
                "#B0BEC5",
                "#B0BEC5",
                "#B0BEC5",
                "#B0BEC5",
                "#B0BEC5",
                "#B0BEC5",
                "#B0BEC5",
                "#B0BEC5",
                "#B0BEC5",
                "#B0BEC5",
                "#B0BEC5",
                "#B0BEC5"
               ]
              ]
             }
            ],
            "label": "Topic 7",
            "method": "update"
           },
           {
            "args": [
             {
              "marker.color": [
               [
                "#B0BEC5",
                "#B0BEC5",
                "#B0BEC5",
                "#B0BEC5",
                "#B0BEC5",
                "#B0BEC5",
                "#B0BEC5",
                "#B0BEC5",
                "red",
                "#B0BEC5",
                "#B0BEC5",
                "#B0BEC5",
                "#B0BEC5",
                "#B0BEC5",
                "#B0BEC5",
                "#B0BEC5",
                "#B0BEC5",
                "#B0BEC5",
                "#B0BEC5",
                "#B0BEC5",
                "#B0BEC5",
                "#B0BEC5",
                "#B0BEC5",
                "#B0BEC5",
                "#B0BEC5",
                "#B0BEC5"
               ]
              ]
             }
            ],
            "label": "Topic 8",
            "method": "update"
           },
           {
            "args": [
             {
              "marker.color": [
               [
                "#B0BEC5",
                "#B0BEC5",
                "#B0BEC5",
                "#B0BEC5",
                "#B0BEC5",
                "#B0BEC5",
                "#B0BEC5",
                "#B0BEC5",
                "#B0BEC5",
                "red",
                "#B0BEC5",
                "#B0BEC5",
                "#B0BEC5",
                "#B0BEC5",
                "#B0BEC5",
                "#B0BEC5",
                "#B0BEC5",
                "#B0BEC5",
                "#B0BEC5",
                "#B0BEC5",
                "#B0BEC5",
                "#B0BEC5",
                "#B0BEC5",
                "#B0BEC5",
                "#B0BEC5",
                "#B0BEC5"
               ]
              ]
             }
            ],
            "label": "Topic 9",
            "method": "update"
           },
           {
            "args": [
             {
              "marker.color": [
               [
                "#B0BEC5",
                "#B0BEC5",
                "#B0BEC5",
                "#B0BEC5",
                "#B0BEC5",
                "#B0BEC5",
                "#B0BEC5",
                "#B0BEC5",
                "#B0BEC5",
                "#B0BEC5",
                "red",
                "#B0BEC5",
                "#B0BEC5",
                "#B0BEC5",
                "#B0BEC5",
                "#B0BEC5",
                "#B0BEC5",
                "#B0BEC5",
                "#B0BEC5",
                "#B0BEC5",
                "#B0BEC5",
                "#B0BEC5",
                "#B0BEC5",
                "#B0BEC5",
                "#B0BEC5",
                "#B0BEC5"
               ]
              ]
             }
            ],
            "label": "Topic 10",
            "method": "update"
           },
           {
            "args": [
             {
              "marker.color": [
               [
                "#B0BEC5",
                "#B0BEC5",
                "#B0BEC5",
                "#B0BEC5",
                "#B0BEC5",
                "#B0BEC5",
                "#B0BEC5",
                "#B0BEC5",
                "#B0BEC5",
                "#B0BEC5",
                "#B0BEC5",
                "red",
                "#B0BEC5",
                "#B0BEC5",
                "#B0BEC5",
                "#B0BEC5",
                "#B0BEC5",
                "#B0BEC5",
                "#B0BEC5",
                "#B0BEC5",
                "#B0BEC5",
                "#B0BEC5",
                "#B0BEC5",
                "#B0BEC5",
                "#B0BEC5",
                "#B0BEC5"
               ]
              ]
             }
            ],
            "label": "Topic 11",
            "method": "update"
           },
           {
            "args": [
             {
              "marker.color": [
               [
                "#B0BEC5",
                "#B0BEC5",
                "#B0BEC5",
                "#B0BEC5",
                "#B0BEC5",
                "#B0BEC5",
                "#B0BEC5",
                "#B0BEC5",
                "#B0BEC5",
                "#B0BEC5",
                "#B0BEC5",
                "#B0BEC5",
                "red",
                "#B0BEC5",
                "#B0BEC5",
                "#B0BEC5",
                "#B0BEC5",
                "#B0BEC5",
                "#B0BEC5",
                "#B0BEC5",
                "#B0BEC5",
                "#B0BEC5",
                "#B0BEC5",
                "#B0BEC5",
                "#B0BEC5",
                "#B0BEC5"
               ]
              ]
             }
            ],
            "label": "Topic 12",
            "method": "update"
           },
           {
            "args": [
             {
              "marker.color": [
               [
                "#B0BEC5",
                "#B0BEC5",
                "#B0BEC5",
                "#B0BEC5",
                "#B0BEC5",
                "#B0BEC5",
                "#B0BEC5",
                "#B0BEC5",
                "#B0BEC5",
                "#B0BEC5",
                "#B0BEC5",
                "#B0BEC5",
                "#B0BEC5",
                "red",
                "#B0BEC5",
                "#B0BEC5",
                "#B0BEC5",
                "#B0BEC5",
                "#B0BEC5",
                "#B0BEC5",
                "#B0BEC5",
                "#B0BEC5",
                "#B0BEC5",
                "#B0BEC5",
                "#B0BEC5",
                "#B0BEC5"
               ]
              ]
             }
            ],
            "label": "Topic 13",
            "method": "update"
           },
           {
            "args": [
             {
              "marker.color": [
               [
                "#B0BEC5",
                "#B0BEC5",
                "#B0BEC5",
                "#B0BEC5",
                "#B0BEC5",
                "#B0BEC5",
                "#B0BEC5",
                "#B0BEC5",
                "#B0BEC5",
                "#B0BEC5",
                "#B0BEC5",
                "#B0BEC5",
                "#B0BEC5",
                "#B0BEC5",
                "red",
                "#B0BEC5",
                "#B0BEC5",
                "#B0BEC5",
                "#B0BEC5",
                "#B0BEC5",
                "#B0BEC5",
                "#B0BEC5",
                "#B0BEC5",
                "#B0BEC5",
                "#B0BEC5",
                "#B0BEC5"
               ]
              ]
             }
            ],
            "label": "Topic 14",
            "method": "update"
           },
           {
            "args": [
             {
              "marker.color": [
               [
                "#B0BEC5",
                "#B0BEC5",
                "#B0BEC5",
                "#B0BEC5",
                "#B0BEC5",
                "#B0BEC5",
                "#B0BEC5",
                "#B0BEC5",
                "#B0BEC5",
                "#B0BEC5",
                "#B0BEC5",
                "#B0BEC5",
                "#B0BEC5",
                "#B0BEC5",
                "#B0BEC5",
                "red",
                "#B0BEC5",
                "#B0BEC5",
                "#B0BEC5",
                "#B0BEC5",
                "#B0BEC5",
                "#B0BEC5",
                "#B0BEC5",
                "#B0BEC5",
                "#B0BEC5",
                "#B0BEC5"
               ]
              ]
             }
            ],
            "label": "Topic 15",
            "method": "update"
           },
           {
            "args": [
             {
              "marker.color": [
               [
                "#B0BEC5",
                "#B0BEC5",
                "#B0BEC5",
                "#B0BEC5",
                "#B0BEC5",
                "#B0BEC5",
                "#B0BEC5",
                "#B0BEC5",
                "#B0BEC5",
                "#B0BEC5",
                "#B0BEC5",
                "#B0BEC5",
                "#B0BEC5",
                "#B0BEC5",
                "#B0BEC5",
                "#B0BEC5",
                "red",
                "#B0BEC5",
                "#B0BEC5",
                "#B0BEC5",
                "#B0BEC5",
                "#B0BEC5",
                "#B0BEC5",
                "#B0BEC5",
                "#B0BEC5",
                "#B0BEC5"
               ]
              ]
             }
            ],
            "label": "Topic 16",
            "method": "update"
           },
           {
            "args": [
             {
              "marker.color": [
               [
                "#B0BEC5",
                "#B0BEC5",
                "#B0BEC5",
                "#B0BEC5",
                "#B0BEC5",
                "#B0BEC5",
                "#B0BEC5",
                "#B0BEC5",
                "#B0BEC5",
                "#B0BEC5",
                "#B0BEC5",
                "#B0BEC5",
                "#B0BEC5",
                "#B0BEC5",
                "#B0BEC5",
                "#B0BEC5",
                "#B0BEC5",
                "red",
                "#B0BEC5",
                "#B0BEC5",
                "#B0BEC5",
                "#B0BEC5",
                "#B0BEC5",
                "#B0BEC5",
                "#B0BEC5",
                "#B0BEC5"
               ]
              ]
             }
            ],
            "label": "Topic 17",
            "method": "update"
           },
           {
            "args": [
             {
              "marker.color": [
               [
                "#B0BEC5",
                "#B0BEC5",
                "#B0BEC5",
                "#B0BEC5",
                "#B0BEC5",
                "#B0BEC5",
                "#B0BEC5",
                "#B0BEC5",
                "#B0BEC5",
                "#B0BEC5",
                "#B0BEC5",
                "#B0BEC5",
                "#B0BEC5",
                "#B0BEC5",
                "#B0BEC5",
                "#B0BEC5",
                "#B0BEC5",
                "#B0BEC5",
                "red",
                "#B0BEC5",
                "#B0BEC5",
                "#B0BEC5",
                "#B0BEC5",
                "#B0BEC5",
                "#B0BEC5",
                "#B0BEC5"
               ]
              ]
             }
            ],
            "label": "Topic 18",
            "method": "update"
           },
           {
            "args": [
             {
              "marker.color": [
               [
                "#B0BEC5",
                "#B0BEC5",
                "#B0BEC5",
                "#B0BEC5",
                "#B0BEC5",
                "#B0BEC5",
                "#B0BEC5",
                "#B0BEC5",
                "#B0BEC5",
                "#B0BEC5",
                "#B0BEC5",
                "#B0BEC5",
                "#B0BEC5",
                "#B0BEC5",
                "#B0BEC5",
                "#B0BEC5",
                "#B0BEC5",
                "#B0BEC5",
                "#B0BEC5",
                "red",
                "#B0BEC5",
                "#B0BEC5",
                "#B0BEC5",
                "#B0BEC5",
                "#B0BEC5",
                "#B0BEC5"
               ]
              ]
             }
            ],
            "label": "Topic 19",
            "method": "update"
           },
           {
            "args": [
             {
              "marker.color": [
               [
                "#B0BEC5",
                "#B0BEC5",
                "#B0BEC5",
                "#B0BEC5",
                "#B0BEC5",
                "#B0BEC5",
                "#B0BEC5",
                "#B0BEC5",
                "#B0BEC5",
                "#B0BEC5",
                "#B0BEC5",
                "#B0BEC5",
                "#B0BEC5",
                "#B0BEC5",
                "#B0BEC5",
                "#B0BEC5",
                "#B0BEC5",
                "#B0BEC5",
                "#B0BEC5",
                "#B0BEC5",
                "red",
                "#B0BEC5",
                "#B0BEC5",
                "#B0BEC5",
                "#B0BEC5",
                "#B0BEC5"
               ]
              ]
             }
            ],
            "label": "Topic 20",
            "method": "update"
           },
           {
            "args": [
             {
              "marker.color": [
               [
                "#B0BEC5",
                "#B0BEC5",
                "#B0BEC5",
                "#B0BEC5",
                "#B0BEC5",
                "#B0BEC5",
                "#B0BEC5",
                "#B0BEC5",
                "#B0BEC5",
                "#B0BEC5",
                "#B0BEC5",
                "#B0BEC5",
                "#B0BEC5",
                "#B0BEC5",
                "#B0BEC5",
                "#B0BEC5",
                "#B0BEC5",
                "#B0BEC5",
                "#B0BEC5",
                "#B0BEC5",
                "#B0BEC5",
                "red",
                "#B0BEC5",
                "#B0BEC5",
                "#B0BEC5",
                "#B0BEC5"
               ]
              ]
             }
            ],
            "label": "Topic 21",
            "method": "update"
           },
           {
            "args": [
             {
              "marker.color": [
               [
                "#B0BEC5",
                "#B0BEC5",
                "#B0BEC5",
                "#B0BEC5",
                "#B0BEC5",
                "#B0BEC5",
                "#B0BEC5",
                "#B0BEC5",
                "#B0BEC5",
                "#B0BEC5",
                "#B0BEC5",
                "#B0BEC5",
                "#B0BEC5",
                "#B0BEC5",
                "#B0BEC5",
                "#B0BEC5",
                "#B0BEC5",
                "#B0BEC5",
                "#B0BEC5",
                "#B0BEC5",
                "#B0BEC5",
                "#B0BEC5",
                "red",
                "#B0BEC5",
                "#B0BEC5",
                "#B0BEC5"
               ]
              ]
             }
            ],
            "label": "Topic 22",
            "method": "update"
           },
           {
            "args": [
             {
              "marker.color": [
               [
                "#B0BEC5",
                "#B0BEC5",
                "#B0BEC5",
                "#B0BEC5",
                "#B0BEC5",
                "#B0BEC5",
                "#B0BEC5",
                "#B0BEC5",
                "#B0BEC5",
                "#B0BEC5",
                "#B0BEC5",
                "#B0BEC5",
                "#B0BEC5",
                "#B0BEC5",
                "#B0BEC5",
                "#B0BEC5",
                "#B0BEC5",
                "#B0BEC5",
                "#B0BEC5",
                "#B0BEC5",
                "#B0BEC5",
                "#B0BEC5",
                "#B0BEC5",
                "red",
                "#B0BEC5",
                "#B0BEC5"
               ]
              ]
             }
            ],
            "label": "Topic 23",
            "method": "update"
           },
           {
            "args": [
             {
              "marker.color": [
               [
                "#B0BEC5",
                "#B0BEC5",
                "#B0BEC5",
                "#B0BEC5",
                "#B0BEC5",
                "#B0BEC5",
                "#B0BEC5",
                "#B0BEC5",
                "#B0BEC5",
                "#B0BEC5",
                "#B0BEC5",
                "#B0BEC5",
                "#B0BEC5",
                "#B0BEC5",
                "#B0BEC5",
                "#B0BEC5",
                "#B0BEC5",
                "#B0BEC5",
                "#B0BEC5",
                "#B0BEC5",
                "#B0BEC5",
                "#B0BEC5",
                "#B0BEC5",
                "#B0BEC5",
                "red",
                "#B0BEC5"
               ]
              ]
             }
            ],
            "label": "Topic 24",
            "method": "update"
           },
           {
            "args": [
             {
              "marker.color": [
               [
                "#B0BEC5",
                "#B0BEC5",
                "#B0BEC5",
                "#B0BEC5",
                "#B0BEC5",
                "#B0BEC5",
                "#B0BEC5",
                "#B0BEC5",
                "#B0BEC5",
                "#B0BEC5",
                "#B0BEC5",
                "#B0BEC5",
                "#B0BEC5",
                "#B0BEC5",
                "#B0BEC5",
                "#B0BEC5",
                "#B0BEC5",
                "#B0BEC5",
                "#B0BEC5",
                "#B0BEC5",
                "#B0BEC5",
                "#B0BEC5",
                "#B0BEC5",
                "#B0BEC5",
                "#B0BEC5",
                "red"
               ]
              ]
             }
            ],
            "label": "Topic 25",
            "method": "update"
           }
          ]
         }
        ],
        "template": {
         "data": {
          "bar": [
           {
            "error_x": {
             "color": "rgb(36,36,36)"
            },
            "error_y": {
             "color": "rgb(36,36,36)"
            },
            "marker": {
             "line": {
              "color": "white",
              "width": 0.5
             },
             "pattern": {
              "fillmode": "overlay",
              "size": 10,
              "solidity": 0.2
             }
            },
            "type": "bar"
           }
          ],
          "barpolar": [
           {
            "marker": {
             "line": {
              "color": "white",
              "width": 0.5
             },
             "pattern": {
              "fillmode": "overlay",
              "size": 10,
              "solidity": 0.2
             }
            },
            "type": "barpolar"
           }
          ],
          "carpet": [
           {
            "aaxis": {
             "endlinecolor": "rgb(36,36,36)",
             "gridcolor": "white",
             "linecolor": "white",
             "minorgridcolor": "white",
             "startlinecolor": "rgb(36,36,36)"
            },
            "baxis": {
             "endlinecolor": "rgb(36,36,36)",
             "gridcolor": "white",
             "linecolor": "white",
             "minorgridcolor": "white",
             "startlinecolor": "rgb(36,36,36)"
            },
            "type": "carpet"
           }
          ],
          "choropleth": [
           {
            "colorbar": {
             "outlinewidth": 1,
             "tickcolor": "rgb(36,36,36)",
             "ticks": "outside"
            },
            "type": "choropleth"
           }
          ],
          "contour": [
           {
            "colorbar": {
             "outlinewidth": 1,
             "tickcolor": "rgb(36,36,36)",
             "ticks": "outside"
            },
            "colorscale": [
             [
              0,
              "#440154"
             ],
             [
              0.1111111111111111,
              "#482878"
             ],
             [
              0.2222222222222222,
              "#3e4989"
             ],
             [
              0.3333333333333333,
              "#31688e"
             ],
             [
              0.4444444444444444,
              "#26828e"
             ],
             [
              0.5555555555555556,
              "#1f9e89"
             ],
             [
              0.6666666666666666,
              "#35b779"
             ],
             [
              0.7777777777777778,
              "#6ece58"
             ],
             [
              0.8888888888888888,
              "#b5de2b"
             ],
             [
              1,
              "#fde725"
             ]
            ],
            "type": "contour"
           }
          ],
          "contourcarpet": [
           {
            "colorbar": {
             "outlinewidth": 1,
             "tickcolor": "rgb(36,36,36)",
             "ticks": "outside"
            },
            "type": "contourcarpet"
           }
          ],
          "heatmap": [
           {
            "colorbar": {
             "outlinewidth": 1,
             "tickcolor": "rgb(36,36,36)",
             "ticks": "outside"
            },
            "colorscale": [
             [
              0,
              "#440154"
             ],
             [
              0.1111111111111111,
              "#482878"
             ],
             [
              0.2222222222222222,
              "#3e4989"
             ],
             [
              0.3333333333333333,
              "#31688e"
             ],
             [
              0.4444444444444444,
              "#26828e"
             ],
             [
              0.5555555555555556,
              "#1f9e89"
             ],
             [
              0.6666666666666666,
              "#35b779"
             ],
             [
              0.7777777777777778,
              "#6ece58"
             ],
             [
              0.8888888888888888,
              "#b5de2b"
             ],
             [
              1,
              "#fde725"
             ]
            ],
            "type": "heatmap"
           }
          ],
          "histogram": [
           {
            "marker": {
             "line": {
              "color": "white",
              "width": 0.6
             }
            },
            "type": "histogram"
           }
          ],
          "histogram2d": [
           {
            "colorbar": {
             "outlinewidth": 1,
             "tickcolor": "rgb(36,36,36)",
             "ticks": "outside"
            },
            "colorscale": [
             [
              0,
              "#440154"
             ],
             [
              0.1111111111111111,
              "#482878"
             ],
             [
              0.2222222222222222,
              "#3e4989"
             ],
             [
              0.3333333333333333,
              "#31688e"
             ],
             [
              0.4444444444444444,
              "#26828e"
             ],
             [
              0.5555555555555556,
              "#1f9e89"
             ],
             [
              0.6666666666666666,
              "#35b779"
             ],
             [
              0.7777777777777778,
              "#6ece58"
             ],
             [
              0.8888888888888888,
              "#b5de2b"
             ],
             [
              1,
              "#fde725"
             ]
            ],
            "type": "histogram2d"
           }
          ],
          "histogram2dcontour": [
           {
            "colorbar": {
             "outlinewidth": 1,
             "tickcolor": "rgb(36,36,36)",
             "ticks": "outside"
            },
            "colorscale": [
             [
              0,
              "#440154"
             ],
             [
              0.1111111111111111,
              "#482878"
             ],
             [
              0.2222222222222222,
              "#3e4989"
             ],
             [
              0.3333333333333333,
              "#31688e"
             ],
             [
              0.4444444444444444,
              "#26828e"
             ],
             [
              0.5555555555555556,
              "#1f9e89"
             ],
             [
              0.6666666666666666,
              "#35b779"
             ],
             [
              0.7777777777777778,
              "#6ece58"
             ],
             [
              0.8888888888888888,
              "#b5de2b"
             ],
             [
              1,
              "#fde725"
             ]
            ],
            "type": "histogram2dcontour"
           }
          ],
          "mesh3d": [
           {
            "colorbar": {
             "outlinewidth": 1,
             "tickcolor": "rgb(36,36,36)",
             "ticks": "outside"
            },
            "type": "mesh3d"
           }
          ],
          "parcoords": [
           {
            "line": {
             "colorbar": {
              "outlinewidth": 1,
              "tickcolor": "rgb(36,36,36)",
              "ticks": "outside"
             }
            },
            "type": "parcoords"
           }
          ],
          "pie": [
           {
            "automargin": true,
            "type": "pie"
           }
          ],
          "scatter": [
           {
            "fillpattern": {
             "fillmode": "overlay",
             "size": 10,
             "solidity": 0.2
            },
            "type": "scatter"
           }
          ],
          "scatter3d": [
           {
            "line": {
             "colorbar": {
              "outlinewidth": 1,
              "tickcolor": "rgb(36,36,36)",
              "ticks": "outside"
             }
            },
            "marker": {
             "colorbar": {
              "outlinewidth": 1,
              "tickcolor": "rgb(36,36,36)",
              "ticks": "outside"
             }
            },
            "type": "scatter3d"
           }
          ],
          "scattercarpet": [
           {
            "marker": {
             "colorbar": {
              "outlinewidth": 1,
              "tickcolor": "rgb(36,36,36)",
              "ticks": "outside"
             }
            },
            "type": "scattercarpet"
           }
          ],
          "scattergeo": [
           {
            "marker": {
             "colorbar": {
              "outlinewidth": 1,
              "tickcolor": "rgb(36,36,36)",
              "ticks": "outside"
             }
            },
            "type": "scattergeo"
           }
          ],
          "scattergl": [
           {
            "marker": {
             "colorbar": {
              "outlinewidth": 1,
              "tickcolor": "rgb(36,36,36)",
              "ticks": "outside"
             }
            },
            "type": "scattergl"
           }
          ],
          "scattermap": [
           {
            "marker": {
             "colorbar": {
              "outlinewidth": 1,
              "tickcolor": "rgb(36,36,36)",
              "ticks": "outside"
             }
            },
            "type": "scattermap"
           }
          ],
          "scattermapbox": [
           {
            "marker": {
             "colorbar": {
              "outlinewidth": 1,
              "tickcolor": "rgb(36,36,36)",
              "ticks": "outside"
             }
            },
            "type": "scattermapbox"
           }
          ],
          "scatterpolar": [
           {
            "marker": {
             "colorbar": {
              "outlinewidth": 1,
              "tickcolor": "rgb(36,36,36)",
              "ticks": "outside"
             }
            },
            "type": "scatterpolar"
           }
          ],
          "scatterpolargl": [
           {
            "marker": {
             "colorbar": {
              "outlinewidth": 1,
              "tickcolor": "rgb(36,36,36)",
              "ticks": "outside"
             }
            },
            "type": "scatterpolargl"
           }
          ],
          "scatterternary": [
           {
            "marker": {
             "colorbar": {
              "outlinewidth": 1,
              "tickcolor": "rgb(36,36,36)",
              "ticks": "outside"
             }
            },
            "type": "scatterternary"
           }
          ],
          "surface": [
           {
            "colorbar": {
             "outlinewidth": 1,
             "tickcolor": "rgb(36,36,36)",
             "ticks": "outside"
            },
            "colorscale": [
             [
              0,
              "#440154"
             ],
             [
              0.1111111111111111,
              "#482878"
             ],
             [
              0.2222222222222222,
              "#3e4989"
             ],
             [
              0.3333333333333333,
              "#31688e"
             ],
             [
              0.4444444444444444,
              "#26828e"
             ],
             [
              0.5555555555555556,
              "#1f9e89"
             ],
             [
              0.6666666666666666,
              "#35b779"
             ],
             [
              0.7777777777777778,
              "#6ece58"
             ],
             [
              0.8888888888888888,
              "#b5de2b"
             ],
             [
              1,
              "#fde725"
             ]
            ],
            "type": "surface"
           }
          ],
          "table": [
           {
            "cells": {
             "fill": {
              "color": "rgb(237,237,237)"
             },
             "line": {
              "color": "white"
             }
            },
            "header": {
             "fill": {
              "color": "rgb(217,217,217)"
             },
             "line": {
              "color": "white"
             }
            },
            "type": "table"
           }
          ]
         },
         "layout": {
          "annotationdefaults": {
           "arrowhead": 0,
           "arrowwidth": 1
          },
          "autotypenumbers": "strict",
          "coloraxis": {
           "colorbar": {
            "outlinewidth": 1,
            "tickcolor": "rgb(36,36,36)",
            "ticks": "outside"
           }
          },
          "colorscale": {
           "diverging": [
            [
             0,
             "rgb(103,0,31)"
            ],
            [
             0.1,
             "rgb(178,24,43)"
            ],
            [
             0.2,
             "rgb(214,96,77)"
            ],
            [
             0.3,
             "rgb(244,165,130)"
            ],
            [
             0.4,
             "rgb(253,219,199)"
            ],
            [
             0.5,
             "rgb(247,247,247)"
            ],
            [
             0.6,
             "rgb(209,229,240)"
            ],
            [
             0.7,
             "rgb(146,197,222)"
            ],
            [
             0.8,
             "rgb(67,147,195)"
            ],
            [
             0.9,
             "rgb(33,102,172)"
            ],
            [
             1,
             "rgb(5,48,97)"
            ]
           ],
           "sequential": [
            [
             0,
             "#440154"
            ],
            [
             0.1111111111111111,
             "#482878"
            ],
            [
             0.2222222222222222,
             "#3e4989"
            ],
            [
             0.3333333333333333,
             "#31688e"
            ],
            [
             0.4444444444444444,
             "#26828e"
            ],
            [
             0.5555555555555556,
             "#1f9e89"
            ],
            [
             0.6666666666666666,
             "#35b779"
            ],
            [
             0.7777777777777778,
             "#6ece58"
            ],
            [
             0.8888888888888888,
             "#b5de2b"
            ],
            [
             1,
             "#fde725"
            ]
           ],
           "sequentialminus": [
            [
             0,
             "#440154"
            ],
            [
             0.1111111111111111,
             "#482878"
            ],
            [
             0.2222222222222222,
             "#3e4989"
            ],
            [
             0.3333333333333333,
             "#31688e"
            ],
            [
             0.4444444444444444,
             "#26828e"
            ],
            [
             0.5555555555555556,
             "#1f9e89"
            ],
            [
             0.6666666666666666,
             "#35b779"
            ],
            [
             0.7777777777777778,
             "#6ece58"
            ],
            [
             0.8888888888888888,
             "#b5de2b"
            ],
            [
             1,
             "#fde725"
            ]
           ]
          },
          "colorway": [
           "#1F77B4",
           "#FF7F0E",
           "#2CA02C",
           "#D62728",
           "#9467BD",
           "#8C564B",
           "#E377C2",
           "#7F7F7F",
           "#BCBD22",
           "#17BECF"
          ],
          "font": {
           "color": "rgb(36,36,36)"
          },
          "geo": {
           "bgcolor": "white",
           "lakecolor": "white",
           "landcolor": "white",
           "showlakes": true,
           "showland": true,
           "subunitcolor": "white"
          },
          "hoverlabel": {
           "align": "left"
          },
          "hovermode": "closest",
          "mapbox": {
           "style": "light"
          },
          "paper_bgcolor": "white",
          "plot_bgcolor": "white",
          "polar": {
           "angularaxis": {
            "gridcolor": "rgb(232,232,232)",
            "linecolor": "rgb(36,36,36)",
            "showgrid": false,
            "showline": true,
            "ticks": "outside"
           },
           "bgcolor": "white",
           "radialaxis": {
            "gridcolor": "rgb(232,232,232)",
            "linecolor": "rgb(36,36,36)",
            "showgrid": false,
            "showline": true,
            "ticks": "outside"
           }
          },
          "scene": {
           "xaxis": {
            "backgroundcolor": "white",
            "gridcolor": "rgb(232,232,232)",
            "gridwidth": 2,
            "linecolor": "rgb(36,36,36)",
            "showbackground": true,
            "showgrid": false,
            "showline": true,
            "ticks": "outside",
            "zeroline": false,
            "zerolinecolor": "rgb(36,36,36)"
           },
           "yaxis": {
            "backgroundcolor": "white",
            "gridcolor": "rgb(232,232,232)",
            "gridwidth": 2,
            "linecolor": "rgb(36,36,36)",
            "showbackground": true,
            "showgrid": false,
            "showline": true,
            "ticks": "outside",
            "zeroline": false,
            "zerolinecolor": "rgb(36,36,36)"
           },
           "zaxis": {
            "backgroundcolor": "white",
            "gridcolor": "rgb(232,232,232)",
            "gridwidth": 2,
            "linecolor": "rgb(36,36,36)",
            "showbackground": true,
            "showgrid": false,
            "showline": true,
            "ticks": "outside",
            "zeroline": false,
            "zerolinecolor": "rgb(36,36,36)"
           }
          },
          "shapedefaults": {
           "fillcolor": "black",
           "line": {
            "width": 0
           },
           "opacity": 0.3
          },
          "ternary": {
           "aaxis": {
            "gridcolor": "rgb(232,232,232)",
            "linecolor": "rgb(36,36,36)",
            "showgrid": false,
            "showline": true,
            "ticks": "outside"
           },
           "baxis": {
            "gridcolor": "rgb(232,232,232)",
            "linecolor": "rgb(36,36,36)",
            "showgrid": false,
            "showline": true,
            "ticks": "outside"
           },
           "bgcolor": "white",
           "caxis": {
            "gridcolor": "rgb(232,232,232)",
            "linecolor": "rgb(36,36,36)",
            "showgrid": false,
            "showline": true,
            "ticks": "outside"
           }
          },
          "title": {
           "x": 0.05
          },
          "xaxis": {
           "automargin": true,
           "gridcolor": "rgb(232,232,232)",
           "linecolor": "rgb(36,36,36)",
           "showgrid": false,
           "showline": true,
           "ticks": "outside",
           "title": {
            "standoff": 15
           },
           "zeroline": false,
           "zerolinecolor": "rgb(36,36,36)"
          },
          "yaxis": {
           "automargin": true,
           "gridcolor": "rgb(232,232,232)",
           "linecolor": "rgb(36,36,36)",
           "showgrid": false,
           "showline": true,
           "ticks": "outside",
           "title": {
            "standoff": 15
           },
           "zeroline": false,
           "zerolinecolor": "rgb(36,36,36)"
          }
         }
        },
        "title": {
         "font": {
          "color": "Black",
          "size": 20
         },
         "text": "<b>Intertopic Distance Map</b>",
         "x": 0.15,
         "xanchor": "center",
         "y": 0.95,
         "yanchor": "top"
        },
        "width": 1000,
        "xaxis": {
         "anchor": "y",
         "domain": [
          0,
          1
         ],
         "range": [
          -9.138050365447999,
          27.1794189453125
         ],
         "showgrid": false,
         "showline": true,
         "ticks": "outside",
         "title": {},
         "visible": false,
         "zeroline": true
        },
        "yaxis": {
         "anchor": "x",
         "domain": [
          0,
          1
         ],
         "range": [
          -3.7145715832710264,
          13.196694612503052
         ],
         "showgrid": false,
         "showline": true,
         "ticks": "outside",
         "title": {},
         "visible": false,
         "zeroline": true
        }
       }
      }
     },
     "metadata": {},
     "output_type": "display_data"
    }
   ],
   "source": [
    "# ------------------------------------------------------------\n",
    "# Visualize intertopic distances\n",
    "# ------------------------------------------------------------\n",
    "\n",
    "# N.B. UMAP (Uniform Manifold Approximation and Projection)\n",
    "# used for dimensionality reduction. \n",
    "fig_2d = topic_model.visualize_topics(custom_labels=True)\n",
    "\n",
    "# Update background and grid\n",
    "fig_2d.update_layout(\n",
    "    plot_bgcolor=\"white\",\n",
    "    paper_bgcolor=\"white\",\n",
    "    font_family=\"Arial\",\n",
    "    title_font_size=20,\n",
    "    title_x=0.15,  # Center title\n",
    "    width=1000,\n",
    "    height=800,\n",
    "    xaxis=dict(\n",
    "        showgrid=False,\n",
    "        zeroline=True,\n",
    "        showline=True,\n",
    "        ticks=\"outside\",\n",
    "        title=None\n",
    "    ),\n",
    "    yaxis=dict(\n",
    "        showgrid=False,\n",
    "        zeroline=True,\n",
    "        showline=True,\n",
    "        ticks=\"outside\",\n",
    "        title=None\n",
    "    ),\n",
    "    legend=dict(\n",
    "        orientation=\"h\",\n",
    "        yanchor=\"bottom\",\n",
    "        y=1.02,\n",
    "        xanchor=\"center\",\n",
    "        x=0.5\n",
    "    )\n",
    ")\n",
    "\n",
    "fig_2d.write_image(\"../outputs/intertopic_distance_map_2D.png\")\n",
    "fig_2d.write_html(\"../outputs/intertopic_distance_map_2D.html\")   \n",
    "\n",
    "fig_2d.show()\n",
    "\n"
   ]
  }
 ],
 "metadata": {
  "kernelspec": {
   "display_name": "iata",
   "language": "python",
   "name": "python3"
  },
  "language_info": {
   "codemirror_mode": {
    "name": "ipython",
    "version": 3
   },
   "file_extension": ".py",
   "mimetype": "text/x-python",
   "name": "python",
   "nbconvert_exporter": "python",
   "pygments_lexer": "ipython3",
   "version": "3.10.16"
  }
 },
 "nbformat": 4,
 "nbformat_minor": 5
}
